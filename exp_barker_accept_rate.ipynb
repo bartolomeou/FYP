{
 "cells": [
  {
   "cell_type": "markdown",
   "metadata": {},
   "source": [
    "Target:\n",
    "\n",
    "1. Rosenbrock(n1=3, n2=1, mu=1, a=0.05, b=50)\n",
    "2. Rosenbrock(n1=3, n2=1, mu=1, a=0.05, b=5)\n",
    "3. Rosenbrock(n1=3, n2=1, mu=1, a=0.05, b=5e-1)\n",
    "4. Rosenbrock(n1=3, n2=1, mu=1, a=0.05, b=5e-2)\n",
    "5. Rosenbrock(n1=3, n2=1, mu=1, a=0.05, b=5e-3)\n",
    "\n",
    "MCMC:\n",
    "\n",
    "1. SMBarker(target_accept_prob=0.10)\n",
    "2. SMBarker(target_accept_prob=0.30)\n",
    "3. SMBarker(target_accept_prob=0.50)\n",
    "4. SMBarker(target_accept_prob=0.70)\n",
    "5. SMBarker(target_accept_prob=0.90)\n"
   ]
  },
  {
   "cell_type": "code",
   "execution_count": null,
   "metadata": {},
   "outputs": [],
   "source": [
    "# <id>_<distribution>_<param1><value1>_<param2><value2>_n<sample_size>.<extension>\n",
    "\n",
    "# <id>_<mcmc>_<target_id>_<param1><value1>_<param2><value2>_n<sample_size>.<extension>\n"
   ]
  },
  {
   "cell_type": "code",
   "execution_count": null,
   "metadata": {},
   "outputs": [],
   "source": []
  },
  {
   "cell_type": "markdown",
   "metadata": {},
   "source": [
    "Target: \n",
    "\n",
    "1. Rosenbrock(n1=3, n2=1, mu=1, a=0.05, b=50)\n",
    "\n",
    "MCMC:\n",
    "\n",
    "1. SMBarker(target_accept_prob=0.10)\n",
    "2. SMBarker(target_accept_prob=0.30)\n",
    "3. SMBarker(target_accept_prob=0.50)\n",
    "4. SMBarker(target_accept_prob=0.70)\n",
    "5. SMBarker(target_accept_prob=0.90)"
   ]
  },
  {
   "cell_type": "code",
   "execution_count": null,
   "metadata": {},
   "outputs": [],
   "source": [
    "# write config for the target distribution and each mcmc sampler\n",
    "# for each mcmc sampler, create a folder \n",
    "# run each mcmc sampler on the target distribution for 5 times\n",
    "# save each run as a file within the corresponding folder"
   ]
  },
  {
   "cell_type": "code",
   "execution_count": null,
   "metadata": {},
   "outputs": [],
   "source": [
    "import json\n",
    "import numpy as np\n",
    "from pathlib\n",
    "import shutil"
   ]
  },
  {
   "cell_type": "code",
   "execution_count": null,
   "metadata": {},
   "outputs": [],
   "source": [
    "BASE_PATH = Path('/kaggle/working')"
   ]
  },
  {
   "cell_type": "code",
   "execution_count": null,
   "metadata": {},
   "outputs": [],
   "source": [
    "target_config = {\n",
    "    'distribution': 'Rosenbrock',\n",
    "    'n1': 3,\n",
    "    'n2': 1,\n",
    "    'mu': 1,\n",
    "    'a': 0.05,\n",
    "    'b': 50\n",
    "}\n",
    "\n",
    "mcmc_samplers = [0.10, 0.30, 0.50, 0.70, 0.90]"
   ]
  },
  {
   "cell_type": "code",
   "execution_count": null,
   "metadata": {},
   "outputs": [],
   "source": [
    "# Base experiment folder\n",
    "exp_base = BASE_PATH / f\"experiments_rosenbrock_n1_{target_config['n1']}_n2_{target_config['n2']}_mu_{target_config['mu']}_a_{target_config['a']}_b_{target_config['b']}\"\n",
    "exp_base.mkdir(parents=True, exist_ok=True)\n",
    "\n",
    "# Save target distribution config\n",
    "with open(exp_base / \"config.json\", \"w\") as f:\n",
    "    json.dump(target_config, f, indent=4)"
   ]
  },
  {
   "cell_type": "code",
   "execution_count": null,
   "metadata": {},
   "outputs": [],
   "source": []
  }
 ],
 "metadata": {
  "kernelspec": {
   "display_name": "Python 3 (ipykernel)",
   "language": "python",
   "name": "python3"
  },
  "language_info": {
   "codemirror_mode": {
    "name": "ipython",
    "version": 3
   },
   "file_extension": ".py",
   "mimetype": "text/x-python",
   "name": "python",
   "nbconvert_exporter": "python",
   "pygments_lexer": "ipython3",
   "version": "3.10.15"
  }
 },
 "nbformat": 4,
 "nbformat_minor": 4
}
