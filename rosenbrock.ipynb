{
 "cells": [
  {
   "cell_type": "markdown",
   "metadata": {},
   "source": [
    "# 2D Rosenbrock\n"
   ]
  },
  {
   "cell_type": "markdown",
   "metadata": {},
   "source": [
    "$$\\pi(\\mathbf{x}) \\propto \\exp \\left\\{ -a(x_1 - \\mu)^2 - b_{1, 2}(x_{1, 2} - x_1^2)^2 \\right\\}$$\n"
   ]
  }
 ],
 "metadata": {
  "language_info": {
   "name": "python"
  }
 },
 "nbformat": 4,
 "nbformat_minor": 2
}
