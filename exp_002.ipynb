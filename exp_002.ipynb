{
 "cells": [
  {
   "cell_type": "code",
   "execution_count": 2,
   "metadata": {},
   "outputs": [],
   "source": [
    "from pathlib import Path\n",
    "import re\n",
    "\n",
    "import numpy as np\n",
    "import pandas as pd\n",
    "\n",
    "from src.distribution import Rosenbrock\n",
    "from src.metrics import ad_distance, ks_distance, ESS"
   ]
  },
  {
   "cell_type": "code",
   "execution_count": 3,
   "metadata": {},
   "outputs": [],
   "source": [
    "target = Rosenbrock(n1=3, n2=1, b=5)\n",
    "\n",
    "X_true = np.load(\"data/true_sample/rosenbrock_n1_3_n2_1_mu_1_a_5e-02_b_5_n_1e+07.npy\")"
   ]
  },
  {
   "cell_type": "code",
   "execution_count": 4,
   "metadata": {},
   "outputs": [],
   "source": [
    "root = Path(\"./data/exp_002/rosenbrock_n1_3_n2_1_mu_1_a_5e-02_b_5\")\n",
    "\n",
    "# Regex pattern to extract sampler and acceptance probability from folder names\n",
    "folder_pattern = re.compile(r\"(.*)_accept_(\\d+\\.\\d+)_n_.*\")"
   ]
  },
  {
   "cell_type": "code",
   "execution_count": 8,
   "metadata": {},
   "outputs": [
    {
     "name": "stderr",
     "output_type": "stream",
     "text": [
      "/Users/m250/Documents/UCL/FYP/src/metrics.py:38: UserWarning: p-value floored: true value smaller than 0.001. Consider specifying `method` (e.g. `method=stats.PermutationMethod()`.)\n",
      "  ad.append(anderson_ksamp([X_mcmc[i, :], X_true[i, :]]).statistic)\n"
     ]
    },
    {
     "name": "stdout",
     "output_type": "stream",
     "text": [
      "Processed: Barker_accept_0.10_n_1e+06 | trial 1\n"
     ]
    },
    {
     "name": "stderr",
     "output_type": "stream",
     "text": [
      "/Users/m250/Documents/UCL/FYP/src/metrics.py:38: UserWarning: p-value floored: true value smaller than 0.001. Consider specifying `method` (e.g. `method=stats.PermutationMethod()`.)\n",
      "  ad.append(anderson_ksamp([X_mcmc[i, :], X_true[i, :]]).statistic)\n"
     ]
    },
    {
     "name": "stdout",
     "output_type": "stream",
     "text": [
      "Processed: Barker_accept_0.10_n_1e+06 | trial 2\n"
     ]
    },
    {
     "name": "stderr",
     "output_type": "stream",
     "text": [
      "/Users/m250/Documents/UCL/FYP/src/metrics.py:38: UserWarning: p-value floored: true value smaller than 0.001. Consider specifying `method` (e.g. `method=stats.PermutationMethod()`.)\n",
      "  ad.append(anderson_ksamp([X_mcmc[i, :], X_true[i, :]]).statistic)\n"
     ]
    },
    {
     "name": "stdout",
     "output_type": "stream",
     "text": [
      "Processed: Barker_accept_0.10_n_1e+06 | trial 3\n"
     ]
    },
    {
     "name": "stderr",
     "output_type": "stream",
     "text": [
      "/Users/m250/Documents/UCL/FYP/src/metrics.py:38: UserWarning: p-value floored: true value smaller than 0.001. Consider specifying `method` (e.g. `method=stats.PermutationMethod()`.)\n",
      "  ad.append(anderson_ksamp([X_mcmc[i, :], X_true[i, :]]).statistic)\n"
     ]
    },
    {
     "name": "stdout",
     "output_type": "stream",
     "text": [
      "Processed: Barker_accept_0.10_n_1e+06 | trial 4\n"
     ]
    },
    {
     "name": "stderr",
     "output_type": "stream",
     "text": [
      "/Users/m250/Documents/UCL/FYP/src/metrics.py:38: UserWarning: p-value floored: true value smaller than 0.001. Consider specifying `method` (e.g. `method=stats.PermutationMethod()`.)\n",
      "  ad.append(anderson_ksamp([X_mcmc[i, :], X_true[i, :]]).statistic)\n"
     ]
    },
    {
     "name": "stdout",
     "output_type": "stream",
     "text": [
      "Processed: Barker_accept_0.10_n_1e+06 | trial 5\n"
     ]
    },
    {
     "name": "stderr",
     "output_type": "stream",
     "text": [
      "/Users/m250/Documents/UCL/FYP/src/metrics.py:38: UserWarning: p-value floored: true value smaller than 0.001. Consider specifying `method` (e.g. `method=stats.PermutationMethod()`.)\n",
      "  ad.append(anderson_ksamp([X_mcmc[i, :], X_true[i, :]]).statistic)\n"
     ]
    },
    {
     "name": "stdout",
     "output_type": "stream",
     "text": [
      "Processed: Barker_accept_0.10_n_1e+06 | trial 6\n"
     ]
    },
    {
     "name": "stderr",
     "output_type": "stream",
     "text": [
      "/Users/m250/Documents/UCL/FYP/src/metrics.py:38: UserWarning: p-value floored: true value smaller than 0.001. Consider specifying `method` (e.g. `method=stats.PermutationMethod()`.)\n",
      "  ad.append(anderson_ksamp([X_mcmc[i, :], X_true[i, :]]).statistic)\n"
     ]
    },
    {
     "name": "stdout",
     "output_type": "stream",
     "text": [
      "Processed: Barker_accept_0.10_n_1e+06 | trial 7\n"
     ]
    },
    {
     "name": "stderr",
     "output_type": "stream",
     "text": [
      "/Users/m250/Documents/UCL/FYP/src/metrics.py:38: UserWarning: p-value floored: true value smaller than 0.001. Consider specifying `method` (e.g. `method=stats.PermutationMethod()`.)\n",
      "  ad.append(anderson_ksamp([X_mcmc[i, :], X_true[i, :]]).statistic)\n"
     ]
    },
    {
     "name": "stdout",
     "output_type": "stream",
     "text": [
      "Processed: Barker_accept_0.10_n_1e+06 | trial 8\n"
     ]
    },
    {
     "name": "stderr",
     "output_type": "stream",
     "text": [
      "/Users/m250/Documents/UCL/FYP/src/metrics.py:38: UserWarning: p-value floored: true value smaller than 0.001. Consider specifying `method` (e.g. `method=stats.PermutationMethod()`.)\n",
      "  ad.append(anderson_ksamp([X_mcmc[i, :], X_true[i, :]]).statistic)\n"
     ]
    },
    {
     "name": "stdout",
     "output_type": "stream",
     "text": [
      "Processed: Barker_accept_0.10_n_1e+06 | trial 9\n"
     ]
    },
    {
     "name": "stderr",
     "output_type": "stream",
     "text": [
      "/Users/m250/Documents/UCL/FYP/src/metrics.py:38: UserWarning: p-value floored: true value smaller than 0.001. Consider specifying `method` (e.g. `method=stats.PermutationMethod()`.)\n",
      "  ad.append(anderson_ksamp([X_mcmc[i, :], X_true[i, :]]).statistic)\n"
     ]
    },
    {
     "name": "stdout",
     "output_type": "stream",
     "text": [
      "Processed: Barker_accept_0.10_n_1e+06 | trial 10\n"
     ]
    },
    {
     "name": "stderr",
     "output_type": "stream",
     "text": [
      "/Users/m250/Documents/UCL/FYP/src/metrics.py:38: UserWarning: p-value floored: true value smaller than 0.001. Consider specifying `method` (e.g. `method=stats.PermutationMethod()`.)\n",
      "  ad.append(anderson_ksamp([X_mcmc[i, :], X_true[i, :]]).statistic)\n"
     ]
    },
    {
     "name": "stdout",
     "output_type": "stream",
     "text": [
      "Processed: Barker_accept_0.10_n_1e+06 | trial 11\n"
     ]
    },
    {
     "name": "stderr",
     "output_type": "stream",
     "text": [
      "/Users/m250/Documents/UCL/FYP/src/metrics.py:38: UserWarning: p-value floored: true value smaller than 0.001. Consider specifying `method` (e.g. `method=stats.PermutationMethod()`.)\n",
      "  ad.append(anderson_ksamp([X_mcmc[i, :], X_true[i, :]]).statistic)\n"
     ]
    },
    {
     "name": "stdout",
     "output_type": "stream",
     "text": [
      "Processed: Barker_accept_0.10_n_1e+06 | trial 12\n"
     ]
    },
    {
     "name": "stderr",
     "output_type": "stream",
     "text": [
      "/Users/m250/Documents/UCL/FYP/src/metrics.py:38: UserWarning: p-value floored: true value smaller than 0.001. Consider specifying `method` (e.g. `method=stats.PermutationMethod()`.)\n",
      "  ad.append(anderson_ksamp([X_mcmc[i, :], X_true[i, :]]).statistic)\n"
     ]
    },
    {
     "name": "stdout",
     "output_type": "stream",
     "text": [
      "Processed: Barker_accept_0.10_n_1e+06 | trial 13\n"
     ]
    },
    {
     "name": "stderr",
     "output_type": "stream",
     "text": [
      "/Users/m250/Documents/UCL/FYP/src/metrics.py:38: UserWarning: p-value floored: true value smaller than 0.001. Consider specifying `method` (e.g. `method=stats.PermutationMethod()`.)\n",
      "  ad.append(anderson_ksamp([X_mcmc[i, :], X_true[i, :]]).statistic)\n"
     ]
    },
    {
     "name": "stdout",
     "output_type": "stream",
     "text": [
      "Processed: Barker_accept_0.10_n_1e+06 | trial 14\n"
     ]
    },
    {
     "name": "stderr",
     "output_type": "stream",
     "text": [
      "/Users/m250/Documents/UCL/FYP/src/metrics.py:38: UserWarning: p-value floored: true value smaller than 0.001. Consider specifying `method` (e.g. `method=stats.PermutationMethod()`.)\n",
      "  ad.append(anderson_ksamp([X_mcmc[i, :], X_true[i, :]]).statistic)\n"
     ]
    },
    {
     "name": "stdout",
     "output_type": "stream",
     "text": [
      "Processed: Barker_accept_0.10_n_1e+06 | trial 15\n"
     ]
    },
    {
     "name": "stderr",
     "output_type": "stream",
     "text": [
      "/Users/m250/Documents/UCL/FYP/src/metrics.py:38: UserWarning: p-value floored: true value smaller than 0.001. Consider specifying `method` (e.g. `method=stats.PermutationMethod()`.)\n",
      "  ad.append(anderson_ksamp([X_mcmc[i, :], X_true[i, :]]).statistic)\n"
     ]
    },
    {
     "name": "stdout",
     "output_type": "stream",
     "text": [
      "Processed: Barker_accept_0.10_n_1e+06 | trial 16\n"
     ]
    },
    {
     "name": "stderr",
     "output_type": "stream",
     "text": [
      "/Users/m250/Documents/UCL/FYP/src/metrics.py:38: UserWarning: p-value floored: true value smaller than 0.001. Consider specifying `method` (e.g. `method=stats.PermutationMethod()`.)\n",
      "  ad.append(anderson_ksamp([X_mcmc[i, :], X_true[i, :]]).statistic)\n"
     ]
    },
    {
     "name": "stdout",
     "output_type": "stream",
     "text": [
      "Processed: Barker_accept_0.10_n_1e+06 | trial 17\n"
     ]
    },
    {
     "name": "stderr",
     "output_type": "stream",
     "text": [
      "/Users/m250/Documents/UCL/FYP/src/metrics.py:38: UserWarning: p-value floored: true value smaller than 0.001. Consider specifying `method` (e.g. `method=stats.PermutationMethod()`.)\n",
      "  ad.append(anderson_ksamp([X_mcmc[i, :], X_true[i, :]]).statistic)\n"
     ]
    },
    {
     "name": "stdout",
     "output_type": "stream",
     "text": [
      "Processed: Barker_accept_0.10_n_1e+06 | trial 18\n"
     ]
    },
    {
     "name": "stderr",
     "output_type": "stream",
     "text": [
      "/Users/m250/Documents/UCL/FYP/src/metrics.py:38: UserWarning: p-value floored: true value smaller than 0.001. Consider specifying `method` (e.g. `method=stats.PermutationMethod()`.)\n",
      "  ad.append(anderson_ksamp([X_mcmc[i, :], X_true[i, :]]).statistic)\n"
     ]
    },
    {
     "name": "stdout",
     "output_type": "stream",
     "text": [
      "Processed: Barker_accept_0.10_n_1e+06 | trial 19\n"
     ]
    },
    {
     "name": "stderr",
     "output_type": "stream",
     "text": [
      "/Users/m250/Documents/UCL/FYP/src/metrics.py:38: UserWarning: p-value floored: true value smaller than 0.001. Consider specifying `method` (e.g. `method=stats.PermutationMethod()`.)\n",
      "  ad.append(anderson_ksamp([X_mcmc[i, :], X_true[i, :]]).statistic)\n"
     ]
    },
    {
     "name": "stdout",
     "output_type": "stream",
     "text": [
      "Processed: Barker_accept_0.10_n_1e+06 | trial 20\n"
     ]
    },
    {
     "name": "stderr",
     "output_type": "stream",
     "text": [
      "/Users/m250/Documents/UCL/FYP/src/metrics.py:38: UserWarning: p-value floored: true value smaller than 0.001. Consider specifying `method` (e.g. `method=stats.PermutationMethod()`.)\n",
      "  ad.append(anderson_ksamp([X_mcmc[i, :], X_true[i, :]]).statistic)\n"
     ]
    },
    {
     "name": "stdout",
     "output_type": "stream",
     "text": [
      "Processed: Barker_accept_0.10_n_1e+06 | trial 21\n"
     ]
    },
    {
     "name": "stderr",
     "output_type": "stream",
     "text": [
      "/Users/m250/Documents/UCL/FYP/src/metrics.py:38: UserWarning: p-value floored: true value smaller than 0.001. Consider specifying `method` (e.g. `method=stats.PermutationMethod()`.)\n",
      "  ad.append(anderson_ksamp([X_mcmc[i, :], X_true[i, :]]).statistic)\n"
     ]
    },
    {
     "name": "stdout",
     "output_type": "stream",
     "text": [
      "Processed: Barker_accept_0.10_n_1e+06 | trial 22\n"
     ]
    },
    {
     "name": "stderr",
     "output_type": "stream",
     "text": [
      "/Users/m250/Documents/UCL/FYP/src/metrics.py:38: UserWarning: p-value floored: true value smaller than 0.001. Consider specifying `method` (e.g. `method=stats.PermutationMethod()`.)\n",
      "  ad.append(anderson_ksamp([X_mcmc[i, :], X_true[i, :]]).statistic)\n"
     ]
    },
    {
     "name": "stdout",
     "output_type": "stream",
     "text": [
      "Processed: Barker_accept_0.10_n_1e+06 | trial 23\n"
     ]
    },
    {
     "name": "stderr",
     "output_type": "stream",
     "text": [
      "/Users/m250/Documents/UCL/FYP/src/metrics.py:38: UserWarning: p-value floored: true value smaller than 0.001. Consider specifying `method` (e.g. `method=stats.PermutationMethod()`.)\n",
      "  ad.append(anderson_ksamp([X_mcmc[i, :], X_true[i, :]]).statistic)\n"
     ]
    },
    {
     "name": "stdout",
     "output_type": "stream",
     "text": [
      "Processed: Barker_accept_0.10_n_1e+06 | trial 24\n"
     ]
    },
    {
     "name": "stderr",
     "output_type": "stream",
     "text": [
      "/Users/m250/Documents/UCL/FYP/src/metrics.py:38: UserWarning: p-value floored: true value smaller than 0.001. Consider specifying `method` (e.g. `method=stats.PermutationMethod()`.)\n",
      "  ad.append(anderson_ksamp([X_mcmc[i, :], X_true[i, :]]).statistic)\n"
     ]
    },
    {
     "name": "stdout",
     "output_type": "stream",
     "text": [
      "Processed: Barker_accept_0.10_n_1e+06 | trial 25\n"
     ]
    },
    {
     "name": "stderr",
     "output_type": "stream",
     "text": [
      "/Users/m250/Documents/UCL/FYP/src/metrics.py:38: UserWarning: p-value floored: true value smaller than 0.001. Consider specifying `method` (e.g. `method=stats.PermutationMethod()`.)\n",
      "  ad.append(anderson_ksamp([X_mcmc[i, :], X_true[i, :]]).statistic)\n"
     ]
    },
    {
     "name": "stdout",
     "output_type": "stream",
     "text": [
      "Processed: Barker_accept_0.10_n_1e+06 | trial 26\n"
     ]
    },
    {
     "name": "stderr",
     "output_type": "stream",
     "text": [
      "/Users/m250/Documents/UCL/FYP/src/metrics.py:38: UserWarning: p-value floored: true value smaller than 0.001. Consider specifying `method` (e.g. `method=stats.PermutationMethod()`.)\n",
      "  ad.append(anderson_ksamp([X_mcmc[i, :], X_true[i, :]]).statistic)\n"
     ]
    },
    {
     "name": "stdout",
     "output_type": "stream",
     "text": [
      "Processed: Barker_accept_0.10_n_1e+06 | trial 27\n"
     ]
    },
    {
     "name": "stderr",
     "output_type": "stream",
     "text": [
      "/Users/m250/Documents/UCL/FYP/src/metrics.py:38: UserWarning: p-value floored: true value smaller than 0.001. Consider specifying `method` (e.g. `method=stats.PermutationMethod()`.)\n",
      "  ad.append(anderson_ksamp([X_mcmc[i, :], X_true[i, :]]).statistic)\n"
     ]
    },
    {
     "name": "stdout",
     "output_type": "stream",
     "text": [
      "Processed: Barker_accept_0.10_n_1e+06 | trial 28\n"
     ]
    },
    {
     "name": "stderr",
     "output_type": "stream",
     "text": [
      "/Users/m250/Documents/UCL/FYP/src/metrics.py:38: UserWarning: p-value floored: true value smaller than 0.001. Consider specifying `method` (e.g. `method=stats.PermutationMethod()`.)\n",
      "  ad.append(anderson_ksamp([X_mcmc[i, :], X_true[i, :]]).statistic)\n"
     ]
    },
    {
     "name": "stdout",
     "output_type": "stream",
     "text": [
      "Processed: Barker_accept_0.10_n_1e+06 | trial 29\n"
     ]
    },
    {
     "name": "stderr",
     "output_type": "stream",
     "text": [
      "/Users/m250/Documents/UCL/FYP/src/metrics.py:38: UserWarning: p-value floored: true value smaller than 0.001. Consider specifying `method` (e.g. `method=stats.PermutationMethod()`.)\n",
      "  ad.append(anderson_ksamp([X_mcmc[i, :], X_true[i, :]]).statistic)\n"
     ]
    },
    {
     "name": "stdout",
     "output_type": "stream",
     "text": [
      "Processed: Barker_accept_0.10_n_1e+06 | trial 30\n"
     ]
    },
    {
     "name": "stderr",
     "output_type": "stream",
     "text": [
      "/Users/m250/Documents/UCL/FYP/src/metrics.py:38: UserWarning: p-value floored: true value smaller than 0.001. Consider specifying `method` (e.g. `method=stats.PermutationMethod()`.)\n",
      "  ad.append(anderson_ksamp([X_mcmc[i, :], X_true[i, :]]).statistic)\n"
     ]
    },
    {
     "name": "stdout",
     "output_type": "stream",
     "text": [
      "Processed: Barker_accept_0.25_n_1e+06 | trial 1\n"
     ]
    },
    {
     "name": "stderr",
     "output_type": "stream",
     "text": [
      "/Users/m250/Documents/UCL/FYP/src/metrics.py:38: UserWarning: p-value floored: true value smaller than 0.001. Consider specifying `method` (e.g. `method=stats.PermutationMethod()`.)\n",
      "  ad.append(anderson_ksamp([X_mcmc[i, :], X_true[i, :]]).statistic)\n"
     ]
    },
    {
     "name": "stdout",
     "output_type": "stream",
     "text": [
      "Processed: Barker_accept_0.25_n_1e+06 | trial 2\n"
     ]
    },
    {
     "name": "stderr",
     "output_type": "stream",
     "text": [
      "/Users/m250/Documents/UCL/FYP/src/metrics.py:38: UserWarning: p-value floored: true value smaller than 0.001. Consider specifying `method` (e.g. `method=stats.PermutationMethod()`.)\n",
      "  ad.append(anderson_ksamp([X_mcmc[i, :], X_true[i, :]]).statistic)\n"
     ]
    },
    {
     "name": "stdout",
     "output_type": "stream",
     "text": [
      "Processed: Barker_accept_0.25_n_1e+06 | trial 3\n"
     ]
    },
    {
     "name": "stderr",
     "output_type": "stream",
     "text": [
      "/Users/m250/Documents/UCL/FYP/src/metrics.py:38: UserWarning: p-value floored: true value smaller than 0.001. Consider specifying `method` (e.g. `method=stats.PermutationMethod()`.)\n",
      "  ad.append(anderson_ksamp([X_mcmc[i, :], X_true[i, :]]).statistic)\n"
     ]
    },
    {
     "name": "stdout",
     "output_type": "stream",
     "text": [
      "Processed: Barker_accept_0.25_n_1e+06 | trial 4\n"
     ]
    },
    {
     "name": "stderr",
     "output_type": "stream",
     "text": [
      "/Users/m250/Documents/UCL/FYP/src/metrics.py:38: UserWarning: p-value floored: true value smaller than 0.001. Consider specifying `method` (e.g. `method=stats.PermutationMethod()`.)\n",
      "  ad.append(anderson_ksamp([X_mcmc[i, :], X_true[i, :]]).statistic)\n"
     ]
    },
    {
     "name": "stdout",
     "output_type": "stream",
     "text": [
      "Processed: Barker_accept_0.25_n_1e+06 | trial 5\n"
     ]
    },
    {
     "name": "stderr",
     "output_type": "stream",
     "text": [
      "/Users/m250/Documents/UCL/FYP/src/metrics.py:38: UserWarning: p-value floored: true value smaller than 0.001. Consider specifying `method` (e.g. `method=stats.PermutationMethod()`.)\n",
      "  ad.append(anderson_ksamp([X_mcmc[i, :], X_true[i, :]]).statistic)\n"
     ]
    },
    {
     "name": "stdout",
     "output_type": "stream",
     "text": [
      "Processed: Barker_accept_0.25_n_1e+06 | trial 6\n"
     ]
    },
    {
     "name": "stderr",
     "output_type": "stream",
     "text": [
      "/Users/m250/Documents/UCL/FYP/src/metrics.py:38: UserWarning: p-value floored: true value smaller than 0.001. Consider specifying `method` (e.g. `method=stats.PermutationMethod()`.)\n",
      "  ad.append(anderson_ksamp([X_mcmc[i, :], X_true[i, :]]).statistic)\n"
     ]
    },
    {
     "name": "stdout",
     "output_type": "stream",
     "text": [
      "Processed: Barker_accept_0.25_n_1e+06 | trial 7\n"
     ]
    },
    {
     "name": "stderr",
     "output_type": "stream",
     "text": [
      "/Users/m250/Documents/UCL/FYP/src/metrics.py:38: UserWarning: p-value floored: true value smaller than 0.001. Consider specifying `method` (e.g. `method=stats.PermutationMethod()`.)\n",
      "  ad.append(anderson_ksamp([X_mcmc[i, :], X_true[i, :]]).statistic)\n"
     ]
    },
    {
     "name": "stdout",
     "output_type": "stream",
     "text": [
      "Processed: Barker_accept_0.25_n_1e+06 | trial 8\n"
     ]
    },
    {
     "name": "stderr",
     "output_type": "stream",
     "text": [
      "/Users/m250/Documents/UCL/FYP/src/metrics.py:38: UserWarning: p-value floored: true value smaller than 0.001. Consider specifying `method` (e.g. `method=stats.PermutationMethod()`.)\n",
      "  ad.append(anderson_ksamp([X_mcmc[i, :], X_true[i, :]]).statistic)\n"
     ]
    },
    {
     "name": "stdout",
     "output_type": "stream",
     "text": [
      "Processed: Barker_accept_0.25_n_1e+06 | trial 9\n"
     ]
    },
    {
     "name": "stderr",
     "output_type": "stream",
     "text": [
      "/Users/m250/Documents/UCL/FYP/src/metrics.py:38: UserWarning: p-value floored: true value smaller than 0.001. Consider specifying `method` (e.g. `method=stats.PermutationMethod()`.)\n",
      "  ad.append(anderson_ksamp([X_mcmc[i, :], X_true[i, :]]).statistic)\n"
     ]
    },
    {
     "name": "stdout",
     "output_type": "stream",
     "text": [
      "Processed: Barker_accept_0.25_n_1e+06 | trial 10\n"
     ]
    },
    {
     "name": "stderr",
     "output_type": "stream",
     "text": [
      "/Users/m250/Documents/UCL/FYP/src/metrics.py:38: UserWarning: p-value floored: true value smaller than 0.001. Consider specifying `method` (e.g. `method=stats.PermutationMethod()`.)\n",
      "  ad.append(anderson_ksamp([X_mcmc[i, :], X_true[i, :]]).statistic)\n"
     ]
    },
    {
     "name": "stdout",
     "output_type": "stream",
     "text": [
      "Processed: Barker_accept_0.25_n_1e+06 | trial 11\n"
     ]
    },
    {
     "name": "stderr",
     "output_type": "stream",
     "text": [
      "/Users/m250/Documents/UCL/FYP/src/metrics.py:38: UserWarning: p-value floored: true value smaller than 0.001. Consider specifying `method` (e.g. `method=stats.PermutationMethod()`.)\n",
      "  ad.append(anderson_ksamp([X_mcmc[i, :], X_true[i, :]]).statistic)\n"
     ]
    },
    {
     "name": "stdout",
     "output_type": "stream",
     "text": [
      "Processed: Barker_accept_0.25_n_1e+06 | trial 12\n"
     ]
    },
    {
     "name": "stderr",
     "output_type": "stream",
     "text": [
      "/Users/m250/Documents/UCL/FYP/src/metrics.py:38: UserWarning: p-value floored: true value smaller than 0.001. Consider specifying `method` (e.g. `method=stats.PermutationMethod()`.)\n",
      "  ad.append(anderson_ksamp([X_mcmc[i, :], X_true[i, :]]).statistic)\n"
     ]
    },
    {
     "name": "stdout",
     "output_type": "stream",
     "text": [
      "Processed: Barker_accept_0.25_n_1e+06 | trial 13\n"
     ]
    },
    {
     "name": "stderr",
     "output_type": "stream",
     "text": [
      "/Users/m250/Documents/UCL/FYP/src/metrics.py:38: UserWarning: p-value floored: true value smaller than 0.001. Consider specifying `method` (e.g. `method=stats.PermutationMethod()`.)\n",
      "  ad.append(anderson_ksamp([X_mcmc[i, :], X_true[i, :]]).statistic)\n"
     ]
    },
    {
     "name": "stdout",
     "output_type": "stream",
     "text": [
      "Processed: Barker_accept_0.25_n_1e+06 | trial 14\n"
     ]
    },
    {
     "name": "stderr",
     "output_type": "stream",
     "text": [
      "/Users/m250/Documents/UCL/FYP/src/metrics.py:38: UserWarning: p-value floored: true value smaller than 0.001. Consider specifying `method` (e.g. `method=stats.PermutationMethod()`.)\n",
      "  ad.append(anderson_ksamp([X_mcmc[i, :], X_true[i, :]]).statistic)\n"
     ]
    },
    {
     "name": "stdout",
     "output_type": "stream",
     "text": [
      "Processed: Barker_accept_0.25_n_1e+06 | trial 15\n"
     ]
    },
    {
     "name": "stderr",
     "output_type": "stream",
     "text": [
      "/Users/m250/Documents/UCL/FYP/src/metrics.py:38: UserWarning: p-value floored: true value smaller than 0.001. Consider specifying `method` (e.g. `method=stats.PermutationMethod()`.)\n",
      "  ad.append(anderson_ksamp([X_mcmc[i, :], X_true[i, :]]).statistic)\n"
     ]
    },
    {
     "name": "stdout",
     "output_type": "stream",
     "text": [
      "Processed: Barker_accept_0.25_n_1e+06 | trial 16\n"
     ]
    },
    {
     "name": "stderr",
     "output_type": "stream",
     "text": [
      "/Users/m250/Documents/UCL/FYP/src/metrics.py:38: UserWarning: p-value floored: true value smaller than 0.001. Consider specifying `method` (e.g. `method=stats.PermutationMethod()`.)\n",
      "  ad.append(anderson_ksamp([X_mcmc[i, :], X_true[i, :]]).statistic)\n"
     ]
    },
    {
     "name": "stdout",
     "output_type": "stream",
     "text": [
      "Processed: Barker_accept_0.25_n_1e+06 | trial 17\n"
     ]
    },
    {
     "name": "stderr",
     "output_type": "stream",
     "text": [
      "/Users/m250/Documents/UCL/FYP/src/metrics.py:38: UserWarning: p-value floored: true value smaller than 0.001. Consider specifying `method` (e.g. `method=stats.PermutationMethod()`.)\n",
      "  ad.append(anderson_ksamp([X_mcmc[i, :], X_true[i, :]]).statistic)\n"
     ]
    },
    {
     "name": "stdout",
     "output_type": "stream",
     "text": [
      "Processed: Barker_accept_0.25_n_1e+06 | trial 18\n"
     ]
    },
    {
     "name": "stderr",
     "output_type": "stream",
     "text": [
      "/Users/m250/Documents/UCL/FYP/src/metrics.py:38: UserWarning: p-value floored: true value smaller than 0.001. Consider specifying `method` (e.g. `method=stats.PermutationMethod()`.)\n",
      "  ad.append(anderson_ksamp([X_mcmc[i, :], X_true[i, :]]).statistic)\n"
     ]
    },
    {
     "name": "stdout",
     "output_type": "stream",
     "text": [
      "Processed: Barker_accept_0.25_n_1e+06 | trial 19\n"
     ]
    },
    {
     "name": "stderr",
     "output_type": "stream",
     "text": [
      "/Users/m250/Documents/UCL/FYP/src/metrics.py:38: UserWarning: p-value floored: true value smaller than 0.001. Consider specifying `method` (e.g. `method=stats.PermutationMethod()`.)\n",
      "  ad.append(anderson_ksamp([X_mcmc[i, :], X_true[i, :]]).statistic)\n"
     ]
    },
    {
     "name": "stdout",
     "output_type": "stream",
     "text": [
      "Processed: Barker_accept_0.25_n_1e+06 | trial 20\n"
     ]
    },
    {
     "name": "stderr",
     "output_type": "stream",
     "text": [
      "/Users/m250/Documents/UCL/FYP/src/metrics.py:38: UserWarning: p-value floored: true value smaller than 0.001. Consider specifying `method` (e.g. `method=stats.PermutationMethod()`.)\n",
      "  ad.append(anderson_ksamp([X_mcmc[i, :], X_true[i, :]]).statistic)\n"
     ]
    },
    {
     "name": "stdout",
     "output_type": "stream",
     "text": [
      "Processed: Barker_accept_0.25_n_1e+06 | trial 21\n"
     ]
    },
    {
     "name": "stderr",
     "output_type": "stream",
     "text": [
      "/Users/m250/Documents/UCL/FYP/src/metrics.py:38: UserWarning: p-value floored: true value smaller than 0.001. Consider specifying `method` (e.g. `method=stats.PermutationMethod()`.)\n",
      "  ad.append(anderson_ksamp([X_mcmc[i, :], X_true[i, :]]).statistic)\n"
     ]
    },
    {
     "name": "stdout",
     "output_type": "stream",
     "text": [
      "Processed: Barker_accept_0.25_n_1e+06 | trial 22\n"
     ]
    },
    {
     "name": "stderr",
     "output_type": "stream",
     "text": [
      "/Users/m250/Documents/UCL/FYP/src/metrics.py:38: UserWarning: p-value floored: true value smaller than 0.001. Consider specifying `method` (e.g. `method=stats.PermutationMethod()`.)\n",
      "  ad.append(anderson_ksamp([X_mcmc[i, :], X_true[i, :]]).statistic)\n"
     ]
    },
    {
     "name": "stdout",
     "output_type": "stream",
     "text": [
      "Processed: Barker_accept_0.25_n_1e+06 | trial 23\n"
     ]
    },
    {
     "name": "stderr",
     "output_type": "stream",
     "text": [
      "/Users/m250/Documents/UCL/FYP/src/metrics.py:38: UserWarning: p-value floored: true value smaller than 0.001. Consider specifying `method` (e.g. `method=stats.PermutationMethod()`.)\n",
      "  ad.append(anderson_ksamp([X_mcmc[i, :], X_true[i, :]]).statistic)\n"
     ]
    },
    {
     "name": "stdout",
     "output_type": "stream",
     "text": [
      "Processed: Barker_accept_0.25_n_1e+06 | trial 24\n"
     ]
    },
    {
     "name": "stderr",
     "output_type": "stream",
     "text": [
      "/Users/m250/Documents/UCL/FYP/src/metrics.py:38: UserWarning: p-value floored: true value smaller than 0.001. Consider specifying `method` (e.g. `method=stats.PermutationMethod()`.)\n",
      "  ad.append(anderson_ksamp([X_mcmc[i, :], X_true[i, :]]).statistic)\n"
     ]
    },
    {
     "name": "stdout",
     "output_type": "stream",
     "text": [
      "Processed: Barker_accept_0.25_n_1e+06 | trial 25\n"
     ]
    },
    {
     "name": "stderr",
     "output_type": "stream",
     "text": [
      "/Users/m250/Documents/UCL/FYP/src/metrics.py:38: UserWarning: p-value floored: true value smaller than 0.001. Consider specifying `method` (e.g. `method=stats.PermutationMethod()`.)\n",
      "  ad.append(anderson_ksamp([X_mcmc[i, :], X_true[i, :]]).statistic)\n"
     ]
    },
    {
     "name": "stdout",
     "output_type": "stream",
     "text": [
      "Processed: Barker_accept_0.25_n_1e+06 | trial 26\n"
     ]
    },
    {
     "name": "stderr",
     "output_type": "stream",
     "text": [
      "/Users/m250/Documents/UCL/FYP/src/metrics.py:38: UserWarning: p-value floored: true value smaller than 0.001. Consider specifying `method` (e.g. `method=stats.PermutationMethod()`.)\n",
      "  ad.append(anderson_ksamp([X_mcmc[i, :], X_true[i, :]]).statistic)\n"
     ]
    },
    {
     "name": "stdout",
     "output_type": "stream",
     "text": [
      "Processed: Barker_accept_0.25_n_1e+06 | trial 27\n"
     ]
    },
    {
     "name": "stderr",
     "output_type": "stream",
     "text": [
      "/Users/m250/Documents/UCL/FYP/src/metrics.py:38: UserWarning: p-value floored: true value smaller than 0.001. Consider specifying `method` (e.g. `method=stats.PermutationMethod()`.)\n",
      "  ad.append(anderson_ksamp([X_mcmc[i, :], X_true[i, :]]).statistic)\n"
     ]
    },
    {
     "name": "stdout",
     "output_type": "stream",
     "text": [
      "Processed: Barker_accept_0.25_n_1e+06 | trial 28\n"
     ]
    },
    {
     "name": "stderr",
     "output_type": "stream",
     "text": [
      "/Users/m250/Documents/UCL/FYP/src/metrics.py:38: UserWarning: p-value floored: true value smaller than 0.001. Consider specifying `method` (e.g. `method=stats.PermutationMethod()`.)\n",
      "  ad.append(anderson_ksamp([X_mcmc[i, :], X_true[i, :]]).statistic)\n"
     ]
    },
    {
     "name": "stdout",
     "output_type": "stream",
     "text": [
      "Processed: Barker_accept_0.25_n_1e+06 | trial 29\n"
     ]
    },
    {
     "name": "stderr",
     "output_type": "stream",
     "text": [
      "/Users/m250/Documents/UCL/FYP/src/metrics.py:38: UserWarning: p-value floored: true value smaller than 0.001. Consider specifying `method` (e.g. `method=stats.PermutationMethod()`.)\n",
      "  ad.append(anderson_ksamp([X_mcmc[i, :], X_true[i, :]]).statistic)\n"
     ]
    },
    {
     "name": "stdout",
     "output_type": "stream",
     "text": [
      "Processed: Barker_accept_0.25_n_1e+06 | trial 30\n"
     ]
    },
    {
     "name": "stderr",
     "output_type": "stream",
     "text": [
      "/Users/m250/Documents/UCL/FYP/src/metrics.py:38: UserWarning: p-value floored: true value smaller than 0.001. Consider specifying `method` (e.g. `method=stats.PermutationMethod()`.)\n",
      "  ad.append(anderson_ksamp([X_mcmc[i, :], X_true[i, :]]).statistic)\n"
     ]
    },
    {
     "name": "stdout",
     "output_type": "stream",
     "text": [
      "Processed: Barker_accept_0.40_n_1e+06 | trial 1\n"
     ]
    },
    {
     "name": "stderr",
     "output_type": "stream",
     "text": [
      "/Users/m250/Documents/UCL/FYP/src/metrics.py:38: UserWarning: p-value floored: true value smaller than 0.001. Consider specifying `method` (e.g. `method=stats.PermutationMethod()`.)\n",
      "  ad.append(anderson_ksamp([X_mcmc[i, :], X_true[i, :]]).statistic)\n"
     ]
    },
    {
     "name": "stdout",
     "output_type": "stream",
     "text": [
      "Processed: Barker_accept_0.40_n_1e+06 | trial 2\n"
     ]
    },
    {
     "name": "stderr",
     "output_type": "stream",
     "text": [
      "/Users/m250/Documents/UCL/FYP/src/metrics.py:38: UserWarning: p-value floored: true value smaller than 0.001. Consider specifying `method` (e.g. `method=stats.PermutationMethod()`.)\n",
      "  ad.append(anderson_ksamp([X_mcmc[i, :], X_true[i, :]]).statistic)\n"
     ]
    },
    {
     "name": "stdout",
     "output_type": "stream",
     "text": [
      "Processed: Barker_accept_0.40_n_1e+06 | trial 3\n"
     ]
    },
    {
     "name": "stderr",
     "output_type": "stream",
     "text": [
      "/Users/m250/Documents/UCL/FYP/src/metrics.py:38: UserWarning: p-value floored: true value smaller than 0.001. Consider specifying `method` (e.g. `method=stats.PermutationMethod()`.)\n",
      "  ad.append(anderson_ksamp([X_mcmc[i, :], X_true[i, :]]).statistic)\n"
     ]
    },
    {
     "name": "stdout",
     "output_type": "stream",
     "text": [
      "Processed: Barker_accept_0.40_n_1e+06 | trial 4\n"
     ]
    },
    {
     "name": "stderr",
     "output_type": "stream",
     "text": [
      "/Users/m250/Documents/UCL/FYP/src/metrics.py:38: UserWarning: p-value floored: true value smaller than 0.001. Consider specifying `method` (e.g. `method=stats.PermutationMethod()`.)\n",
      "  ad.append(anderson_ksamp([X_mcmc[i, :], X_true[i, :]]).statistic)\n"
     ]
    },
    {
     "name": "stdout",
     "output_type": "stream",
     "text": [
      "Processed: Barker_accept_0.40_n_1e+06 | trial 5\n"
     ]
    },
    {
     "name": "stderr",
     "output_type": "stream",
     "text": [
      "/Users/m250/Documents/UCL/FYP/src/metrics.py:38: UserWarning: p-value floored: true value smaller than 0.001. Consider specifying `method` (e.g. `method=stats.PermutationMethod()`.)\n",
      "  ad.append(anderson_ksamp([X_mcmc[i, :], X_true[i, :]]).statistic)\n"
     ]
    },
    {
     "name": "stdout",
     "output_type": "stream",
     "text": [
      "Processed: Barker_accept_0.40_n_1e+06 | trial 6\n"
     ]
    },
    {
     "name": "stderr",
     "output_type": "stream",
     "text": [
      "/Users/m250/Documents/UCL/FYP/src/metrics.py:38: UserWarning: p-value floored: true value smaller than 0.001. Consider specifying `method` (e.g. `method=stats.PermutationMethod()`.)\n",
      "  ad.append(anderson_ksamp([X_mcmc[i, :], X_true[i, :]]).statistic)\n"
     ]
    },
    {
     "name": "stdout",
     "output_type": "stream",
     "text": [
      "Processed: Barker_accept_0.40_n_1e+06 | trial 7\n"
     ]
    },
    {
     "name": "stderr",
     "output_type": "stream",
     "text": [
      "/Users/m250/Documents/UCL/FYP/src/metrics.py:38: UserWarning: p-value floored: true value smaller than 0.001. Consider specifying `method` (e.g. `method=stats.PermutationMethod()`.)\n",
      "  ad.append(anderson_ksamp([X_mcmc[i, :], X_true[i, :]]).statistic)\n"
     ]
    },
    {
     "name": "stdout",
     "output_type": "stream",
     "text": [
      "Processed: Barker_accept_0.40_n_1e+06 | trial 8\n"
     ]
    },
    {
     "name": "stderr",
     "output_type": "stream",
     "text": [
      "/Users/m250/Documents/UCL/FYP/src/metrics.py:38: UserWarning: p-value floored: true value smaller than 0.001. Consider specifying `method` (e.g. `method=stats.PermutationMethod()`.)\n",
      "  ad.append(anderson_ksamp([X_mcmc[i, :], X_true[i, :]]).statistic)\n"
     ]
    },
    {
     "name": "stdout",
     "output_type": "stream",
     "text": [
      "Processed: Barker_accept_0.40_n_1e+06 | trial 9\n"
     ]
    },
    {
     "name": "stderr",
     "output_type": "stream",
     "text": [
      "/Users/m250/Documents/UCL/FYP/src/metrics.py:38: UserWarning: p-value floored: true value smaller than 0.001. Consider specifying `method` (e.g. `method=stats.PermutationMethod()`.)\n",
      "  ad.append(anderson_ksamp([X_mcmc[i, :], X_true[i, :]]).statistic)\n"
     ]
    },
    {
     "name": "stdout",
     "output_type": "stream",
     "text": [
      "Processed: Barker_accept_0.40_n_1e+06 | trial 10\n"
     ]
    },
    {
     "name": "stderr",
     "output_type": "stream",
     "text": [
      "/Users/m250/Documents/UCL/FYP/src/metrics.py:38: UserWarning: p-value floored: true value smaller than 0.001. Consider specifying `method` (e.g. `method=stats.PermutationMethod()`.)\n",
      "  ad.append(anderson_ksamp([X_mcmc[i, :], X_true[i, :]]).statistic)\n"
     ]
    },
    {
     "name": "stdout",
     "output_type": "stream",
     "text": [
      "Processed: Barker_accept_0.40_n_1e+06 | trial 11\n"
     ]
    },
    {
     "name": "stderr",
     "output_type": "stream",
     "text": [
      "/Users/m250/Documents/UCL/FYP/src/metrics.py:38: UserWarning: p-value floored: true value smaller than 0.001. Consider specifying `method` (e.g. `method=stats.PermutationMethod()`.)\n",
      "  ad.append(anderson_ksamp([X_mcmc[i, :], X_true[i, :]]).statistic)\n"
     ]
    },
    {
     "name": "stdout",
     "output_type": "stream",
     "text": [
      "Processed: Barker_accept_0.40_n_1e+06 | trial 12\n"
     ]
    },
    {
     "name": "stderr",
     "output_type": "stream",
     "text": [
      "/Users/m250/Documents/UCL/FYP/src/metrics.py:38: UserWarning: p-value floored: true value smaller than 0.001. Consider specifying `method` (e.g. `method=stats.PermutationMethod()`.)\n",
      "  ad.append(anderson_ksamp([X_mcmc[i, :], X_true[i, :]]).statistic)\n"
     ]
    },
    {
     "name": "stdout",
     "output_type": "stream",
     "text": [
      "Processed: Barker_accept_0.40_n_1e+06 | trial 13\n"
     ]
    },
    {
     "name": "stderr",
     "output_type": "stream",
     "text": [
      "/Users/m250/Documents/UCL/FYP/src/metrics.py:38: UserWarning: p-value floored: true value smaller than 0.001. Consider specifying `method` (e.g. `method=stats.PermutationMethod()`.)\n",
      "  ad.append(anderson_ksamp([X_mcmc[i, :], X_true[i, :]]).statistic)\n"
     ]
    },
    {
     "name": "stdout",
     "output_type": "stream",
     "text": [
      "Processed: Barker_accept_0.40_n_1e+06 | trial 14\n"
     ]
    },
    {
     "name": "stderr",
     "output_type": "stream",
     "text": [
      "/Users/m250/Documents/UCL/FYP/src/metrics.py:38: UserWarning: p-value floored: true value smaller than 0.001. Consider specifying `method` (e.g. `method=stats.PermutationMethod()`.)\n",
      "  ad.append(anderson_ksamp([X_mcmc[i, :], X_true[i, :]]).statistic)\n"
     ]
    },
    {
     "name": "stdout",
     "output_type": "stream",
     "text": [
      "Processed: Barker_accept_0.40_n_1e+06 | trial 15\n"
     ]
    },
    {
     "name": "stderr",
     "output_type": "stream",
     "text": [
      "/Users/m250/Documents/UCL/FYP/src/metrics.py:38: UserWarning: p-value floored: true value smaller than 0.001. Consider specifying `method` (e.g. `method=stats.PermutationMethod()`.)\n",
      "  ad.append(anderson_ksamp([X_mcmc[i, :], X_true[i, :]]).statistic)\n"
     ]
    },
    {
     "name": "stdout",
     "output_type": "stream",
     "text": [
      "Processed: Barker_accept_0.40_n_1e+06 | trial 16\n"
     ]
    },
    {
     "name": "stderr",
     "output_type": "stream",
     "text": [
      "/Users/m250/Documents/UCL/FYP/src/metrics.py:38: UserWarning: p-value floored: true value smaller than 0.001. Consider specifying `method` (e.g. `method=stats.PermutationMethod()`.)\n",
      "  ad.append(anderson_ksamp([X_mcmc[i, :], X_true[i, :]]).statistic)\n"
     ]
    },
    {
     "name": "stdout",
     "output_type": "stream",
     "text": [
      "Processed: Barker_accept_0.40_n_1e+06 | trial 17\n"
     ]
    },
    {
     "name": "stderr",
     "output_type": "stream",
     "text": [
      "/Users/m250/Documents/UCL/FYP/src/metrics.py:38: UserWarning: p-value floored: true value smaller than 0.001. Consider specifying `method` (e.g. `method=stats.PermutationMethod()`.)\n",
      "  ad.append(anderson_ksamp([X_mcmc[i, :], X_true[i, :]]).statistic)\n"
     ]
    },
    {
     "name": "stdout",
     "output_type": "stream",
     "text": [
      "Processed: Barker_accept_0.40_n_1e+06 | trial 18\n"
     ]
    },
    {
     "name": "stderr",
     "output_type": "stream",
     "text": [
      "/Users/m250/Documents/UCL/FYP/src/metrics.py:38: UserWarning: p-value floored: true value smaller than 0.001. Consider specifying `method` (e.g. `method=stats.PermutationMethod()`.)\n",
      "  ad.append(anderson_ksamp([X_mcmc[i, :], X_true[i, :]]).statistic)\n"
     ]
    },
    {
     "name": "stdout",
     "output_type": "stream",
     "text": [
      "Processed: Barker_accept_0.40_n_1e+06 | trial 19\n"
     ]
    },
    {
     "name": "stderr",
     "output_type": "stream",
     "text": [
      "/Users/m250/Documents/UCL/FYP/src/metrics.py:38: UserWarning: p-value floored: true value smaller than 0.001. Consider specifying `method` (e.g. `method=stats.PermutationMethod()`.)\n",
      "  ad.append(anderson_ksamp([X_mcmc[i, :], X_true[i, :]]).statistic)\n"
     ]
    },
    {
     "name": "stdout",
     "output_type": "stream",
     "text": [
      "Processed: Barker_accept_0.40_n_1e+06 | trial 20\n"
     ]
    },
    {
     "name": "stderr",
     "output_type": "stream",
     "text": [
      "/Users/m250/Documents/UCL/FYP/src/metrics.py:38: UserWarning: p-value floored: true value smaller than 0.001. Consider specifying `method` (e.g. `method=stats.PermutationMethod()`.)\n",
      "  ad.append(anderson_ksamp([X_mcmc[i, :], X_true[i, :]]).statistic)\n"
     ]
    },
    {
     "name": "stdout",
     "output_type": "stream",
     "text": [
      "Processed: Barker_accept_0.40_n_1e+06 | trial 21\n"
     ]
    },
    {
     "name": "stderr",
     "output_type": "stream",
     "text": [
      "/Users/m250/Documents/UCL/FYP/src/metrics.py:38: UserWarning: p-value floored: true value smaller than 0.001. Consider specifying `method` (e.g. `method=stats.PermutationMethod()`.)\n",
      "  ad.append(anderson_ksamp([X_mcmc[i, :], X_true[i, :]]).statistic)\n"
     ]
    },
    {
     "name": "stdout",
     "output_type": "stream",
     "text": [
      "Processed: Barker_accept_0.40_n_1e+06 | trial 22\n"
     ]
    },
    {
     "name": "stderr",
     "output_type": "stream",
     "text": [
      "/Users/m250/Documents/UCL/FYP/src/metrics.py:38: UserWarning: p-value floored: true value smaller than 0.001. Consider specifying `method` (e.g. `method=stats.PermutationMethod()`.)\n",
      "  ad.append(anderson_ksamp([X_mcmc[i, :], X_true[i, :]]).statistic)\n"
     ]
    },
    {
     "name": "stdout",
     "output_type": "stream",
     "text": [
      "Processed: Barker_accept_0.40_n_1e+06 | trial 23\n"
     ]
    },
    {
     "name": "stderr",
     "output_type": "stream",
     "text": [
      "/Users/m250/Documents/UCL/FYP/src/metrics.py:38: UserWarning: p-value floored: true value smaller than 0.001. Consider specifying `method` (e.g. `method=stats.PermutationMethod()`.)\n",
      "  ad.append(anderson_ksamp([X_mcmc[i, :], X_true[i, :]]).statistic)\n"
     ]
    },
    {
     "name": "stdout",
     "output_type": "stream",
     "text": [
      "Processed: Barker_accept_0.40_n_1e+06 | trial 24\n"
     ]
    },
    {
     "name": "stderr",
     "output_type": "stream",
     "text": [
      "/Users/m250/Documents/UCL/FYP/src/metrics.py:38: UserWarning: p-value floored: true value smaller than 0.001. Consider specifying `method` (e.g. `method=stats.PermutationMethod()`.)\n",
      "  ad.append(anderson_ksamp([X_mcmc[i, :], X_true[i, :]]).statistic)\n"
     ]
    },
    {
     "name": "stdout",
     "output_type": "stream",
     "text": [
      "Processed: Barker_accept_0.40_n_1e+06 | trial 25\n"
     ]
    },
    {
     "name": "stderr",
     "output_type": "stream",
     "text": [
      "/Users/m250/Documents/UCL/FYP/src/metrics.py:38: UserWarning: p-value floored: true value smaller than 0.001. Consider specifying `method` (e.g. `method=stats.PermutationMethod()`.)\n",
      "  ad.append(anderson_ksamp([X_mcmc[i, :], X_true[i, :]]).statistic)\n"
     ]
    },
    {
     "name": "stdout",
     "output_type": "stream",
     "text": [
      "Processed: Barker_accept_0.40_n_1e+06 | trial 26\n"
     ]
    },
    {
     "name": "stderr",
     "output_type": "stream",
     "text": [
      "/Users/m250/Documents/UCL/FYP/src/metrics.py:38: UserWarning: p-value floored: true value smaller than 0.001. Consider specifying `method` (e.g. `method=stats.PermutationMethod()`.)\n",
      "  ad.append(anderson_ksamp([X_mcmc[i, :], X_true[i, :]]).statistic)\n"
     ]
    },
    {
     "name": "stdout",
     "output_type": "stream",
     "text": [
      "Processed: Barker_accept_0.40_n_1e+06 | trial 27\n"
     ]
    },
    {
     "name": "stderr",
     "output_type": "stream",
     "text": [
      "/Users/m250/Documents/UCL/FYP/src/metrics.py:38: UserWarning: p-value floored: true value smaller than 0.001. Consider specifying `method` (e.g. `method=stats.PermutationMethod()`.)\n",
      "  ad.append(anderson_ksamp([X_mcmc[i, :], X_true[i, :]]).statistic)\n"
     ]
    },
    {
     "name": "stdout",
     "output_type": "stream",
     "text": [
      "Processed: Barker_accept_0.40_n_1e+06 | trial 28\n"
     ]
    },
    {
     "name": "stderr",
     "output_type": "stream",
     "text": [
      "/Users/m250/Documents/UCL/FYP/src/metrics.py:38: UserWarning: p-value floored: true value smaller than 0.001. Consider specifying `method` (e.g. `method=stats.PermutationMethod()`.)\n",
      "  ad.append(anderson_ksamp([X_mcmc[i, :], X_true[i, :]]).statistic)\n"
     ]
    },
    {
     "name": "stdout",
     "output_type": "stream",
     "text": [
      "Processed: Barker_accept_0.40_n_1e+06 | trial 29\n"
     ]
    },
    {
     "name": "stderr",
     "output_type": "stream",
     "text": [
      "/Users/m250/Documents/UCL/FYP/src/metrics.py:38: UserWarning: p-value floored: true value smaller than 0.001. Consider specifying `method` (e.g. `method=stats.PermutationMethod()`.)\n",
      "  ad.append(anderson_ksamp([X_mcmc[i, :], X_true[i, :]]).statistic)\n"
     ]
    },
    {
     "name": "stdout",
     "output_type": "stream",
     "text": [
      "Processed: Barker_accept_0.40_n_1e+06 | trial 30\n"
     ]
    },
    {
     "name": "stderr",
     "output_type": "stream",
     "text": [
      "/Users/m250/Documents/UCL/FYP/src/metrics.py:38: UserWarning: p-value floored: true value smaller than 0.001. Consider specifying `method` (e.g. `method=stats.PermutationMethod()`.)\n",
      "  ad.append(anderson_ksamp([X_mcmc[i, :], X_true[i, :]]).statistic)\n"
     ]
    },
    {
     "name": "stdout",
     "output_type": "stream",
     "text": [
      "Processed: Barker_accept_0.55_n_1e+06 | trial 1\n"
     ]
    },
    {
     "name": "stderr",
     "output_type": "stream",
     "text": [
      "/Users/m250/Documents/UCL/FYP/src/metrics.py:38: UserWarning: p-value floored: true value smaller than 0.001. Consider specifying `method` (e.g. `method=stats.PermutationMethod()`.)\n",
      "  ad.append(anderson_ksamp([X_mcmc[i, :], X_true[i, :]]).statistic)\n"
     ]
    },
    {
     "name": "stdout",
     "output_type": "stream",
     "text": [
      "Processed: Barker_accept_0.55_n_1e+06 | trial 2\n"
     ]
    },
    {
     "name": "stderr",
     "output_type": "stream",
     "text": [
      "/Users/m250/Documents/UCL/FYP/src/metrics.py:38: UserWarning: p-value floored: true value smaller than 0.001. Consider specifying `method` (e.g. `method=stats.PermutationMethod()`.)\n",
      "  ad.append(anderson_ksamp([X_mcmc[i, :], X_true[i, :]]).statistic)\n"
     ]
    },
    {
     "name": "stdout",
     "output_type": "stream",
     "text": [
      "Processed: Barker_accept_0.55_n_1e+06 | trial 3\n"
     ]
    },
    {
     "name": "stderr",
     "output_type": "stream",
     "text": [
      "/Users/m250/Documents/UCL/FYP/src/metrics.py:38: UserWarning: p-value floored: true value smaller than 0.001. Consider specifying `method` (e.g. `method=stats.PermutationMethod()`.)\n",
      "  ad.append(anderson_ksamp([X_mcmc[i, :], X_true[i, :]]).statistic)\n"
     ]
    },
    {
     "name": "stdout",
     "output_type": "stream",
     "text": [
      "Processed: Barker_accept_0.55_n_1e+06 | trial 4\n"
     ]
    },
    {
     "name": "stderr",
     "output_type": "stream",
     "text": [
      "/Users/m250/Documents/UCL/FYP/src/metrics.py:38: UserWarning: p-value floored: true value smaller than 0.001. Consider specifying `method` (e.g. `method=stats.PermutationMethod()`.)\n",
      "  ad.append(anderson_ksamp([X_mcmc[i, :], X_true[i, :]]).statistic)\n"
     ]
    },
    {
     "name": "stdout",
     "output_type": "stream",
     "text": [
      "Processed: Barker_accept_0.55_n_1e+06 | trial 5\n"
     ]
    },
    {
     "name": "stderr",
     "output_type": "stream",
     "text": [
      "/Users/m250/Documents/UCL/FYP/src/metrics.py:38: UserWarning: p-value floored: true value smaller than 0.001. Consider specifying `method` (e.g. `method=stats.PermutationMethod()`.)\n",
      "  ad.append(anderson_ksamp([X_mcmc[i, :], X_true[i, :]]).statistic)\n"
     ]
    },
    {
     "name": "stdout",
     "output_type": "stream",
     "text": [
      "Processed: Barker_accept_0.55_n_1e+06 | trial 6\n"
     ]
    },
    {
     "name": "stderr",
     "output_type": "stream",
     "text": [
      "/Users/m250/Documents/UCL/FYP/src/metrics.py:38: UserWarning: p-value floored: true value smaller than 0.001. Consider specifying `method` (e.g. `method=stats.PermutationMethod()`.)\n",
      "  ad.append(anderson_ksamp([X_mcmc[i, :], X_true[i, :]]).statistic)\n"
     ]
    },
    {
     "name": "stdout",
     "output_type": "stream",
     "text": [
      "Processed: Barker_accept_0.55_n_1e+06 | trial 7\n"
     ]
    },
    {
     "name": "stderr",
     "output_type": "stream",
     "text": [
      "/Users/m250/Documents/UCL/FYP/src/metrics.py:38: UserWarning: p-value floored: true value smaller than 0.001. Consider specifying `method` (e.g. `method=stats.PermutationMethod()`.)\n",
      "  ad.append(anderson_ksamp([X_mcmc[i, :], X_true[i, :]]).statistic)\n"
     ]
    },
    {
     "name": "stdout",
     "output_type": "stream",
     "text": [
      "Processed: Barker_accept_0.55_n_1e+06 | trial 8\n"
     ]
    },
    {
     "name": "stderr",
     "output_type": "stream",
     "text": [
      "/Users/m250/Documents/UCL/FYP/src/metrics.py:38: UserWarning: p-value floored: true value smaller than 0.001. Consider specifying `method` (e.g. `method=stats.PermutationMethod()`.)\n",
      "  ad.append(anderson_ksamp([X_mcmc[i, :], X_true[i, :]]).statistic)\n"
     ]
    },
    {
     "name": "stdout",
     "output_type": "stream",
     "text": [
      "Processed: Barker_accept_0.55_n_1e+06 | trial 9\n"
     ]
    },
    {
     "name": "stderr",
     "output_type": "stream",
     "text": [
      "/Users/m250/Documents/UCL/FYP/src/metrics.py:38: UserWarning: p-value floored: true value smaller than 0.001. Consider specifying `method` (e.g. `method=stats.PermutationMethod()`.)\n",
      "  ad.append(anderson_ksamp([X_mcmc[i, :], X_true[i, :]]).statistic)\n"
     ]
    },
    {
     "name": "stdout",
     "output_type": "stream",
     "text": [
      "Processed: Barker_accept_0.55_n_1e+06 | trial 10\n"
     ]
    },
    {
     "name": "stderr",
     "output_type": "stream",
     "text": [
      "/Users/m250/Documents/UCL/FYP/src/metrics.py:38: UserWarning: p-value floored: true value smaller than 0.001. Consider specifying `method` (e.g. `method=stats.PermutationMethod()`.)\n",
      "  ad.append(anderson_ksamp([X_mcmc[i, :], X_true[i, :]]).statistic)\n"
     ]
    },
    {
     "name": "stdout",
     "output_type": "stream",
     "text": [
      "Processed: Barker_accept_0.55_n_1e+06 | trial 11\n"
     ]
    },
    {
     "name": "stderr",
     "output_type": "stream",
     "text": [
      "/Users/m250/Documents/UCL/FYP/src/metrics.py:38: UserWarning: p-value floored: true value smaller than 0.001. Consider specifying `method` (e.g. `method=stats.PermutationMethod()`.)\n",
      "  ad.append(anderson_ksamp([X_mcmc[i, :], X_true[i, :]]).statistic)\n"
     ]
    },
    {
     "name": "stdout",
     "output_type": "stream",
     "text": [
      "Processed: Barker_accept_0.55_n_1e+06 | trial 12\n"
     ]
    },
    {
     "name": "stderr",
     "output_type": "stream",
     "text": [
      "/Users/m250/Documents/UCL/FYP/src/metrics.py:38: UserWarning: p-value floored: true value smaller than 0.001. Consider specifying `method` (e.g. `method=stats.PermutationMethod()`.)\n",
      "  ad.append(anderson_ksamp([X_mcmc[i, :], X_true[i, :]]).statistic)\n"
     ]
    },
    {
     "name": "stdout",
     "output_type": "stream",
     "text": [
      "Processed: Barker_accept_0.55_n_1e+06 | trial 13\n"
     ]
    },
    {
     "name": "stderr",
     "output_type": "stream",
     "text": [
      "/Users/m250/Documents/UCL/FYP/src/metrics.py:38: UserWarning: p-value floored: true value smaller than 0.001. Consider specifying `method` (e.g. `method=stats.PermutationMethod()`.)\n",
      "  ad.append(anderson_ksamp([X_mcmc[i, :], X_true[i, :]]).statistic)\n"
     ]
    },
    {
     "name": "stdout",
     "output_type": "stream",
     "text": [
      "Processed: Barker_accept_0.55_n_1e+06 | trial 14\n"
     ]
    },
    {
     "name": "stderr",
     "output_type": "stream",
     "text": [
      "/Users/m250/Documents/UCL/FYP/src/metrics.py:38: UserWarning: p-value floored: true value smaller than 0.001. Consider specifying `method` (e.g. `method=stats.PermutationMethod()`.)\n",
      "  ad.append(anderson_ksamp([X_mcmc[i, :], X_true[i, :]]).statistic)\n"
     ]
    },
    {
     "name": "stdout",
     "output_type": "stream",
     "text": [
      "Processed: Barker_accept_0.55_n_1e+06 | trial 15\n"
     ]
    },
    {
     "name": "stderr",
     "output_type": "stream",
     "text": [
      "/Users/m250/Documents/UCL/FYP/src/metrics.py:38: UserWarning: p-value floored: true value smaller than 0.001. Consider specifying `method` (e.g. `method=stats.PermutationMethod()`.)\n",
      "  ad.append(anderson_ksamp([X_mcmc[i, :], X_true[i, :]]).statistic)\n"
     ]
    },
    {
     "name": "stdout",
     "output_type": "stream",
     "text": [
      "Processed: Barker_accept_0.55_n_1e+06 | trial 16\n"
     ]
    },
    {
     "name": "stderr",
     "output_type": "stream",
     "text": [
      "/Users/m250/Documents/UCL/FYP/src/metrics.py:38: UserWarning: p-value floored: true value smaller than 0.001. Consider specifying `method` (e.g. `method=stats.PermutationMethod()`.)\n",
      "  ad.append(anderson_ksamp([X_mcmc[i, :], X_true[i, :]]).statistic)\n"
     ]
    },
    {
     "name": "stdout",
     "output_type": "stream",
     "text": [
      "Processed: Barker_accept_0.55_n_1e+06 | trial 17\n"
     ]
    },
    {
     "name": "stderr",
     "output_type": "stream",
     "text": [
      "/Users/m250/Documents/UCL/FYP/src/metrics.py:38: UserWarning: p-value floored: true value smaller than 0.001. Consider specifying `method` (e.g. `method=stats.PermutationMethod()`.)\n",
      "  ad.append(anderson_ksamp([X_mcmc[i, :], X_true[i, :]]).statistic)\n"
     ]
    },
    {
     "name": "stdout",
     "output_type": "stream",
     "text": [
      "Processed: Barker_accept_0.55_n_1e+06 | trial 18\n"
     ]
    },
    {
     "name": "stderr",
     "output_type": "stream",
     "text": [
      "/Users/m250/Documents/UCL/FYP/src/metrics.py:38: UserWarning: p-value floored: true value smaller than 0.001. Consider specifying `method` (e.g. `method=stats.PermutationMethod()`.)\n",
      "  ad.append(anderson_ksamp([X_mcmc[i, :], X_true[i, :]]).statistic)\n"
     ]
    },
    {
     "name": "stdout",
     "output_type": "stream",
     "text": [
      "Processed: Barker_accept_0.55_n_1e+06 | trial 19\n"
     ]
    },
    {
     "name": "stderr",
     "output_type": "stream",
     "text": [
      "/Users/m250/Documents/UCL/FYP/src/metrics.py:38: UserWarning: p-value floored: true value smaller than 0.001. Consider specifying `method` (e.g. `method=stats.PermutationMethod()`.)\n",
      "  ad.append(anderson_ksamp([X_mcmc[i, :], X_true[i, :]]).statistic)\n"
     ]
    },
    {
     "name": "stdout",
     "output_type": "stream",
     "text": [
      "Processed: Barker_accept_0.55_n_1e+06 | trial 20\n"
     ]
    },
    {
     "name": "stderr",
     "output_type": "stream",
     "text": [
      "/Users/m250/Documents/UCL/FYP/src/metrics.py:38: UserWarning: p-value floored: true value smaller than 0.001. Consider specifying `method` (e.g. `method=stats.PermutationMethod()`.)\n",
      "  ad.append(anderson_ksamp([X_mcmc[i, :], X_true[i, :]]).statistic)\n"
     ]
    },
    {
     "name": "stdout",
     "output_type": "stream",
     "text": [
      "Processed: Barker_accept_0.55_n_1e+06 | trial 21\n"
     ]
    },
    {
     "name": "stderr",
     "output_type": "stream",
     "text": [
      "/Users/m250/Documents/UCL/FYP/src/metrics.py:38: UserWarning: p-value floored: true value smaller than 0.001. Consider specifying `method` (e.g. `method=stats.PermutationMethod()`.)\n",
      "  ad.append(anderson_ksamp([X_mcmc[i, :], X_true[i, :]]).statistic)\n"
     ]
    },
    {
     "name": "stdout",
     "output_type": "stream",
     "text": [
      "Processed: Barker_accept_0.55_n_1e+06 | trial 22\n"
     ]
    },
    {
     "name": "stderr",
     "output_type": "stream",
     "text": [
      "/Users/m250/Documents/UCL/FYP/src/metrics.py:38: UserWarning: p-value floored: true value smaller than 0.001. Consider specifying `method` (e.g. `method=stats.PermutationMethod()`.)\n",
      "  ad.append(anderson_ksamp([X_mcmc[i, :], X_true[i, :]]).statistic)\n"
     ]
    },
    {
     "name": "stdout",
     "output_type": "stream",
     "text": [
      "Processed: Barker_accept_0.55_n_1e+06 | trial 23\n"
     ]
    },
    {
     "name": "stderr",
     "output_type": "stream",
     "text": [
      "/Users/m250/Documents/UCL/FYP/src/metrics.py:38: UserWarning: p-value floored: true value smaller than 0.001. Consider specifying `method` (e.g. `method=stats.PermutationMethod()`.)\n",
      "  ad.append(anderson_ksamp([X_mcmc[i, :], X_true[i, :]]).statistic)\n"
     ]
    },
    {
     "name": "stdout",
     "output_type": "stream",
     "text": [
      "Processed: Barker_accept_0.55_n_1e+06 | trial 24\n"
     ]
    },
    {
     "name": "stderr",
     "output_type": "stream",
     "text": [
      "/Users/m250/Documents/UCL/FYP/src/metrics.py:38: UserWarning: p-value floored: true value smaller than 0.001. Consider specifying `method` (e.g. `method=stats.PermutationMethod()`.)\n",
      "  ad.append(anderson_ksamp([X_mcmc[i, :], X_true[i, :]]).statistic)\n"
     ]
    },
    {
     "name": "stdout",
     "output_type": "stream",
     "text": [
      "Processed: Barker_accept_0.55_n_1e+06 | trial 25\n"
     ]
    },
    {
     "name": "stderr",
     "output_type": "stream",
     "text": [
      "/Users/m250/Documents/UCL/FYP/src/metrics.py:38: UserWarning: p-value floored: true value smaller than 0.001. Consider specifying `method` (e.g. `method=stats.PermutationMethod()`.)\n",
      "  ad.append(anderson_ksamp([X_mcmc[i, :], X_true[i, :]]).statistic)\n"
     ]
    },
    {
     "name": "stdout",
     "output_type": "stream",
     "text": [
      "Processed: Barker_accept_0.55_n_1e+06 | trial 26\n"
     ]
    },
    {
     "name": "stderr",
     "output_type": "stream",
     "text": [
      "/Users/m250/Documents/UCL/FYP/src/metrics.py:38: UserWarning: p-value floored: true value smaller than 0.001. Consider specifying `method` (e.g. `method=stats.PermutationMethod()`.)\n",
      "  ad.append(anderson_ksamp([X_mcmc[i, :], X_true[i, :]]).statistic)\n"
     ]
    },
    {
     "name": "stdout",
     "output_type": "stream",
     "text": [
      "Processed: Barker_accept_0.55_n_1e+06 | trial 27\n"
     ]
    },
    {
     "name": "stderr",
     "output_type": "stream",
     "text": [
      "/Users/m250/Documents/UCL/FYP/src/metrics.py:38: UserWarning: p-value floored: true value smaller than 0.001. Consider specifying `method` (e.g. `method=stats.PermutationMethod()`.)\n",
      "  ad.append(anderson_ksamp([X_mcmc[i, :], X_true[i, :]]).statistic)\n"
     ]
    },
    {
     "name": "stdout",
     "output_type": "stream",
     "text": [
      "Processed: Barker_accept_0.55_n_1e+06 | trial 28\n"
     ]
    },
    {
     "name": "stderr",
     "output_type": "stream",
     "text": [
      "/Users/m250/Documents/UCL/FYP/src/metrics.py:38: UserWarning: p-value floored: true value smaller than 0.001. Consider specifying `method` (e.g. `method=stats.PermutationMethod()`.)\n",
      "  ad.append(anderson_ksamp([X_mcmc[i, :], X_true[i, :]]).statistic)\n"
     ]
    },
    {
     "name": "stdout",
     "output_type": "stream",
     "text": [
      "Processed: Barker_accept_0.55_n_1e+06 | trial 29\n"
     ]
    },
    {
     "name": "stderr",
     "output_type": "stream",
     "text": [
      "/Users/m250/Documents/UCL/FYP/src/metrics.py:38: UserWarning: p-value floored: true value smaller than 0.001. Consider specifying `method` (e.g. `method=stats.PermutationMethod()`.)\n",
      "  ad.append(anderson_ksamp([X_mcmc[i, :], X_true[i, :]]).statistic)\n"
     ]
    },
    {
     "name": "stdout",
     "output_type": "stream",
     "text": [
      "Processed: Barker_accept_0.55_n_1e+06 | trial 30\n"
     ]
    },
    {
     "name": "stderr",
     "output_type": "stream",
     "text": [
      "/Users/m250/Documents/UCL/FYP/src/metrics.py:38: UserWarning: p-value floored: true value smaller than 0.001. Consider specifying `method` (e.g. `method=stats.PermutationMethod()`.)\n",
      "  ad.append(anderson_ksamp([X_mcmc[i, :], X_true[i, :]]).statistic)\n"
     ]
    },
    {
     "name": "stdout",
     "output_type": "stream",
     "text": [
      "Processed: Barker_accept_0.70_n_1e+06 | trial 1\n"
     ]
    },
    {
     "name": "stderr",
     "output_type": "stream",
     "text": [
      "/Users/m250/Documents/UCL/FYP/src/metrics.py:38: UserWarning: p-value floored: true value smaller than 0.001. Consider specifying `method` (e.g. `method=stats.PermutationMethod()`.)\n",
      "  ad.append(anderson_ksamp([X_mcmc[i, :], X_true[i, :]]).statistic)\n"
     ]
    },
    {
     "name": "stdout",
     "output_type": "stream",
     "text": [
      "Processed: Barker_accept_0.70_n_1e+06 | trial 2\n"
     ]
    },
    {
     "name": "stderr",
     "output_type": "stream",
     "text": [
      "/Users/m250/Documents/UCL/FYP/src/metrics.py:38: UserWarning: p-value floored: true value smaller than 0.001. Consider specifying `method` (e.g. `method=stats.PermutationMethod()`.)\n",
      "  ad.append(anderson_ksamp([X_mcmc[i, :], X_true[i, :]]).statistic)\n"
     ]
    },
    {
     "name": "stdout",
     "output_type": "stream",
     "text": [
      "Processed: Barker_accept_0.70_n_1e+06 | trial 3\n"
     ]
    },
    {
     "name": "stderr",
     "output_type": "stream",
     "text": [
      "/Users/m250/Documents/UCL/FYP/src/metrics.py:38: UserWarning: p-value floored: true value smaller than 0.001. Consider specifying `method` (e.g. `method=stats.PermutationMethod()`.)\n",
      "  ad.append(anderson_ksamp([X_mcmc[i, :], X_true[i, :]]).statistic)\n"
     ]
    },
    {
     "name": "stdout",
     "output_type": "stream",
     "text": [
      "Processed: Barker_accept_0.70_n_1e+06 | trial 4\n"
     ]
    },
    {
     "name": "stderr",
     "output_type": "stream",
     "text": [
      "/Users/m250/Documents/UCL/FYP/src/metrics.py:38: UserWarning: p-value floored: true value smaller than 0.001. Consider specifying `method` (e.g. `method=stats.PermutationMethod()`.)\n",
      "  ad.append(anderson_ksamp([X_mcmc[i, :], X_true[i, :]]).statistic)\n"
     ]
    },
    {
     "name": "stdout",
     "output_type": "stream",
     "text": [
      "Processed: Barker_accept_0.70_n_1e+06 | trial 5\n"
     ]
    },
    {
     "name": "stderr",
     "output_type": "stream",
     "text": [
      "/Users/m250/Documents/UCL/FYP/src/metrics.py:38: UserWarning: p-value floored: true value smaller than 0.001. Consider specifying `method` (e.g. `method=stats.PermutationMethod()`.)\n",
      "  ad.append(anderson_ksamp([X_mcmc[i, :], X_true[i, :]]).statistic)\n"
     ]
    },
    {
     "name": "stdout",
     "output_type": "stream",
     "text": [
      "Processed: Barker_accept_0.70_n_1e+06 | trial 6\n"
     ]
    },
    {
     "name": "stderr",
     "output_type": "stream",
     "text": [
      "/Users/m250/Documents/UCL/FYP/src/metrics.py:38: UserWarning: p-value floored: true value smaller than 0.001. Consider specifying `method` (e.g. `method=stats.PermutationMethod()`.)\n",
      "  ad.append(anderson_ksamp([X_mcmc[i, :], X_true[i, :]]).statistic)\n"
     ]
    },
    {
     "name": "stdout",
     "output_type": "stream",
     "text": [
      "Processed: Barker_accept_0.70_n_1e+06 | trial 7\n"
     ]
    },
    {
     "name": "stderr",
     "output_type": "stream",
     "text": [
      "/Users/m250/Documents/UCL/FYP/src/metrics.py:38: UserWarning: p-value floored: true value smaller than 0.001. Consider specifying `method` (e.g. `method=stats.PermutationMethod()`.)\n",
      "  ad.append(anderson_ksamp([X_mcmc[i, :], X_true[i, :]]).statistic)\n"
     ]
    },
    {
     "name": "stdout",
     "output_type": "stream",
     "text": [
      "Processed: Barker_accept_0.70_n_1e+06 | trial 8\n"
     ]
    },
    {
     "name": "stderr",
     "output_type": "stream",
     "text": [
      "/Users/m250/Documents/UCL/FYP/src/metrics.py:38: UserWarning: p-value floored: true value smaller than 0.001. Consider specifying `method` (e.g. `method=stats.PermutationMethod()`.)\n",
      "  ad.append(anderson_ksamp([X_mcmc[i, :], X_true[i, :]]).statistic)\n"
     ]
    },
    {
     "name": "stdout",
     "output_type": "stream",
     "text": [
      "Processed: Barker_accept_0.70_n_1e+06 | trial 9\n"
     ]
    },
    {
     "name": "stderr",
     "output_type": "stream",
     "text": [
      "/Users/m250/Documents/UCL/FYP/src/metrics.py:38: UserWarning: p-value floored: true value smaller than 0.001. Consider specifying `method` (e.g. `method=stats.PermutationMethod()`.)\n",
      "  ad.append(anderson_ksamp([X_mcmc[i, :], X_true[i, :]]).statistic)\n"
     ]
    },
    {
     "name": "stdout",
     "output_type": "stream",
     "text": [
      "Processed: Barker_accept_0.70_n_1e+06 | trial 10\n"
     ]
    },
    {
     "name": "stderr",
     "output_type": "stream",
     "text": [
      "/Users/m250/Documents/UCL/FYP/src/metrics.py:38: UserWarning: p-value floored: true value smaller than 0.001. Consider specifying `method` (e.g. `method=stats.PermutationMethod()`.)\n",
      "  ad.append(anderson_ksamp([X_mcmc[i, :], X_true[i, :]]).statistic)\n"
     ]
    },
    {
     "name": "stdout",
     "output_type": "stream",
     "text": [
      "Processed: Barker_accept_0.70_n_1e+06 | trial 11\n"
     ]
    },
    {
     "name": "stderr",
     "output_type": "stream",
     "text": [
      "/Users/m250/Documents/UCL/FYP/src/metrics.py:38: UserWarning: p-value floored: true value smaller than 0.001. Consider specifying `method` (e.g. `method=stats.PermutationMethod()`.)\n",
      "  ad.append(anderson_ksamp([X_mcmc[i, :], X_true[i, :]]).statistic)\n"
     ]
    },
    {
     "name": "stdout",
     "output_type": "stream",
     "text": [
      "Processed: Barker_accept_0.70_n_1e+06 | trial 12\n"
     ]
    },
    {
     "name": "stderr",
     "output_type": "stream",
     "text": [
      "/Users/m250/Documents/UCL/FYP/src/metrics.py:38: UserWarning: p-value floored: true value smaller than 0.001. Consider specifying `method` (e.g. `method=stats.PermutationMethod()`.)\n",
      "  ad.append(anderson_ksamp([X_mcmc[i, :], X_true[i, :]]).statistic)\n"
     ]
    },
    {
     "name": "stdout",
     "output_type": "stream",
     "text": [
      "Processed: Barker_accept_0.70_n_1e+06 | trial 13\n"
     ]
    },
    {
     "name": "stderr",
     "output_type": "stream",
     "text": [
      "/Users/m250/Documents/UCL/FYP/src/metrics.py:38: UserWarning: p-value floored: true value smaller than 0.001. Consider specifying `method` (e.g. `method=stats.PermutationMethod()`.)\n",
      "  ad.append(anderson_ksamp([X_mcmc[i, :], X_true[i, :]]).statistic)\n"
     ]
    },
    {
     "name": "stdout",
     "output_type": "stream",
     "text": [
      "Processed: Barker_accept_0.70_n_1e+06 | trial 14\n"
     ]
    },
    {
     "name": "stderr",
     "output_type": "stream",
     "text": [
      "/Users/m250/Documents/UCL/FYP/src/metrics.py:38: UserWarning: p-value floored: true value smaller than 0.001. Consider specifying `method` (e.g. `method=stats.PermutationMethod()`.)\n",
      "  ad.append(anderson_ksamp([X_mcmc[i, :], X_true[i, :]]).statistic)\n"
     ]
    },
    {
     "name": "stdout",
     "output_type": "stream",
     "text": [
      "Processed: Barker_accept_0.70_n_1e+06 | trial 15\n"
     ]
    },
    {
     "name": "stderr",
     "output_type": "stream",
     "text": [
      "/Users/m250/Documents/UCL/FYP/src/metrics.py:38: UserWarning: p-value floored: true value smaller than 0.001. Consider specifying `method` (e.g. `method=stats.PermutationMethod()`.)\n",
      "  ad.append(anderson_ksamp([X_mcmc[i, :], X_true[i, :]]).statistic)\n"
     ]
    },
    {
     "name": "stdout",
     "output_type": "stream",
     "text": [
      "Processed: Barker_accept_0.70_n_1e+06 | trial 16\n"
     ]
    },
    {
     "name": "stderr",
     "output_type": "stream",
     "text": [
      "/Users/m250/Documents/UCL/FYP/src/metrics.py:38: UserWarning: p-value floored: true value smaller than 0.001. Consider specifying `method` (e.g. `method=stats.PermutationMethod()`.)\n",
      "  ad.append(anderson_ksamp([X_mcmc[i, :], X_true[i, :]]).statistic)\n"
     ]
    },
    {
     "name": "stdout",
     "output_type": "stream",
     "text": [
      "Processed: Barker_accept_0.70_n_1e+06 | trial 17\n"
     ]
    },
    {
     "name": "stderr",
     "output_type": "stream",
     "text": [
      "/Users/m250/Documents/UCL/FYP/src/metrics.py:38: UserWarning: p-value floored: true value smaller than 0.001. Consider specifying `method` (e.g. `method=stats.PermutationMethod()`.)\n",
      "  ad.append(anderson_ksamp([X_mcmc[i, :], X_true[i, :]]).statistic)\n"
     ]
    },
    {
     "name": "stdout",
     "output_type": "stream",
     "text": [
      "Processed: Barker_accept_0.70_n_1e+06 | trial 18\n"
     ]
    },
    {
     "name": "stderr",
     "output_type": "stream",
     "text": [
      "/Users/m250/Documents/UCL/FYP/src/metrics.py:38: UserWarning: p-value floored: true value smaller than 0.001. Consider specifying `method` (e.g. `method=stats.PermutationMethod()`.)\n",
      "  ad.append(anderson_ksamp([X_mcmc[i, :], X_true[i, :]]).statistic)\n"
     ]
    },
    {
     "name": "stdout",
     "output_type": "stream",
     "text": [
      "Processed: Barker_accept_0.70_n_1e+06 | trial 19\n"
     ]
    },
    {
     "name": "stderr",
     "output_type": "stream",
     "text": [
      "/Users/m250/Documents/UCL/FYP/src/metrics.py:38: UserWarning: p-value floored: true value smaller than 0.001. Consider specifying `method` (e.g. `method=stats.PermutationMethod()`.)\n",
      "  ad.append(anderson_ksamp([X_mcmc[i, :], X_true[i, :]]).statistic)\n"
     ]
    },
    {
     "name": "stdout",
     "output_type": "stream",
     "text": [
      "Processed: Barker_accept_0.70_n_1e+06 | trial 20\n"
     ]
    },
    {
     "name": "stderr",
     "output_type": "stream",
     "text": [
      "/Users/m250/Documents/UCL/FYP/src/metrics.py:38: UserWarning: p-value floored: true value smaller than 0.001. Consider specifying `method` (e.g. `method=stats.PermutationMethod()`.)\n",
      "  ad.append(anderson_ksamp([X_mcmc[i, :], X_true[i, :]]).statistic)\n"
     ]
    },
    {
     "name": "stdout",
     "output_type": "stream",
     "text": [
      "Processed: Barker_accept_0.70_n_1e+06 | trial 21\n"
     ]
    },
    {
     "name": "stderr",
     "output_type": "stream",
     "text": [
      "/Users/m250/Documents/UCL/FYP/src/metrics.py:38: UserWarning: p-value floored: true value smaller than 0.001. Consider specifying `method` (e.g. `method=stats.PermutationMethod()`.)\n",
      "  ad.append(anderson_ksamp([X_mcmc[i, :], X_true[i, :]]).statistic)\n"
     ]
    },
    {
     "name": "stdout",
     "output_type": "stream",
     "text": [
      "Processed: Barker_accept_0.70_n_1e+06 | trial 22\n"
     ]
    },
    {
     "name": "stderr",
     "output_type": "stream",
     "text": [
      "/Users/m250/Documents/UCL/FYP/src/metrics.py:38: UserWarning: p-value floored: true value smaller than 0.001. Consider specifying `method` (e.g. `method=stats.PermutationMethod()`.)\n",
      "  ad.append(anderson_ksamp([X_mcmc[i, :], X_true[i, :]]).statistic)\n"
     ]
    },
    {
     "name": "stdout",
     "output_type": "stream",
     "text": [
      "Processed: Barker_accept_0.70_n_1e+06 | trial 23\n"
     ]
    },
    {
     "name": "stderr",
     "output_type": "stream",
     "text": [
      "/Users/m250/Documents/UCL/FYP/src/metrics.py:38: UserWarning: p-value floored: true value smaller than 0.001. Consider specifying `method` (e.g. `method=stats.PermutationMethod()`.)\n",
      "  ad.append(anderson_ksamp([X_mcmc[i, :], X_true[i, :]]).statistic)\n"
     ]
    },
    {
     "name": "stdout",
     "output_type": "stream",
     "text": [
      "Processed: Barker_accept_0.70_n_1e+06 | trial 24\n"
     ]
    },
    {
     "name": "stderr",
     "output_type": "stream",
     "text": [
      "/Users/m250/Documents/UCL/FYP/src/metrics.py:38: UserWarning: p-value floored: true value smaller than 0.001. Consider specifying `method` (e.g. `method=stats.PermutationMethod()`.)\n",
      "  ad.append(anderson_ksamp([X_mcmc[i, :], X_true[i, :]]).statistic)\n"
     ]
    },
    {
     "name": "stdout",
     "output_type": "stream",
     "text": [
      "Processed: Barker_accept_0.70_n_1e+06 | trial 25\n"
     ]
    },
    {
     "name": "stderr",
     "output_type": "stream",
     "text": [
      "/Users/m250/Documents/UCL/FYP/src/metrics.py:38: UserWarning: p-value floored: true value smaller than 0.001. Consider specifying `method` (e.g. `method=stats.PermutationMethod()`.)\n",
      "  ad.append(anderson_ksamp([X_mcmc[i, :], X_true[i, :]]).statistic)\n"
     ]
    },
    {
     "name": "stdout",
     "output_type": "stream",
     "text": [
      "Processed: Barker_accept_0.70_n_1e+06 | trial 26\n"
     ]
    },
    {
     "name": "stderr",
     "output_type": "stream",
     "text": [
      "/Users/m250/Documents/UCL/FYP/src/metrics.py:38: UserWarning: p-value floored: true value smaller than 0.001. Consider specifying `method` (e.g. `method=stats.PermutationMethod()`.)\n",
      "  ad.append(anderson_ksamp([X_mcmc[i, :], X_true[i, :]]).statistic)\n"
     ]
    },
    {
     "name": "stdout",
     "output_type": "stream",
     "text": [
      "Processed: Barker_accept_0.70_n_1e+06 | trial 27\n"
     ]
    },
    {
     "name": "stderr",
     "output_type": "stream",
     "text": [
      "/Users/m250/Documents/UCL/FYP/src/metrics.py:38: UserWarning: p-value floored: true value smaller than 0.001. Consider specifying `method` (e.g. `method=stats.PermutationMethod()`.)\n",
      "  ad.append(anderson_ksamp([X_mcmc[i, :], X_true[i, :]]).statistic)\n"
     ]
    },
    {
     "name": "stdout",
     "output_type": "stream",
     "text": [
      "Processed: Barker_accept_0.70_n_1e+06 | trial 28\n"
     ]
    },
    {
     "name": "stderr",
     "output_type": "stream",
     "text": [
      "/Users/m250/Documents/UCL/FYP/src/metrics.py:38: UserWarning: p-value floored: true value smaller than 0.001. Consider specifying `method` (e.g. `method=stats.PermutationMethod()`.)\n",
      "  ad.append(anderson_ksamp([X_mcmc[i, :], X_true[i, :]]).statistic)\n"
     ]
    },
    {
     "name": "stdout",
     "output_type": "stream",
     "text": [
      "Processed: Barker_accept_0.70_n_1e+06 | trial 29\n"
     ]
    },
    {
     "name": "stderr",
     "output_type": "stream",
     "text": [
      "/Users/m250/Documents/UCL/FYP/src/metrics.py:38: UserWarning: p-value floored: true value smaller than 0.001. Consider specifying `method` (e.g. `method=stats.PermutationMethod()`.)\n",
      "  ad.append(anderson_ksamp([X_mcmc[i, :], X_true[i, :]]).statistic)\n"
     ]
    },
    {
     "name": "stdout",
     "output_type": "stream",
     "text": [
      "Processed: Barker_accept_0.70_n_1e+06 | trial 30\n"
     ]
    },
    {
     "name": "stderr",
     "output_type": "stream",
     "text": [
      "/Users/m250/Documents/UCL/FYP/src/metrics.py:38: UserWarning: p-value floored: true value smaller than 0.001. Consider specifying `method` (e.g. `method=stats.PermutationMethod()`.)\n",
      "  ad.append(anderson_ksamp([X_mcmc[i, :], X_true[i, :]]).statistic)\n"
     ]
    },
    {
     "name": "stdout",
     "output_type": "stream",
     "text": [
      "Processed: Barker_accept_0.85_n_1e+06 | trial 1\n"
     ]
    },
    {
     "name": "stderr",
     "output_type": "stream",
     "text": [
      "/Users/m250/Documents/UCL/FYP/src/metrics.py:38: UserWarning: p-value floored: true value smaller than 0.001. Consider specifying `method` (e.g. `method=stats.PermutationMethod()`.)\n",
      "  ad.append(anderson_ksamp([X_mcmc[i, :], X_true[i, :]]).statistic)\n"
     ]
    },
    {
     "name": "stdout",
     "output_type": "stream",
     "text": [
      "Processed: Barker_accept_0.85_n_1e+06 | trial 2\n"
     ]
    },
    {
     "name": "stderr",
     "output_type": "stream",
     "text": [
      "/Users/m250/Documents/UCL/FYP/src/metrics.py:38: UserWarning: p-value floored: true value smaller than 0.001. Consider specifying `method` (e.g. `method=stats.PermutationMethod()`.)\n",
      "  ad.append(anderson_ksamp([X_mcmc[i, :], X_true[i, :]]).statistic)\n"
     ]
    },
    {
     "name": "stdout",
     "output_type": "stream",
     "text": [
      "Processed: Barker_accept_0.85_n_1e+06 | trial 3\n"
     ]
    },
    {
     "name": "stderr",
     "output_type": "stream",
     "text": [
      "/Users/m250/Documents/UCL/FYP/src/metrics.py:38: UserWarning: p-value floored: true value smaller than 0.001. Consider specifying `method` (e.g. `method=stats.PermutationMethod()`.)\n",
      "  ad.append(anderson_ksamp([X_mcmc[i, :], X_true[i, :]]).statistic)\n"
     ]
    },
    {
     "name": "stdout",
     "output_type": "stream",
     "text": [
      "Processed: Barker_accept_0.85_n_1e+06 | trial 4\n"
     ]
    },
    {
     "name": "stderr",
     "output_type": "stream",
     "text": [
      "/Users/m250/Documents/UCL/FYP/src/metrics.py:38: UserWarning: p-value floored: true value smaller than 0.001. Consider specifying `method` (e.g. `method=stats.PermutationMethod()`.)\n",
      "  ad.append(anderson_ksamp([X_mcmc[i, :], X_true[i, :]]).statistic)\n"
     ]
    },
    {
     "name": "stdout",
     "output_type": "stream",
     "text": [
      "Processed: Barker_accept_0.85_n_1e+06 | trial 5\n"
     ]
    },
    {
     "name": "stderr",
     "output_type": "stream",
     "text": [
      "/Users/m250/Documents/UCL/FYP/src/metrics.py:38: UserWarning: p-value floored: true value smaller than 0.001. Consider specifying `method` (e.g. `method=stats.PermutationMethod()`.)\n",
      "  ad.append(anderson_ksamp([X_mcmc[i, :], X_true[i, :]]).statistic)\n"
     ]
    },
    {
     "name": "stdout",
     "output_type": "stream",
     "text": [
      "Processed: Barker_accept_0.85_n_1e+06 | trial 6\n"
     ]
    },
    {
     "name": "stderr",
     "output_type": "stream",
     "text": [
      "/Users/m250/Documents/UCL/FYP/src/metrics.py:38: UserWarning: p-value floored: true value smaller than 0.001. Consider specifying `method` (e.g. `method=stats.PermutationMethod()`.)\n",
      "  ad.append(anderson_ksamp([X_mcmc[i, :], X_true[i, :]]).statistic)\n"
     ]
    },
    {
     "name": "stdout",
     "output_type": "stream",
     "text": [
      "Processed: Barker_accept_0.85_n_1e+06 | trial 7\n"
     ]
    },
    {
     "name": "stderr",
     "output_type": "stream",
     "text": [
      "/Users/m250/Documents/UCL/FYP/src/metrics.py:38: UserWarning: p-value floored: true value smaller than 0.001. Consider specifying `method` (e.g. `method=stats.PermutationMethod()`.)\n",
      "  ad.append(anderson_ksamp([X_mcmc[i, :], X_true[i, :]]).statistic)\n"
     ]
    },
    {
     "name": "stdout",
     "output_type": "stream",
     "text": [
      "Processed: Barker_accept_0.85_n_1e+06 | trial 8\n"
     ]
    },
    {
     "name": "stderr",
     "output_type": "stream",
     "text": [
      "/Users/m250/Documents/UCL/FYP/src/metrics.py:38: UserWarning: p-value floored: true value smaller than 0.001. Consider specifying `method` (e.g. `method=stats.PermutationMethod()`.)\n",
      "  ad.append(anderson_ksamp([X_mcmc[i, :], X_true[i, :]]).statistic)\n"
     ]
    },
    {
     "name": "stdout",
     "output_type": "stream",
     "text": [
      "Processed: Barker_accept_0.85_n_1e+06 | trial 9\n"
     ]
    },
    {
     "name": "stderr",
     "output_type": "stream",
     "text": [
      "/Users/m250/Documents/UCL/FYP/src/metrics.py:38: UserWarning: p-value floored: true value smaller than 0.001. Consider specifying `method` (e.g. `method=stats.PermutationMethod()`.)\n",
      "  ad.append(anderson_ksamp([X_mcmc[i, :], X_true[i, :]]).statistic)\n"
     ]
    },
    {
     "name": "stdout",
     "output_type": "stream",
     "text": [
      "Processed: Barker_accept_0.85_n_1e+06 | trial 10\n"
     ]
    },
    {
     "name": "stderr",
     "output_type": "stream",
     "text": [
      "/Users/m250/Documents/UCL/FYP/src/metrics.py:38: UserWarning: p-value floored: true value smaller than 0.001. Consider specifying `method` (e.g. `method=stats.PermutationMethod()`.)\n",
      "  ad.append(anderson_ksamp([X_mcmc[i, :], X_true[i, :]]).statistic)\n"
     ]
    },
    {
     "name": "stdout",
     "output_type": "stream",
     "text": [
      "Processed: Barker_accept_0.85_n_1e+06 | trial 11\n"
     ]
    },
    {
     "name": "stderr",
     "output_type": "stream",
     "text": [
      "/Users/m250/Documents/UCL/FYP/src/metrics.py:38: UserWarning: p-value floored: true value smaller than 0.001. Consider specifying `method` (e.g. `method=stats.PermutationMethod()`.)\n",
      "  ad.append(anderson_ksamp([X_mcmc[i, :], X_true[i, :]]).statistic)\n"
     ]
    },
    {
     "name": "stdout",
     "output_type": "stream",
     "text": [
      "Processed: Barker_accept_0.85_n_1e+06 | trial 12\n"
     ]
    },
    {
     "name": "stderr",
     "output_type": "stream",
     "text": [
      "/Users/m250/Documents/UCL/FYP/src/metrics.py:38: UserWarning: p-value floored: true value smaller than 0.001. Consider specifying `method` (e.g. `method=stats.PermutationMethod()`.)\n",
      "  ad.append(anderson_ksamp([X_mcmc[i, :], X_true[i, :]]).statistic)\n"
     ]
    },
    {
     "name": "stdout",
     "output_type": "stream",
     "text": [
      "Processed: Barker_accept_0.85_n_1e+06 | trial 13\n"
     ]
    },
    {
     "name": "stderr",
     "output_type": "stream",
     "text": [
      "/Users/m250/Documents/UCL/FYP/src/metrics.py:38: UserWarning: p-value floored: true value smaller than 0.001. Consider specifying `method` (e.g. `method=stats.PermutationMethod()`.)\n",
      "  ad.append(anderson_ksamp([X_mcmc[i, :], X_true[i, :]]).statistic)\n"
     ]
    },
    {
     "name": "stdout",
     "output_type": "stream",
     "text": [
      "Processed: Barker_accept_0.85_n_1e+06 | trial 14\n"
     ]
    },
    {
     "name": "stderr",
     "output_type": "stream",
     "text": [
      "/Users/m250/Documents/UCL/FYP/src/metrics.py:38: UserWarning: p-value floored: true value smaller than 0.001. Consider specifying `method` (e.g. `method=stats.PermutationMethod()`.)\n",
      "  ad.append(anderson_ksamp([X_mcmc[i, :], X_true[i, :]]).statistic)\n"
     ]
    },
    {
     "name": "stdout",
     "output_type": "stream",
     "text": [
      "Processed: Barker_accept_0.85_n_1e+06 | trial 15\n"
     ]
    },
    {
     "name": "stderr",
     "output_type": "stream",
     "text": [
      "/Users/m250/Documents/UCL/FYP/src/metrics.py:38: UserWarning: p-value floored: true value smaller than 0.001. Consider specifying `method` (e.g. `method=stats.PermutationMethod()`.)\n",
      "  ad.append(anderson_ksamp([X_mcmc[i, :], X_true[i, :]]).statistic)\n"
     ]
    },
    {
     "name": "stdout",
     "output_type": "stream",
     "text": [
      "Processed: Barker_accept_0.85_n_1e+06 | trial 16\n"
     ]
    },
    {
     "name": "stderr",
     "output_type": "stream",
     "text": [
      "/Users/m250/Documents/UCL/FYP/src/metrics.py:38: UserWarning: p-value floored: true value smaller than 0.001. Consider specifying `method` (e.g. `method=stats.PermutationMethod()`.)\n",
      "  ad.append(anderson_ksamp([X_mcmc[i, :], X_true[i, :]]).statistic)\n"
     ]
    },
    {
     "name": "stdout",
     "output_type": "stream",
     "text": [
      "Processed: Barker_accept_0.85_n_1e+06 | trial 17\n"
     ]
    },
    {
     "name": "stderr",
     "output_type": "stream",
     "text": [
      "/Users/m250/Documents/UCL/FYP/src/metrics.py:38: UserWarning: p-value floored: true value smaller than 0.001. Consider specifying `method` (e.g. `method=stats.PermutationMethod()`.)\n",
      "  ad.append(anderson_ksamp([X_mcmc[i, :], X_true[i, :]]).statistic)\n"
     ]
    },
    {
     "name": "stdout",
     "output_type": "stream",
     "text": [
      "Processed: Barker_accept_0.85_n_1e+06 | trial 18\n"
     ]
    },
    {
     "name": "stderr",
     "output_type": "stream",
     "text": [
      "/Users/m250/Documents/UCL/FYP/src/metrics.py:38: UserWarning: p-value floored: true value smaller than 0.001. Consider specifying `method` (e.g. `method=stats.PermutationMethod()`.)\n",
      "  ad.append(anderson_ksamp([X_mcmc[i, :], X_true[i, :]]).statistic)\n"
     ]
    },
    {
     "name": "stdout",
     "output_type": "stream",
     "text": [
      "Processed: Barker_accept_0.85_n_1e+06 | trial 19\n"
     ]
    },
    {
     "name": "stderr",
     "output_type": "stream",
     "text": [
      "/Users/m250/Documents/UCL/FYP/src/metrics.py:38: UserWarning: p-value floored: true value smaller than 0.001. Consider specifying `method` (e.g. `method=stats.PermutationMethod()`.)\n",
      "  ad.append(anderson_ksamp([X_mcmc[i, :], X_true[i, :]]).statistic)\n"
     ]
    },
    {
     "name": "stdout",
     "output_type": "stream",
     "text": [
      "Processed: Barker_accept_0.85_n_1e+06 | trial 20\n"
     ]
    },
    {
     "name": "stderr",
     "output_type": "stream",
     "text": [
      "/Users/m250/Documents/UCL/FYP/src/metrics.py:38: UserWarning: p-value floored: true value smaller than 0.001. Consider specifying `method` (e.g. `method=stats.PermutationMethod()`.)\n",
      "  ad.append(anderson_ksamp([X_mcmc[i, :], X_true[i, :]]).statistic)\n"
     ]
    },
    {
     "name": "stdout",
     "output_type": "stream",
     "text": [
      "Processed: Barker_accept_0.85_n_1e+06 | trial 21\n"
     ]
    },
    {
     "name": "stderr",
     "output_type": "stream",
     "text": [
      "/Users/m250/Documents/UCL/FYP/src/metrics.py:38: UserWarning: p-value floored: true value smaller than 0.001. Consider specifying `method` (e.g. `method=stats.PermutationMethod()`.)\n",
      "  ad.append(anderson_ksamp([X_mcmc[i, :], X_true[i, :]]).statistic)\n"
     ]
    },
    {
     "name": "stdout",
     "output_type": "stream",
     "text": [
      "Processed: Barker_accept_0.85_n_1e+06 | trial 22\n"
     ]
    },
    {
     "name": "stderr",
     "output_type": "stream",
     "text": [
      "/Users/m250/Documents/UCL/FYP/src/metrics.py:38: UserWarning: p-value floored: true value smaller than 0.001. Consider specifying `method` (e.g. `method=stats.PermutationMethod()`.)\n",
      "  ad.append(anderson_ksamp([X_mcmc[i, :], X_true[i, :]]).statistic)\n"
     ]
    },
    {
     "name": "stdout",
     "output_type": "stream",
     "text": [
      "Processed: Barker_accept_0.85_n_1e+06 | trial 23\n"
     ]
    },
    {
     "name": "stderr",
     "output_type": "stream",
     "text": [
      "/Users/m250/Documents/UCL/FYP/src/metrics.py:38: UserWarning: p-value floored: true value smaller than 0.001. Consider specifying `method` (e.g. `method=stats.PermutationMethod()`.)\n",
      "  ad.append(anderson_ksamp([X_mcmc[i, :], X_true[i, :]]).statistic)\n"
     ]
    },
    {
     "name": "stdout",
     "output_type": "stream",
     "text": [
      "Processed: Barker_accept_0.85_n_1e+06 | trial 24\n"
     ]
    },
    {
     "name": "stderr",
     "output_type": "stream",
     "text": [
      "/Users/m250/Documents/UCL/FYP/src/metrics.py:38: UserWarning: p-value floored: true value smaller than 0.001. Consider specifying `method` (e.g. `method=stats.PermutationMethod()`.)\n",
      "  ad.append(anderson_ksamp([X_mcmc[i, :], X_true[i, :]]).statistic)\n"
     ]
    },
    {
     "name": "stdout",
     "output_type": "stream",
     "text": [
      "Processed: Barker_accept_0.85_n_1e+06 | trial 25\n"
     ]
    },
    {
     "name": "stderr",
     "output_type": "stream",
     "text": [
      "/Users/m250/Documents/UCL/FYP/src/metrics.py:38: UserWarning: p-value floored: true value smaller than 0.001. Consider specifying `method` (e.g. `method=stats.PermutationMethod()`.)\n",
      "  ad.append(anderson_ksamp([X_mcmc[i, :], X_true[i, :]]).statistic)\n"
     ]
    },
    {
     "name": "stdout",
     "output_type": "stream",
     "text": [
      "Processed: Barker_accept_0.85_n_1e+06 | trial 26\n"
     ]
    },
    {
     "name": "stderr",
     "output_type": "stream",
     "text": [
      "/Users/m250/Documents/UCL/FYP/src/metrics.py:38: UserWarning: p-value floored: true value smaller than 0.001. Consider specifying `method` (e.g. `method=stats.PermutationMethod()`.)\n",
      "  ad.append(anderson_ksamp([X_mcmc[i, :], X_true[i, :]]).statistic)\n"
     ]
    },
    {
     "name": "stdout",
     "output_type": "stream",
     "text": [
      "Processed: Barker_accept_0.85_n_1e+06 | trial 27\n"
     ]
    },
    {
     "name": "stderr",
     "output_type": "stream",
     "text": [
      "/Users/m250/Documents/UCL/FYP/src/metrics.py:38: UserWarning: p-value floored: true value smaller than 0.001. Consider specifying `method` (e.g. `method=stats.PermutationMethod()`.)\n",
      "  ad.append(anderson_ksamp([X_mcmc[i, :], X_true[i, :]]).statistic)\n"
     ]
    },
    {
     "name": "stdout",
     "output_type": "stream",
     "text": [
      "Processed: Barker_accept_0.85_n_1e+06 | trial 28\n"
     ]
    },
    {
     "name": "stderr",
     "output_type": "stream",
     "text": [
      "/Users/m250/Documents/UCL/FYP/src/metrics.py:38: UserWarning: p-value floored: true value smaller than 0.001. Consider specifying `method` (e.g. `method=stats.PermutationMethod()`.)\n",
      "  ad.append(anderson_ksamp([X_mcmc[i, :], X_true[i, :]]).statistic)\n"
     ]
    },
    {
     "name": "stdout",
     "output_type": "stream",
     "text": [
      "Processed: Barker_accept_0.85_n_1e+06 | trial 29\n"
     ]
    },
    {
     "name": "stderr",
     "output_type": "stream",
     "text": [
      "/Users/m250/Documents/UCL/FYP/src/metrics.py:38: UserWarning: p-value floored: true value smaller than 0.001. Consider specifying `method` (e.g. `method=stats.PermutationMethod()`.)\n",
      "  ad.append(anderson_ksamp([X_mcmc[i, :], X_true[i, :]]).statistic)\n"
     ]
    },
    {
     "name": "stdout",
     "output_type": "stream",
     "text": [
      "Processed: Barker_accept_0.85_n_1e+06 | trial 30\n"
     ]
    },
    {
     "name": "stderr",
     "output_type": "stream",
     "text": [
      "/Users/m250/Documents/UCL/FYP/src/metrics.py:38: UserWarning: p-value floored: true value smaller than 0.001. Consider specifying `method` (e.g. `method=stats.PermutationMethod()`.)\n",
      "  ad.append(anderson_ksamp([X_mcmc[i, :], X_true[i, :]]).statistic)\n"
     ]
    },
    {
     "name": "stdout",
     "output_type": "stream",
     "text": [
      "Processed: MALA_accept_0.10_n_1e+06 | trial 1\n"
     ]
    },
    {
     "name": "stderr",
     "output_type": "stream",
     "text": [
      "/Users/m250/Documents/UCL/FYP/src/metrics.py:38: UserWarning: p-value floored: true value smaller than 0.001. Consider specifying `method` (e.g. `method=stats.PermutationMethod()`.)\n",
      "  ad.append(anderson_ksamp([X_mcmc[i, :], X_true[i, :]]).statistic)\n"
     ]
    },
    {
     "name": "stdout",
     "output_type": "stream",
     "text": [
      "Processed: MALA_accept_0.10_n_1e+06 | trial 2\n"
     ]
    },
    {
     "name": "stderr",
     "output_type": "stream",
     "text": [
      "/Users/m250/Documents/UCL/FYP/src/metrics.py:38: UserWarning: p-value floored: true value smaller than 0.001. Consider specifying `method` (e.g. `method=stats.PermutationMethod()`.)\n",
      "  ad.append(anderson_ksamp([X_mcmc[i, :], X_true[i, :]]).statistic)\n"
     ]
    },
    {
     "name": "stdout",
     "output_type": "stream",
     "text": [
      "Processed: MALA_accept_0.10_n_1e+06 | trial 3\n"
     ]
    },
    {
     "name": "stderr",
     "output_type": "stream",
     "text": [
      "/Users/m250/Documents/UCL/FYP/src/metrics.py:38: UserWarning: p-value floored: true value smaller than 0.001. Consider specifying `method` (e.g. `method=stats.PermutationMethod()`.)\n",
      "  ad.append(anderson_ksamp([X_mcmc[i, :], X_true[i, :]]).statistic)\n"
     ]
    },
    {
     "name": "stdout",
     "output_type": "stream",
     "text": [
      "Processed: MALA_accept_0.10_n_1e+06 | trial 4\n"
     ]
    },
    {
     "name": "stderr",
     "output_type": "stream",
     "text": [
      "/Users/m250/Documents/UCL/FYP/src/metrics.py:38: UserWarning: p-value floored: true value smaller than 0.001. Consider specifying `method` (e.g. `method=stats.PermutationMethod()`.)\n",
      "  ad.append(anderson_ksamp([X_mcmc[i, :], X_true[i, :]]).statistic)\n"
     ]
    },
    {
     "name": "stdout",
     "output_type": "stream",
     "text": [
      "Processed: MALA_accept_0.10_n_1e+06 | trial 5\n"
     ]
    },
    {
     "name": "stderr",
     "output_type": "stream",
     "text": [
      "/Users/m250/Documents/UCL/FYP/src/metrics.py:38: UserWarning: p-value floored: true value smaller than 0.001. Consider specifying `method` (e.g. `method=stats.PermutationMethod()`.)\n",
      "  ad.append(anderson_ksamp([X_mcmc[i, :], X_true[i, :]]).statistic)\n"
     ]
    },
    {
     "name": "stdout",
     "output_type": "stream",
     "text": [
      "Processed: MALA_accept_0.10_n_1e+06 | trial 6\n"
     ]
    },
    {
     "name": "stderr",
     "output_type": "stream",
     "text": [
      "/Users/m250/Documents/UCL/FYP/src/metrics.py:38: UserWarning: p-value floored: true value smaller than 0.001. Consider specifying `method` (e.g. `method=stats.PermutationMethod()`.)\n",
      "  ad.append(anderson_ksamp([X_mcmc[i, :], X_true[i, :]]).statistic)\n"
     ]
    },
    {
     "name": "stdout",
     "output_type": "stream",
     "text": [
      "Processed: MALA_accept_0.10_n_1e+06 | trial 7\n"
     ]
    },
    {
     "name": "stderr",
     "output_type": "stream",
     "text": [
      "/Users/m250/Documents/UCL/FYP/src/metrics.py:38: UserWarning: p-value floored: true value smaller than 0.001. Consider specifying `method` (e.g. `method=stats.PermutationMethod()`.)\n",
      "  ad.append(anderson_ksamp([X_mcmc[i, :], X_true[i, :]]).statistic)\n"
     ]
    },
    {
     "name": "stdout",
     "output_type": "stream",
     "text": [
      "Processed: MALA_accept_0.10_n_1e+06 | trial 8\n"
     ]
    },
    {
     "name": "stderr",
     "output_type": "stream",
     "text": [
      "/Users/m250/Documents/UCL/FYP/src/metrics.py:38: UserWarning: p-value floored: true value smaller than 0.001. Consider specifying `method` (e.g. `method=stats.PermutationMethod()`.)\n",
      "  ad.append(anderson_ksamp([X_mcmc[i, :], X_true[i, :]]).statistic)\n"
     ]
    },
    {
     "name": "stdout",
     "output_type": "stream",
     "text": [
      "Processed: MALA_accept_0.10_n_1e+06 | trial 9\n"
     ]
    },
    {
     "name": "stderr",
     "output_type": "stream",
     "text": [
      "/Users/m250/Documents/UCL/FYP/src/metrics.py:38: UserWarning: p-value floored: true value smaller than 0.001. Consider specifying `method` (e.g. `method=stats.PermutationMethod()`.)\n",
      "  ad.append(anderson_ksamp([X_mcmc[i, :], X_true[i, :]]).statistic)\n"
     ]
    },
    {
     "name": "stdout",
     "output_type": "stream",
     "text": [
      "Processed: MALA_accept_0.10_n_1e+06 | trial 10\n"
     ]
    },
    {
     "name": "stderr",
     "output_type": "stream",
     "text": [
      "/Users/m250/Documents/UCL/FYP/src/metrics.py:38: UserWarning: p-value floored: true value smaller than 0.001. Consider specifying `method` (e.g. `method=stats.PermutationMethod()`.)\n",
      "  ad.append(anderson_ksamp([X_mcmc[i, :], X_true[i, :]]).statistic)\n"
     ]
    },
    {
     "name": "stdout",
     "output_type": "stream",
     "text": [
      "Processed: MALA_accept_0.10_n_1e+06 | trial 11\n"
     ]
    },
    {
     "name": "stderr",
     "output_type": "stream",
     "text": [
      "/Users/m250/Documents/UCL/FYP/src/metrics.py:38: UserWarning: p-value floored: true value smaller than 0.001. Consider specifying `method` (e.g. `method=stats.PermutationMethod()`.)\n",
      "  ad.append(anderson_ksamp([X_mcmc[i, :], X_true[i, :]]).statistic)\n"
     ]
    },
    {
     "name": "stdout",
     "output_type": "stream",
     "text": [
      "Processed: MALA_accept_0.10_n_1e+06 | trial 12\n"
     ]
    },
    {
     "name": "stderr",
     "output_type": "stream",
     "text": [
      "/Users/m250/Documents/UCL/FYP/src/metrics.py:38: UserWarning: p-value floored: true value smaller than 0.001. Consider specifying `method` (e.g. `method=stats.PermutationMethod()`.)\n",
      "  ad.append(anderson_ksamp([X_mcmc[i, :], X_true[i, :]]).statistic)\n"
     ]
    },
    {
     "name": "stdout",
     "output_type": "stream",
     "text": [
      "Processed: MALA_accept_0.10_n_1e+06 | trial 13\n"
     ]
    },
    {
     "name": "stderr",
     "output_type": "stream",
     "text": [
      "/Users/m250/Documents/UCL/FYP/src/metrics.py:38: UserWarning: p-value floored: true value smaller than 0.001. Consider specifying `method` (e.g. `method=stats.PermutationMethod()`.)\n",
      "  ad.append(anderson_ksamp([X_mcmc[i, :], X_true[i, :]]).statistic)\n"
     ]
    },
    {
     "name": "stdout",
     "output_type": "stream",
     "text": [
      "Processed: MALA_accept_0.10_n_1e+06 | trial 14\n"
     ]
    },
    {
     "name": "stderr",
     "output_type": "stream",
     "text": [
      "/Users/m250/Documents/UCL/FYP/src/metrics.py:38: UserWarning: p-value floored: true value smaller than 0.001. Consider specifying `method` (e.g. `method=stats.PermutationMethod()`.)\n",
      "  ad.append(anderson_ksamp([X_mcmc[i, :], X_true[i, :]]).statistic)\n"
     ]
    },
    {
     "name": "stdout",
     "output_type": "stream",
     "text": [
      "Processed: MALA_accept_0.10_n_1e+06 | trial 15\n"
     ]
    },
    {
     "name": "stderr",
     "output_type": "stream",
     "text": [
      "/Users/m250/Documents/UCL/FYP/src/metrics.py:38: UserWarning: p-value floored: true value smaller than 0.001. Consider specifying `method` (e.g. `method=stats.PermutationMethod()`.)\n",
      "  ad.append(anderson_ksamp([X_mcmc[i, :], X_true[i, :]]).statistic)\n"
     ]
    },
    {
     "name": "stdout",
     "output_type": "stream",
     "text": [
      "Processed: MALA_accept_0.10_n_1e+06 | trial 16\n"
     ]
    },
    {
     "name": "stderr",
     "output_type": "stream",
     "text": [
      "/Users/m250/Documents/UCL/FYP/src/metrics.py:38: UserWarning: p-value floored: true value smaller than 0.001. Consider specifying `method` (e.g. `method=stats.PermutationMethod()`.)\n",
      "  ad.append(anderson_ksamp([X_mcmc[i, :], X_true[i, :]]).statistic)\n"
     ]
    },
    {
     "name": "stdout",
     "output_type": "stream",
     "text": [
      "Processed: MALA_accept_0.10_n_1e+06 | trial 17\n"
     ]
    },
    {
     "name": "stderr",
     "output_type": "stream",
     "text": [
      "/Users/m250/Documents/UCL/FYP/src/metrics.py:38: UserWarning: p-value floored: true value smaller than 0.001. Consider specifying `method` (e.g. `method=stats.PermutationMethod()`.)\n",
      "  ad.append(anderson_ksamp([X_mcmc[i, :], X_true[i, :]]).statistic)\n"
     ]
    },
    {
     "name": "stdout",
     "output_type": "stream",
     "text": [
      "Processed: MALA_accept_0.10_n_1e+06 | trial 18\n"
     ]
    },
    {
     "name": "stderr",
     "output_type": "stream",
     "text": [
      "/Users/m250/Documents/UCL/FYP/src/metrics.py:38: UserWarning: p-value floored: true value smaller than 0.001. Consider specifying `method` (e.g. `method=stats.PermutationMethod()`.)\n",
      "  ad.append(anderson_ksamp([X_mcmc[i, :], X_true[i, :]]).statistic)\n"
     ]
    },
    {
     "name": "stdout",
     "output_type": "stream",
     "text": [
      "Processed: MALA_accept_0.10_n_1e+06 | trial 19\n"
     ]
    },
    {
     "name": "stderr",
     "output_type": "stream",
     "text": [
      "/Users/m250/Documents/UCL/FYP/src/metrics.py:38: UserWarning: p-value floored: true value smaller than 0.001. Consider specifying `method` (e.g. `method=stats.PermutationMethod()`.)\n",
      "  ad.append(anderson_ksamp([X_mcmc[i, :], X_true[i, :]]).statistic)\n"
     ]
    },
    {
     "name": "stdout",
     "output_type": "stream",
     "text": [
      "Processed: MALA_accept_0.10_n_1e+06 | trial 20\n"
     ]
    },
    {
     "name": "stderr",
     "output_type": "stream",
     "text": [
      "/Users/m250/Documents/UCL/FYP/src/metrics.py:38: UserWarning: p-value floored: true value smaller than 0.001. Consider specifying `method` (e.g. `method=stats.PermutationMethod()`.)\n",
      "  ad.append(anderson_ksamp([X_mcmc[i, :], X_true[i, :]]).statistic)\n"
     ]
    },
    {
     "name": "stdout",
     "output_type": "stream",
     "text": [
      "Processed: MALA_accept_0.10_n_1e+06 | trial 21\n"
     ]
    },
    {
     "name": "stderr",
     "output_type": "stream",
     "text": [
      "/Users/m250/Documents/UCL/FYP/src/metrics.py:38: UserWarning: p-value floored: true value smaller than 0.001. Consider specifying `method` (e.g. `method=stats.PermutationMethod()`.)\n",
      "  ad.append(anderson_ksamp([X_mcmc[i, :], X_true[i, :]]).statistic)\n"
     ]
    },
    {
     "name": "stdout",
     "output_type": "stream",
     "text": [
      "Processed: MALA_accept_0.10_n_1e+06 | trial 22\n"
     ]
    },
    {
     "name": "stderr",
     "output_type": "stream",
     "text": [
      "/Users/m250/Documents/UCL/FYP/src/metrics.py:38: UserWarning: p-value floored: true value smaller than 0.001. Consider specifying `method` (e.g. `method=stats.PermutationMethod()`.)\n",
      "  ad.append(anderson_ksamp([X_mcmc[i, :], X_true[i, :]]).statistic)\n"
     ]
    },
    {
     "name": "stdout",
     "output_type": "stream",
     "text": [
      "Processed: MALA_accept_0.10_n_1e+06 | trial 23\n"
     ]
    },
    {
     "name": "stderr",
     "output_type": "stream",
     "text": [
      "/Users/m250/Documents/UCL/FYP/src/metrics.py:38: UserWarning: p-value floored: true value smaller than 0.001. Consider specifying `method` (e.g. `method=stats.PermutationMethod()`.)\n",
      "  ad.append(anderson_ksamp([X_mcmc[i, :], X_true[i, :]]).statistic)\n"
     ]
    },
    {
     "name": "stdout",
     "output_type": "stream",
     "text": [
      "Processed: MALA_accept_0.10_n_1e+06 | trial 24\n"
     ]
    },
    {
     "name": "stderr",
     "output_type": "stream",
     "text": [
      "/Users/m250/Documents/UCL/FYP/src/metrics.py:38: UserWarning: p-value floored: true value smaller than 0.001. Consider specifying `method` (e.g. `method=stats.PermutationMethod()`.)\n",
      "  ad.append(anderson_ksamp([X_mcmc[i, :], X_true[i, :]]).statistic)\n"
     ]
    },
    {
     "name": "stdout",
     "output_type": "stream",
     "text": [
      "Processed: MALA_accept_0.10_n_1e+06 | trial 25\n"
     ]
    },
    {
     "name": "stderr",
     "output_type": "stream",
     "text": [
      "/Users/m250/Documents/UCL/FYP/src/metrics.py:38: UserWarning: p-value floored: true value smaller than 0.001. Consider specifying `method` (e.g. `method=stats.PermutationMethod()`.)\n",
      "  ad.append(anderson_ksamp([X_mcmc[i, :], X_true[i, :]]).statistic)\n"
     ]
    },
    {
     "name": "stdout",
     "output_type": "stream",
     "text": [
      "Processed: MALA_accept_0.10_n_1e+06 | trial 26\n"
     ]
    },
    {
     "name": "stderr",
     "output_type": "stream",
     "text": [
      "/Users/m250/Documents/UCL/FYP/src/metrics.py:38: UserWarning: p-value floored: true value smaller than 0.001. Consider specifying `method` (e.g. `method=stats.PermutationMethod()`.)\n",
      "  ad.append(anderson_ksamp([X_mcmc[i, :], X_true[i, :]]).statistic)\n"
     ]
    },
    {
     "name": "stdout",
     "output_type": "stream",
     "text": [
      "Processed: MALA_accept_0.10_n_1e+06 | trial 27\n"
     ]
    },
    {
     "name": "stderr",
     "output_type": "stream",
     "text": [
      "/Users/m250/Documents/UCL/FYP/src/metrics.py:38: UserWarning: p-value floored: true value smaller than 0.001. Consider specifying `method` (e.g. `method=stats.PermutationMethod()`.)\n",
      "  ad.append(anderson_ksamp([X_mcmc[i, :], X_true[i, :]]).statistic)\n"
     ]
    },
    {
     "name": "stdout",
     "output_type": "stream",
     "text": [
      "Processed: MALA_accept_0.10_n_1e+06 | trial 28\n"
     ]
    },
    {
     "name": "stderr",
     "output_type": "stream",
     "text": [
      "/Users/m250/Documents/UCL/FYP/src/metrics.py:38: UserWarning: p-value floored: true value smaller than 0.001. Consider specifying `method` (e.g. `method=stats.PermutationMethod()`.)\n",
      "  ad.append(anderson_ksamp([X_mcmc[i, :], X_true[i, :]]).statistic)\n"
     ]
    },
    {
     "name": "stdout",
     "output_type": "stream",
     "text": [
      "Processed: MALA_accept_0.10_n_1e+06 | trial 29\n"
     ]
    },
    {
     "name": "stderr",
     "output_type": "stream",
     "text": [
      "/Users/m250/Documents/UCL/FYP/src/metrics.py:38: UserWarning: p-value floored: true value smaller than 0.001. Consider specifying `method` (e.g. `method=stats.PermutationMethod()`.)\n",
      "  ad.append(anderson_ksamp([X_mcmc[i, :], X_true[i, :]]).statistic)\n"
     ]
    },
    {
     "name": "stdout",
     "output_type": "stream",
     "text": [
      "Processed: MALA_accept_0.10_n_1e+06 | trial 30\n"
     ]
    },
    {
     "name": "stderr",
     "output_type": "stream",
     "text": [
      "/Users/m250/Documents/UCL/FYP/src/metrics.py:38: UserWarning: p-value floored: true value smaller than 0.001. Consider specifying `method` (e.g. `method=stats.PermutationMethod()`.)\n",
      "  ad.append(anderson_ksamp([X_mcmc[i, :], X_true[i, :]]).statistic)\n"
     ]
    },
    {
     "name": "stdout",
     "output_type": "stream",
     "text": [
      "Processed: MALA_accept_0.25_n_1e+06 | trial 1\n"
     ]
    },
    {
     "name": "stderr",
     "output_type": "stream",
     "text": [
      "/Users/m250/Documents/UCL/FYP/src/metrics.py:38: UserWarning: p-value floored: true value smaller than 0.001. Consider specifying `method` (e.g. `method=stats.PermutationMethod()`.)\n",
      "  ad.append(anderson_ksamp([X_mcmc[i, :], X_true[i, :]]).statistic)\n"
     ]
    },
    {
     "name": "stdout",
     "output_type": "stream",
     "text": [
      "Processed: MALA_accept_0.25_n_1e+06 | trial 2\n"
     ]
    },
    {
     "name": "stderr",
     "output_type": "stream",
     "text": [
      "/Users/m250/Documents/UCL/FYP/src/metrics.py:38: UserWarning: p-value floored: true value smaller than 0.001. Consider specifying `method` (e.g. `method=stats.PermutationMethod()`.)\n",
      "  ad.append(anderson_ksamp([X_mcmc[i, :], X_true[i, :]]).statistic)\n"
     ]
    },
    {
     "name": "stdout",
     "output_type": "stream",
     "text": [
      "Processed: MALA_accept_0.25_n_1e+06 | trial 3\n"
     ]
    },
    {
     "name": "stderr",
     "output_type": "stream",
     "text": [
      "/Users/m250/Documents/UCL/FYP/src/metrics.py:38: UserWarning: p-value floored: true value smaller than 0.001. Consider specifying `method` (e.g. `method=stats.PermutationMethod()`.)\n",
      "  ad.append(anderson_ksamp([X_mcmc[i, :], X_true[i, :]]).statistic)\n"
     ]
    },
    {
     "name": "stdout",
     "output_type": "stream",
     "text": [
      "Processed: MALA_accept_0.25_n_1e+06 | trial 4\n"
     ]
    },
    {
     "name": "stderr",
     "output_type": "stream",
     "text": [
      "/Users/m250/Documents/UCL/FYP/src/metrics.py:38: UserWarning: p-value floored: true value smaller than 0.001. Consider specifying `method` (e.g. `method=stats.PermutationMethod()`.)\n",
      "  ad.append(anderson_ksamp([X_mcmc[i, :], X_true[i, :]]).statistic)\n"
     ]
    },
    {
     "name": "stdout",
     "output_type": "stream",
     "text": [
      "Processed: MALA_accept_0.25_n_1e+06 | trial 5\n"
     ]
    },
    {
     "name": "stderr",
     "output_type": "stream",
     "text": [
      "/Users/m250/Documents/UCL/FYP/src/metrics.py:38: UserWarning: p-value floored: true value smaller than 0.001. Consider specifying `method` (e.g. `method=stats.PermutationMethod()`.)\n",
      "  ad.append(anderson_ksamp([X_mcmc[i, :], X_true[i, :]]).statistic)\n"
     ]
    },
    {
     "name": "stdout",
     "output_type": "stream",
     "text": [
      "Processed: MALA_accept_0.25_n_1e+06 | trial 6\n"
     ]
    },
    {
     "name": "stderr",
     "output_type": "stream",
     "text": [
      "/Users/m250/Documents/UCL/FYP/src/metrics.py:38: UserWarning: p-value floored: true value smaller than 0.001. Consider specifying `method` (e.g. `method=stats.PermutationMethod()`.)\n",
      "  ad.append(anderson_ksamp([X_mcmc[i, :], X_true[i, :]]).statistic)\n"
     ]
    },
    {
     "name": "stdout",
     "output_type": "stream",
     "text": [
      "Processed: MALA_accept_0.25_n_1e+06 | trial 7\n"
     ]
    },
    {
     "name": "stderr",
     "output_type": "stream",
     "text": [
      "/Users/m250/Documents/UCL/FYP/src/metrics.py:38: UserWarning: p-value floored: true value smaller than 0.001. Consider specifying `method` (e.g. `method=stats.PermutationMethod()`.)\n",
      "  ad.append(anderson_ksamp([X_mcmc[i, :], X_true[i, :]]).statistic)\n"
     ]
    },
    {
     "name": "stdout",
     "output_type": "stream",
     "text": [
      "Processed: MALA_accept_0.25_n_1e+06 | trial 8\n"
     ]
    },
    {
     "name": "stderr",
     "output_type": "stream",
     "text": [
      "/Users/m250/Documents/UCL/FYP/src/metrics.py:38: UserWarning: p-value floored: true value smaller than 0.001. Consider specifying `method` (e.g. `method=stats.PermutationMethod()`.)\n",
      "  ad.append(anderson_ksamp([X_mcmc[i, :], X_true[i, :]]).statistic)\n"
     ]
    },
    {
     "name": "stdout",
     "output_type": "stream",
     "text": [
      "Processed: MALA_accept_0.25_n_1e+06 | trial 9\n"
     ]
    },
    {
     "name": "stderr",
     "output_type": "stream",
     "text": [
      "/Users/m250/Documents/UCL/FYP/src/metrics.py:38: UserWarning: p-value floored: true value smaller than 0.001. Consider specifying `method` (e.g. `method=stats.PermutationMethod()`.)\n",
      "  ad.append(anderson_ksamp([X_mcmc[i, :], X_true[i, :]]).statistic)\n"
     ]
    },
    {
     "name": "stdout",
     "output_type": "stream",
     "text": [
      "Processed: MALA_accept_0.25_n_1e+06 | trial 10\n"
     ]
    },
    {
     "name": "stderr",
     "output_type": "stream",
     "text": [
      "/Users/m250/Documents/UCL/FYP/src/metrics.py:38: UserWarning: p-value floored: true value smaller than 0.001. Consider specifying `method` (e.g. `method=stats.PermutationMethod()`.)\n",
      "  ad.append(anderson_ksamp([X_mcmc[i, :], X_true[i, :]]).statistic)\n"
     ]
    },
    {
     "name": "stdout",
     "output_type": "stream",
     "text": [
      "Processed: MALA_accept_0.25_n_1e+06 | trial 11\n"
     ]
    },
    {
     "name": "stderr",
     "output_type": "stream",
     "text": [
      "/Users/m250/Documents/UCL/FYP/src/metrics.py:38: UserWarning: p-value floored: true value smaller than 0.001. Consider specifying `method` (e.g. `method=stats.PermutationMethod()`.)\n",
      "  ad.append(anderson_ksamp([X_mcmc[i, :], X_true[i, :]]).statistic)\n"
     ]
    },
    {
     "name": "stdout",
     "output_type": "stream",
     "text": [
      "Processed: MALA_accept_0.25_n_1e+06 | trial 12\n"
     ]
    },
    {
     "name": "stderr",
     "output_type": "stream",
     "text": [
      "/Users/m250/Documents/UCL/FYP/src/metrics.py:38: UserWarning: p-value floored: true value smaller than 0.001. Consider specifying `method` (e.g. `method=stats.PermutationMethod()`.)\n",
      "  ad.append(anderson_ksamp([X_mcmc[i, :], X_true[i, :]]).statistic)\n"
     ]
    },
    {
     "name": "stdout",
     "output_type": "stream",
     "text": [
      "Processed: MALA_accept_0.25_n_1e+06 | trial 13\n"
     ]
    },
    {
     "name": "stderr",
     "output_type": "stream",
     "text": [
      "/Users/m250/Documents/UCL/FYP/src/metrics.py:38: UserWarning: p-value floored: true value smaller than 0.001. Consider specifying `method` (e.g. `method=stats.PermutationMethod()`.)\n",
      "  ad.append(anderson_ksamp([X_mcmc[i, :], X_true[i, :]]).statistic)\n"
     ]
    },
    {
     "name": "stdout",
     "output_type": "stream",
     "text": [
      "Processed: MALA_accept_0.25_n_1e+06 | trial 14\n"
     ]
    },
    {
     "name": "stderr",
     "output_type": "stream",
     "text": [
      "/Users/m250/Documents/UCL/FYP/src/metrics.py:38: UserWarning: p-value floored: true value smaller than 0.001. Consider specifying `method` (e.g. `method=stats.PermutationMethod()`.)\n",
      "  ad.append(anderson_ksamp([X_mcmc[i, :], X_true[i, :]]).statistic)\n"
     ]
    },
    {
     "name": "stdout",
     "output_type": "stream",
     "text": [
      "Processed: MALA_accept_0.25_n_1e+06 | trial 15\n"
     ]
    },
    {
     "name": "stderr",
     "output_type": "stream",
     "text": [
      "/Users/m250/Documents/UCL/FYP/src/metrics.py:38: UserWarning: p-value floored: true value smaller than 0.001. Consider specifying `method` (e.g. `method=stats.PermutationMethod()`.)\n",
      "  ad.append(anderson_ksamp([X_mcmc[i, :], X_true[i, :]]).statistic)\n"
     ]
    },
    {
     "name": "stdout",
     "output_type": "stream",
     "text": [
      "Processed: MALA_accept_0.25_n_1e+06 | trial 16\n"
     ]
    },
    {
     "name": "stderr",
     "output_type": "stream",
     "text": [
      "/Users/m250/Documents/UCL/FYP/src/metrics.py:38: UserWarning: p-value floored: true value smaller than 0.001. Consider specifying `method` (e.g. `method=stats.PermutationMethod()`.)\n",
      "  ad.append(anderson_ksamp([X_mcmc[i, :], X_true[i, :]]).statistic)\n"
     ]
    },
    {
     "name": "stdout",
     "output_type": "stream",
     "text": [
      "Processed: MALA_accept_0.25_n_1e+06 | trial 17\n"
     ]
    },
    {
     "name": "stderr",
     "output_type": "stream",
     "text": [
      "/Users/m250/Documents/UCL/FYP/src/metrics.py:38: UserWarning: p-value floored: true value smaller than 0.001. Consider specifying `method` (e.g. `method=stats.PermutationMethod()`.)\n",
      "  ad.append(anderson_ksamp([X_mcmc[i, :], X_true[i, :]]).statistic)\n"
     ]
    },
    {
     "name": "stdout",
     "output_type": "stream",
     "text": [
      "Processed: MALA_accept_0.25_n_1e+06 | trial 18\n"
     ]
    },
    {
     "name": "stderr",
     "output_type": "stream",
     "text": [
      "/Users/m250/Documents/UCL/FYP/src/metrics.py:38: UserWarning: p-value floored: true value smaller than 0.001. Consider specifying `method` (e.g. `method=stats.PermutationMethod()`.)\n",
      "  ad.append(anderson_ksamp([X_mcmc[i, :], X_true[i, :]]).statistic)\n"
     ]
    },
    {
     "name": "stdout",
     "output_type": "stream",
     "text": [
      "Processed: MALA_accept_0.25_n_1e+06 | trial 19\n"
     ]
    },
    {
     "name": "stderr",
     "output_type": "stream",
     "text": [
      "/Users/m250/Documents/UCL/FYP/src/metrics.py:38: UserWarning: p-value floored: true value smaller than 0.001. Consider specifying `method` (e.g. `method=stats.PermutationMethod()`.)\n",
      "  ad.append(anderson_ksamp([X_mcmc[i, :], X_true[i, :]]).statistic)\n"
     ]
    },
    {
     "name": "stdout",
     "output_type": "stream",
     "text": [
      "Processed: MALA_accept_0.25_n_1e+06 | trial 20\n"
     ]
    },
    {
     "name": "stderr",
     "output_type": "stream",
     "text": [
      "/Users/m250/Documents/UCL/FYP/src/metrics.py:38: UserWarning: p-value floored: true value smaller than 0.001. Consider specifying `method` (e.g. `method=stats.PermutationMethod()`.)\n",
      "  ad.append(anderson_ksamp([X_mcmc[i, :], X_true[i, :]]).statistic)\n"
     ]
    },
    {
     "name": "stdout",
     "output_type": "stream",
     "text": [
      "Processed: MALA_accept_0.25_n_1e+06 | trial 21\n"
     ]
    },
    {
     "name": "stderr",
     "output_type": "stream",
     "text": [
      "/Users/m250/Documents/UCL/FYP/src/metrics.py:38: UserWarning: p-value floored: true value smaller than 0.001. Consider specifying `method` (e.g. `method=stats.PermutationMethod()`.)\n",
      "  ad.append(anderson_ksamp([X_mcmc[i, :], X_true[i, :]]).statistic)\n"
     ]
    },
    {
     "name": "stdout",
     "output_type": "stream",
     "text": [
      "Processed: MALA_accept_0.25_n_1e+06 | trial 22\n"
     ]
    },
    {
     "name": "stderr",
     "output_type": "stream",
     "text": [
      "/Users/m250/Documents/UCL/FYP/src/metrics.py:38: UserWarning: p-value floored: true value smaller than 0.001. Consider specifying `method` (e.g. `method=stats.PermutationMethod()`.)\n",
      "  ad.append(anderson_ksamp([X_mcmc[i, :], X_true[i, :]]).statistic)\n"
     ]
    },
    {
     "name": "stdout",
     "output_type": "stream",
     "text": [
      "Processed: MALA_accept_0.25_n_1e+06 | trial 23\n"
     ]
    },
    {
     "name": "stderr",
     "output_type": "stream",
     "text": [
      "/Users/m250/Documents/UCL/FYP/src/metrics.py:38: UserWarning: p-value floored: true value smaller than 0.001. Consider specifying `method` (e.g. `method=stats.PermutationMethod()`.)\n",
      "  ad.append(anderson_ksamp([X_mcmc[i, :], X_true[i, :]]).statistic)\n"
     ]
    },
    {
     "name": "stdout",
     "output_type": "stream",
     "text": [
      "Processed: MALA_accept_0.25_n_1e+06 | trial 24\n"
     ]
    },
    {
     "name": "stderr",
     "output_type": "stream",
     "text": [
      "/Users/m250/Documents/UCL/FYP/src/metrics.py:38: UserWarning: p-value floored: true value smaller than 0.001. Consider specifying `method` (e.g. `method=stats.PermutationMethod()`.)\n",
      "  ad.append(anderson_ksamp([X_mcmc[i, :], X_true[i, :]]).statistic)\n"
     ]
    },
    {
     "name": "stdout",
     "output_type": "stream",
     "text": [
      "Processed: MALA_accept_0.25_n_1e+06 | trial 25\n"
     ]
    },
    {
     "name": "stderr",
     "output_type": "stream",
     "text": [
      "/Users/m250/Documents/UCL/FYP/src/metrics.py:38: UserWarning: p-value floored: true value smaller than 0.001. Consider specifying `method` (e.g. `method=stats.PermutationMethod()`.)\n",
      "  ad.append(anderson_ksamp([X_mcmc[i, :], X_true[i, :]]).statistic)\n"
     ]
    },
    {
     "name": "stdout",
     "output_type": "stream",
     "text": [
      "Processed: MALA_accept_0.25_n_1e+06 | trial 26\n"
     ]
    },
    {
     "name": "stderr",
     "output_type": "stream",
     "text": [
      "/Users/m250/Documents/UCL/FYP/src/metrics.py:38: UserWarning: p-value floored: true value smaller than 0.001. Consider specifying `method` (e.g. `method=stats.PermutationMethod()`.)\n",
      "  ad.append(anderson_ksamp([X_mcmc[i, :], X_true[i, :]]).statistic)\n"
     ]
    },
    {
     "name": "stdout",
     "output_type": "stream",
     "text": [
      "Processed: MALA_accept_0.25_n_1e+06 | trial 27\n"
     ]
    },
    {
     "name": "stderr",
     "output_type": "stream",
     "text": [
      "/Users/m250/Documents/UCL/FYP/src/metrics.py:38: UserWarning: p-value floored: true value smaller than 0.001. Consider specifying `method` (e.g. `method=stats.PermutationMethod()`.)\n",
      "  ad.append(anderson_ksamp([X_mcmc[i, :], X_true[i, :]]).statistic)\n"
     ]
    },
    {
     "name": "stdout",
     "output_type": "stream",
     "text": [
      "Processed: MALA_accept_0.25_n_1e+06 | trial 28\n"
     ]
    },
    {
     "name": "stderr",
     "output_type": "stream",
     "text": [
      "/Users/m250/Documents/UCL/FYP/src/metrics.py:38: UserWarning: p-value floored: true value smaller than 0.001. Consider specifying `method` (e.g. `method=stats.PermutationMethod()`.)\n",
      "  ad.append(anderson_ksamp([X_mcmc[i, :], X_true[i, :]]).statistic)\n"
     ]
    },
    {
     "name": "stdout",
     "output_type": "stream",
     "text": [
      "Processed: MALA_accept_0.25_n_1e+06 | trial 29\n"
     ]
    },
    {
     "name": "stderr",
     "output_type": "stream",
     "text": [
      "/Users/m250/Documents/UCL/FYP/src/metrics.py:38: UserWarning: p-value floored: true value smaller than 0.001. Consider specifying `method` (e.g. `method=stats.PermutationMethod()`.)\n",
      "  ad.append(anderson_ksamp([X_mcmc[i, :], X_true[i, :]]).statistic)\n"
     ]
    },
    {
     "name": "stdout",
     "output_type": "stream",
     "text": [
      "Processed: MALA_accept_0.25_n_1e+06 | trial 30\n"
     ]
    },
    {
     "name": "stderr",
     "output_type": "stream",
     "text": [
      "/Users/m250/Documents/UCL/FYP/src/metrics.py:38: UserWarning: p-value floored: true value smaller than 0.001. Consider specifying `method` (e.g. `method=stats.PermutationMethod()`.)\n",
      "  ad.append(anderson_ksamp([X_mcmc[i, :], X_true[i, :]]).statistic)\n"
     ]
    },
    {
     "name": "stdout",
     "output_type": "stream",
     "text": [
      "Processed: MALA_accept_0.40_n_1e+06 | trial 1\n"
     ]
    },
    {
     "name": "stderr",
     "output_type": "stream",
     "text": [
      "/Users/m250/Documents/UCL/FYP/src/metrics.py:38: UserWarning: p-value floored: true value smaller than 0.001. Consider specifying `method` (e.g. `method=stats.PermutationMethod()`.)\n",
      "  ad.append(anderson_ksamp([X_mcmc[i, :], X_true[i, :]]).statistic)\n"
     ]
    },
    {
     "name": "stdout",
     "output_type": "stream",
     "text": [
      "Processed: MALA_accept_0.40_n_1e+06 | trial 2\n"
     ]
    },
    {
     "name": "stderr",
     "output_type": "stream",
     "text": [
      "/Users/m250/Documents/UCL/FYP/src/metrics.py:38: UserWarning: p-value floored: true value smaller than 0.001. Consider specifying `method` (e.g. `method=stats.PermutationMethod()`.)\n",
      "  ad.append(anderson_ksamp([X_mcmc[i, :], X_true[i, :]]).statistic)\n"
     ]
    },
    {
     "name": "stdout",
     "output_type": "stream",
     "text": [
      "Processed: MALA_accept_0.40_n_1e+06 | trial 3\n"
     ]
    },
    {
     "name": "stderr",
     "output_type": "stream",
     "text": [
      "/Users/m250/Documents/UCL/FYP/src/metrics.py:38: UserWarning: p-value floored: true value smaller than 0.001. Consider specifying `method` (e.g. `method=stats.PermutationMethod()`.)\n",
      "  ad.append(anderson_ksamp([X_mcmc[i, :], X_true[i, :]]).statistic)\n"
     ]
    },
    {
     "name": "stdout",
     "output_type": "stream",
     "text": [
      "Processed: MALA_accept_0.40_n_1e+06 | trial 4\n"
     ]
    },
    {
     "name": "stderr",
     "output_type": "stream",
     "text": [
      "/Users/m250/Documents/UCL/FYP/src/metrics.py:38: UserWarning: p-value floored: true value smaller than 0.001. Consider specifying `method` (e.g. `method=stats.PermutationMethod()`.)\n",
      "  ad.append(anderson_ksamp([X_mcmc[i, :], X_true[i, :]]).statistic)\n"
     ]
    },
    {
     "name": "stdout",
     "output_type": "stream",
     "text": [
      "Processed: MALA_accept_0.40_n_1e+06 | trial 5\n"
     ]
    },
    {
     "name": "stderr",
     "output_type": "stream",
     "text": [
      "/Users/m250/Documents/UCL/FYP/src/metrics.py:38: UserWarning: p-value floored: true value smaller than 0.001. Consider specifying `method` (e.g. `method=stats.PermutationMethod()`.)\n",
      "  ad.append(anderson_ksamp([X_mcmc[i, :], X_true[i, :]]).statistic)\n"
     ]
    },
    {
     "name": "stdout",
     "output_type": "stream",
     "text": [
      "Processed: MALA_accept_0.40_n_1e+06 | trial 6\n"
     ]
    },
    {
     "name": "stderr",
     "output_type": "stream",
     "text": [
      "/Users/m250/Documents/UCL/FYP/src/metrics.py:38: UserWarning: p-value floored: true value smaller than 0.001. Consider specifying `method` (e.g. `method=stats.PermutationMethod()`.)\n",
      "  ad.append(anderson_ksamp([X_mcmc[i, :], X_true[i, :]]).statistic)\n"
     ]
    },
    {
     "name": "stdout",
     "output_type": "stream",
     "text": [
      "Processed: MALA_accept_0.40_n_1e+06 | trial 7\n"
     ]
    },
    {
     "name": "stderr",
     "output_type": "stream",
     "text": [
      "/Users/m250/Documents/UCL/FYP/src/metrics.py:38: UserWarning: p-value floored: true value smaller than 0.001. Consider specifying `method` (e.g. `method=stats.PermutationMethod()`.)\n",
      "  ad.append(anderson_ksamp([X_mcmc[i, :], X_true[i, :]]).statistic)\n"
     ]
    },
    {
     "name": "stdout",
     "output_type": "stream",
     "text": [
      "Processed: MALA_accept_0.40_n_1e+06 | trial 8\n"
     ]
    },
    {
     "name": "stderr",
     "output_type": "stream",
     "text": [
      "/Users/m250/Documents/UCL/FYP/src/metrics.py:38: UserWarning: p-value floored: true value smaller than 0.001. Consider specifying `method` (e.g. `method=stats.PermutationMethod()`.)\n",
      "  ad.append(anderson_ksamp([X_mcmc[i, :], X_true[i, :]]).statistic)\n"
     ]
    },
    {
     "name": "stdout",
     "output_type": "stream",
     "text": [
      "Processed: MALA_accept_0.40_n_1e+06 | trial 9\n"
     ]
    },
    {
     "name": "stderr",
     "output_type": "stream",
     "text": [
      "/Users/m250/Documents/UCL/FYP/src/metrics.py:38: UserWarning: p-value floored: true value smaller than 0.001. Consider specifying `method` (e.g. `method=stats.PermutationMethod()`.)\n",
      "  ad.append(anderson_ksamp([X_mcmc[i, :], X_true[i, :]]).statistic)\n"
     ]
    },
    {
     "name": "stdout",
     "output_type": "stream",
     "text": [
      "Processed: MALA_accept_0.40_n_1e+06 | trial 10\n"
     ]
    },
    {
     "name": "stderr",
     "output_type": "stream",
     "text": [
      "/Users/m250/Documents/UCL/FYP/src/metrics.py:38: UserWarning: p-value floored: true value smaller than 0.001. Consider specifying `method` (e.g. `method=stats.PermutationMethod()`.)\n",
      "  ad.append(anderson_ksamp([X_mcmc[i, :], X_true[i, :]]).statistic)\n"
     ]
    },
    {
     "name": "stdout",
     "output_type": "stream",
     "text": [
      "Processed: MALA_accept_0.40_n_1e+06 | trial 11\n"
     ]
    },
    {
     "name": "stderr",
     "output_type": "stream",
     "text": [
      "/Users/m250/Documents/UCL/FYP/src/metrics.py:38: UserWarning: p-value floored: true value smaller than 0.001. Consider specifying `method` (e.g. `method=stats.PermutationMethod()`.)\n",
      "  ad.append(anderson_ksamp([X_mcmc[i, :], X_true[i, :]]).statistic)\n"
     ]
    },
    {
     "name": "stdout",
     "output_type": "stream",
     "text": [
      "Processed: MALA_accept_0.40_n_1e+06 | trial 12\n"
     ]
    },
    {
     "name": "stderr",
     "output_type": "stream",
     "text": [
      "/Users/m250/Documents/UCL/FYP/src/metrics.py:38: UserWarning: p-value floored: true value smaller than 0.001. Consider specifying `method` (e.g. `method=stats.PermutationMethod()`.)\n",
      "  ad.append(anderson_ksamp([X_mcmc[i, :], X_true[i, :]]).statistic)\n"
     ]
    },
    {
     "name": "stdout",
     "output_type": "stream",
     "text": [
      "Processed: MALA_accept_0.40_n_1e+06 | trial 13\n"
     ]
    },
    {
     "name": "stderr",
     "output_type": "stream",
     "text": [
      "/Users/m250/Documents/UCL/FYP/src/metrics.py:38: UserWarning: p-value floored: true value smaller than 0.001. Consider specifying `method` (e.g. `method=stats.PermutationMethod()`.)\n",
      "  ad.append(anderson_ksamp([X_mcmc[i, :], X_true[i, :]]).statistic)\n"
     ]
    },
    {
     "name": "stdout",
     "output_type": "stream",
     "text": [
      "Processed: MALA_accept_0.40_n_1e+06 | trial 14\n"
     ]
    },
    {
     "name": "stderr",
     "output_type": "stream",
     "text": [
      "/Users/m250/Documents/UCL/FYP/src/metrics.py:38: UserWarning: p-value floored: true value smaller than 0.001. Consider specifying `method` (e.g. `method=stats.PermutationMethod()`.)\n",
      "  ad.append(anderson_ksamp([X_mcmc[i, :], X_true[i, :]]).statistic)\n"
     ]
    },
    {
     "name": "stdout",
     "output_type": "stream",
     "text": [
      "Processed: MALA_accept_0.40_n_1e+06 | trial 15\n"
     ]
    },
    {
     "name": "stderr",
     "output_type": "stream",
     "text": [
      "/Users/m250/Documents/UCL/FYP/src/metrics.py:38: UserWarning: p-value floored: true value smaller than 0.001. Consider specifying `method` (e.g. `method=stats.PermutationMethod()`.)\n",
      "  ad.append(anderson_ksamp([X_mcmc[i, :], X_true[i, :]]).statistic)\n"
     ]
    },
    {
     "name": "stdout",
     "output_type": "stream",
     "text": [
      "Processed: MALA_accept_0.40_n_1e+06 | trial 16\n"
     ]
    },
    {
     "name": "stderr",
     "output_type": "stream",
     "text": [
      "/Users/m250/Documents/UCL/FYP/src/metrics.py:38: UserWarning: p-value floored: true value smaller than 0.001. Consider specifying `method` (e.g. `method=stats.PermutationMethod()`.)\n",
      "  ad.append(anderson_ksamp([X_mcmc[i, :], X_true[i, :]]).statistic)\n"
     ]
    },
    {
     "name": "stdout",
     "output_type": "stream",
     "text": [
      "Processed: MALA_accept_0.40_n_1e+06 | trial 17\n"
     ]
    },
    {
     "name": "stderr",
     "output_type": "stream",
     "text": [
      "/Users/m250/Documents/UCL/FYP/src/metrics.py:38: UserWarning: p-value floored: true value smaller than 0.001. Consider specifying `method` (e.g. `method=stats.PermutationMethod()`.)\n",
      "  ad.append(anderson_ksamp([X_mcmc[i, :], X_true[i, :]]).statistic)\n"
     ]
    },
    {
     "name": "stdout",
     "output_type": "stream",
     "text": [
      "Processed: MALA_accept_0.40_n_1e+06 | trial 18\n"
     ]
    },
    {
     "name": "stderr",
     "output_type": "stream",
     "text": [
      "/Users/m250/Documents/UCL/FYP/src/metrics.py:38: UserWarning: p-value floored: true value smaller than 0.001. Consider specifying `method` (e.g. `method=stats.PermutationMethod()`.)\n",
      "  ad.append(anderson_ksamp([X_mcmc[i, :], X_true[i, :]]).statistic)\n"
     ]
    },
    {
     "name": "stdout",
     "output_type": "stream",
     "text": [
      "Processed: MALA_accept_0.40_n_1e+06 | trial 19\n"
     ]
    },
    {
     "name": "stderr",
     "output_type": "stream",
     "text": [
      "/Users/m250/Documents/UCL/FYP/src/metrics.py:38: UserWarning: p-value floored: true value smaller than 0.001. Consider specifying `method` (e.g. `method=stats.PermutationMethod()`.)\n",
      "  ad.append(anderson_ksamp([X_mcmc[i, :], X_true[i, :]]).statistic)\n"
     ]
    },
    {
     "name": "stdout",
     "output_type": "stream",
     "text": [
      "Processed: MALA_accept_0.40_n_1e+06 | trial 20\n"
     ]
    },
    {
     "name": "stderr",
     "output_type": "stream",
     "text": [
      "/Users/m250/Documents/UCL/FYP/src/metrics.py:38: UserWarning: p-value floored: true value smaller than 0.001. Consider specifying `method` (e.g. `method=stats.PermutationMethod()`.)\n",
      "  ad.append(anderson_ksamp([X_mcmc[i, :], X_true[i, :]]).statistic)\n"
     ]
    },
    {
     "name": "stdout",
     "output_type": "stream",
     "text": [
      "Processed: MALA_accept_0.40_n_1e+06 | trial 21\n"
     ]
    },
    {
     "name": "stderr",
     "output_type": "stream",
     "text": [
      "/Users/m250/Documents/UCL/FYP/src/metrics.py:38: UserWarning: p-value floored: true value smaller than 0.001. Consider specifying `method` (e.g. `method=stats.PermutationMethod()`.)\n",
      "  ad.append(anderson_ksamp([X_mcmc[i, :], X_true[i, :]]).statistic)\n"
     ]
    },
    {
     "name": "stdout",
     "output_type": "stream",
     "text": [
      "Processed: MALA_accept_0.40_n_1e+06 | trial 22\n"
     ]
    },
    {
     "name": "stderr",
     "output_type": "stream",
     "text": [
      "/Users/m250/Documents/UCL/FYP/src/metrics.py:38: UserWarning: p-value floored: true value smaller than 0.001. Consider specifying `method` (e.g. `method=stats.PermutationMethod()`.)\n",
      "  ad.append(anderson_ksamp([X_mcmc[i, :], X_true[i, :]]).statistic)\n"
     ]
    },
    {
     "name": "stdout",
     "output_type": "stream",
     "text": [
      "Processed: MALA_accept_0.40_n_1e+06 | trial 23\n"
     ]
    },
    {
     "name": "stderr",
     "output_type": "stream",
     "text": [
      "/Users/m250/Documents/UCL/FYP/src/metrics.py:38: UserWarning: p-value floored: true value smaller than 0.001. Consider specifying `method` (e.g. `method=stats.PermutationMethod()`.)\n",
      "  ad.append(anderson_ksamp([X_mcmc[i, :], X_true[i, :]]).statistic)\n"
     ]
    },
    {
     "name": "stdout",
     "output_type": "stream",
     "text": [
      "Processed: MALA_accept_0.40_n_1e+06 | trial 24\n"
     ]
    },
    {
     "name": "stderr",
     "output_type": "stream",
     "text": [
      "/Users/m250/Documents/UCL/FYP/src/metrics.py:38: UserWarning: p-value floored: true value smaller than 0.001. Consider specifying `method` (e.g. `method=stats.PermutationMethod()`.)\n",
      "  ad.append(anderson_ksamp([X_mcmc[i, :], X_true[i, :]]).statistic)\n"
     ]
    },
    {
     "name": "stdout",
     "output_type": "stream",
     "text": [
      "Processed: MALA_accept_0.40_n_1e+06 | trial 25\n"
     ]
    },
    {
     "name": "stderr",
     "output_type": "stream",
     "text": [
      "/Users/m250/Documents/UCL/FYP/src/metrics.py:38: UserWarning: p-value floored: true value smaller than 0.001. Consider specifying `method` (e.g. `method=stats.PermutationMethod()`.)\n",
      "  ad.append(anderson_ksamp([X_mcmc[i, :], X_true[i, :]]).statistic)\n"
     ]
    },
    {
     "name": "stdout",
     "output_type": "stream",
     "text": [
      "Processed: MALA_accept_0.40_n_1e+06 | trial 26\n"
     ]
    },
    {
     "name": "stderr",
     "output_type": "stream",
     "text": [
      "/Users/m250/Documents/UCL/FYP/src/metrics.py:38: UserWarning: p-value floored: true value smaller than 0.001. Consider specifying `method` (e.g. `method=stats.PermutationMethod()`.)\n",
      "  ad.append(anderson_ksamp([X_mcmc[i, :], X_true[i, :]]).statistic)\n"
     ]
    },
    {
     "name": "stdout",
     "output_type": "stream",
     "text": [
      "Processed: MALA_accept_0.40_n_1e+06 | trial 27\n"
     ]
    },
    {
     "name": "stderr",
     "output_type": "stream",
     "text": [
      "/Users/m250/Documents/UCL/FYP/src/metrics.py:38: UserWarning: p-value floored: true value smaller than 0.001. Consider specifying `method` (e.g. `method=stats.PermutationMethod()`.)\n",
      "  ad.append(anderson_ksamp([X_mcmc[i, :], X_true[i, :]]).statistic)\n"
     ]
    },
    {
     "name": "stdout",
     "output_type": "stream",
     "text": [
      "Processed: MALA_accept_0.40_n_1e+06 | trial 28\n"
     ]
    },
    {
     "name": "stderr",
     "output_type": "stream",
     "text": [
      "/Users/m250/Documents/UCL/FYP/src/metrics.py:38: UserWarning: p-value floored: true value smaller than 0.001. Consider specifying `method` (e.g. `method=stats.PermutationMethod()`.)\n",
      "  ad.append(anderson_ksamp([X_mcmc[i, :], X_true[i, :]]).statistic)\n"
     ]
    },
    {
     "name": "stdout",
     "output_type": "stream",
     "text": [
      "Processed: MALA_accept_0.40_n_1e+06 | trial 29\n"
     ]
    },
    {
     "name": "stderr",
     "output_type": "stream",
     "text": [
      "/Users/m250/Documents/UCL/FYP/src/metrics.py:38: UserWarning: p-value floored: true value smaller than 0.001. Consider specifying `method` (e.g. `method=stats.PermutationMethod()`.)\n",
      "  ad.append(anderson_ksamp([X_mcmc[i, :], X_true[i, :]]).statistic)\n"
     ]
    },
    {
     "name": "stdout",
     "output_type": "stream",
     "text": [
      "Processed: MALA_accept_0.40_n_1e+06 | trial 30\n"
     ]
    },
    {
     "name": "stderr",
     "output_type": "stream",
     "text": [
      "/Users/m250/Documents/UCL/FYP/src/metrics.py:38: UserWarning: p-value floored: true value smaller than 0.001. Consider specifying `method` (e.g. `method=stats.PermutationMethod()`.)\n",
      "  ad.append(anderson_ksamp([X_mcmc[i, :], X_true[i, :]]).statistic)\n"
     ]
    },
    {
     "name": "stdout",
     "output_type": "stream",
     "text": [
      "Processed: MALA_accept_0.55_n_1e+06 | trial 1\n"
     ]
    },
    {
     "name": "stderr",
     "output_type": "stream",
     "text": [
      "/Users/m250/Documents/UCL/FYP/src/metrics.py:38: UserWarning: p-value floored: true value smaller than 0.001. Consider specifying `method` (e.g. `method=stats.PermutationMethod()`.)\n",
      "  ad.append(anderson_ksamp([X_mcmc[i, :], X_true[i, :]]).statistic)\n"
     ]
    },
    {
     "name": "stdout",
     "output_type": "stream",
     "text": [
      "Processed: MALA_accept_0.55_n_1e+06 | trial 2\n"
     ]
    },
    {
     "name": "stderr",
     "output_type": "stream",
     "text": [
      "/Users/m250/Documents/UCL/FYP/src/metrics.py:38: UserWarning: p-value floored: true value smaller than 0.001. Consider specifying `method` (e.g. `method=stats.PermutationMethod()`.)\n",
      "  ad.append(anderson_ksamp([X_mcmc[i, :], X_true[i, :]]).statistic)\n"
     ]
    },
    {
     "name": "stdout",
     "output_type": "stream",
     "text": [
      "Processed: MALA_accept_0.55_n_1e+06 | trial 3\n"
     ]
    },
    {
     "name": "stderr",
     "output_type": "stream",
     "text": [
      "/Users/m250/Documents/UCL/FYP/src/metrics.py:38: UserWarning: p-value floored: true value smaller than 0.001. Consider specifying `method` (e.g. `method=stats.PermutationMethod()`.)\n",
      "  ad.append(anderson_ksamp([X_mcmc[i, :], X_true[i, :]]).statistic)\n"
     ]
    },
    {
     "name": "stdout",
     "output_type": "stream",
     "text": [
      "Processed: MALA_accept_0.55_n_1e+06 | trial 4\n"
     ]
    },
    {
     "name": "stderr",
     "output_type": "stream",
     "text": [
      "/Users/m250/Documents/UCL/FYP/src/metrics.py:38: UserWarning: p-value floored: true value smaller than 0.001. Consider specifying `method` (e.g. `method=stats.PermutationMethod()`.)\n",
      "  ad.append(anderson_ksamp([X_mcmc[i, :], X_true[i, :]]).statistic)\n"
     ]
    },
    {
     "name": "stdout",
     "output_type": "stream",
     "text": [
      "Processed: MALA_accept_0.55_n_1e+06 | trial 5\n"
     ]
    },
    {
     "name": "stderr",
     "output_type": "stream",
     "text": [
      "/Users/m250/Documents/UCL/FYP/src/metrics.py:38: UserWarning: p-value floored: true value smaller than 0.001. Consider specifying `method` (e.g. `method=stats.PermutationMethod()`.)\n",
      "  ad.append(anderson_ksamp([X_mcmc[i, :], X_true[i, :]]).statistic)\n"
     ]
    },
    {
     "name": "stdout",
     "output_type": "stream",
     "text": [
      "Processed: MALA_accept_0.55_n_1e+06 | trial 6\n"
     ]
    },
    {
     "name": "stderr",
     "output_type": "stream",
     "text": [
      "/Users/m250/Documents/UCL/FYP/src/metrics.py:38: UserWarning: p-value floored: true value smaller than 0.001. Consider specifying `method` (e.g. `method=stats.PermutationMethod()`.)\n",
      "  ad.append(anderson_ksamp([X_mcmc[i, :], X_true[i, :]]).statistic)\n"
     ]
    },
    {
     "name": "stdout",
     "output_type": "stream",
     "text": [
      "Processed: MALA_accept_0.55_n_1e+06 | trial 7\n"
     ]
    },
    {
     "name": "stderr",
     "output_type": "stream",
     "text": [
      "/Users/m250/Documents/UCL/FYP/src/metrics.py:38: UserWarning: p-value floored: true value smaller than 0.001. Consider specifying `method` (e.g. `method=stats.PermutationMethod()`.)\n",
      "  ad.append(anderson_ksamp([X_mcmc[i, :], X_true[i, :]]).statistic)\n"
     ]
    },
    {
     "name": "stdout",
     "output_type": "stream",
     "text": [
      "Processed: MALA_accept_0.55_n_1e+06 | trial 8\n"
     ]
    },
    {
     "name": "stderr",
     "output_type": "stream",
     "text": [
      "/Users/m250/Documents/UCL/FYP/src/metrics.py:38: UserWarning: p-value floored: true value smaller than 0.001. Consider specifying `method` (e.g. `method=stats.PermutationMethod()`.)\n",
      "  ad.append(anderson_ksamp([X_mcmc[i, :], X_true[i, :]]).statistic)\n"
     ]
    },
    {
     "name": "stdout",
     "output_type": "stream",
     "text": [
      "Processed: MALA_accept_0.55_n_1e+06 | trial 9\n"
     ]
    },
    {
     "name": "stderr",
     "output_type": "stream",
     "text": [
      "/Users/m250/Documents/UCL/FYP/src/metrics.py:38: UserWarning: p-value floored: true value smaller than 0.001. Consider specifying `method` (e.g. `method=stats.PermutationMethod()`.)\n",
      "  ad.append(anderson_ksamp([X_mcmc[i, :], X_true[i, :]]).statistic)\n"
     ]
    },
    {
     "name": "stdout",
     "output_type": "stream",
     "text": [
      "Processed: MALA_accept_0.55_n_1e+06 | trial 10\n"
     ]
    },
    {
     "name": "stderr",
     "output_type": "stream",
     "text": [
      "/Users/m250/Documents/UCL/FYP/src/metrics.py:38: UserWarning: p-value floored: true value smaller than 0.001. Consider specifying `method` (e.g. `method=stats.PermutationMethod()`.)\n",
      "  ad.append(anderson_ksamp([X_mcmc[i, :], X_true[i, :]]).statistic)\n"
     ]
    },
    {
     "name": "stdout",
     "output_type": "stream",
     "text": [
      "Processed: MALA_accept_0.55_n_1e+06 | trial 11\n"
     ]
    },
    {
     "name": "stderr",
     "output_type": "stream",
     "text": [
      "/Users/m250/Documents/UCL/FYP/src/metrics.py:38: UserWarning: p-value floored: true value smaller than 0.001. Consider specifying `method` (e.g. `method=stats.PermutationMethod()`.)\n",
      "  ad.append(anderson_ksamp([X_mcmc[i, :], X_true[i, :]]).statistic)\n"
     ]
    },
    {
     "name": "stdout",
     "output_type": "stream",
     "text": [
      "Processed: MALA_accept_0.55_n_1e+06 | trial 12\n"
     ]
    },
    {
     "name": "stderr",
     "output_type": "stream",
     "text": [
      "/Users/m250/Documents/UCL/FYP/src/metrics.py:38: UserWarning: p-value floored: true value smaller than 0.001. Consider specifying `method` (e.g. `method=stats.PermutationMethod()`.)\n",
      "  ad.append(anderson_ksamp([X_mcmc[i, :], X_true[i, :]]).statistic)\n"
     ]
    },
    {
     "name": "stdout",
     "output_type": "stream",
     "text": [
      "Processed: MALA_accept_0.55_n_1e+06 | trial 13\n"
     ]
    },
    {
     "name": "stderr",
     "output_type": "stream",
     "text": [
      "/Users/m250/Documents/UCL/FYP/src/metrics.py:38: UserWarning: p-value floored: true value smaller than 0.001. Consider specifying `method` (e.g. `method=stats.PermutationMethod()`.)\n",
      "  ad.append(anderson_ksamp([X_mcmc[i, :], X_true[i, :]]).statistic)\n"
     ]
    },
    {
     "name": "stdout",
     "output_type": "stream",
     "text": [
      "Processed: MALA_accept_0.55_n_1e+06 | trial 14\n"
     ]
    },
    {
     "name": "stderr",
     "output_type": "stream",
     "text": [
      "/Users/m250/Documents/UCL/FYP/src/metrics.py:38: UserWarning: p-value floored: true value smaller than 0.001. Consider specifying `method` (e.g. `method=stats.PermutationMethod()`.)\n",
      "  ad.append(anderson_ksamp([X_mcmc[i, :], X_true[i, :]]).statistic)\n"
     ]
    },
    {
     "name": "stdout",
     "output_type": "stream",
     "text": [
      "Processed: MALA_accept_0.55_n_1e+06 | trial 15\n"
     ]
    },
    {
     "name": "stderr",
     "output_type": "stream",
     "text": [
      "/Users/m250/Documents/UCL/FYP/src/metrics.py:38: UserWarning: p-value floored: true value smaller than 0.001. Consider specifying `method` (e.g. `method=stats.PermutationMethod()`.)\n",
      "  ad.append(anderson_ksamp([X_mcmc[i, :], X_true[i, :]]).statistic)\n"
     ]
    },
    {
     "name": "stdout",
     "output_type": "stream",
     "text": [
      "Processed: MALA_accept_0.55_n_1e+06 | trial 16\n"
     ]
    },
    {
     "name": "stderr",
     "output_type": "stream",
     "text": [
      "/Users/m250/Documents/UCL/FYP/src/metrics.py:38: UserWarning: p-value floored: true value smaller than 0.001. Consider specifying `method` (e.g. `method=stats.PermutationMethod()`.)\n",
      "  ad.append(anderson_ksamp([X_mcmc[i, :], X_true[i, :]]).statistic)\n"
     ]
    },
    {
     "name": "stdout",
     "output_type": "stream",
     "text": [
      "Processed: MALA_accept_0.55_n_1e+06 | trial 17\n"
     ]
    },
    {
     "name": "stderr",
     "output_type": "stream",
     "text": [
      "/Users/m250/Documents/UCL/FYP/src/metrics.py:38: UserWarning: p-value floored: true value smaller than 0.001. Consider specifying `method` (e.g. `method=stats.PermutationMethod()`.)\n",
      "  ad.append(anderson_ksamp([X_mcmc[i, :], X_true[i, :]]).statistic)\n"
     ]
    },
    {
     "name": "stdout",
     "output_type": "stream",
     "text": [
      "Processed: MALA_accept_0.55_n_1e+06 | trial 18\n"
     ]
    },
    {
     "name": "stderr",
     "output_type": "stream",
     "text": [
      "/Users/m250/Documents/UCL/FYP/src/metrics.py:38: UserWarning: p-value floored: true value smaller than 0.001. Consider specifying `method` (e.g. `method=stats.PermutationMethod()`.)\n",
      "  ad.append(anderson_ksamp([X_mcmc[i, :], X_true[i, :]]).statistic)\n"
     ]
    },
    {
     "name": "stdout",
     "output_type": "stream",
     "text": [
      "Processed: MALA_accept_0.55_n_1e+06 | trial 19\n"
     ]
    },
    {
     "name": "stderr",
     "output_type": "stream",
     "text": [
      "/Users/m250/Documents/UCL/FYP/src/metrics.py:38: UserWarning: p-value floored: true value smaller than 0.001. Consider specifying `method` (e.g. `method=stats.PermutationMethod()`.)\n",
      "  ad.append(anderson_ksamp([X_mcmc[i, :], X_true[i, :]]).statistic)\n"
     ]
    },
    {
     "name": "stdout",
     "output_type": "stream",
     "text": [
      "Processed: MALA_accept_0.55_n_1e+06 | trial 20\n"
     ]
    },
    {
     "name": "stderr",
     "output_type": "stream",
     "text": [
      "/Users/m250/Documents/UCL/FYP/src/metrics.py:38: UserWarning: p-value floored: true value smaller than 0.001. Consider specifying `method` (e.g. `method=stats.PermutationMethod()`.)\n",
      "  ad.append(anderson_ksamp([X_mcmc[i, :], X_true[i, :]]).statistic)\n"
     ]
    },
    {
     "name": "stdout",
     "output_type": "stream",
     "text": [
      "Processed: MALA_accept_0.55_n_1e+06 | trial 21\n"
     ]
    },
    {
     "name": "stderr",
     "output_type": "stream",
     "text": [
      "/Users/m250/Documents/UCL/FYP/src/metrics.py:38: UserWarning: p-value floored: true value smaller than 0.001. Consider specifying `method` (e.g. `method=stats.PermutationMethod()`.)\n",
      "  ad.append(anderson_ksamp([X_mcmc[i, :], X_true[i, :]]).statistic)\n"
     ]
    },
    {
     "name": "stdout",
     "output_type": "stream",
     "text": [
      "Processed: MALA_accept_0.55_n_1e+06 | trial 22\n"
     ]
    },
    {
     "name": "stderr",
     "output_type": "stream",
     "text": [
      "/Users/m250/Documents/UCL/FYP/src/metrics.py:38: UserWarning: p-value floored: true value smaller than 0.001. Consider specifying `method` (e.g. `method=stats.PermutationMethod()`.)\n",
      "  ad.append(anderson_ksamp([X_mcmc[i, :], X_true[i, :]]).statistic)\n"
     ]
    },
    {
     "name": "stdout",
     "output_type": "stream",
     "text": [
      "Processed: MALA_accept_0.55_n_1e+06 | trial 23\n"
     ]
    },
    {
     "name": "stderr",
     "output_type": "stream",
     "text": [
      "/Users/m250/Documents/UCL/FYP/src/metrics.py:38: UserWarning: p-value floored: true value smaller than 0.001. Consider specifying `method` (e.g. `method=stats.PermutationMethod()`.)\n",
      "  ad.append(anderson_ksamp([X_mcmc[i, :], X_true[i, :]]).statistic)\n"
     ]
    },
    {
     "name": "stdout",
     "output_type": "stream",
     "text": [
      "Processed: MALA_accept_0.55_n_1e+06 | trial 24\n"
     ]
    },
    {
     "name": "stderr",
     "output_type": "stream",
     "text": [
      "/Users/m250/Documents/UCL/FYP/src/metrics.py:38: UserWarning: p-value floored: true value smaller than 0.001. Consider specifying `method` (e.g. `method=stats.PermutationMethod()`.)\n",
      "  ad.append(anderson_ksamp([X_mcmc[i, :], X_true[i, :]]).statistic)\n"
     ]
    },
    {
     "name": "stdout",
     "output_type": "stream",
     "text": [
      "Processed: MALA_accept_0.55_n_1e+06 | trial 25\n"
     ]
    },
    {
     "name": "stderr",
     "output_type": "stream",
     "text": [
      "/Users/m250/Documents/UCL/FYP/src/metrics.py:38: UserWarning: p-value floored: true value smaller than 0.001. Consider specifying `method` (e.g. `method=stats.PermutationMethod()`.)\n",
      "  ad.append(anderson_ksamp([X_mcmc[i, :], X_true[i, :]]).statistic)\n"
     ]
    },
    {
     "name": "stdout",
     "output_type": "stream",
     "text": [
      "Processed: MALA_accept_0.55_n_1e+06 | trial 26\n"
     ]
    },
    {
     "name": "stderr",
     "output_type": "stream",
     "text": [
      "/Users/m250/Documents/UCL/FYP/src/metrics.py:38: UserWarning: p-value floored: true value smaller than 0.001. Consider specifying `method` (e.g. `method=stats.PermutationMethod()`.)\n",
      "  ad.append(anderson_ksamp([X_mcmc[i, :], X_true[i, :]]).statistic)\n"
     ]
    },
    {
     "name": "stdout",
     "output_type": "stream",
     "text": [
      "Processed: MALA_accept_0.55_n_1e+06 | trial 27\n"
     ]
    },
    {
     "name": "stderr",
     "output_type": "stream",
     "text": [
      "/Users/m250/Documents/UCL/FYP/src/metrics.py:38: UserWarning: p-value floored: true value smaller than 0.001. Consider specifying `method` (e.g. `method=stats.PermutationMethod()`.)\n",
      "  ad.append(anderson_ksamp([X_mcmc[i, :], X_true[i, :]]).statistic)\n"
     ]
    },
    {
     "name": "stdout",
     "output_type": "stream",
     "text": [
      "Processed: MALA_accept_0.55_n_1e+06 | trial 28\n"
     ]
    },
    {
     "name": "stderr",
     "output_type": "stream",
     "text": [
      "/Users/m250/Documents/UCL/FYP/src/metrics.py:38: UserWarning: p-value floored: true value smaller than 0.001. Consider specifying `method` (e.g. `method=stats.PermutationMethod()`.)\n",
      "  ad.append(anderson_ksamp([X_mcmc[i, :], X_true[i, :]]).statistic)\n"
     ]
    },
    {
     "name": "stdout",
     "output_type": "stream",
     "text": [
      "Processed: MALA_accept_0.55_n_1e+06 | trial 29\n"
     ]
    },
    {
     "name": "stderr",
     "output_type": "stream",
     "text": [
      "/Users/m250/Documents/UCL/FYP/src/metrics.py:38: UserWarning: p-value floored: true value smaller than 0.001. Consider specifying `method` (e.g. `method=stats.PermutationMethod()`.)\n",
      "  ad.append(anderson_ksamp([X_mcmc[i, :], X_true[i, :]]).statistic)\n"
     ]
    },
    {
     "name": "stdout",
     "output_type": "stream",
     "text": [
      "Processed: MALA_accept_0.55_n_1e+06 | trial 30\n"
     ]
    },
    {
     "name": "stderr",
     "output_type": "stream",
     "text": [
      "/Users/m250/Documents/UCL/FYP/src/metrics.py:38: UserWarning: p-value floored: true value smaller than 0.001. Consider specifying `method` (e.g. `method=stats.PermutationMethod()`.)\n",
      "  ad.append(anderson_ksamp([X_mcmc[i, :], X_true[i, :]]).statistic)\n"
     ]
    },
    {
     "name": "stdout",
     "output_type": "stream",
     "text": [
      "Processed: MALA_accept_0.70_n_1e+06 | trial 1\n"
     ]
    },
    {
     "name": "stderr",
     "output_type": "stream",
     "text": [
      "/Users/m250/Documents/UCL/FYP/src/metrics.py:38: UserWarning: p-value floored: true value smaller than 0.001. Consider specifying `method` (e.g. `method=stats.PermutationMethod()`.)\n",
      "  ad.append(anderson_ksamp([X_mcmc[i, :], X_true[i, :]]).statistic)\n"
     ]
    },
    {
     "name": "stdout",
     "output_type": "stream",
     "text": [
      "Processed: MALA_accept_0.70_n_1e+06 | trial 2\n"
     ]
    },
    {
     "name": "stderr",
     "output_type": "stream",
     "text": [
      "/Users/m250/Documents/UCL/FYP/src/metrics.py:38: UserWarning: p-value floored: true value smaller than 0.001. Consider specifying `method` (e.g. `method=stats.PermutationMethod()`.)\n",
      "  ad.append(anderson_ksamp([X_mcmc[i, :], X_true[i, :]]).statistic)\n"
     ]
    },
    {
     "name": "stdout",
     "output_type": "stream",
     "text": [
      "Processed: MALA_accept_0.70_n_1e+06 | trial 3\n"
     ]
    },
    {
     "name": "stderr",
     "output_type": "stream",
     "text": [
      "/Users/m250/Documents/UCL/FYP/src/metrics.py:38: UserWarning: p-value floored: true value smaller than 0.001. Consider specifying `method` (e.g. `method=stats.PermutationMethod()`.)\n",
      "  ad.append(anderson_ksamp([X_mcmc[i, :], X_true[i, :]]).statistic)\n"
     ]
    },
    {
     "name": "stdout",
     "output_type": "stream",
     "text": [
      "Processed: MALA_accept_0.70_n_1e+06 | trial 4\n"
     ]
    },
    {
     "name": "stderr",
     "output_type": "stream",
     "text": [
      "/Users/m250/Documents/UCL/FYP/src/metrics.py:38: UserWarning: p-value floored: true value smaller than 0.001. Consider specifying `method` (e.g. `method=stats.PermutationMethod()`.)\n",
      "  ad.append(anderson_ksamp([X_mcmc[i, :], X_true[i, :]]).statistic)\n"
     ]
    },
    {
     "name": "stdout",
     "output_type": "stream",
     "text": [
      "Processed: MALA_accept_0.70_n_1e+06 | trial 5\n"
     ]
    },
    {
     "name": "stderr",
     "output_type": "stream",
     "text": [
      "/Users/m250/Documents/UCL/FYP/src/metrics.py:38: UserWarning: p-value floored: true value smaller than 0.001. Consider specifying `method` (e.g. `method=stats.PermutationMethod()`.)\n",
      "  ad.append(anderson_ksamp([X_mcmc[i, :], X_true[i, :]]).statistic)\n"
     ]
    },
    {
     "name": "stdout",
     "output_type": "stream",
     "text": [
      "Processed: MALA_accept_0.70_n_1e+06 | trial 6\n"
     ]
    },
    {
     "name": "stderr",
     "output_type": "stream",
     "text": [
      "/Users/m250/Documents/UCL/FYP/src/metrics.py:38: UserWarning: p-value floored: true value smaller than 0.001. Consider specifying `method` (e.g. `method=stats.PermutationMethod()`.)\n",
      "  ad.append(anderson_ksamp([X_mcmc[i, :], X_true[i, :]]).statistic)\n"
     ]
    },
    {
     "name": "stdout",
     "output_type": "stream",
     "text": [
      "Processed: MALA_accept_0.70_n_1e+06 | trial 7\n"
     ]
    },
    {
     "name": "stderr",
     "output_type": "stream",
     "text": [
      "/Users/m250/Documents/UCL/FYP/src/metrics.py:38: UserWarning: p-value floored: true value smaller than 0.001. Consider specifying `method` (e.g. `method=stats.PermutationMethod()`.)\n",
      "  ad.append(anderson_ksamp([X_mcmc[i, :], X_true[i, :]]).statistic)\n"
     ]
    },
    {
     "name": "stdout",
     "output_type": "stream",
     "text": [
      "Processed: MALA_accept_0.70_n_1e+06 | trial 8\n"
     ]
    },
    {
     "name": "stderr",
     "output_type": "stream",
     "text": [
      "/Users/m250/Documents/UCL/FYP/src/metrics.py:38: UserWarning: p-value floored: true value smaller than 0.001. Consider specifying `method` (e.g. `method=stats.PermutationMethod()`.)\n",
      "  ad.append(anderson_ksamp([X_mcmc[i, :], X_true[i, :]]).statistic)\n"
     ]
    },
    {
     "name": "stdout",
     "output_type": "stream",
     "text": [
      "Processed: MALA_accept_0.70_n_1e+06 | trial 9\n"
     ]
    },
    {
     "name": "stderr",
     "output_type": "stream",
     "text": [
      "/Users/m250/Documents/UCL/FYP/src/metrics.py:38: UserWarning: p-value floored: true value smaller than 0.001. Consider specifying `method` (e.g. `method=stats.PermutationMethod()`.)\n",
      "  ad.append(anderson_ksamp([X_mcmc[i, :], X_true[i, :]]).statistic)\n"
     ]
    },
    {
     "name": "stdout",
     "output_type": "stream",
     "text": [
      "Processed: MALA_accept_0.70_n_1e+06 | trial 10\n"
     ]
    },
    {
     "name": "stderr",
     "output_type": "stream",
     "text": [
      "/Users/m250/Documents/UCL/FYP/src/metrics.py:38: UserWarning: p-value floored: true value smaller than 0.001. Consider specifying `method` (e.g. `method=stats.PermutationMethod()`.)\n",
      "  ad.append(anderson_ksamp([X_mcmc[i, :], X_true[i, :]]).statistic)\n"
     ]
    },
    {
     "name": "stdout",
     "output_type": "stream",
     "text": [
      "Processed: MALA_accept_0.70_n_1e+06 | trial 11\n"
     ]
    },
    {
     "name": "stderr",
     "output_type": "stream",
     "text": [
      "/Users/m250/Documents/UCL/FYP/src/metrics.py:38: UserWarning: p-value floored: true value smaller than 0.001. Consider specifying `method` (e.g. `method=stats.PermutationMethod()`.)\n",
      "  ad.append(anderson_ksamp([X_mcmc[i, :], X_true[i, :]]).statistic)\n"
     ]
    },
    {
     "name": "stdout",
     "output_type": "stream",
     "text": [
      "Processed: MALA_accept_0.70_n_1e+06 | trial 12\n"
     ]
    },
    {
     "name": "stderr",
     "output_type": "stream",
     "text": [
      "/Users/m250/Documents/UCL/FYP/src/metrics.py:38: UserWarning: p-value floored: true value smaller than 0.001. Consider specifying `method` (e.g. `method=stats.PermutationMethod()`.)\n",
      "  ad.append(anderson_ksamp([X_mcmc[i, :], X_true[i, :]]).statistic)\n"
     ]
    },
    {
     "name": "stdout",
     "output_type": "stream",
     "text": [
      "Processed: MALA_accept_0.70_n_1e+06 | trial 13\n"
     ]
    },
    {
     "name": "stderr",
     "output_type": "stream",
     "text": [
      "/Users/m250/Documents/UCL/FYP/src/metrics.py:38: UserWarning: p-value floored: true value smaller than 0.001. Consider specifying `method` (e.g. `method=stats.PermutationMethod()`.)\n",
      "  ad.append(anderson_ksamp([X_mcmc[i, :], X_true[i, :]]).statistic)\n"
     ]
    },
    {
     "name": "stdout",
     "output_type": "stream",
     "text": [
      "Processed: MALA_accept_0.70_n_1e+06 | trial 14\n"
     ]
    },
    {
     "name": "stderr",
     "output_type": "stream",
     "text": [
      "/Users/m250/Documents/UCL/FYP/src/metrics.py:38: UserWarning: p-value floored: true value smaller than 0.001. Consider specifying `method` (e.g. `method=stats.PermutationMethod()`.)\n",
      "  ad.append(anderson_ksamp([X_mcmc[i, :], X_true[i, :]]).statistic)\n"
     ]
    },
    {
     "name": "stdout",
     "output_type": "stream",
     "text": [
      "Processed: MALA_accept_0.70_n_1e+06 | trial 15\n"
     ]
    },
    {
     "name": "stderr",
     "output_type": "stream",
     "text": [
      "/Users/m250/Documents/UCL/FYP/src/metrics.py:38: UserWarning: p-value floored: true value smaller than 0.001. Consider specifying `method` (e.g. `method=stats.PermutationMethod()`.)\n",
      "  ad.append(anderson_ksamp([X_mcmc[i, :], X_true[i, :]]).statistic)\n"
     ]
    },
    {
     "name": "stdout",
     "output_type": "stream",
     "text": [
      "Processed: MALA_accept_0.70_n_1e+06 | trial 16\n"
     ]
    },
    {
     "name": "stderr",
     "output_type": "stream",
     "text": [
      "/Users/m250/Documents/UCL/FYP/src/metrics.py:38: UserWarning: p-value floored: true value smaller than 0.001. Consider specifying `method` (e.g. `method=stats.PermutationMethod()`.)\n",
      "  ad.append(anderson_ksamp([X_mcmc[i, :], X_true[i, :]]).statistic)\n"
     ]
    },
    {
     "name": "stdout",
     "output_type": "stream",
     "text": [
      "Processed: MALA_accept_0.70_n_1e+06 | trial 17\n"
     ]
    },
    {
     "name": "stderr",
     "output_type": "stream",
     "text": [
      "/Users/m250/Documents/UCL/FYP/src/metrics.py:38: UserWarning: p-value floored: true value smaller than 0.001. Consider specifying `method` (e.g. `method=stats.PermutationMethod()`.)\n",
      "  ad.append(anderson_ksamp([X_mcmc[i, :], X_true[i, :]]).statistic)\n"
     ]
    },
    {
     "name": "stdout",
     "output_type": "stream",
     "text": [
      "Processed: MALA_accept_0.70_n_1e+06 | trial 18\n"
     ]
    },
    {
     "name": "stderr",
     "output_type": "stream",
     "text": [
      "/Users/m250/Documents/UCL/FYP/src/metrics.py:38: UserWarning: p-value floored: true value smaller than 0.001. Consider specifying `method` (e.g. `method=stats.PermutationMethod()`.)\n",
      "  ad.append(anderson_ksamp([X_mcmc[i, :], X_true[i, :]]).statistic)\n"
     ]
    },
    {
     "name": "stdout",
     "output_type": "stream",
     "text": [
      "Processed: MALA_accept_0.70_n_1e+06 | trial 19\n"
     ]
    },
    {
     "name": "stderr",
     "output_type": "stream",
     "text": [
      "/Users/m250/Documents/UCL/FYP/src/metrics.py:38: UserWarning: p-value floored: true value smaller than 0.001. Consider specifying `method` (e.g. `method=stats.PermutationMethod()`.)\n",
      "  ad.append(anderson_ksamp([X_mcmc[i, :], X_true[i, :]]).statistic)\n"
     ]
    },
    {
     "name": "stdout",
     "output_type": "stream",
     "text": [
      "Processed: MALA_accept_0.70_n_1e+06 | trial 20\n"
     ]
    },
    {
     "name": "stderr",
     "output_type": "stream",
     "text": [
      "/Users/m250/Documents/UCL/FYP/src/metrics.py:38: UserWarning: p-value floored: true value smaller than 0.001. Consider specifying `method` (e.g. `method=stats.PermutationMethod()`.)\n",
      "  ad.append(anderson_ksamp([X_mcmc[i, :], X_true[i, :]]).statistic)\n"
     ]
    },
    {
     "name": "stdout",
     "output_type": "stream",
     "text": [
      "Processed: MALA_accept_0.70_n_1e+06 | trial 21\n"
     ]
    },
    {
     "name": "stderr",
     "output_type": "stream",
     "text": [
      "/Users/m250/Documents/UCL/FYP/src/metrics.py:38: UserWarning: p-value floored: true value smaller than 0.001. Consider specifying `method` (e.g. `method=stats.PermutationMethod()`.)\n",
      "  ad.append(anderson_ksamp([X_mcmc[i, :], X_true[i, :]]).statistic)\n"
     ]
    },
    {
     "name": "stdout",
     "output_type": "stream",
     "text": [
      "Processed: MALA_accept_0.70_n_1e+06 | trial 22\n"
     ]
    },
    {
     "name": "stderr",
     "output_type": "stream",
     "text": [
      "/Users/m250/Documents/UCL/FYP/src/metrics.py:38: UserWarning: p-value floored: true value smaller than 0.001. Consider specifying `method` (e.g. `method=stats.PermutationMethod()`.)\n",
      "  ad.append(anderson_ksamp([X_mcmc[i, :], X_true[i, :]]).statistic)\n"
     ]
    },
    {
     "name": "stdout",
     "output_type": "stream",
     "text": [
      "Processed: MALA_accept_0.70_n_1e+06 | trial 23\n"
     ]
    },
    {
     "name": "stderr",
     "output_type": "stream",
     "text": [
      "/Users/m250/Documents/UCL/FYP/src/metrics.py:38: UserWarning: p-value floored: true value smaller than 0.001. Consider specifying `method` (e.g. `method=stats.PermutationMethod()`.)\n",
      "  ad.append(anderson_ksamp([X_mcmc[i, :], X_true[i, :]]).statistic)\n"
     ]
    },
    {
     "name": "stdout",
     "output_type": "stream",
     "text": [
      "Processed: MALA_accept_0.70_n_1e+06 | trial 24\n"
     ]
    },
    {
     "name": "stderr",
     "output_type": "stream",
     "text": [
      "/Users/m250/Documents/UCL/FYP/src/metrics.py:38: UserWarning: p-value floored: true value smaller than 0.001. Consider specifying `method` (e.g. `method=stats.PermutationMethod()`.)\n",
      "  ad.append(anderson_ksamp([X_mcmc[i, :], X_true[i, :]]).statistic)\n"
     ]
    },
    {
     "name": "stdout",
     "output_type": "stream",
     "text": [
      "Processed: MALA_accept_0.70_n_1e+06 | trial 25\n"
     ]
    },
    {
     "name": "stderr",
     "output_type": "stream",
     "text": [
      "/Users/m250/Documents/UCL/FYP/src/metrics.py:38: UserWarning: p-value floored: true value smaller than 0.001. Consider specifying `method` (e.g. `method=stats.PermutationMethod()`.)\n",
      "  ad.append(anderson_ksamp([X_mcmc[i, :], X_true[i, :]]).statistic)\n"
     ]
    },
    {
     "name": "stdout",
     "output_type": "stream",
     "text": [
      "Processed: MALA_accept_0.70_n_1e+06 | trial 26\n"
     ]
    },
    {
     "name": "stderr",
     "output_type": "stream",
     "text": [
      "/Users/m250/Documents/UCL/FYP/src/metrics.py:38: UserWarning: p-value floored: true value smaller than 0.001. Consider specifying `method` (e.g. `method=stats.PermutationMethod()`.)\n",
      "  ad.append(anderson_ksamp([X_mcmc[i, :], X_true[i, :]]).statistic)\n"
     ]
    },
    {
     "name": "stdout",
     "output_type": "stream",
     "text": [
      "Processed: MALA_accept_0.70_n_1e+06 | trial 27\n"
     ]
    },
    {
     "name": "stderr",
     "output_type": "stream",
     "text": [
      "/Users/m250/Documents/UCL/FYP/src/metrics.py:38: UserWarning: p-value floored: true value smaller than 0.001. Consider specifying `method` (e.g. `method=stats.PermutationMethod()`.)\n",
      "  ad.append(anderson_ksamp([X_mcmc[i, :], X_true[i, :]]).statistic)\n"
     ]
    },
    {
     "name": "stdout",
     "output_type": "stream",
     "text": [
      "Processed: MALA_accept_0.70_n_1e+06 | trial 28\n"
     ]
    },
    {
     "name": "stderr",
     "output_type": "stream",
     "text": [
      "/Users/m250/Documents/UCL/FYP/src/metrics.py:38: UserWarning: p-value floored: true value smaller than 0.001. Consider specifying `method` (e.g. `method=stats.PermutationMethod()`.)\n",
      "  ad.append(anderson_ksamp([X_mcmc[i, :], X_true[i, :]]).statistic)\n"
     ]
    },
    {
     "name": "stdout",
     "output_type": "stream",
     "text": [
      "Processed: MALA_accept_0.70_n_1e+06 | trial 29\n"
     ]
    },
    {
     "name": "stderr",
     "output_type": "stream",
     "text": [
      "/Users/m250/Documents/UCL/FYP/src/metrics.py:38: UserWarning: p-value floored: true value smaller than 0.001. Consider specifying `method` (e.g. `method=stats.PermutationMethod()`.)\n",
      "  ad.append(anderson_ksamp([X_mcmc[i, :], X_true[i, :]]).statistic)\n"
     ]
    },
    {
     "name": "stdout",
     "output_type": "stream",
     "text": [
      "Processed: MALA_accept_0.70_n_1e+06 | trial 30\n"
     ]
    },
    {
     "name": "stderr",
     "output_type": "stream",
     "text": [
      "/Users/m250/Documents/UCL/FYP/src/metrics.py:38: UserWarning: p-value floored: true value smaller than 0.001. Consider specifying `method` (e.g. `method=stats.PermutationMethod()`.)\n",
      "  ad.append(anderson_ksamp([X_mcmc[i, :], X_true[i, :]]).statistic)\n"
     ]
    },
    {
     "name": "stdout",
     "output_type": "stream",
     "text": [
      "Processed: MALA_accept_0.85_n_1e+06 | trial 1\n"
     ]
    },
    {
     "name": "stderr",
     "output_type": "stream",
     "text": [
      "/Users/m250/Documents/UCL/FYP/src/metrics.py:38: UserWarning: p-value floored: true value smaller than 0.001. Consider specifying `method` (e.g. `method=stats.PermutationMethod()`.)\n",
      "  ad.append(anderson_ksamp([X_mcmc[i, :], X_true[i, :]]).statistic)\n"
     ]
    },
    {
     "name": "stdout",
     "output_type": "stream",
     "text": [
      "Processed: MALA_accept_0.85_n_1e+06 | trial 2\n"
     ]
    },
    {
     "name": "stderr",
     "output_type": "stream",
     "text": [
      "/Users/m250/Documents/UCL/FYP/src/metrics.py:38: UserWarning: p-value floored: true value smaller than 0.001. Consider specifying `method` (e.g. `method=stats.PermutationMethod()`.)\n",
      "  ad.append(anderson_ksamp([X_mcmc[i, :], X_true[i, :]]).statistic)\n"
     ]
    },
    {
     "name": "stdout",
     "output_type": "stream",
     "text": [
      "Processed: MALA_accept_0.85_n_1e+06 | trial 3\n"
     ]
    },
    {
     "name": "stderr",
     "output_type": "stream",
     "text": [
      "/Users/m250/Documents/UCL/FYP/src/metrics.py:38: UserWarning: p-value floored: true value smaller than 0.001. Consider specifying `method` (e.g. `method=stats.PermutationMethod()`.)\n",
      "  ad.append(anderson_ksamp([X_mcmc[i, :], X_true[i, :]]).statistic)\n"
     ]
    },
    {
     "name": "stdout",
     "output_type": "stream",
     "text": [
      "Processed: MALA_accept_0.85_n_1e+06 | trial 4\n"
     ]
    },
    {
     "name": "stderr",
     "output_type": "stream",
     "text": [
      "/Users/m250/Documents/UCL/FYP/src/metrics.py:38: UserWarning: p-value floored: true value smaller than 0.001. Consider specifying `method` (e.g. `method=stats.PermutationMethod()`.)\n",
      "  ad.append(anderson_ksamp([X_mcmc[i, :], X_true[i, :]]).statistic)\n"
     ]
    },
    {
     "name": "stdout",
     "output_type": "stream",
     "text": [
      "Processed: MALA_accept_0.85_n_1e+06 | trial 5\n"
     ]
    },
    {
     "name": "stderr",
     "output_type": "stream",
     "text": [
      "/Users/m250/Documents/UCL/FYP/src/metrics.py:38: UserWarning: p-value floored: true value smaller than 0.001. Consider specifying `method` (e.g. `method=stats.PermutationMethod()`.)\n",
      "  ad.append(anderson_ksamp([X_mcmc[i, :], X_true[i, :]]).statistic)\n"
     ]
    },
    {
     "name": "stdout",
     "output_type": "stream",
     "text": [
      "Processed: MALA_accept_0.85_n_1e+06 | trial 6\n"
     ]
    },
    {
     "name": "stderr",
     "output_type": "stream",
     "text": [
      "/Users/m250/Documents/UCL/FYP/src/metrics.py:38: UserWarning: p-value floored: true value smaller than 0.001. Consider specifying `method` (e.g. `method=stats.PermutationMethod()`.)\n",
      "  ad.append(anderson_ksamp([X_mcmc[i, :], X_true[i, :]]).statistic)\n"
     ]
    },
    {
     "name": "stdout",
     "output_type": "stream",
     "text": [
      "Processed: MALA_accept_0.85_n_1e+06 | trial 7\n"
     ]
    },
    {
     "name": "stderr",
     "output_type": "stream",
     "text": [
      "/Users/m250/Documents/UCL/FYP/src/metrics.py:38: UserWarning: p-value floored: true value smaller than 0.001. Consider specifying `method` (e.g. `method=stats.PermutationMethod()`.)\n",
      "  ad.append(anderson_ksamp([X_mcmc[i, :], X_true[i, :]]).statistic)\n"
     ]
    },
    {
     "name": "stdout",
     "output_type": "stream",
     "text": [
      "Processed: MALA_accept_0.85_n_1e+06 | trial 8\n"
     ]
    },
    {
     "name": "stderr",
     "output_type": "stream",
     "text": [
      "/Users/m250/Documents/UCL/FYP/src/metrics.py:38: UserWarning: p-value floored: true value smaller than 0.001. Consider specifying `method` (e.g. `method=stats.PermutationMethod()`.)\n",
      "  ad.append(anderson_ksamp([X_mcmc[i, :], X_true[i, :]]).statistic)\n"
     ]
    },
    {
     "name": "stdout",
     "output_type": "stream",
     "text": [
      "Processed: MALA_accept_0.85_n_1e+06 | trial 9\n"
     ]
    },
    {
     "name": "stderr",
     "output_type": "stream",
     "text": [
      "/Users/m250/Documents/UCL/FYP/src/metrics.py:38: UserWarning: p-value floored: true value smaller than 0.001. Consider specifying `method` (e.g. `method=stats.PermutationMethod()`.)\n",
      "  ad.append(anderson_ksamp([X_mcmc[i, :], X_true[i, :]]).statistic)\n"
     ]
    },
    {
     "name": "stdout",
     "output_type": "stream",
     "text": [
      "Processed: MALA_accept_0.85_n_1e+06 | trial 10\n"
     ]
    },
    {
     "name": "stderr",
     "output_type": "stream",
     "text": [
      "/Users/m250/Documents/UCL/FYP/src/metrics.py:38: UserWarning: p-value floored: true value smaller than 0.001. Consider specifying `method` (e.g. `method=stats.PermutationMethod()`.)\n",
      "  ad.append(anderson_ksamp([X_mcmc[i, :], X_true[i, :]]).statistic)\n"
     ]
    },
    {
     "name": "stdout",
     "output_type": "stream",
     "text": [
      "Processed: MALA_accept_0.85_n_1e+06 | trial 11\n"
     ]
    },
    {
     "name": "stderr",
     "output_type": "stream",
     "text": [
      "/Users/m250/Documents/UCL/FYP/src/metrics.py:38: UserWarning: p-value floored: true value smaller than 0.001. Consider specifying `method` (e.g. `method=stats.PermutationMethod()`.)\n",
      "  ad.append(anderson_ksamp([X_mcmc[i, :], X_true[i, :]]).statistic)\n"
     ]
    },
    {
     "name": "stdout",
     "output_type": "stream",
     "text": [
      "Processed: MALA_accept_0.85_n_1e+06 | trial 12\n"
     ]
    },
    {
     "name": "stderr",
     "output_type": "stream",
     "text": [
      "/Users/m250/Documents/UCL/FYP/src/metrics.py:38: UserWarning: p-value floored: true value smaller than 0.001. Consider specifying `method` (e.g. `method=stats.PermutationMethod()`.)\n",
      "  ad.append(anderson_ksamp([X_mcmc[i, :], X_true[i, :]]).statistic)\n"
     ]
    },
    {
     "name": "stdout",
     "output_type": "stream",
     "text": [
      "Processed: MALA_accept_0.85_n_1e+06 | trial 13\n"
     ]
    },
    {
     "name": "stderr",
     "output_type": "stream",
     "text": [
      "/Users/m250/Documents/UCL/FYP/src/metrics.py:38: UserWarning: p-value floored: true value smaller than 0.001. Consider specifying `method` (e.g. `method=stats.PermutationMethod()`.)\n",
      "  ad.append(anderson_ksamp([X_mcmc[i, :], X_true[i, :]]).statistic)\n"
     ]
    },
    {
     "name": "stdout",
     "output_type": "stream",
     "text": [
      "Processed: MALA_accept_0.85_n_1e+06 | trial 14\n"
     ]
    },
    {
     "name": "stderr",
     "output_type": "stream",
     "text": [
      "/Users/m250/Documents/UCL/FYP/src/metrics.py:38: UserWarning: p-value floored: true value smaller than 0.001. Consider specifying `method` (e.g. `method=stats.PermutationMethod()`.)\n",
      "  ad.append(anderson_ksamp([X_mcmc[i, :], X_true[i, :]]).statistic)\n"
     ]
    },
    {
     "name": "stdout",
     "output_type": "stream",
     "text": [
      "Processed: MALA_accept_0.85_n_1e+06 | trial 15\n"
     ]
    },
    {
     "name": "stderr",
     "output_type": "stream",
     "text": [
      "/Users/m250/Documents/UCL/FYP/src/metrics.py:38: UserWarning: p-value floored: true value smaller than 0.001. Consider specifying `method` (e.g. `method=stats.PermutationMethod()`.)\n",
      "  ad.append(anderson_ksamp([X_mcmc[i, :], X_true[i, :]]).statistic)\n"
     ]
    },
    {
     "name": "stdout",
     "output_type": "stream",
     "text": [
      "Processed: MALA_accept_0.85_n_1e+06 | trial 16\n"
     ]
    },
    {
     "name": "stderr",
     "output_type": "stream",
     "text": [
      "/Users/m250/Documents/UCL/FYP/src/metrics.py:38: UserWarning: p-value floored: true value smaller than 0.001. Consider specifying `method` (e.g. `method=stats.PermutationMethod()`.)\n",
      "  ad.append(anderson_ksamp([X_mcmc[i, :], X_true[i, :]]).statistic)\n"
     ]
    },
    {
     "name": "stdout",
     "output_type": "stream",
     "text": [
      "Processed: MALA_accept_0.85_n_1e+06 | trial 17\n"
     ]
    },
    {
     "name": "stderr",
     "output_type": "stream",
     "text": [
      "/Users/m250/Documents/UCL/FYP/src/metrics.py:38: UserWarning: p-value floored: true value smaller than 0.001. Consider specifying `method` (e.g. `method=stats.PermutationMethod()`.)\n",
      "  ad.append(anderson_ksamp([X_mcmc[i, :], X_true[i, :]]).statistic)\n"
     ]
    },
    {
     "name": "stdout",
     "output_type": "stream",
     "text": [
      "Processed: MALA_accept_0.85_n_1e+06 | trial 18\n"
     ]
    },
    {
     "name": "stderr",
     "output_type": "stream",
     "text": [
      "/Users/m250/Documents/UCL/FYP/src/metrics.py:38: UserWarning: p-value floored: true value smaller than 0.001. Consider specifying `method` (e.g. `method=stats.PermutationMethod()`.)\n",
      "  ad.append(anderson_ksamp([X_mcmc[i, :], X_true[i, :]]).statistic)\n"
     ]
    },
    {
     "name": "stdout",
     "output_type": "stream",
     "text": [
      "Processed: MALA_accept_0.85_n_1e+06 | trial 19\n"
     ]
    },
    {
     "name": "stderr",
     "output_type": "stream",
     "text": [
      "/Users/m250/Documents/UCL/FYP/src/metrics.py:38: UserWarning: p-value floored: true value smaller than 0.001. Consider specifying `method` (e.g. `method=stats.PermutationMethod()`.)\n",
      "  ad.append(anderson_ksamp([X_mcmc[i, :], X_true[i, :]]).statistic)\n"
     ]
    },
    {
     "name": "stdout",
     "output_type": "stream",
     "text": [
      "Processed: MALA_accept_0.85_n_1e+06 | trial 20\n"
     ]
    },
    {
     "name": "stderr",
     "output_type": "stream",
     "text": [
      "/Users/m250/Documents/UCL/FYP/src/metrics.py:38: UserWarning: p-value floored: true value smaller than 0.001. Consider specifying `method` (e.g. `method=stats.PermutationMethod()`.)\n",
      "  ad.append(anderson_ksamp([X_mcmc[i, :], X_true[i, :]]).statistic)\n"
     ]
    },
    {
     "name": "stdout",
     "output_type": "stream",
     "text": [
      "Processed: MALA_accept_0.85_n_1e+06 | trial 21\n"
     ]
    },
    {
     "name": "stderr",
     "output_type": "stream",
     "text": [
      "/Users/m250/Documents/UCL/FYP/src/metrics.py:38: UserWarning: p-value floored: true value smaller than 0.001. Consider specifying `method` (e.g. `method=stats.PermutationMethod()`.)\n",
      "  ad.append(anderson_ksamp([X_mcmc[i, :], X_true[i, :]]).statistic)\n"
     ]
    },
    {
     "name": "stdout",
     "output_type": "stream",
     "text": [
      "Processed: MALA_accept_0.85_n_1e+06 | trial 22\n"
     ]
    },
    {
     "name": "stderr",
     "output_type": "stream",
     "text": [
      "/Users/m250/Documents/UCL/FYP/src/metrics.py:38: UserWarning: p-value floored: true value smaller than 0.001. Consider specifying `method` (e.g. `method=stats.PermutationMethod()`.)\n",
      "  ad.append(anderson_ksamp([X_mcmc[i, :], X_true[i, :]]).statistic)\n"
     ]
    },
    {
     "name": "stdout",
     "output_type": "stream",
     "text": [
      "Processed: MALA_accept_0.85_n_1e+06 | trial 23\n"
     ]
    },
    {
     "name": "stderr",
     "output_type": "stream",
     "text": [
      "/Users/m250/Documents/UCL/FYP/src/metrics.py:38: UserWarning: p-value floored: true value smaller than 0.001. Consider specifying `method` (e.g. `method=stats.PermutationMethod()`.)\n",
      "  ad.append(anderson_ksamp([X_mcmc[i, :], X_true[i, :]]).statistic)\n"
     ]
    },
    {
     "name": "stdout",
     "output_type": "stream",
     "text": [
      "Processed: MALA_accept_0.85_n_1e+06 | trial 24\n"
     ]
    },
    {
     "name": "stderr",
     "output_type": "stream",
     "text": [
      "/Users/m250/Documents/UCL/FYP/src/metrics.py:38: UserWarning: p-value floored: true value smaller than 0.001. Consider specifying `method` (e.g. `method=stats.PermutationMethod()`.)\n",
      "  ad.append(anderson_ksamp([X_mcmc[i, :], X_true[i, :]]).statistic)\n"
     ]
    },
    {
     "name": "stdout",
     "output_type": "stream",
     "text": [
      "Processed: MALA_accept_0.85_n_1e+06 | trial 25\n"
     ]
    },
    {
     "name": "stderr",
     "output_type": "stream",
     "text": [
      "/Users/m250/Documents/UCL/FYP/src/metrics.py:38: UserWarning: p-value floored: true value smaller than 0.001. Consider specifying `method` (e.g. `method=stats.PermutationMethod()`.)\n",
      "  ad.append(anderson_ksamp([X_mcmc[i, :], X_true[i, :]]).statistic)\n"
     ]
    },
    {
     "name": "stdout",
     "output_type": "stream",
     "text": [
      "Processed: MALA_accept_0.85_n_1e+06 | trial 26\n"
     ]
    },
    {
     "name": "stderr",
     "output_type": "stream",
     "text": [
      "/Users/m250/Documents/UCL/FYP/src/metrics.py:38: UserWarning: p-value floored: true value smaller than 0.001. Consider specifying `method` (e.g. `method=stats.PermutationMethod()`.)\n",
      "  ad.append(anderson_ksamp([X_mcmc[i, :], X_true[i, :]]).statistic)\n"
     ]
    },
    {
     "name": "stdout",
     "output_type": "stream",
     "text": [
      "Processed: MALA_accept_0.85_n_1e+06 | trial 27\n"
     ]
    },
    {
     "name": "stderr",
     "output_type": "stream",
     "text": [
      "/Users/m250/Documents/UCL/FYP/src/metrics.py:38: UserWarning: p-value floored: true value smaller than 0.001. Consider specifying `method` (e.g. `method=stats.PermutationMethod()`.)\n",
      "  ad.append(anderson_ksamp([X_mcmc[i, :], X_true[i, :]]).statistic)\n"
     ]
    },
    {
     "name": "stdout",
     "output_type": "stream",
     "text": [
      "Processed: MALA_accept_0.85_n_1e+06 | trial 28\n"
     ]
    },
    {
     "name": "stderr",
     "output_type": "stream",
     "text": [
      "/Users/m250/Documents/UCL/FYP/src/metrics.py:38: UserWarning: p-value floored: true value smaller than 0.001. Consider specifying `method` (e.g. `method=stats.PermutationMethod()`.)\n",
      "  ad.append(anderson_ksamp([X_mcmc[i, :], X_true[i, :]]).statistic)\n"
     ]
    },
    {
     "name": "stdout",
     "output_type": "stream",
     "text": [
      "Processed: MALA_accept_0.85_n_1e+06 | trial 29\n"
     ]
    },
    {
     "name": "stderr",
     "output_type": "stream",
     "text": [
      "/Users/m250/Documents/UCL/FYP/src/metrics.py:38: UserWarning: p-value floored: true value smaller than 0.001. Consider specifying `method` (e.g. `method=stats.PermutationMethod()`.)\n",
      "  ad.append(anderson_ksamp([X_mcmc[i, :], X_true[i, :]]).statistic)\n"
     ]
    },
    {
     "name": "stdout",
     "output_type": "stream",
     "text": [
      "Processed: MALA_accept_0.85_n_1e+06 | trial 30\n"
     ]
    },
    {
     "name": "stderr",
     "output_type": "stream",
     "text": [
      "/Users/m250/Documents/UCL/FYP/src/metrics.py:38: UserWarning: p-value floored: true value smaller than 0.001. Consider specifying `method` (e.g. `method=stats.PermutationMethod()`.)\n",
      "  ad.append(anderson_ksamp([X_mcmc[i, :], X_true[i, :]]).statistic)\n"
     ]
    },
    {
     "name": "stdout",
     "output_type": "stream",
     "text": [
      "Processed: SMBarker_accept_0.10_n_1e+06 | trial 1\n"
     ]
    },
    {
     "name": "stderr",
     "output_type": "stream",
     "text": [
      "/Users/m250/Documents/UCL/FYP/src/metrics.py:38: UserWarning: p-value floored: true value smaller than 0.001. Consider specifying `method` (e.g. `method=stats.PermutationMethod()`.)\n",
      "  ad.append(anderson_ksamp([X_mcmc[i, :], X_true[i, :]]).statistic)\n"
     ]
    },
    {
     "name": "stdout",
     "output_type": "stream",
     "text": [
      "Processed: SMBarker_accept_0.10_n_1e+06 | trial 2\n"
     ]
    },
    {
     "name": "stderr",
     "output_type": "stream",
     "text": [
      "/Users/m250/Documents/UCL/FYP/src/metrics.py:38: UserWarning: p-value floored: true value smaller than 0.001. Consider specifying `method` (e.g. `method=stats.PermutationMethod()`.)\n",
      "  ad.append(anderson_ksamp([X_mcmc[i, :], X_true[i, :]]).statistic)\n"
     ]
    },
    {
     "name": "stdout",
     "output_type": "stream",
     "text": [
      "Processed: SMBarker_accept_0.10_n_1e+06 | trial 3\n"
     ]
    },
    {
     "name": "stderr",
     "output_type": "stream",
     "text": [
      "/Users/m250/Documents/UCL/FYP/src/metrics.py:38: UserWarning: p-value floored: true value smaller than 0.001. Consider specifying `method` (e.g. `method=stats.PermutationMethod()`.)\n",
      "  ad.append(anderson_ksamp([X_mcmc[i, :], X_true[i, :]]).statistic)\n"
     ]
    },
    {
     "name": "stdout",
     "output_type": "stream",
     "text": [
      "Processed: SMBarker_accept_0.10_n_1e+06 | trial 4\n"
     ]
    },
    {
     "name": "stderr",
     "output_type": "stream",
     "text": [
      "/Users/m250/Documents/UCL/FYP/src/metrics.py:38: UserWarning: p-value floored: true value smaller than 0.001. Consider specifying `method` (e.g. `method=stats.PermutationMethod()`.)\n",
      "  ad.append(anderson_ksamp([X_mcmc[i, :], X_true[i, :]]).statistic)\n"
     ]
    },
    {
     "name": "stdout",
     "output_type": "stream",
     "text": [
      "Processed: SMBarker_accept_0.10_n_1e+06 | trial 5\n"
     ]
    },
    {
     "name": "stderr",
     "output_type": "stream",
     "text": [
      "/Users/m250/Documents/UCL/FYP/src/metrics.py:38: UserWarning: p-value floored: true value smaller than 0.001. Consider specifying `method` (e.g. `method=stats.PermutationMethod()`.)\n",
      "  ad.append(anderson_ksamp([X_mcmc[i, :], X_true[i, :]]).statistic)\n"
     ]
    },
    {
     "name": "stdout",
     "output_type": "stream",
     "text": [
      "Processed: SMBarker_accept_0.10_n_1e+06 | trial 6\n"
     ]
    },
    {
     "name": "stderr",
     "output_type": "stream",
     "text": [
      "/Users/m250/Documents/UCL/FYP/src/metrics.py:38: UserWarning: p-value floored: true value smaller than 0.001. Consider specifying `method` (e.g. `method=stats.PermutationMethod()`.)\n",
      "  ad.append(anderson_ksamp([X_mcmc[i, :], X_true[i, :]]).statistic)\n"
     ]
    },
    {
     "name": "stdout",
     "output_type": "stream",
     "text": [
      "Processed: SMBarker_accept_0.10_n_1e+06 | trial 7\n"
     ]
    },
    {
     "name": "stderr",
     "output_type": "stream",
     "text": [
      "/Users/m250/Documents/UCL/FYP/src/metrics.py:38: UserWarning: p-value floored: true value smaller than 0.001. Consider specifying `method` (e.g. `method=stats.PermutationMethod()`.)\n",
      "  ad.append(anderson_ksamp([X_mcmc[i, :], X_true[i, :]]).statistic)\n"
     ]
    },
    {
     "name": "stdout",
     "output_type": "stream",
     "text": [
      "Processed: SMBarker_accept_0.10_n_1e+06 | trial 8\n"
     ]
    },
    {
     "name": "stderr",
     "output_type": "stream",
     "text": [
      "/Users/m250/Documents/UCL/FYP/src/metrics.py:38: UserWarning: p-value floored: true value smaller than 0.001. Consider specifying `method` (e.g. `method=stats.PermutationMethod()`.)\n",
      "  ad.append(anderson_ksamp([X_mcmc[i, :], X_true[i, :]]).statistic)\n"
     ]
    },
    {
     "name": "stdout",
     "output_type": "stream",
     "text": [
      "Processed: SMBarker_accept_0.10_n_1e+06 | trial 9\n"
     ]
    },
    {
     "name": "stderr",
     "output_type": "stream",
     "text": [
      "/Users/m250/Documents/UCL/FYP/src/metrics.py:38: UserWarning: p-value floored: true value smaller than 0.001. Consider specifying `method` (e.g. `method=stats.PermutationMethod()`.)\n",
      "  ad.append(anderson_ksamp([X_mcmc[i, :], X_true[i, :]]).statistic)\n"
     ]
    },
    {
     "name": "stdout",
     "output_type": "stream",
     "text": [
      "Processed: SMBarker_accept_0.10_n_1e+06 | trial 10\n"
     ]
    },
    {
     "name": "stderr",
     "output_type": "stream",
     "text": [
      "/Users/m250/Documents/UCL/FYP/src/metrics.py:38: UserWarning: p-value floored: true value smaller than 0.001. Consider specifying `method` (e.g. `method=stats.PermutationMethod()`.)\n",
      "  ad.append(anderson_ksamp([X_mcmc[i, :], X_true[i, :]]).statistic)\n"
     ]
    },
    {
     "name": "stdout",
     "output_type": "stream",
     "text": [
      "Processed: SMBarker_accept_0.10_n_1e+06 | trial 11\n"
     ]
    },
    {
     "name": "stderr",
     "output_type": "stream",
     "text": [
      "/Users/m250/Documents/UCL/FYP/src/metrics.py:38: UserWarning: p-value floored: true value smaller than 0.001. Consider specifying `method` (e.g. `method=stats.PermutationMethod()`.)\n",
      "  ad.append(anderson_ksamp([X_mcmc[i, :], X_true[i, :]]).statistic)\n"
     ]
    },
    {
     "name": "stdout",
     "output_type": "stream",
     "text": [
      "Processed: SMBarker_accept_0.10_n_1e+06 | trial 12\n"
     ]
    },
    {
     "name": "stderr",
     "output_type": "stream",
     "text": [
      "/Users/m250/Documents/UCL/FYP/src/metrics.py:38: UserWarning: p-value floored: true value smaller than 0.001. Consider specifying `method` (e.g. `method=stats.PermutationMethod()`.)\n",
      "  ad.append(anderson_ksamp([X_mcmc[i, :], X_true[i, :]]).statistic)\n"
     ]
    },
    {
     "name": "stdout",
     "output_type": "stream",
     "text": [
      "Processed: SMBarker_accept_0.10_n_1e+06 | trial 13\n"
     ]
    },
    {
     "name": "stderr",
     "output_type": "stream",
     "text": [
      "/Users/m250/Documents/UCL/FYP/src/metrics.py:38: UserWarning: p-value floored: true value smaller than 0.001. Consider specifying `method` (e.g. `method=stats.PermutationMethod()`.)\n",
      "  ad.append(anderson_ksamp([X_mcmc[i, :], X_true[i, :]]).statistic)\n"
     ]
    },
    {
     "name": "stdout",
     "output_type": "stream",
     "text": [
      "Processed: SMBarker_accept_0.10_n_1e+06 | trial 14\n"
     ]
    },
    {
     "name": "stderr",
     "output_type": "stream",
     "text": [
      "/Users/m250/Documents/UCL/FYP/src/metrics.py:38: UserWarning: p-value floored: true value smaller than 0.001. Consider specifying `method` (e.g. `method=stats.PermutationMethod()`.)\n",
      "  ad.append(anderson_ksamp([X_mcmc[i, :], X_true[i, :]]).statistic)\n"
     ]
    },
    {
     "name": "stdout",
     "output_type": "stream",
     "text": [
      "Processed: SMBarker_accept_0.10_n_1e+06 | trial 15\n"
     ]
    },
    {
     "name": "stderr",
     "output_type": "stream",
     "text": [
      "/Users/m250/Documents/UCL/FYP/src/metrics.py:38: UserWarning: p-value floored: true value smaller than 0.001. Consider specifying `method` (e.g. `method=stats.PermutationMethod()`.)\n",
      "  ad.append(anderson_ksamp([X_mcmc[i, :], X_true[i, :]]).statistic)\n"
     ]
    },
    {
     "name": "stdout",
     "output_type": "stream",
     "text": [
      "Processed: SMBarker_accept_0.10_n_1e+06 | trial 16\n"
     ]
    },
    {
     "name": "stderr",
     "output_type": "stream",
     "text": [
      "/Users/m250/Documents/UCL/FYP/src/metrics.py:38: UserWarning: p-value floored: true value smaller than 0.001. Consider specifying `method` (e.g. `method=stats.PermutationMethod()`.)\n",
      "  ad.append(anderson_ksamp([X_mcmc[i, :], X_true[i, :]]).statistic)\n"
     ]
    },
    {
     "name": "stdout",
     "output_type": "stream",
     "text": [
      "Processed: SMBarker_accept_0.10_n_1e+06 | trial 17\n"
     ]
    },
    {
     "name": "stderr",
     "output_type": "stream",
     "text": [
      "/Users/m250/Documents/UCL/FYP/src/metrics.py:38: UserWarning: p-value floored: true value smaller than 0.001. Consider specifying `method` (e.g. `method=stats.PermutationMethod()`.)\n",
      "  ad.append(anderson_ksamp([X_mcmc[i, :], X_true[i, :]]).statistic)\n"
     ]
    },
    {
     "name": "stdout",
     "output_type": "stream",
     "text": [
      "Processed: SMBarker_accept_0.10_n_1e+06 | trial 18\n"
     ]
    },
    {
     "name": "stderr",
     "output_type": "stream",
     "text": [
      "/Users/m250/Documents/UCL/FYP/src/metrics.py:38: UserWarning: p-value floored: true value smaller than 0.001. Consider specifying `method` (e.g. `method=stats.PermutationMethod()`.)\n",
      "  ad.append(anderson_ksamp([X_mcmc[i, :], X_true[i, :]]).statistic)\n"
     ]
    },
    {
     "name": "stdout",
     "output_type": "stream",
     "text": [
      "Processed: SMBarker_accept_0.10_n_1e+06 | trial 19\n"
     ]
    },
    {
     "name": "stderr",
     "output_type": "stream",
     "text": [
      "/Users/m250/Documents/UCL/FYP/src/metrics.py:38: UserWarning: p-value floored: true value smaller than 0.001. Consider specifying `method` (e.g. `method=stats.PermutationMethod()`.)\n",
      "  ad.append(anderson_ksamp([X_mcmc[i, :], X_true[i, :]]).statistic)\n"
     ]
    },
    {
     "name": "stdout",
     "output_type": "stream",
     "text": [
      "Processed: SMBarker_accept_0.10_n_1e+06 | trial 20\n"
     ]
    },
    {
     "name": "stderr",
     "output_type": "stream",
     "text": [
      "/Users/m250/Documents/UCL/FYP/src/metrics.py:38: UserWarning: p-value floored: true value smaller than 0.001. Consider specifying `method` (e.g. `method=stats.PermutationMethod()`.)\n",
      "  ad.append(anderson_ksamp([X_mcmc[i, :], X_true[i, :]]).statistic)\n"
     ]
    },
    {
     "name": "stdout",
     "output_type": "stream",
     "text": [
      "Processed: SMBarker_accept_0.10_n_1e+06 | trial 21\n"
     ]
    },
    {
     "name": "stderr",
     "output_type": "stream",
     "text": [
      "/Users/m250/Documents/UCL/FYP/src/metrics.py:38: UserWarning: p-value floored: true value smaller than 0.001. Consider specifying `method` (e.g. `method=stats.PermutationMethod()`.)\n",
      "  ad.append(anderson_ksamp([X_mcmc[i, :], X_true[i, :]]).statistic)\n"
     ]
    },
    {
     "name": "stdout",
     "output_type": "stream",
     "text": [
      "Processed: SMBarker_accept_0.10_n_1e+06 | trial 22\n"
     ]
    },
    {
     "name": "stderr",
     "output_type": "stream",
     "text": [
      "/Users/m250/Documents/UCL/FYP/src/metrics.py:38: UserWarning: p-value floored: true value smaller than 0.001. Consider specifying `method` (e.g. `method=stats.PermutationMethod()`.)\n",
      "  ad.append(anderson_ksamp([X_mcmc[i, :], X_true[i, :]]).statistic)\n"
     ]
    },
    {
     "name": "stdout",
     "output_type": "stream",
     "text": [
      "Processed: SMBarker_accept_0.10_n_1e+06 | trial 23\n"
     ]
    },
    {
     "name": "stderr",
     "output_type": "stream",
     "text": [
      "/Users/m250/Documents/UCL/FYP/src/metrics.py:38: UserWarning: p-value floored: true value smaller than 0.001. Consider specifying `method` (e.g. `method=stats.PermutationMethod()`.)\n",
      "  ad.append(anderson_ksamp([X_mcmc[i, :], X_true[i, :]]).statistic)\n"
     ]
    },
    {
     "name": "stdout",
     "output_type": "stream",
     "text": [
      "Processed: SMBarker_accept_0.10_n_1e+06 | trial 24\n"
     ]
    },
    {
     "name": "stderr",
     "output_type": "stream",
     "text": [
      "/Users/m250/Documents/UCL/FYP/src/metrics.py:38: UserWarning: p-value floored: true value smaller than 0.001. Consider specifying `method` (e.g. `method=stats.PermutationMethod()`.)\n",
      "  ad.append(anderson_ksamp([X_mcmc[i, :], X_true[i, :]]).statistic)\n"
     ]
    },
    {
     "name": "stdout",
     "output_type": "stream",
     "text": [
      "Processed: SMBarker_accept_0.10_n_1e+06 | trial 25\n"
     ]
    },
    {
     "name": "stderr",
     "output_type": "stream",
     "text": [
      "/Users/m250/Documents/UCL/FYP/src/metrics.py:38: UserWarning: p-value floored: true value smaller than 0.001. Consider specifying `method` (e.g. `method=stats.PermutationMethod()`.)\n",
      "  ad.append(anderson_ksamp([X_mcmc[i, :], X_true[i, :]]).statistic)\n"
     ]
    },
    {
     "name": "stdout",
     "output_type": "stream",
     "text": [
      "Processed: SMBarker_accept_0.10_n_1e+06 | trial 26\n"
     ]
    },
    {
     "name": "stderr",
     "output_type": "stream",
     "text": [
      "/Users/m250/Documents/UCL/FYP/src/metrics.py:38: UserWarning: p-value floored: true value smaller than 0.001. Consider specifying `method` (e.g. `method=stats.PermutationMethod()`.)\n",
      "  ad.append(anderson_ksamp([X_mcmc[i, :], X_true[i, :]]).statistic)\n"
     ]
    },
    {
     "name": "stdout",
     "output_type": "stream",
     "text": [
      "Processed: SMBarker_accept_0.10_n_1e+06 | trial 27\n"
     ]
    },
    {
     "name": "stderr",
     "output_type": "stream",
     "text": [
      "/Users/m250/Documents/UCL/FYP/src/metrics.py:38: UserWarning: p-value floored: true value smaller than 0.001. Consider specifying `method` (e.g. `method=stats.PermutationMethod()`.)\n",
      "  ad.append(anderson_ksamp([X_mcmc[i, :], X_true[i, :]]).statistic)\n"
     ]
    },
    {
     "name": "stdout",
     "output_type": "stream",
     "text": [
      "Processed: SMBarker_accept_0.10_n_1e+06 | trial 28\n"
     ]
    },
    {
     "name": "stderr",
     "output_type": "stream",
     "text": [
      "/Users/m250/Documents/UCL/FYP/src/metrics.py:38: UserWarning: p-value floored: true value smaller than 0.001. Consider specifying `method` (e.g. `method=stats.PermutationMethod()`.)\n",
      "  ad.append(anderson_ksamp([X_mcmc[i, :], X_true[i, :]]).statistic)\n"
     ]
    },
    {
     "name": "stdout",
     "output_type": "stream",
     "text": [
      "Processed: SMBarker_accept_0.10_n_1e+06 | trial 29\n"
     ]
    },
    {
     "name": "stderr",
     "output_type": "stream",
     "text": [
      "/Users/m250/Documents/UCL/FYP/src/metrics.py:38: UserWarning: p-value floored: true value smaller than 0.001. Consider specifying `method` (e.g. `method=stats.PermutationMethod()`.)\n",
      "  ad.append(anderson_ksamp([X_mcmc[i, :], X_true[i, :]]).statistic)\n"
     ]
    },
    {
     "name": "stdout",
     "output_type": "stream",
     "text": [
      "Processed: SMBarker_accept_0.10_n_1e+06 | trial 30\n"
     ]
    },
    {
     "name": "stderr",
     "output_type": "stream",
     "text": [
      "/Users/m250/Documents/UCL/FYP/src/metrics.py:38: UserWarning: p-value floored: true value smaller than 0.001. Consider specifying `method` (e.g. `method=stats.PermutationMethod()`.)\n",
      "  ad.append(anderson_ksamp([X_mcmc[i, :], X_true[i, :]]).statistic)\n"
     ]
    },
    {
     "name": "stdout",
     "output_type": "stream",
     "text": [
      "Processed: SMBarker_accept_0.25_n_1e+06 | trial 1\n"
     ]
    },
    {
     "name": "stderr",
     "output_type": "stream",
     "text": [
      "/Users/m250/Documents/UCL/FYP/src/metrics.py:38: UserWarning: p-value floored: true value smaller than 0.001. Consider specifying `method` (e.g. `method=stats.PermutationMethod()`.)\n",
      "  ad.append(anderson_ksamp([X_mcmc[i, :], X_true[i, :]]).statistic)\n"
     ]
    },
    {
     "name": "stdout",
     "output_type": "stream",
     "text": [
      "Processed: SMBarker_accept_0.25_n_1e+06 | trial 2\n"
     ]
    },
    {
     "name": "stderr",
     "output_type": "stream",
     "text": [
      "/Users/m250/Documents/UCL/FYP/src/metrics.py:38: UserWarning: p-value floored: true value smaller than 0.001. Consider specifying `method` (e.g. `method=stats.PermutationMethod()`.)\n",
      "  ad.append(anderson_ksamp([X_mcmc[i, :], X_true[i, :]]).statistic)\n"
     ]
    },
    {
     "name": "stdout",
     "output_type": "stream",
     "text": [
      "Processed: SMBarker_accept_0.25_n_1e+06 | trial 3\n"
     ]
    },
    {
     "name": "stderr",
     "output_type": "stream",
     "text": [
      "/Users/m250/Documents/UCL/FYP/src/metrics.py:38: UserWarning: p-value floored: true value smaller than 0.001. Consider specifying `method` (e.g. `method=stats.PermutationMethod()`.)\n",
      "  ad.append(anderson_ksamp([X_mcmc[i, :], X_true[i, :]]).statistic)\n"
     ]
    },
    {
     "name": "stdout",
     "output_type": "stream",
     "text": [
      "Processed: SMBarker_accept_0.25_n_1e+06 | trial 4\n"
     ]
    },
    {
     "name": "stderr",
     "output_type": "stream",
     "text": [
      "/Users/m250/Documents/UCL/FYP/src/metrics.py:38: UserWarning: p-value floored: true value smaller than 0.001. Consider specifying `method` (e.g. `method=stats.PermutationMethod()`.)\n",
      "  ad.append(anderson_ksamp([X_mcmc[i, :], X_true[i, :]]).statistic)\n"
     ]
    },
    {
     "name": "stdout",
     "output_type": "stream",
     "text": [
      "Processed: SMBarker_accept_0.25_n_1e+06 | trial 5\n"
     ]
    },
    {
     "name": "stderr",
     "output_type": "stream",
     "text": [
      "/Users/m250/Documents/UCL/FYP/src/metrics.py:38: UserWarning: p-value floored: true value smaller than 0.001. Consider specifying `method` (e.g. `method=stats.PermutationMethod()`.)\n",
      "  ad.append(anderson_ksamp([X_mcmc[i, :], X_true[i, :]]).statistic)\n"
     ]
    },
    {
     "name": "stdout",
     "output_type": "stream",
     "text": [
      "Processed: SMBarker_accept_0.25_n_1e+06 | trial 6\n"
     ]
    },
    {
     "name": "stderr",
     "output_type": "stream",
     "text": [
      "/Users/m250/Documents/UCL/FYP/src/metrics.py:38: UserWarning: p-value floored: true value smaller than 0.001. Consider specifying `method` (e.g. `method=stats.PermutationMethod()`.)\n",
      "  ad.append(anderson_ksamp([X_mcmc[i, :], X_true[i, :]]).statistic)\n"
     ]
    },
    {
     "name": "stdout",
     "output_type": "stream",
     "text": [
      "Processed: SMBarker_accept_0.25_n_1e+06 | trial 7\n"
     ]
    },
    {
     "name": "stderr",
     "output_type": "stream",
     "text": [
      "/Users/m250/Documents/UCL/FYP/src/metrics.py:38: UserWarning: p-value floored: true value smaller than 0.001. Consider specifying `method` (e.g. `method=stats.PermutationMethod()`.)\n",
      "  ad.append(anderson_ksamp([X_mcmc[i, :], X_true[i, :]]).statistic)\n"
     ]
    },
    {
     "name": "stdout",
     "output_type": "stream",
     "text": [
      "Processed: SMBarker_accept_0.25_n_1e+06 | trial 8\n"
     ]
    },
    {
     "name": "stderr",
     "output_type": "stream",
     "text": [
      "/Users/m250/Documents/UCL/FYP/src/metrics.py:38: UserWarning: p-value floored: true value smaller than 0.001. Consider specifying `method` (e.g. `method=stats.PermutationMethod()`.)\n",
      "  ad.append(anderson_ksamp([X_mcmc[i, :], X_true[i, :]]).statistic)\n"
     ]
    },
    {
     "name": "stdout",
     "output_type": "stream",
     "text": [
      "Processed: SMBarker_accept_0.25_n_1e+06 | trial 9\n"
     ]
    },
    {
     "name": "stderr",
     "output_type": "stream",
     "text": [
      "/Users/m250/Documents/UCL/FYP/src/metrics.py:38: UserWarning: p-value floored: true value smaller than 0.001. Consider specifying `method` (e.g. `method=stats.PermutationMethod()`.)\n",
      "  ad.append(anderson_ksamp([X_mcmc[i, :], X_true[i, :]]).statistic)\n"
     ]
    },
    {
     "name": "stdout",
     "output_type": "stream",
     "text": [
      "Processed: SMBarker_accept_0.25_n_1e+06 | trial 10\n"
     ]
    },
    {
     "name": "stderr",
     "output_type": "stream",
     "text": [
      "/Users/m250/Documents/UCL/FYP/src/metrics.py:38: UserWarning: p-value floored: true value smaller than 0.001. Consider specifying `method` (e.g. `method=stats.PermutationMethod()`.)\n",
      "  ad.append(anderson_ksamp([X_mcmc[i, :], X_true[i, :]]).statistic)\n"
     ]
    },
    {
     "name": "stdout",
     "output_type": "stream",
     "text": [
      "Processed: SMBarker_accept_0.25_n_1e+06 | trial 11\n"
     ]
    },
    {
     "name": "stderr",
     "output_type": "stream",
     "text": [
      "/Users/m250/Documents/UCL/FYP/src/metrics.py:38: UserWarning: p-value floored: true value smaller than 0.001. Consider specifying `method` (e.g. `method=stats.PermutationMethod()`.)\n",
      "  ad.append(anderson_ksamp([X_mcmc[i, :], X_true[i, :]]).statistic)\n"
     ]
    },
    {
     "name": "stdout",
     "output_type": "stream",
     "text": [
      "Processed: SMBarker_accept_0.25_n_1e+06 | trial 12\n"
     ]
    },
    {
     "name": "stderr",
     "output_type": "stream",
     "text": [
      "/Users/m250/Documents/UCL/FYP/src/metrics.py:38: UserWarning: p-value floored: true value smaller than 0.001. Consider specifying `method` (e.g. `method=stats.PermutationMethod()`.)\n",
      "  ad.append(anderson_ksamp([X_mcmc[i, :], X_true[i, :]]).statistic)\n"
     ]
    },
    {
     "name": "stdout",
     "output_type": "stream",
     "text": [
      "Processed: SMBarker_accept_0.25_n_1e+06 | trial 13\n"
     ]
    },
    {
     "name": "stderr",
     "output_type": "stream",
     "text": [
      "/Users/m250/Documents/UCL/FYP/src/metrics.py:38: UserWarning: p-value floored: true value smaller than 0.001. Consider specifying `method` (e.g. `method=stats.PermutationMethod()`.)\n",
      "  ad.append(anderson_ksamp([X_mcmc[i, :], X_true[i, :]]).statistic)\n"
     ]
    },
    {
     "name": "stdout",
     "output_type": "stream",
     "text": [
      "Processed: SMBarker_accept_0.25_n_1e+06 | trial 14\n"
     ]
    },
    {
     "name": "stderr",
     "output_type": "stream",
     "text": [
      "/Users/m250/Documents/UCL/FYP/src/metrics.py:38: UserWarning: p-value floored: true value smaller than 0.001. Consider specifying `method` (e.g. `method=stats.PermutationMethod()`.)\n",
      "  ad.append(anderson_ksamp([X_mcmc[i, :], X_true[i, :]]).statistic)\n"
     ]
    },
    {
     "name": "stdout",
     "output_type": "stream",
     "text": [
      "Processed: SMBarker_accept_0.25_n_1e+06 | trial 15\n"
     ]
    },
    {
     "name": "stderr",
     "output_type": "stream",
     "text": [
      "/Users/m250/Documents/UCL/FYP/src/metrics.py:38: UserWarning: p-value floored: true value smaller than 0.001. Consider specifying `method` (e.g. `method=stats.PermutationMethod()`.)\n",
      "  ad.append(anderson_ksamp([X_mcmc[i, :], X_true[i, :]]).statistic)\n"
     ]
    },
    {
     "name": "stdout",
     "output_type": "stream",
     "text": [
      "Processed: SMBarker_accept_0.25_n_1e+06 | trial 16\n"
     ]
    },
    {
     "name": "stderr",
     "output_type": "stream",
     "text": [
      "/Users/m250/Documents/UCL/FYP/src/metrics.py:38: UserWarning: p-value floored: true value smaller than 0.001. Consider specifying `method` (e.g. `method=stats.PermutationMethod()`.)\n",
      "  ad.append(anderson_ksamp([X_mcmc[i, :], X_true[i, :]]).statistic)\n"
     ]
    },
    {
     "name": "stdout",
     "output_type": "stream",
     "text": [
      "Processed: SMBarker_accept_0.25_n_1e+06 | trial 17\n"
     ]
    },
    {
     "name": "stderr",
     "output_type": "stream",
     "text": [
      "/Users/m250/Documents/UCL/FYP/src/metrics.py:38: UserWarning: p-value floored: true value smaller than 0.001. Consider specifying `method` (e.g. `method=stats.PermutationMethod()`.)\n",
      "  ad.append(anderson_ksamp([X_mcmc[i, :], X_true[i, :]]).statistic)\n"
     ]
    },
    {
     "name": "stdout",
     "output_type": "stream",
     "text": [
      "Processed: SMBarker_accept_0.25_n_1e+06 | trial 18\n"
     ]
    },
    {
     "name": "stderr",
     "output_type": "stream",
     "text": [
      "/Users/m250/Documents/UCL/FYP/src/metrics.py:38: UserWarning: p-value floored: true value smaller than 0.001. Consider specifying `method` (e.g. `method=stats.PermutationMethod()`.)\n",
      "  ad.append(anderson_ksamp([X_mcmc[i, :], X_true[i, :]]).statistic)\n"
     ]
    },
    {
     "name": "stdout",
     "output_type": "stream",
     "text": [
      "Processed: SMBarker_accept_0.25_n_1e+06 | trial 19\n"
     ]
    },
    {
     "name": "stderr",
     "output_type": "stream",
     "text": [
      "/Users/m250/Documents/UCL/FYP/src/metrics.py:38: UserWarning: p-value floored: true value smaller than 0.001. Consider specifying `method` (e.g. `method=stats.PermutationMethod()`.)\n",
      "  ad.append(anderson_ksamp([X_mcmc[i, :], X_true[i, :]]).statistic)\n"
     ]
    },
    {
     "name": "stdout",
     "output_type": "stream",
     "text": [
      "Processed: SMBarker_accept_0.25_n_1e+06 | trial 20\n"
     ]
    },
    {
     "name": "stderr",
     "output_type": "stream",
     "text": [
      "/Users/m250/Documents/UCL/FYP/src/metrics.py:38: UserWarning: p-value floored: true value smaller than 0.001. Consider specifying `method` (e.g. `method=stats.PermutationMethod()`.)\n",
      "  ad.append(anderson_ksamp([X_mcmc[i, :], X_true[i, :]]).statistic)\n"
     ]
    },
    {
     "name": "stdout",
     "output_type": "stream",
     "text": [
      "Processed: SMBarker_accept_0.25_n_1e+06 | trial 21\n"
     ]
    },
    {
     "name": "stderr",
     "output_type": "stream",
     "text": [
      "/Users/m250/Documents/UCL/FYP/src/metrics.py:38: UserWarning: p-value floored: true value smaller than 0.001. Consider specifying `method` (e.g. `method=stats.PermutationMethod()`.)\n",
      "  ad.append(anderson_ksamp([X_mcmc[i, :], X_true[i, :]]).statistic)\n"
     ]
    },
    {
     "name": "stdout",
     "output_type": "stream",
     "text": [
      "Processed: SMBarker_accept_0.25_n_1e+06 | trial 22\n"
     ]
    },
    {
     "name": "stderr",
     "output_type": "stream",
     "text": [
      "/Users/m250/Documents/UCL/FYP/src/metrics.py:38: UserWarning: p-value floored: true value smaller than 0.001. Consider specifying `method` (e.g. `method=stats.PermutationMethod()`.)\n",
      "  ad.append(anderson_ksamp([X_mcmc[i, :], X_true[i, :]]).statistic)\n"
     ]
    },
    {
     "name": "stdout",
     "output_type": "stream",
     "text": [
      "Processed: SMBarker_accept_0.25_n_1e+06 | trial 23\n"
     ]
    },
    {
     "name": "stderr",
     "output_type": "stream",
     "text": [
      "/Users/m250/Documents/UCL/FYP/src/metrics.py:38: UserWarning: p-value floored: true value smaller than 0.001. Consider specifying `method` (e.g. `method=stats.PermutationMethod()`.)\n",
      "  ad.append(anderson_ksamp([X_mcmc[i, :], X_true[i, :]]).statistic)\n"
     ]
    },
    {
     "name": "stdout",
     "output_type": "stream",
     "text": [
      "Processed: SMBarker_accept_0.25_n_1e+06 | trial 24\n"
     ]
    },
    {
     "name": "stderr",
     "output_type": "stream",
     "text": [
      "/Users/m250/Documents/UCL/FYP/src/metrics.py:38: UserWarning: p-value floored: true value smaller than 0.001. Consider specifying `method` (e.g. `method=stats.PermutationMethod()`.)\n",
      "  ad.append(anderson_ksamp([X_mcmc[i, :], X_true[i, :]]).statistic)\n"
     ]
    },
    {
     "name": "stdout",
     "output_type": "stream",
     "text": [
      "Processed: SMBarker_accept_0.25_n_1e+06 | trial 25\n"
     ]
    },
    {
     "name": "stderr",
     "output_type": "stream",
     "text": [
      "/Users/m250/Documents/UCL/FYP/src/metrics.py:38: UserWarning: p-value floored: true value smaller than 0.001. Consider specifying `method` (e.g. `method=stats.PermutationMethod()`.)\n",
      "  ad.append(anderson_ksamp([X_mcmc[i, :], X_true[i, :]]).statistic)\n"
     ]
    },
    {
     "name": "stdout",
     "output_type": "stream",
     "text": [
      "Processed: SMBarker_accept_0.25_n_1e+06 | trial 26\n"
     ]
    },
    {
     "name": "stderr",
     "output_type": "stream",
     "text": [
      "/Users/m250/Documents/UCL/FYP/src/metrics.py:38: UserWarning: p-value floored: true value smaller than 0.001. Consider specifying `method` (e.g. `method=stats.PermutationMethod()`.)\n",
      "  ad.append(anderson_ksamp([X_mcmc[i, :], X_true[i, :]]).statistic)\n"
     ]
    },
    {
     "name": "stdout",
     "output_type": "stream",
     "text": [
      "Processed: SMBarker_accept_0.25_n_1e+06 | trial 27\n"
     ]
    },
    {
     "name": "stderr",
     "output_type": "stream",
     "text": [
      "/Users/m250/Documents/UCL/FYP/src/metrics.py:38: UserWarning: p-value floored: true value smaller than 0.001. Consider specifying `method` (e.g. `method=stats.PermutationMethod()`.)\n",
      "  ad.append(anderson_ksamp([X_mcmc[i, :], X_true[i, :]]).statistic)\n"
     ]
    },
    {
     "name": "stdout",
     "output_type": "stream",
     "text": [
      "Processed: SMBarker_accept_0.25_n_1e+06 | trial 28\n"
     ]
    },
    {
     "name": "stderr",
     "output_type": "stream",
     "text": [
      "/Users/m250/Documents/UCL/FYP/src/metrics.py:38: UserWarning: p-value floored: true value smaller than 0.001. Consider specifying `method` (e.g. `method=stats.PermutationMethod()`.)\n",
      "  ad.append(anderson_ksamp([X_mcmc[i, :], X_true[i, :]]).statistic)\n"
     ]
    },
    {
     "name": "stdout",
     "output_type": "stream",
     "text": [
      "Processed: SMBarker_accept_0.25_n_1e+06 | trial 29\n"
     ]
    },
    {
     "name": "stderr",
     "output_type": "stream",
     "text": [
      "/Users/m250/Documents/UCL/FYP/src/metrics.py:38: UserWarning: p-value floored: true value smaller than 0.001. Consider specifying `method` (e.g. `method=stats.PermutationMethod()`.)\n",
      "  ad.append(anderson_ksamp([X_mcmc[i, :], X_true[i, :]]).statistic)\n"
     ]
    },
    {
     "name": "stdout",
     "output_type": "stream",
     "text": [
      "Processed: SMBarker_accept_0.25_n_1e+06 | trial 30\n"
     ]
    },
    {
     "name": "stderr",
     "output_type": "stream",
     "text": [
      "/Users/m250/Documents/UCL/FYP/src/metrics.py:38: UserWarning: p-value floored: true value smaller than 0.001. Consider specifying `method` (e.g. `method=stats.PermutationMethod()`.)\n",
      "  ad.append(anderson_ksamp([X_mcmc[i, :], X_true[i, :]]).statistic)\n"
     ]
    },
    {
     "name": "stdout",
     "output_type": "stream",
     "text": [
      "Processed: SMBarker_accept_0.40_n_1e+06 | trial 1\n"
     ]
    },
    {
     "name": "stderr",
     "output_type": "stream",
     "text": [
      "/Users/m250/Documents/UCL/FYP/src/metrics.py:38: UserWarning: p-value floored: true value smaller than 0.001. Consider specifying `method` (e.g. `method=stats.PermutationMethod()`.)\n",
      "  ad.append(anderson_ksamp([X_mcmc[i, :], X_true[i, :]]).statistic)\n"
     ]
    },
    {
     "name": "stdout",
     "output_type": "stream",
     "text": [
      "Processed: SMBarker_accept_0.40_n_1e+06 | trial 2\n"
     ]
    },
    {
     "name": "stderr",
     "output_type": "stream",
     "text": [
      "/Users/m250/Documents/UCL/FYP/src/metrics.py:38: UserWarning: p-value floored: true value smaller than 0.001. Consider specifying `method` (e.g. `method=stats.PermutationMethod()`.)\n",
      "  ad.append(anderson_ksamp([X_mcmc[i, :], X_true[i, :]]).statistic)\n"
     ]
    },
    {
     "name": "stdout",
     "output_type": "stream",
     "text": [
      "Processed: SMBarker_accept_0.40_n_1e+06 | trial 3\n"
     ]
    },
    {
     "name": "stderr",
     "output_type": "stream",
     "text": [
      "/Users/m250/Documents/UCL/FYP/src/metrics.py:38: UserWarning: p-value floored: true value smaller than 0.001. Consider specifying `method` (e.g. `method=stats.PermutationMethod()`.)\n",
      "  ad.append(anderson_ksamp([X_mcmc[i, :], X_true[i, :]]).statistic)\n"
     ]
    },
    {
     "name": "stdout",
     "output_type": "stream",
     "text": [
      "Processed: SMBarker_accept_0.40_n_1e+06 | trial 4\n"
     ]
    },
    {
     "name": "stderr",
     "output_type": "stream",
     "text": [
      "/Users/m250/Documents/UCL/FYP/src/metrics.py:38: UserWarning: p-value floored: true value smaller than 0.001. Consider specifying `method` (e.g. `method=stats.PermutationMethod()`.)\n",
      "  ad.append(anderson_ksamp([X_mcmc[i, :], X_true[i, :]]).statistic)\n"
     ]
    },
    {
     "name": "stdout",
     "output_type": "stream",
     "text": [
      "Processed: SMBarker_accept_0.40_n_1e+06 | trial 5\n"
     ]
    },
    {
     "name": "stderr",
     "output_type": "stream",
     "text": [
      "/Users/m250/Documents/UCL/FYP/src/metrics.py:38: UserWarning: p-value floored: true value smaller than 0.001. Consider specifying `method` (e.g. `method=stats.PermutationMethod()`.)\n",
      "  ad.append(anderson_ksamp([X_mcmc[i, :], X_true[i, :]]).statistic)\n"
     ]
    },
    {
     "name": "stdout",
     "output_type": "stream",
     "text": [
      "Processed: SMBarker_accept_0.40_n_1e+06 | trial 6\n"
     ]
    },
    {
     "name": "stderr",
     "output_type": "stream",
     "text": [
      "/Users/m250/Documents/UCL/FYP/src/metrics.py:38: UserWarning: p-value floored: true value smaller than 0.001. Consider specifying `method` (e.g. `method=stats.PermutationMethod()`.)\n",
      "  ad.append(anderson_ksamp([X_mcmc[i, :], X_true[i, :]]).statistic)\n"
     ]
    },
    {
     "name": "stdout",
     "output_type": "stream",
     "text": [
      "Processed: SMBarker_accept_0.40_n_1e+06 | trial 7\n"
     ]
    },
    {
     "name": "stderr",
     "output_type": "stream",
     "text": [
      "/Users/m250/Documents/UCL/FYP/src/metrics.py:38: UserWarning: p-value floored: true value smaller than 0.001. Consider specifying `method` (e.g. `method=stats.PermutationMethod()`.)\n",
      "  ad.append(anderson_ksamp([X_mcmc[i, :], X_true[i, :]]).statistic)\n"
     ]
    },
    {
     "name": "stdout",
     "output_type": "stream",
     "text": [
      "Processed: SMBarker_accept_0.40_n_1e+06 | trial 8\n"
     ]
    },
    {
     "name": "stderr",
     "output_type": "stream",
     "text": [
      "/Users/m250/Documents/UCL/FYP/src/metrics.py:38: UserWarning: p-value floored: true value smaller than 0.001. Consider specifying `method` (e.g. `method=stats.PermutationMethod()`.)\n",
      "  ad.append(anderson_ksamp([X_mcmc[i, :], X_true[i, :]]).statistic)\n"
     ]
    },
    {
     "name": "stdout",
     "output_type": "stream",
     "text": [
      "Processed: SMBarker_accept_0.40_n_1e+06 | trial 9\n"
     ]
    },
    {
     "name": "stderr",
     "output_type": "stream",
     "text": [
      "/Users/m250/Documents/UCL/FYP/src/metrics.py:38: UserWarning: p-value floored: true value smaller than 0.001. Consider specifying `method` (e.g. `method=stats.PermutationMethod()`.)\n",
      "  ad.append(anderson_ksamp([X_mcmc[i, :], X_true[i, :]]).statistic)\n"
     ]
    },
    {
     "name": "stdout",
     "output_type": "stream",
     "text": [
      "Processed: SMBarker_accept_0.40_n_1e+06 | trial 10\n"
     ]
    },
    {
     "name": "stderr",
     "output_type": "stream",
     "text": [
      "/Users/m250/Documents/UCL/FYP/src/metrics.py:38: UserWarning: p-value floored: true value smaller than 0.001. Consider specifying `method` (e.g. `method=stats.PermutationMethod()`.)\n",
      "  ad.append(anderson_ksamp([X_mcmc[i, :], X_true[i, :]]).statistic)\n"
     ]
    },
    {
     "name": "stdout",
     "output_type": "stream",
     "text": [
      "Processed: SMBarker_accept_0.40_n_1e+06 | trial 11\n"
     ]
    },
    {
     "name": "stderr",
     "output_type": "stream",
     "text": [
      "/Users/m250/Documents/UCL/FYP/src/metrics.py:38: UserWarning: p-value floored: true value smaller than 0.001. Consider specifying `method` (e.g. `method=stats.PermutationMethod()`.)\n",
      "  ad.append(anderson_ksamp([X_mcmc[i, :], X_true[i, :]]).statistic)\n"
     ]
    },
    {
     "name": "stdout",
     "output_type": "stream",
     "text": [
      "Processed: SMBarker_accept_0.40_n_1e+06 | trial 12\n"
     ]
    },
    {
     "name": "stderr",
     "output_type": "stream",
     "text": [
      "/Users/m250/Documents/UCL/FYP/src/metrics.py:38: UserWarning: p-value floored: true value smaller than 0.001. Consider specifying `method` (e.g. `method=stats.PermutationMethod()`.)\n",
      "  ad.append(anderson_ksamp([X_mcmc[i, :], X_true[i, :]]).statistic)\n"
     ]
    },
    {
     "name": "stdout",
     "output_type": "stream",
     "text": [
      "Processed: SMBarker_accept_0.40_n_1e+06 | trial 13\n"
     ]
    },
    {
     "name": "stderr",
     "output_type": "stream",
     "text": [
      "/Users/m250/Documents/UCL/FYP/src/metrics.py:38: UserWarning: p-value floored: true value smaller than 0.001. Consider specifying `method` (e.g. `method=stats.PermutationMethod()`.)\n",
      "  ad.append(anderson_ksamp([X_mcmc[i, :], X_true[i, :]]).statistic)\n"
     ]
    },
    {
     "name": "stdout",
     "output_type": "stream",
     "text": [
      "Processed: SMBarker_accept_0.40_n_1e+06 | trial 14\n"
     ]
    },
    {
     "name": "stderr",
     "output_type": "stream",
     "text": [
      "/Users/m250/Documents/UCL/FYP/src/metrics.py:38: UserWarning: p-value floored: true value smaller than 0.001. Consider specifying `method` (e.g. `method=stats.PermutationMethod()`.)\n",
      "  ad.append(anderson_ksamp([X_mcmc[i, :], X_true[i, :]]).statistic)\n"
     ]
    },
    {
     "name": "stdout",
     "output_type": "stream",
     "text": [
      "Processed: SMBarker_accept_0.40_n_1e+06 | trial 15\n"
     ]
    },
    {
     "name": "stderr",
     "output_type": "stream",
     "text": [
      "/Users/m250/Documents/UCL/FYP/src/metrics.py:38: UserWarning: p-value floored: true value smaller than 0.001. Consider specifying `method` (e.g. `method=stats.PermutationMethod()`.)\n",
      "  ad.append(anderson_ksamp([X_mcmc[i, :], X_true[i, :]]).statistic)\n"
     ]
    },
    {
     "name": "stdout",
     "output_type": "stream",
     "text": [
      "Processed: SMBarker_accept_0.40_n_1e+06 | trial 16\n"
     ]
    },
    {
     "name": "stderr",
     "output_type": "stream",
     "text": [
      "/Users/m250/Documents/UCL/FYP/src/metrics.py:38: UserWarning: p-value floored: true value smaller than 0.001. Consider specifying `method` (e.g. `method=stats.PermutationMethod()`.)\n",
      "  ad.append(anderson_ksamp([X_mcmc[i, :], X_true[i, :]]).statistic)\n"
     ]
    },
    {
     "name": "stdout",
     "output_type": "stream",
     "text": [
      "Processed: SMBarker_accept_0.40_n_1e+06 | trial 17\n"
     ]
    },
    {
     "name": "stderr",
     "output_type": "stream",
     "text": [
      "/Users/m250/Documents/UCL/FYP/src/metrics.py:38: UserWarning: p-value floored: true value smaller than 0.001. Consider specifying `method` (e.g. `method=stats.PermutationMethod()`.)\n",
      "  ad.append(anderson_ksamp([X_mcmc[i, :], X_true[i, :]]).statistic)\n"
     ]
    },
    {
     "name": "stdout",
     "output_type": "stream",
     "text": [
      "Processed: SMBarker_accept_0.40_n_1e+06 | trial 18\n"
     ]
    },
    {
     "name": "stderr",
     "output_type": "stream",
     "text": [
      "/Users/m250/Documents/UCL/FYP/src/metrics.py:38: UserWarning: p-value floored: true value smaller than 0.001. Consider specifying `method` (e.g. `method=stats.PermutationMethod()`.)\n",
      "  ad.append(anderson_ksamp([X_mcmc[i, :], X_true[i, :]]).statistic)\n"
     ]
    },
    {
     "name": "stdout",
     "output_type": "stream",
     "text": [
      "Processed: SMBarker_accept_0.40_n_1e+06 | trial 19\n"
     ]
    },
    {
     "name": "stderr",
     "output_type": "stream",
     "text": [
      "/Users/m250/Documents/UCL/FYP/src/metrics.py:38: UserWarning: p-value floored: true value smaller than 0.001. Consider specifying `method` (e.g. `method=stats.PermutationMethod()`.)\n",
      "  ad.append(anderson_ksamp([X_mcmc[i, :], X_true[i, :]]).statistic)\n"
     ]
    },
    {
     "name": "stdout",
     "output_type": "stream",
     "text": [
      "Processed: SMBarker_accept_0.40_n_1e+06 | trial 20\n"
     ]
    },
    {
     "name": "stderr",
     "output_type": "stream",
     "text": [
      "/Users/m250/Documents/UCL/FYP/src/metrics.py:38: UserWarning: p-value floored: true value smaller than 0.001. Consider specifying `method` (e.g. `method=stats.PermutationMethod()`.)\n",
      "  ad.append(anderson_ksamp([X_mcmc[i, :], X_true[i, :]]).statistic)\n"
     ]
    },
    {
     "name": "stdout",
     "output_type": "stream",
     "text": [
      "Processed: SMBarker_accept_0.40_n_1e+06 | trial 21\n"
     ]
    },
    {
     "name": "stderr",
     "output_type": "stream",
     "text": [
      "/Users/m250/Documents/UCL/FYP/src/metrics.py:38: UserWarning: p-value floored: true value smaller than 0.001. Consider specifying `method` (e.g. `method=stats.PermutationMethod()`.)\n",
      "  ad.append(anderson_ksamp([X_mcmc[i, :], X_true[i, :]]).statistic)\n"
     ]
    },
    {
     "name": "stdout",
     "output_type": "stream",
     "text": [
      "Processed: SMBarker_accept_0.40_n_1e+06 | trial 22\n"
     ]
    },
    {
     "name": "stderr",
     "output_type": "stream",
     "text": [
      "/Users/m250/Documents/UCL/FYP/src/metrics.py:38: UserWarning: p-value floored: true value smaller than 0.001. Consider specifying `method` (e.g. `method=stats.PermutationMethod()`.)\n",
      "  ad.append(anderson_ksamp([X_mcmc[i, :], X_true[i, :]]).statistic)\n"
     ]
    },
    {
     "name": "stdout",
     "output_type": "stream",
     "text": [
      "Processed: SMBarker_accept_0.40_n_1e+06 | trial 23\n"
     ]
    },
    {
     "name": "stderr",
     "output_type": "stream",
     "text": [
      "/Users/m250/Documents/UCL/FYP/src/metrics.py:38: UserWarning: p-value floored: true value smaller than 0.001. Consider specifying `method` (e.g. `method=stats.PermutationMethod()`.)\n",
      "  ad.append(anderson_ksamp([X_mcmc[i, :], X_true[i, :]]).statistic)\n"
     ]
    },
    {
     "name": "stdout",
     "output_type": "stream",
     "text": [
      "Processed: SMBarker_accept_0.40_n_1e+06 | trial 24\n"
     ]
    },
    {
     "name": "stderr",
     "output_type": "stream",
     "text": [
      "/Users/m250/Documents/UCL/FYP/src/metrics.py:38: UserWarning: p-value floored: true value smaller than 0.001. Consider specifying `method` (e.g. `method=stats.PermutationMethod()`.)\n",
      "  ad.append(anderson_ksamp([X_mcmc[i, :], X_true[i, :]]).statistic)\n"
     ]
    },
    {
     "name": "stdout",
     "output_type": "stream",
     "text": [
      "Processed: SMBarker_accept_0.40_n_1e+06 | trial 25\n"
     ]
    },
    {
     "name": "stderr",
     "output_type": "stream",
     "text": [
      "/Users/m250/Documents/UCL/FYP/src/metrics.py:38: UserWarning: p-value floored: true value smaller than 0.001. Consider specifying `method` (e.g. `method=stats.PermutationMethod()`.)\n",
      "  ad.append(anderson_ksamp([X_mcmc[i, :], X_true[i, :]]).statistic)\n"
     ]
    },
    {
     "name": "stdout",
     "output_type": "stream",
     "text": [
      "Processed: SMBarker_accept_0.40_n_1e+06 | trial 26\n"
     ]
    },
    {
     "name": "stderr",
     "output_type": "stream",
     "text": [
      "/Users/m250/Documents/UCL/FYP/src/metrics.py:38: UserWarning: p-value floored: true value smaller than 0.001. Consider specifying `method` (e.g. `method=stats.PermutationMethod()`.)\n",
      "  ad.append(anderson_ksamp([X_mcmc[i, :], X_true[i, :]]).statistic)\n"
     ]
    },
    {
     "name": "stdout",
     "output_type": "stream",
     "text": [
      "Processed: SMBarker_accept_0.40_n_1e+06 | trial 27\n"
     ]
    },
    {
     "name": "stderr",
     "output_type": "stream",
     "text": [
      "/Users/m250/Documents/UCL/FYP/src/metrics.py:38: UserWarning: p-value floored: true value smaller than 0.001. Consider specifying `method` (e.g. `method=stats.PermutationMethod()`.)\n",
      "  ad.append(anderson_ksamp([X_mcmc[i, :], X_true[i, :]]).statistic)\n"
     ]
    },
    {
     "name": "stdout",
     "output_type": "stream",
     "text": [
      "Processed: SMBarker_accept_0.40_n_1e+06 | trial 28\n"
     ]
    },
    {
     "name": "stderr",
     "output_type": "stream",
     "text": [
      "/Users/m250/Documents/UCL/FYP/src/metrics.py:38: UserWarning: p-value floored: true value smaller than 0.001. Consider specifying `method` (e.g. `method=stats.PermutationMethod()`.)\n",
      "  ad.append(anderson_ksamp([X_mcmc[i, :], X_true[i, :]]).statistic)\n"
     ]
    },
    {
     "name": "stdout",
     "output_type": "stream",
     "text": [
      "Processed: SMBarker_accept_0.40_n_1e+06 | trial 29\n"
     ]
    },
    {
     "name": "stderr",
     "output_type": "stream",
     "text": [
      "/Users/m250/Documents/UCL/FYP/src/metrics.py:38: UserWarning: p-value floored: true value smaller than 0.001. Consider specifying `method` (e.g. `method=stats.PermutationMethod()`.)\n",
      "  ad.append(anderson_ksamp([X_mcmc[i, :], X_true[i, :]]).statistic)\n"
     ]
    },
    {
     "name": "stdout",
     "output_type": "stream",
     "text": [
      "Processed: SMBarker_accept_0.40_n_1e+06 | trial 30\n"
     ]
    },
    {
     "name": "stderr",
     "output_type": "stream",
     "text": [
      "/Users/m250/Documents/UCL/FYP/src/metrics.py:38: UserWarning: p-value floored: true value smaller than 0.001. Consider specifying `method` (e.g. `method=stats.PermutationMethod()`.)\n",
      "  ad.append(anderson_ksamp([X_mcmc[i, :], X_true[i, :]]).statistic)\n"
     ]
    },
    {
     "name": "stdout",
     "output_type": "stream",
     "text": [
      "Processed: SMBarker_accept_0.55_n_1e+06 | trial 1\n"
     ]
    },
    {
     "name": "stderr",
     "output_type": "stream",
     "text": [
      "/Users/m250/Documents/UCL/FYP/src/metrics.py:38: UserWarning: p-value floored: true value smaller than 0.001. Consider specifying `method` (e.g. `method=stats.PermutationMethod()`.)\n",
      "  ad.append(anderson_ksamp([X_mcmc[i, :], X_true[i, :]]).statistic)\n"
     ]
    },
    {
     "name": "stdout",
     "output_type": "stream",
     "text": [
      "Processed: SMBarker_accept_0.55_n_1e+06 | trial 2\n"
     ]
    },
    {
     "name": "stderr",
     "output_type": "stream",
     "text": [
      "/Users/m250/Documents/UCL/FYP/src/metrics.py:38: UserWarning: p-value floored: true value smaller than 0.001. Consider specifying `method` (e.g. `method=stats.PermutationMethod()`.)\n",
      "  ad.append(anderson_ksamp([X_mcmc[i, :], X_true[i, :]]).statistic)\n"
     ]
    },
    {
     "name": "stdout",
     "output_type": "stream",
     "text": [
      "Processed: SMBarker_accept_0.55_n_1e+06 | trial 3\n"
     ]
    },
    {
     "name": "stderr",
     "output_type": "stream",
     "text": [
      "/Users/m250/Documents/UCL/FYP/src/metrics.py:38: UserWarning: p-value floored: true value smaller than 0.001. Consider specifying `method` (e.g. `method=stats.PermutationMethod()`.)\n",
      "  ad.append(anderson_ksamp([X_mcmc[i, :], X_true[i, :]]).statistic)\n"
     ]
    },
    {
     "name": "stdout",
     "output_type": "stream",
     "text": [
      "Processed: SMBarker_accept_0.55_n_1e+06 | trial 4\n"
     ]
    },
    {
     "name": "stderr",
     "output_type": "stream",
     "text": [
      "/Users/m250/Documents/UCL/FYP/src/metrics.py:38: UserWarning: p-value floored: true value smaller than 0.001. Consider specifying `method` (e.g. `method=stats.PermutationMethod()`.)\n",
      "  ad.append(anderson_ksamp([X_mcmc[i, :], X_true[i, :]]).statistic)\n"
     ]
    },
    {
     "name": "stdout",
     "output_type": "stream",
     "text": [
      "Processed: SMBarker_accept_0.55_n_1e+06 | trial 5\n"
     ]
    },
    {
     "name": "stderr",
     "output_type": "stream",
     "text": [
      "/Users/m250/Documents/UCL/FYP/src/metrics.py:38: UserWarning: p-value floored: true value smaller than 0.001. Consider specifying `method` (e.g. `method=stats.PermutationMethod()`.)\n",
      "  ad.append(anderson_ksamp([X_mcmc[i, :], X_true[i, :]]).statistic)\n"
     ]
    },
    {
     "name": "stdout",
     "output_type": "stream",
     "text": [
      "Processed: SMBarker_accept_0.55_n_1e+06 | trial 6\n"
     ]
    },
    {
     "name": "stderr",
     "output_type": "stream",
     "text": [
      "/Users/m250/Documents/UCL/FYP/src/metrics.py:38: UserWarning: p-value floored: true value smaller than 0.001. Consider specifying `method` (e.g. `method=stats.PermutationMethod()`.)\n",
      "  ad.append(anderson_ksamp([X_mcmc[i, :], X_true[i, :]]).statistic)\n"
     ]
    },
    {
     "name": "stdout",
     "output_type": "stream",
     "text": [
      "Processed: SMBarker_accept_0.55_n_1e+06 | trial 7\n"
     ]
    },
    {
     "name": "stderr",
     "output_type": "stream",
     "text": [
      "/Users/m250/Documents/UCL/FYP/src/metrics.py:38: UserWarning: p-value floored: true value smaller than 0.001. Consider specifying `method` (e.g. `method=stats.PermutationMethod()`.)\n",
      "  ad.append(anderson_ksamp([X_mcmc[i, :], X_true[i, :]]).statistic)\n"
     ]
    },
    {
     "name": "stdout",
     "output_type": "stream",
     "text": [
      "Processed: SMBarker_accept_0.55_n_1e+06 | trial 8\n"
     ]
    },
    {
     "name": "stderr",
     "output_type": "stream",
     "text": [
      "/Users/m250/Documents/UCL/FYP/src/metrics.py:38: UserWarning: p-value floored: true value smaller than 0.001. Consider specifying `method` (e.g. `method=stats.PermutationMethod()`.)\n",
      "  ad.append(anderson_ksamp([X_mcmc[i, :], X_true[i, :]]).statistic)\n"
     ]
    },
    {
     "name": "stdout",
     "output_type": "stream",
     "text": [
      "Processed: SMBarker_accept_0.55_n_1e+06 | trial 9\n"
     ]
    },
    {
     "name": "stderr",
     "output_type": "stream",
     "text": [
      "/Users/m250/Documents/UCL/FYP/src/metrics.py:38: UserWarning: p-value floored: true value smaller than 0.001. Consider specifying `method` (e.g. `method=stats.PermutationMethod()`.)\n",
      "  ad.append(anderson_ksamp([X_mcmc[i, :], X_true[i, :]]).statistic)\n"
     ]
    },
    {
     "name": "stdout",
     "output_type": "stream",
     "text": [
      "Processed: SMBarker_accept_0.55_n_1e+06 | trial 10\n"
     ]
    },
    {
     "name": "stderr",
     "output_type": "stream",
     "text": [
      "/Users/m250/Documents/UCL/FYP/src/metrics.py:38: UserWarning: p-value floored: true value smaller than 0.001. Consider specifying `method` (e.g. `method=stats.PermutationMethod()`.)\n",
      "  ad.append(anderson_ksamp([X_mcmc[i, :], X_true[i, :]]).statistic)\n"
     ]
    },
    {
     "name": "stdout",
     "output_type": "stream",
     "text": [
      "Processed: SMBarker_accept_0.55_n_1e+06 | trial 11\n"
     ]
    },
    {
     "name": "stderr",
     "output_type": "stream",
     "text": [
      "/Users/m250/Documents/UCL/FYP/src/metrics.py:38: UserWarning: p-value floored: true value smaller than 0.001. Consider specifying `method` (e.g. `method=stats.PermutationMethod()`.)\n",
      "  ad.append(anderson_ksamp([X_mcmc[i, :], X_true[i, :]]).statistic)\n"
     ]
    },
    {
     "name": "stdout",
     "output_type": "stream",
     "text": [
      "Processed: SMBarker_accept_0.55_n_1e+06 | trial 12\n"
     ]
    },
    {
     "name": "stderr",
     "output_type": "stream",
     "text": [
      "/Users/m250/Documents/UCL/FYP/src/metrics.py:38: UserWarning: p-value floored: true value smaller than 0.001. Consider specifying `method` (e.g. `method=stats.PermutationMethod()`.)\n",
      "  ad.append(anderson_ksamp([X_mcmc[i, :], X_true[i, :]]).statistic)\n"
     ]
    },
    {
     "name": "stdout",
     "output_type": "stream",
     "text": [
      "Processed: SMBarker_accept_0.55_n_1e+06 | trial 13\n"
     ]
    },
    {
     "name": "stderr",
     "output_type": "stream",
     "text": [
      "/Users/m250/Documents/UCL/FYP/src/metrics.py:38: UserWarning: p-value floored: true value smaller than 0.001. Consider specifying `method` (e.g. `method=stats.PermutationMethod()`.)\n",
      "  ad.append(anderson_ksamp([X_mcmc[i, :], X_true[i, :]]).statistic)\n"
     ]
    },
    {
     "name": "stdout",
     "output_type": "stream",
     "text": [
      "Processed: SMBarker_accept_0.55_n_1e+06 | trial 14\n"
     ]
    },
    {
     "name": "stderr",
     "output_type": "stream",
     "text": [
      "/Users/m250/Documents/UCL/FYP/src/metrics.py:38: UserWarning: p-value floored: true value smaller than 0.001. Consider specifying `method` (e.g. `method=stats.PermutationMethod()`.)\n",
      "  ad.append(anderson_ksamp([X_mcmc[i, :], X_true[i, :]]).statistic)\n"
     ]
    },
    {
     "name": "stdout",
     "output_type": "stream",
     "text": [
      "Processed: SMBarker_accept_0.55_n_1e+06 | trial 15\n"
     ]
    },
    {
     "name": "stderr",
     "output_type": "stream",
     "text": [
      "/Users/m250/Documents/UCL/FYP/src/metrics.py:38: UserWarning: p-value floored: true value smaller than 0.001. Consider specifying `method` (e.g. `method=stats.PermutationMethod()`.)\n",
      "  ad.append(anderson_ksamp([X_mcmc[i, :], X_true[i, :]]).statistic)\n"
     ]
    },
    {
     "name": "stdout",
     "output_type": "stream",
     "text": [
      "Processed: SMBarker_accept_0.55_n_1e+06 | trial 16\n"
     ]
    },
    {
     "name": "stderr",
     "output_type": "stream",
     "text": [
      "/Users/m250/Documents/UCL/FYP/src/metrics.py:38: UserWarning: p-value floored: true value smaller than 0.001. Consider specifying `method` (e.g. `method=stats.PermutationMethod()`.)\n",
      "  ad.append(anderson_ksamp([X_mcmc[i, :], X_true[i, :]]).statistic)\n"
     ]
    },
    {
     "name": "stdout",
     "output_type": "stream",
     "text": [
      "Processed: SMBarker_accept_0.55_n_1e+06 | trial 17\n"
     ]
    },
    {
     "name": "stderr",
     "output_type": "stream",
     "text": [
      "/Users/m250/Documents/UCL/FYP/src/metrics.py:38: UserWarning: p-value floored: true value smaller than 0.001. Consider specifying `method` (e.g. `method=stats.PermutationMethod()`.)\n",
      "  ad.append(anderson_ksamp([X_mcmc[i, :], X_true[i, :]]).statistic)\n"
     ]
    },
    {
     "name": "stdout",
     "output_type": "stream",
     "text": [
      "Processed: SMBarker_accept_0.55_n_1e+06 | trial 18\n"
     ]
    },
    {
     "name": "stderr",
     "output_type": "stream",
     "text": [
      "/Users/m250/Documents/UCL/FYP/src/metrics.py:38: UserWarning: p-value floored: true value smaller than 0.001. Consider specifying `method` (e.g. `method=stats.PermutationMethod()`.)\n",
      "  ad.append(anderson_ksamp([X_mcmc[i, :], X_true[i, :]]).statistic)\n"
     ]
    },
    {
     "name": "stdout",
     "output_type": "stream",
     "text": [
      "Processed: SMBarker_accept_0.55_n_1e+06 | trial 19\n"
     ]
    },
    {
     "name": "stderr",
     "output_type": "stream",
     "text": [
      "/Users/m250/Documents/UCL/FYP/src/metrics.py:38: UserWarning: p-value floored: true value smaller than 0.001. Consider specifying `method` (e.g. `method=stats.PermutationMethod()`.)\n",
      "  ad.append(anderson_ksamp([X_mcmc[i, :], X_true[i, :]]).statistic)\n"
     ]
    },
    {
     "name": "stdout",
     "output_type": "stream",
     "text": [
      "Processed: SMBarker_accept_0.55_n_1e+06 | trial 20\n"
     ]
    },
    {
     "name": "stderr",
     "output_type": "stream",
     "text": [
      "/Users/m250/Documents/UCL/FYP/src/metrics.py:38: UserWarning: p-value floored: true value smaller than 0.001. Consider specifying `method` (e.g. `method=stats.PermutationMethod()`.)\n",
      "  ad.append(anderson_ksamp([X_mcmc[i, :], X_true[i, :]]).statistic)\n"
     ]
    },
    {
     "name": "stdout",
     "output_type": "stream",
     "text": [
      "Processed: SMBarker_accept_0.55_n_1e+06 | trial 21\n"
     ]
    },
    {
     "name": "stderr",
     "output_type": "stream",
     "text": [
      "/Users/m250/Documents/UCL/FYP/src/metrics.py:38: UserWarning: p-value floored: true value smaller than 0.001. Consider specifying `method` (e.g. `method=stats.PermutationMethod()`.)\n",
      "  ad.append(anderson_ksamp([X_mcmc[i, :], X_true[i, :]]).statistic)\n"
     ]
    },
    {
     "name": "stdout",
     "output_type": "stream",
     "text": [
      "Processed: SMBarker_accept_0.55_n_1e+06 | trial 22\n"
     ]
    },
    {
     "name": "stderr",
     "output_type": "stream",
     "text": [
      "/Users/m250/Documents/UCL/FYP/src/metrics.py:38: UserWarning: p-value floored: true value smaller than 0.001. Consider specifying `method` (e.g. `method=stats.PermutationMethod()`.)\n",
      "  ad.append(anderson_ksamp([X_mcmc[i, :], X_true[i, :]]).statistic)\n"
     ]
    },
    {
     "name": "stdout",
     "output_type": "stream",
     "text": [
      "Processed: SMBarker_accept_0.55_n_1e+06 | trial 23\n"
     ]
    },
    {
     "name": "stderr",
     "output_type": "stream",
     "text": [
      "/Users/m250/Documents/UCL/FYP/src/metrics.py:38: UserWarning: p-value floored: true value smaller than 0.001. Consider specifying `method` (e.g. `method=stats.PermutationMethod()`.)\n",
      "  ad.append(anderson_ksamp([X_mcmc[i, :], X_true[i, :]]).statistic)\n"
     ]
    },
    {
     "name": "stdout",
     "output_type": "stream",
     "text": [
      "Processed: SMBarker_accept_0.55_n_1e+06 | trial 24\n"
     ]
    },
    {
     "name": "stderr",
     "output_type": "stream",
     "text": [
      "/Users/m250/Documents/UCL/FYP/src/metrics.py:38: UserWarning: p-value floored: true value smaller than 0.001. Consider specifying `method` (e.g. `method=stats.PermutationMethod()`.)\n",
      "  ad.append(anderson_ksamp([X_mcmc[i, :], X_true[i, :]]).statistic)\n"
     ]
    },
    {
     "name": "stdout",
     "output_type": "stream",
     "text": [
      "Processed: SMBarker_accept_0.55_n_1e+06 | trial 25\n"
     ]
    },
    {
     "name": "stderr",
     "output_type": "stream",
     "text": [
      "/Users/m250/Documents/UCL/FYP/src/metrics.py:38: UserWarning: p-value floored: true value smaller than 0.001. Consider specifying `method` (e.g. `method=stats.PermutationMethod()`.)\n",
      "  ad.append(anderson_ksamp([X_mcmc[i, :], X_true[i, :]]).statistic)\n"
     ]
    },
    {
     "name": "stdout",
     "output_type": "stream",
     "text": [
      "Processed: SMBarker_accept_0.55_n_1e+06 | trial 26\n"
     ]
    },
    {
     "name": "stderr",
     "output_type": "stream",
     "text": [
      "/Users/m250/Documents/UCL/FYP/src/metrics.py:38: UserWarning: p-value floored: true value smaller than 0.001. Consider specifying `method` (e.g. `method=stats.PermutationMethod()`.)\n",
      "  ad.append(anderson_ksamp([X_mcmc[i, :], X_true[i, :]]).statistic)\n"
     ]
    },
    {
     "name": "stdout",
     "output_type": "stream",
     "text": [
      "Processed: SMBarker_accept_0.55_n_1e+06 | trial 27\n"
     ]
    },
    {
     "name": "stderr",
     "output_type": "stream",
     "text": [
      "/Users/m250/Documents/UCL/FYP/src/metrics.py:38: UserWarning: p-value floored: true value smaller than 0.001. Consider specifying `method` (e.g. `method=stats.PermutationMethod()`.)\n",
      "  ad.append(anderson_ksamp([X_mcmc[i, :], X_true[i, :]]).statistic)\n"
     ]
    },
    {
     "name": "stdout",
     "output_type": "stream",
     "text": [
      "Processed: SMBarker_accept_0.55_n_1e+06 | trial 28\n"
     ]
    },
    {
     "name": "stderr",
     "output_type": "stream",
     "text": [
      "/Users/m250/Documents/UCL/FYP/src/metrics.py:38: UserWarning: p-value floored: true value smaller than 0.001. Consider specifying `method` (e.g. `method=stats.PermutationMethod()`.)\n",
      "  ad.append(anderson_ksamp([X_mcmc[i, :], X_true[i, :]]).statistic)\n"
     ]
    },
    {
     "name": "stdout",
     "output_type": "stream",
     "text": [
      "Processed: SMBarker_accept_0.55_n_1e+06 | trial 29\n"
     ]
    },
    {
     "name": "stderr",
     "output_type": "stream",
     "text": [
      "/Users/m250/Documents/UCL/FYP/src/metrics.py:38: UserWarning: p-value floored: true value smaller than 0.001. Consider specifying `method` (e.g. `method=stats.PermutationMethod()`.)\n",
      "  ad.append(anderson_ksamp([X_mcmc[i, :], X_true[i, :]]).statistic)\n"
     ]
    },
    {
     "name": "stdout",
     "output_type": "stream",
     "text": [
      "Processed: SMBarker_accept_0.55_n_1e+06 | trial 30\n"
     ]
    },
    {
     "name": "stderr",
     "output_type": "stream",
     "text": [
      "/Users/m250/Documents/UCL/FYP/src/metrics.py:38: UserWarning: p-value floored: true value smaller than 0.001. Consider specifying `method` (e.g. `method=stats.PermutationMethod()`.)\n",
      "  ad.append(anderson_ksamp([X_mcmc[i, :], X_true[i, :]]).statistic)\n"
     ]
    },
    {
     "name": "stdout",
     "output_type": "stream",
     "text": [
      "Processed: SMBarker_accept_0.70_n_1e+06 | trial 1\n"
     ]
    },
    {
     "name": "stderr",
     "output_type": "stream",
     "text": [
      "/Users/m250/Documents/UCL/FYP/src/metrics.py:38: UserWarning: p-value floored: true value smaller than 0.001. Consider specifying `method` (e.g. `method=stats.PermutationMethod()`.)\n",
      "  ad.append(anderson_ksamp([X_mcmc[i, :], X_true[i, :]]).statistic)\n"
     ]
    },
    {
     "name": "stdout",
     "output_type": "stream",
     "text": [
      "Processed: SMBarker_accept_0.70_n_1e+06 | trial 2\n"
     ]
    },
    {
     "name": "stderr",
     "output_type": "stream",
     "text": [
      "/Users/m250/Documents/UCL/FYP/src/metrics.py:38: UserWarning: p-value floored: true value smaller than 0.001. Consider specifying `method` (e.g. `method=stats.PermutationMethod()`.)\n",
      "  ad.append(anderson_ksamp([X_mcmc[i, :], X_true[i, :]]).statistic)\n"
     ]
    },
    {
     "name": "stdout",
     "output_type": "stream",
     "text": [
      "Processed: SMBarker_accept_0.70_n_1e+06 | trial 3\n"
     ]
    },
    {
     "name": "stderr",
     "output_type": "stream",
     "text": [
      "/Users/m250/Documents/UCL/FYP/src/metrics.py:38: UserWarning: p-value floored: true value smaller than 0.001. Consider specifying `method` (e.g. `method=stats.PermutationMethod()`.)\n",
      "  ad.append(anderson_ksamp([X_mcmc[i, :], X_true[i, :]]).statistic)\n"
     ]
    },
    {
     "name": "stdout",
     "output_type": "stream",
     "text": [
      "Processed: SMBarker_accept_0.70_n_1e+06 | trial 4\n"
     ]
    },
    {
     "name": "stderr",
     "output_type": "stream",
     "text": [
      "/Users/m250/Documents/UCL/FYP/src/metrics.py:38: UserWarning: p-value floored: true value smaller than 0.001. Consider specifying `method` (e.g. `method=stats.PermutationMethod()`.)\n",
      "  ad.append(anderson_ksamp([X_mcmc[i, :], X_true[i, :]]).statistic)\n"
     ]
    },
    {
     "name": "stdout",
     "output_type": "stream",
     "text": [
      "Processed: SMBarker_accept_0.70_n_1e+06 | trial 5\n"
     ]
    },
    {
     "name": "stderr",
     "output_type": "stream",
     "text": [
      "/Users/m250/Documents/UCL/FYP/src/metrics.py:38: UserWarning: p-value floored: true value smaller than 0.001. Consider specifying `method` (e.g. `method=stats.PermutationMethod()`.)\n",
      "  ad.append(anderson_ksamp([X_mcmc[i, :], X_true[i, :]]).statistic)\n"
     ]
    },
    {
     "name": "stdout",
     "output_type": "stream",
     "text": [
      "Processed: SMBarker_accept_0.70_n_1e+06 | trial 6\n"
     ]
    },
    {
     "name": "stderr",
     "output_type": "stream",
     "text": [
      "/Users/m250/Documents/UCL/FYP/src/metrics.py:38: UserWarning: p-value floored: true value smaller than 0.001. Consider specifying `method` (e.g. `method=stats.PermutationMethod()`.)\n",
      "  ad.append(anderson_ksamp([X_mcmc[i, :], X_true[i, :]]).statistic)\n"
     ]
    },
    {
     "name": "stdout",
     "output_type": "stream",
     "text": [
      "Processed: SMBarker_accept_0.70_n_1e+06 | trial 7\n"
     ]
    },
    {
     "name": "stderr",
     "output_type": "stream",
     "text": [
      "/Users/m250/Documents/UCL/FYP/src/metrics.py:38: UserWarning: p-value floored: true value smaller than 0.001. Consider specifying `method` (e.g. `method=stats.PermutationMethod()`.)\n",
      "  ad.append(anderson_ksamp([X_mcmc[i, :], X_true[i, :]]).statistic)\n"
     ]
    },
    {
     "name": "stdout",
     "output_type": "stream",
     "text": [
      "Processed: SMBarker_accept_0.70_n_1e+06 | trial 8\n"
     ]
    },
    {
     "name": "stderr",
     "output_type": "stream",
     "text": [
      "/Users/m250/Documents/UCL/FYP/src/metrics.py:38: UserWarning: p-value floored: true value smaller than 0.001. Consider specifying `method` (e.g. `method=stats.PermutationMethod()`.)\n",
      "  ad.append(anderson_ksamp([X_mcmc[i, :], X_true[i, :]]).statistic)\n"
     ]
    },
    {
     "name": "stdout",
     "output_type": "stream",
     "text": [
      "Processed: SMBarker_accept_0.70_n_1e+06 | trial 9\n"
     ]
    },
    {
     "name": "stderr",
     "output_type": "stream",
     "text": [
      "/Users/m250/Documents/UCL/FYP/src/metrics.py:38: UserWarning: p-value floored: true value smaller than 0.001. Consider specifying `method` (e.g. `method=stats.PermutationMethod()`.)\n",
      "  ad.append(anderson_ksamp([X_mcmc[i, :], X_true[i, :]]).statistic)\n"
     ]
    },
    {
     "name": "stdout",
     "output_type": "stream",
     "text": [
      "Processed: SMBarker_accept_0.70_n_1e+06 | trial 10\n"
     ]
    },
    {
     "name": "stderr",
     "output_type": "stream",
     "text": [
      "/Users/m250/Documents/UCL/FYP/src/metrics.py:38: UserWarning: p-value floored: true value smaller than 0.001. Consider specifying `method` (e.g. `method=stats.PermutationMethod()`.)\n",
      "  ad.append(anderson_ksamp([X_mcmc[i, :], X_true[i, :]]).statistic)\n"
     ]
    },
    {
     "name": "stdout",
     "output_type": "stream",
     "text": [
      "Processed: SMBarker_accept_0.70_n_1e+06 | trial 11\n"
     ]
    },
    {
     "name": "stderr",
     "output_type": "stream",
     "text": [
      "/Users/m250/Documents/UCL/FYP/src/metrics.py:38: UserWarning: p-value floored: true value smaller than 0.001. Consider specifying `method` (e.g. `method=stats.PermutationMethod()`.)\n",
      "  ad.append(anderson_ksamp([X_mcmc[i, :], X_true[i, :]]).statistic)\n"
     ]
    },
    {
     "name": "stdout",
     "output_type": "stream",
     "text": [
      "Processed: SMBarker_accept_0.70_n_1e+06 | trial 12\n"
     ]
    },
    {
     "name": "stderr",
     "output_type": "stream",
     "text": [
      "/Users/m250/Documents/UCL/FYP/src/metrics.py:38: UserWarning: p-value floored: true value smaller than 0.001. Consider specifying `method` (e.g. `method=stats.PermutationMethod()`.)\n",
      "  ad.append(anderson_ksamp([X_mcmc[i, :], X_true[i, :]]).statistic)\n"
     ]
    },
    {
     "name": "stdout",
     "output_type": "stream",
     "text": [
      "Processed: SMBarker_accept_0.70_n_1e+06 | trial 13\n"
     ]
    },
    {
     "name": "stderr",
     "output_type": "stream",
     "text": [
      "/Users/m250/Documents/UCL/FYP/src/metrics.py:38: UserWarning: p-value floored: true value smaller than 0.001. Consider specifying `method` (e.g. `method=stats.PermutationMethod()`.)\n",
      "  ad.append(anderson_ksamp([X_mcmc[i, :], X_true[i, :]]).statistic)\n"
     ]
    },
    {
     "name": "stdout",
     "output_type": "stream",
     "text": [
      "Processed: SMBarker_accept_0.70_n_1e+06 | trial 14\n"
     ]
    },
    {
     "name": "stderr",
     "output_type": "stream",
     "text": [
      "/Users/m250/Documents/UCL/FYP/src/metrics.py:38: UserWarning: p-value floored: true value smaller than 0.001. Consider specifying `method` (e.g. `method=stats.PermutationMethod()`.)\n",
      "  ad.append(anderson_ksamp([X_mcmc[i, :], X_true[i, :]]).statistic)\n"
     ]
    },
    {
     "name": "stdout",
     "output_type": "stream",
     "text": [
      "Processed: SMBarker_accept_0.70_n_1e+06 | trial 15\n"
     ]
    },
    {
     "name": "stderr",
     "output_type": "stream",
     "text": [
      "/Users/m250/Documents/UCL/FYP/src/metrics.py:38: UserWarning: p-value floored: true value smaller than 0.001. Consider specifying `method` (e.g. `method=stats.PermutationMethod()`.)\n",
      "  ad.append(anderson_ksamp([X_mcmc[i, :], X_true[i, :]]).statistic)\n"
     ]
    },
    {
     "name": "stdout",
     "output_type": "stream",
     "text": [
      "Processed: SMBarker_accept_0.70_n_1e+06 | trial 16\n"
     ]
    },
    {
     "name": "stderr",
     "output_type": "stream",
     "text": [
      "/Users/m250/Documents/UCL/FYP/src/metrics.py:38: UserWarning: p-value floored: true value smaller than 0.001. Consider specifying `method` (e.g. `method=stats.PermutationMethod()`.)\n",
      "  ad.append(anderson_ksamp([X_mcmc[i, :], X_true[i, :]]).statistic)\n"
     ]
    },
    {
     "name": "stdout",
     "output_type": "stream",
     "text": [
      "Processed: SMBarker_accept_0.70_n_1e+06 | trial 17\n"
     ]
    },
    {
     "name": "stderr",
     "output_type": "stream",
     "text": [
      "/Users/m250/Documents/UCL/FYP/src/metrics.py:38: UserWarning: p-value floored: true value smaller than 0.001. Consider specifying `method` (e.g. `method=stats.PermutationMethod()`.)\n",
      "  ad.append(anderson_ksamp([X_mcmc[i, :], X_true[i, :]]).statistic)\n"
     ]
    },
    {
     "name": "stdout",
     "output_type": "stream",
     "text": [
      "Processed: SMBarker_accept_0.70_n_1e+06 | trial 18\n"
     ]
    },
    {
     "name": "stderr",
     "output_type": "stream",
     "text": [
      "/Users/m250/Documents/UCL/FYP/src/metrics.py:38: UserWarning: p-value floored: true value smaller than 0.001. Consider specifying `method` (e.g. `method=stats.PermutationMethod()`.)\n",
      "  ad.append(anderson_ksamp([X_mcmc[i, :], X_true[i, :]]).statistic)\n"
     ]
    },
    {
     "name": "stdout",
     "output_type": "stream",
     "text": [
      "Processed: SMBarker_accept_0.70_n_1e+06 | trial 19\n"
     ]
    },
    {
     "name": "stderr",
     "output_type": "stream",
     "text": [
      "/Users/m250/Documents/UCL/FYP/src/metrics.py:38: UserWarning: p-value floored: true value smaller than 0.001. Consider specifying `method` (e.g. `method=stats.PermutationMethod()`.)\n",
      "  ad.append(anderson_ksamp([X_mcmc[i, :], X_true[i, :]]).statistic)\n"
     ]
    },
    {
     "name": "stdout",
     "output_type": "stream",
     "text": [
      "Processed: SMBarker_accept_0.70_n_1e+06 | trial 20\n"
     ]
    },
    {
     "name": "stderr",
     "output_type": "stream",
     "text": [
      "/Users/m250/Documents/UCL/FYP/src/metrics.py:38: UserWarning: p-value floored: true value smaller than 0.001. Consider specifying `method` (e.g. `method=stats.PermutationMethod()`.)\n",
      "  ad.append(anderson_ksamp([X_mcmc[i, :], X_true[i, :]]).statistic)\n"
     ]
    },
    {
     "name": "stdout",
     "output_type": "stream",
     "text": [
      "Processed: SMBarker_accept_0.70_n_1e+06 | trial 21\n"
     ]
    },
    {
     "name": "stderr",
     "output_type": "stream",
     "text": [
      "/Users/m250/Documents/UCL/FYP/src/metrics.py:38: UserWarning: p-value floored: true value smaller than 0.001. Consider specifying `method` (e.g. `method=stats.PermutationMethod()`.)\n",
      "  ad.append(anderson_ksamp([X_mcmc[i, :], X_true[i, :]]).statistic)\n"
     ]
    },
    {
     "name": "stdout",
     "output_type": "stream",
     "text": [
      "Processed: SMBarker_accept_0.70_n_1e+06 | trial 22\n"
     ]
    },
    {
     "name": "stderr",
     "output_type": "stream",
     "text": [
      "/Users/m250/Documents/UCL/FYP/src/metrics.py:38: UserWarning: p-value floored: true value smaller than 0.001. Consider specifying `method` (e.g. `method=stats.PermutationMethod()`.)\n",
      "  ad.append(anderson_ksamp([X_mcmc[i, :], X_true[i, :]]).statistic)\n"
     ]
    },
    {
     "name": "stdout",
     "output_type": "stream",
     "text": [
      "Processed: SMBarker_accept_0.70_n_1e+06 | trial 23\n"
     ]
    },
    {
     "name": "stderr",
     "output_type": "stream",
     "text": [
      "/Users/m250/Documents/UCL/FYP/src/metrics.py:38: UserWarning: p-value floored: true value smaller than 0.001. Consider specifying `method` (e.g. `method=stats.PermutationMethod()`.)\n",
      "  ad.append(anderson_ksamp([X_mcmc[i, :], X_true[i, :]]).statistic)\n"
     ]
    },
    {
     "name": "stdout",
     "output_type": "stream",
     "text": [
      "Processed: SMBarker_accept_0.70_n_1e+06 | trial 24\n"
     ]
    },
    {
     "name": "stderr",
     "output_type": "stream",
     "text": [
      "/Users/m250/Documents/UCL/FYP/src/metrics.py:38: UserWarning: p-value floored: true value smaller than 0.001. Consider specifying `method` (e.g. `method=stats.PermutationMethod()`.)\n",
      "  ad.append(anderson_ksamp([X_mcmc[i, :], X_true[i, :]]).statistic)\n"
     ]
    },
    {
     "name": "stdout",
     "output_type": "stream",
     "text": [
      "Processed: SMBarker_accept_0.70_n_1e+06 | trial 25\n"
     ]
    },
    {
     "name": "stderr",
     "output_type": "stream",
     "text": [
      "/Users/m250/Documents/UCL/FYP/src/metrics.py:38: UserWarning: p-value floored: true value smaller than 0.001. Consider specifying `method` (e.g. `method=stats.PermutationMethod()`.)\n",
      "  ad.append(anderson_ksamp([X_mcmc[i, :], X_true[i, :]]).statistic)\n"
     ]
    },
    {
     "name": "stdout",
     "output_type": "stream",
     "text": [
      "Processed: SMBarker_accept_0.70_n_1e+06 | trial 26\n"
     ]
    },
    {
     "name": "stderr",
     "output_type": "stream",
     "text": [
      "/Users/m250/Documents/UCL/FYP/src/metrics.py:38: UserWarning: p-value floored: true value smaller than 0.001. Consider specifying `method` (e.g. `method=stats.PermutationMethod()`.)\n",
      "  ad.append(anderson_ksamp([X_mcmc[i, :], X_true[i, :]]).statistic)\n"
     ]
    },
    {
     "name": "stdout",
     "output_type": "stream",
     "text": [
      "Processed: SMBarker_accept_0.70_n_1e+06 | trial 27\n"
     ]
    },
    {
     "name": "stderr",
     "output_type": "stream",
     "text": [
      "/Users/m250/Documents/UCL/FYP/src/metrics.py:38: UserWarning: p-value floored: true value smaller than 0.001. Consider specifying `method` (e.g. `method=stats.PermutationMethod()`.)\n",
      "  ad.append(anderson_ksamp([X_mcmc[i, :], X_true[i, :]]).statistic)\n"
     ]
    },
    {
     "name": "stdout",
     "output_type": "stream",
     "text": [
      "Processed: SMBarker_accept_0.70_n_1e+06 | trial 28\n"
     ]
    },
    {
     "name": "stderr",
     "output_type": "stream",
     "text": [
      "/Users/m250/Documents/UCL/FYP/src/metrics.py:38: UserWarning: p-value floored: true value smaller than 0.001. Consider specifying `method` (e.g. `method=stats.PermutationMethod()`.)\n",
      "  ad.append(anderson_ksamp([X_mcmc[i, :], X_true[i, :]]).statistic)\n"
     ]
    },
    {
     "name": "stdout",
     "output_type": "stream",
     "text": [
      "Processed: SMBarker_accept_0.70_n_1e+06 | trial 29\n"
     ]
    },
    {
     "name": "stderr",
     "output_type": "stream",
     "text": [
      "/Users/m250/Documents/UCL/FYP/src/metrics.py:38: UserWarning: p-value floored: true value smaller than 0.001. Consider specifying `method` (e.g. `method=stats.PermutationMethod()`.)\n",
      "  ad.append(anderson_ksamp([X_mcmc[i, :], X_true[i, :]]).statistic)\n"
     ]
    },
    {
     "name": "stdout",
     "output_type": "stream",
     "text": [
      "Processed: SMBarker_accept_0.70_n_1e+06 | trial 30\n"
     ]
    },
    {
     "name": "stderr",
     "output_type": "stream",
     "text": [
      "/Users/m250/Documents/UCL/FYP/src/metrics.py:38: UserWarning: p-value floored: true value smaller than 0.001. Consider specifying `method` (e.g. `method=stats.PermutationMethod()`.)\n",
      "  ad.append(anderson_ksamp([X_mcmc[i, :], X_true[i, :]]).statistic)\n"
     ]
    },
    {
     "name": "stdout",
     "output_type": "stream",
     "text": [
      "Processed: SMBarker_accept_0.85_n_1e+06 | trial 1\n"
     ]
    },
    {
     "name": "stderr",
     "output_type": "stream",
     "text": [
      "/Users/m250/Documents/UCL/FYP/src/metrics.py:38: UserWarning: p-value floored: true value smaller than 0.001. Consider specifying `method` (e.g. `method=stats.PermutationMethod()`.)\n",
      "  ad.append(anderson_ksamp([X_mcmc[i, :], X_true[i, :]]).statistic)\n"
     ]
    },
    {
     "name": "stdout",
     "output_type": "stream",
     "text": [
      "Processed: SMBarker_accept_0.85_n_1e+06 | trial 2\n"
     ]
    },
    {
     "name": "stderr",
     "output_type": "stream",
     "text": [
      "/Users/m250/Documents/UCL/FYP/src/metrics.py:38: UserWarning: p-value floored: true value smaller than 0.001. Consider specifying `method` (e.g. `method=stats.PermutationMethod()`.)\n",
      "  ad.append(anderson_ksamp([X_mcmc[i, :], X_true[i, :]]).statistic)\n"
     ]
    },
    {
     "name": "stdout",
     "output_type": "stream",
     "text": [
      "Processed: SMBarker_accept_0.85_n_1e+06 | trial 3\n"
     ]
    },
    {
     "name": "stderr",
     "output_type": "stream",
     "text": [
      "/Users/m250/Documents/UCL/FYP/src/metrics.py:38: UserWarning: p-value floored: true value smaller than 0.001. Consider specifying `method` (e.g. `method=stats.PermutationMethod()`.)\n",
      "  ad.append(anderson_ksamp([X_mcmc[i, :], X_true[i, :]]).statistic)\n"
     ]
    },
    {
     "name": "stdout",
     "output_type": "stream",
     "text": [
      "Processed: SMBarker_accept_0.85_n_1e+06 | trial 4\n"
     ]
    },
    {
     "name": "stderr",
     "output_type": "stream",
     "text": [
      "/Users/m250/Documents/UCL/FYP/src/metrics.py:38: UserWarning: p-value floored: true value smaller than 0.001. Consider specifying `method` (e.g. `method=stats.PermutationMethod()`.)\n",
      "  ad.append(anderson_ksamp([X_mcmc[i, :], X_true[i, :]]).statistic)\n"
     ]
    },
    {
     "name": "stdout",
     "output_type": "stream",
     "text": [
      "Processed: SMBarker_accept_0.85_n_1e+06 | trial 5\n"
     ]
    },
    {
     "name": "stderr",
     "output_type": "stream",
     "text": [
      "/Users/m250/Documents/UCL/FYP/src/metrics.py:38: UserWarning: p-value floored: true value smaller than 0.001. Consider specifying `method` (e.g. `method=stats.PermutationMethod()`.)\n",
      "  ad.append(anderson_ksamp([X_mcmc[i, :], X_true[i, :]]).statistic)\n"
     ]
    },
    {
     "name": "stdout",
     "output_type": "stream",
     "text": [
      "Processed: SMBarker_accept_0.85_n_1e+06 | trial 6\n"
     ]
    },
    {
     "name": "stderr",
     "output_type": "stream",
     "text": [
      "/Users/m250/Documents/UCL/FYP/src/metrics.py:38: UserWarning: p-value floored: true value smaller than 0.001. Consider specifying `method` (e.g. `method=stats.PermutationMethod()`.)\n",
      "  ad.append(anderson_ksamp([X_mcmc[i, :], X_true[i, :]]).statistic)\n"
     ]
    },
    {
     "name": "stdout",
     "output_type": "stream",
     "text": [
      "Processed: SMBarker_accept_0.85_n_1e+06 | trial 7\n"
     ]
    },
    {
     "name": "stderr",
     "output_type": "stream",
     "text": [
      "/Users/m250/Documents/UCL/FYP/src/metrics.py:38: UserWarning: p-value floored: true value smaller than 0.001. Consider specifying `method` (e.g. `method=stats.PermutationMethod()`.)\n",
      "  ad.append(anderson_ksamp([X_mcmc[i, :], X_true[i, :]]).statistic)\n"
     ]
    },
    {
     "name": "stdout",
     "output_type": "stream",
     "text": [
      "Processed: SMBarker_accept_0.85_n_1e+06 | trial 8\n"
     ]
    },
    {
     "name": "stderr",
     "output_type": "stream",
     "text": [
      "/Users/m250/Documents/UCL/FYP/src/metrics.py:38: UserWarning: p-value floored: true value smaller than 0.001. Consider specifying `method` (e.g. `method=stats.PermutationMethod()`.)\n",
      "  ad.append(anderson_ksamp([X_mcmc[i, :], X_true[i, :]]).statistic)\n"
     ]
    },
    {
     "name": "stdout",
     "output_type": "stream",
     "text": [
      "Processed: SMBarker_accept_0.85_n_1e+06 | trial 9\n"
     ]
    },
    {
     "name": "stderr",
     "output_type": "stream",
     "text": [
      "/Users/m250/Documents/UCL/FYP/src/metrics.py:38: UserWarning: p-value floored: true value smaller than 0.001. Consider specifying `method` (e.g. `method=stats.PermutationMethod()`.)\n",
      "  ad.append(anderson_ksamp([X_mcmc[i, :], X_true[i, :]]).statistic)\n"
     ]
    },
    {
     "name": "stdout",
     "output_type": "stream",
     "text": [
      "Processed: SMBarker_accept_0.85_n_1e+06 | trial 10\n"
     ]
    },
    {
     "name": "stderr",
     "output_type": "stream",
     "text": [
      "/Users/m250/Documents/UCL/FYP/src/metrics.py:38: UserWarning: p-value floored: true value smaller than 0.001. Consider specifying `method` (e.g. `method=stats.PermutationMethod()`.)\n",
      "  ad.append(anderson_ksamp([X_mcmc[i, :], X_true[i, :]]).statistic)\n"
     ]
    },
    {
     "name": "stdout",
     "output_type": "stream",
     "text": [
      "Processed: SMBarker_accept_0.85_n_1e+06 | trial 11\n"
     ]
    },
    {
     "name": "stderr",
     "output_type": "stream",
     "text": [
      "/Users/m250/Documents/UCL/FYP/src/metrics.py:38: UserWarning: p-value floored: true value smaller than 0.001. Consider specifying `method` (e.g. `method=stats.PermutationMethod()`.)\n",
      "  ad.append(anderson_ksamp([X_mcmc[i, :], X_true[i, :]]).statistic)\n"
     ]
    },
    {
     "name": "stdout",
     "output_type": "stream",
     "text": [
      "Processed: SMBarker_accept_0.85_n_1e+06 | trial 12\n"
     ]
    },
    {
     "name": "stderr",
     "output_type": "stream",
     "text": [
      "/Users/m250/Documents/UCL/FYP/src/metrics.py:38: UserWarning: p-value floored: true value smaller than 0.001. Consider specifying `method` (e.g. `method=stats.PermutationMethod()`.)\n",
      "  ad.append(anderson_ksamp([X_mcmc[i, :], X_true[i, :]]).statistic)\n"
     ]
    },
    {
     "name": "stdout",
     "output_type": "stream",
     "text": [
      "Processed: SMBarker_accept_0.85_n_1e+06 | trial 13\n"
     ]
    },
    {
     "name": "stderr",
     "output_type": "stream",
     "text": [
      "/Users/m250/Documents/UCL/FYP/src/metrics.py:38: UserWarning: p-value floored: true value smaller than 0.001. Consider specifying `method` (e.g. `method=stats.PermutationMethod()`.)\n",
      "  ad.append(anderson_ksamp([X_mcmc[i, :], X_true[i, :]]).statistic)\n"
     ]
    },
    {
     "name": "stdout",
     "output_type": "stream",
     "text": [
      "Processed: SMBarker_accept_0.85_n_1e+06 | trial 14\n"
     ]
    },
    {
     "name": "stderr",
     "output_type": "stream",
     "text": [
      "/Users/m250/Documents/UCL/FYP/src/metrics.py:38: UserWarning: p-value floored: true value smaller than 0.001. Consider specifying `method` (e.g. `method=stats.PermutationMethod()`.)\n",
      "  ad.append(anderson_ksamp([X_mcmc[i, :], X_true[i, :]]).statistic)\n"
     ]
    },
    {
     "name": "stdout",
     "output_type": "stream",
     "text": [
      "Processed: SMBarker_accept_0.85_n_1e+06 | trial 15\n"
     ]
    },
    {
     "name": "stderr",
     "output_type": "stream",
     "text": [
      "/Users/m250/Documents/UCL/FYP/src/metrics.py:38: UserWarning: p-value floored: true value smaller than 0.001. Consider specifying `method` (e.g. `method=stats.PermutationMethod()`.)\n",
      "  ad.append(anderson_ksamp([X_mcmc[i, :], X_true[i, :]]).statistic)\n"
     ]
    },
    {
     "name": "stdout",
     "output_type": "stream",
     "text": [
      "Processed: SMBarker_accept_0.85_n_1e+06 | trial 16\n"
     ]
    },
    {
     "name": "stderr",
     "output_type": "stream",
     "text": [
      "/Users/m250/Documents/UCL/FYP/src/metrics.py:38: UserWarning: p-value floored: true value smaller than 0.001. Consider specifying `method` (e.g. `method=stats.PermutationMethod()`.)\n",
      "  ad.append(anderson_ksamp([X_mcmc[i, :], X_true[i, :]]).statistic)\n"
     ]
    },
    {
     "name": "stdout",
     "output_type": "stream",
     "text": [
      "Processed: SMBarker_accept_0.85_n_1e+06 | trial 17\n"
     ]
    },
    {
     "name": "stderr",
     "output_type": "stream",
     "text": [
      "/Users/m250/Documents/UCL/FYP/src/metrics.py:38: UserWarning: p-value floored: true value smaller than 0.001. Consider specifying `method` (e.g. `method=stats.PermutationMethod()`.)\n",
      "  ad.append(anderson_ksamp([X_mcmc[i, :], X_true[i, :]]).statistic)\n"
     ]
    },
    {
     "name": "stdout",
     "output_type": "stream",
     "text": [
      "Processed: SMBarker_accept_0.85_n_1e+06 | trial 18\n"
     ]
    },
    {
     "name": "stderr",
     "output_type": "stream",
     "text": [
      "/Users/m250/Documents/UCL/FYP/src/metrics.py:38: UserWarning: p-value floored: true value smaller than 0.001. Consider specifying `method` (e.g. `method=stats.PermutationMethod()`.)\n",
      "  ad.append(anderson_ksamp([X_mcmc[i, :], X_true[i, :]]).statistic)\n"
     ]
    },
    {
     "name": "stdout",
     "output_type": "stream",
     "text": [
      "Processed: SMBarker_accept_0.85_n_1e+06 | trial 19\n"
     ]
    },
    {
     "name": "stderr",
     "output_type": "stream",
     "text": [
      "/Users/m250/Documents/UCL/FYP/src/metrics.py:38: UserWarning: p-value floored: true value smaller than 0.001. Consider specifying `method` (e.g. `method=stats.PermutationMethod()`.)\n",
      "  ad.append(anderson_ksamp([X_mcmc[i, :], X_true[i, :]]).statistic)\n"
     ]
    },
    {
     "name": "stdout",
     "output_type": "stream",
     "text": [
      "Processed: SMBarker_accept_0.85_n_1e+06 | trial 20\n"
     ]
    },
    {
     "name": "stderr",
     "output_type": "stream",
     "text": [
      "/Users/m250/Documents/UCL/FYP/src/metrics.py:38: UserWarning: p-value floored: true value smaller than 0.001. Consider specifying `method` (e.g. `method=stats.PermutationMethod()`.)\n",
      "  ad.append(anderson_ksamp([X_mcmc[i, :], X_true[i, :]]).statistic)\n"
     ]
    },
    {
     "name": "stdout",
     "output_type": "stream",
     "text": [
      "Processed: SMBarker_accept_0.85_n_1e+06 | trial 21\n"
     ]
    },
    {
     "name": "stderr",
     "output_type": "stream",
     "text": [
      "/Users/m250/Documents/UCL/FYP/src/metrics.py:38: UserWarning: p-value floored: true value smaller than 0.001. Consider specifying `method` (e.g. `method=stats.PermutationMethod()`.)\n",
      "  ad.append(anderson_ksamp([X_mcmc[i, :], X_true[i, :]]).statistic)\n"
     ]
    },
    {
     "name": "stdout",
     "output_type": "stream",
     "text": [
      "Processed: SMBarker_accept_0.85_n_1e+06 | trial 22\n"
     ]
    },
    {
     "name": "stderr",
     "output_type": "stream",
     "text": [
      "/Users/m250/Documents/UCL/FYP/src/metrics.py:38: UserWarning: p-value floored: true value smaller than 0.001. Consider specifying `method` (e.g. `method=stats.PermutationMethod()`.)\n",
      "  ad.append(anderson_ksamp([X_mcmc[i, :], X_true[i, :]]).statistic)\n"
     ]
    },
    {
     "name": "stdout",
     "output_type": "stream",
     "text": [
      "Processed: SMBarker_accept_0.85_n_1e+06 | trial 23\n"
     ]
    },
    {
     "name": "stderr",
     "output_type": "stream",
     "text": [
      "/Users/m250/Documents/UCL/FYP/src/metrics.py:38: UserWarning: p-value floored: true value smaller than 0.001. Consider specifying `method` (e.g. `method=stats.PermutationMethod()`.)\n",
      "  ad.append(anderson_ksamp([X_mcmc[i, :], X_true[i, :]]).statistic)\n"
     ]
    },
    {
     "name": "stdout",
     "output_type": "stream",
     "text": [
      "Processed: SMBarker_accept_0.85_n_1e+06 | trial 24\n"
     ]
    },
    {
     "name": "stderr",
     "output_type": "stream",
     "text": [
      "/Users/m250/Documents/UCL/FYP/src/metrics.py:38: UserWarning: p-value floored: true value smaller than 0.001. Consider specifying `method` (e.g. `method=stats.PermutationMethod()`.)\n",
      "  ad.append(anderson_ksamp([X_mcmc[i, :], X_true[i, :]]).statistic)\n"
     ]
    },
    {
     "name": "stdout",
     "output_type": "stream",
     "text": [
      "Processed: SMBarker_accept_0.85_n_1e+06 | trial 25\n"
     ]
    },
    {
     "name": "stderr",
     "output_type": "stream",
     "text": [
      "/Users/m250/Documents/UCL/FYP/src/metrics.py:38: UserWarning: p-value floored: true value smaller than 0.001. Consider specifying `method` (e.g. `method=stats.PermutationMethod()`.)\n",
      "  ad.append(anderson_ksamp([X_mcmc[i, :], X_true[i, :]]).statistic)\n"
     ]
    },
    {
     "name": "stdout",
     "output_type": "stream",
     "text": [
      "Processed: SMBarker_accept_0.85_n_1e+06 | trial 26\n"
     ]
    },
    {
     "name": "stderr",
     "output_type": "stream",
     "text": [
      "/Users/m250/Documents/UCL/FYP/src/metrics.py:38: UserWarning: p-value floored: true value smaller than 0.001. Consider specifying `method` (e.g. `method=stats.PermutationMethod()`.)\n",
      "  ad.append(anderson_ksamp([X_mcmc[i, :], X_true[i, :]]).statistic)\n"
     ]
    },
    {
     "name": "stdout",
     "output_type": "stream",
     "text": [
      "Processed: SMBarker_accept_0.85_n_1e+06 | trial 27\n"
     ]
    },
    {
     "name": "stderr",
     "output_type": "stream",
     "text": [
      "/Users/m250/Documents/UCL/FYP/src/metrics.py:38: UserWarning: p-value floored: true value smaller than 0.001. Consider specifying `method` (e.g. `method=stats.PermutationMethod()`.)\n",
      "  ad.append(anderson_ksamp([X_mcmc[i, :], X_true[i, :]]).statistic)\n"
     ]
    },
    {
     "name": "stdout",
     "output_type": "stream",
     "text": [
      "Processed: SMBarker_accept_0.85_n_1e+06 | trial 28\n"
     ]
    },
    {
     "name": "stderr",
     "output_type": "stream",
     "text": [
      "/Users/m250/Documents/UCL/FYP/src/metrics.py:38: UserWarning: p-value floored: true value smaller than 0.001. Consider specifying `method` (e.g. `method=stats.PermutationMethod()`.)\n",
      "  ad.append(anderson_ksamp([X_mcmc[i, :], X_true[i, :]]).statistic)\n"
     ]
    },
    {
     "name": "stdout",
     "output_type": "stream",
     "text": [
      "Processed: SMBarker_accept_0.85_n_1e+06 | trial 29\n"
     ]
    },
    {
     "name": "stderr",
     "output_type": "stream",
     "text": [
      "/Users/m250/Documents/UCL/FYP/src/metrics.py:38: UserWarning: p-value floored: true value smaller than 0.001. Consider specifying `method` (e.g. `method=stats.PermutationMethod()`.)\n",
      "  ad.append(anderson_ksamp([X_mcmc[i, :], X_true[i, :]]).statistic)\n"
     ]
    },
    {
     "name": "stdout",
     "output_type": "stream",
     "text": [
      "Processed: SMBarker_accept_0.85_n_1e+06 | trial 30\n"
     ]
    },
    {
     "name": "stderr",
     "output_type": "stream",
     "text": [
      "/Users/m250/Documents/UCL/FYP/src/metrics.py:38: UserWarning: p-value floored: true value smaller than 0.001. Consider specifying `method` (e.g. `method=stats.PermutationMethod()`.)\n",
      "  ad.append(anderson_ksamp([X_mcmc[i, :], X_true[i, :]]).statistic)\n"
     ]
    },
    {
     "name": "stdout",
     "output_type": "stream",
     "text": [
      "Processed: SMMALA_accept_0.10_n_1e+06 | trial 1\n"
     ]
    },
    {
     "name": "stderr",
     "output_type": "stream",
     "text": [
      "/Users/m250/Documents/UCL/FYP/src/metrics.py:38: UserWarning: p-value floored: true value smaller than 0.001. Consider specifying `method` (e.g. `method=stats.PermutationMethod()`.)\n",
      "  ad.append(anderson_ksamp([X_mcmc[i, :], X_true[i, :]]).statistic)\n"
     ]
    },
    {
     "name": "stdout",
     "output_type": "stream",
     "text": [
      "Processed: SMMALA_accept_0.10_n_1e+06 | trial 2\n"
     ]
    },
    {
     "name": "stderr",
     "output_type": "stream",
     "text": [
      "/Users/m250/Documents/UCL/FYP/src/metrics.py:38: UserWarning: p-value floored: true value smaller than 0.001. Consider specifying `method` (e.g. `method=stats.PermutationMethod()`.)\n",
      "  ad.append(anderson_ksamp([X_mcmc[i, :], X_true[i, :]]).statistic)\n"
     ]
    },
    {
     "name": "stdout",
     "output_type": "stream",
     "text": [
      "Processed: SMMALA_accept_0.10_n_1e+06 | trial 3\n"
     ]
    },
    {
     "name": "stderr",
     "output_type": "stream",
     "text": [
      "/Users/m250/Documents/UCL/FYP/src/metrics.py:38: UserWarning: p-value floored: true value smaller than 0.001. Consider specifying `method` (e.g. `method=stats.PermutationMethod()`.)\n",
      "  ad.append(anderson_ksamp([X_mcmc[i, :], X_true[i, :]]).statistic)\n"
     ]
    },
    {
     "name": "stdout",
     "output_type": "stream",
     "text": [
      "Processed: SMMALA_accept_0.10_n_1e+06 | trial 4\n"
     ]
    },
    {
     "name": "stderr",
     "output_type": "stream",
     "text": [
      "/Users/m250/Documents/UCL/FYP/src/metrics.py:38: UserWarning: p-value floored: true value smaller than 0.001. Consider specifying `method` (e.g. `method=stats.PermutationMethod()`.)\n",
      "  ad.append(anderson_ksamp([X_mcmc[i, :], X_true[i, :]]).statistic)\n"
     ]
    },
    {
     "name": "stdout",
     "output_type": "stream",
     "text": [
      "Processed: SMMALA_accept_0.10_n_1e+06 | trial 5\n"
     ]
    },
    {
     "name": "stderr",
     "output_type": "stream",
     "text": [
      "/Users/m250/Documents/UCL/FYP/src/metrics.py:38: UserWarning: p-value floored: true value smaller than 0.001. Consider specifying `method` (e.g. `method=stats.PermutationMethod()`.)\n",
      "  ad.append(anderson_ksamp([X_mcmc[i, :], X_true[i, :]]).statistic)\n"
     ]
    },
    {
     "name": "stdout",
     "output_type": "stream",
     "text": [
      "Processed: SMMALA_accept_0.10_n_1e+06 | trial 6\n"
     ]
    },
    {
     "name": "stderr",
     "output_type": "stream",
     "text": [
      "/Users/m250/Documents/UCL/FYP/src/metrics.py:38: UserWarning: p-value floored: true value smaller than 0.001. Consider specifying `method` (e.g. `method=stats.PermutationMethod()`.)\n",
      "  ad.append(anderson_ksamp([X_mcmc[i, :], X_true[i, :]]).statistic)\n"
     ]
    },
    {
     "name": "stdout",
     "output_type": "stream",
     "text": [
      "Processed: SMMALA_accept_0.10_n_1e+06 | trial 7\n"
     ]
    },
    {
     "name": "stderr",
     "output_type": "stream",
     "text": [
      "/Users/m250/Documents/UCL/FYP/src/metrics.py:38: UserWarning: p-value floored: true value smaller than 0.001. Consider specifying `method` (e.g. `method=stats.PermutationMethod()`.)\n",
      "  ad.append(anderson_ksamp([X_mcmc[i, :], X_true[i, :]]).statistic)\n"
     ]
    },
    {
     "name": "stdout",
     "output_type": "stream",
     "text": [
      "Processed: SMMALA_accept_0.10_n_1e+06 | trial 8\n"
     ]
    },
    {
     "name": "stderr",
     "output_type": "stream",
     "text": [
      "/Users/m250/Documents/UCL/FYP/src/metrics.py:38: UserWarning: p-value floored: true value smaller than 0.001. Consider specifying `method` (e.g. `method=stats.PermutationMethod()`.)\n",
      "  ad.append(anderson_ksamp([X_mcmc[i, :], X_true[i, :]]).statistic)\n"
     ]
    },
    {
     "name": "stdout",
     "output_type": "stream",
     "text": [
      "Processed: SMMALA_accept_0.10_n_1e+06 | trial 9\n"
     ]
    },
    {
     "name": "stderr",
     "output_type": "stream",
     "text": [
      "/Users/m250/Documents/UCL/FYP/src/metrics.py:38: UserWarning: p-value floored: true value smaller than 0.001. Consider specifying `method` (e.g. `method=stats.PermutationMethod()`.)\n",
      "  ad.append(anderson_ksamp([X_mcmc[i, :], X_true[i, :]]).statistic)\n"
     ]
    },
    {
     "name": "stdout",
     "output_type": "stream",
     "text": [
      "Processed: SMMALA_accept_0.10_n_1e+06 | trial 10\n"
     ]
    },
    {
     "name": "stderr",
     "output_type": "stream",
     "text": [
      "/Users/m250/Documents/UCL/FYP/src/metrics.py:38: UserWarning: p-value floored: true value smaller than 0.001. Consider specifying `method` (e.g. `method=stats.PermutationMethod()`.)\n",
      "  ad.append(anderson_ksamp([X_mcmc[i, :], X_true[i, :]]).statistic)\n"
     ]
    },
    {
     "name": "stdout",
     "output_type": "stream",
     "text": [
      "Processed: SMMALA_accept_0.10_n_1e+06 | trial 11\n"
     ]
    },
    {
     "name": "stderr",
     "output_type": "stream",
     "text": [
      "/Users/m250/Documents/UCL/FYP/src/metrics.py:38: UserWarning: p-value floored: true value smaller than 0.001. Consider specifying `method` (e.g. `method=stats.PermutationMethod()`.)\n",
      "  ad.append(anderson_ksamp([X_mcmc[i, :], X_true[i, :]]).statistic)\n"
     ]
    },
    {
     "name": "stdout",
     "output_type": "stream",
     "text": [
      "Processed: SMMALA_accept_0.10_n_1e+06 | trial 12\n"
     ]
    },
    {
     "name": "stderr",
     "output_type": "stream",
     "text": [
      "/Users/m250/Documents/UCL/FYP/src/metrics.py:38: UserWarning: p-value floored: true value smaller than 0.001. Consider specifying `method` (e.g. `method=stats.PermutationMethod()`.)\n",
      "  ad.append(anderson_ksamp([X_mcmc[i, :], X_true[i, :]]).statistic)\n"
     ]
    },
    {
     "name": "stdout",
     "output_type": "stream",
     "text": [
      "Processed: SMMALA_accept_0.10_n_1e+06 | trial 13\n"
     ]
    },
    {
     "name": "stderr",
     "output_type": "stream",
     "text": [
      "/Users/m250/Documents/UCL/FYP/src/metrics.py:38: UserWarning: p-value floored: true value smaller than 0.001. Consider specifying `method` (e.g. `method=stats.PermutationMethod()`.)\n",
      "  ad.append(anderson_ksamp([X_mcmc[i, :], X_true[i, :]]).statistic)\n"
     ]
    },
    {
     "name": "stdout",
     "output_type": "stream",
     "text": [
      "Processed: SMMALA_accept_0.10_n_1e+06 | trial 14\n"
     ]
    },
    {
     "name": "stderr",
     "output_type": "stream",
     "text": [
      "/Users/m250/Documents/UCL/FYP/src/metrics.py:38: UserWarning: p-value floored: true value smaller than 0.001. Consider specifying `method` (e.g. `method=stats.PermutationMethod()`.)\n",
      "  ad.append(anderson_ksamp([X_mcmc[i, :], X_true[i, :]]).statistic)\n"
     ]
    },
    {
     "name": "stdout",
     "output_type": "stream",
     "text": [
      "Processed: SMMALA_accept_0.10_n_1e+06 | trial 15\n"
     ]
    },
    {
     "name": "stderr",
     "output_type": "stream",
     "text": [
      "/Users/m250/Documents/UCL/FYP/src/metrics.py:38: UserWarning: p-value floored: true value smaller than 0.001. Consider specifying `method` (e.g. `method=stats.PermutationMethod()`.)\n",
      "  ad.append(anderson_ksamp([X_mcmc[i, :], X_true[i, :]]).statistic)\n"
     ]
    },
    {
     "name": "stdout",
     "output_type": "stream",
     "text": [
      "Processed: SMMALA_accept_0.10_n_1e+06 | trial 16\n"
     ]
    },
    {
     "name": "stderr",
     "output_type": "stream",
     "text": [
      "/Users/m250/Documents/UCL/FYP/src/metrics.py:38: UserWarning: p-value floored: true value smaller than 0.001. Consider specifying `method` (e.g. `method=stats.PermutationMethod()`.)\n",
      "  ad.append(anderson_ksamp([X_mcmc[i, :], X_true[i, :]]).statistic)\n"
     ]
    },
    {
     "name": "stdout",
     "output_type": "stream",
     "text": [
      "Processed: SMMALA_accept_0.10_n_1e+06 | trial 17\n"
     ]
    },
    {
     "name": "stderr",
     "output_type": "stream",
     "text": [
      "/Users/m250/Documents/UCL/FYP/src/metrics.py:38: UserWarning: p-value floored: true value smaller than 0.001. Consider specifying `method` (e.g. `method=stats.PermutationMethod()`.)\n",
      "  ad.append(anderson_ksamp([X_mcmc[i, :], X_true[i, :]]).statistic)\n"
     ]
    },
    {
     "name": "stdout",
     "output_type": "stream",
     "text": [
      "Processed: SMMALA_accept_0.10_n_1e+06 | trial 18\n"
     ]
    },
    {
     "name": "stderr",
     "output_type": "stream",
     "text": [
      "/Users/m250/Documents/UCL/FYP/src/metrics.py:38: UserWarning: p-value floored: true value smaller than 0.001. Consider specifying `method` (e.g. `method=stats.PermutationMethod()`.)\n",
      "  ad.append(anderson_ksamp([X_mcmc[i, :], X_true[i, :]]).statistic)\n"
     ]
    },
    {
     "name": "stdout",
     "output_type": "stream",
     "text": [
      "Processed: SMMALA_accept_0.10_n_1e+06 | trial 19\n"
     ]
    },
    {
     "name": "stderr",
     "output_type": "stream",
     "text": [
      "/Users/m250/Documents/UCL/FYP/src/metrics.py:38: UserWarning: p-value floored: true value smaller than 0.001. Consider specifying `method` (e.g. `method=stats.PermutationMethod()`.)\n",
      "  ad.append(anderson_ksamp([X_mcmc[i, :], X_true[i, :]]).statistic)\n"
     ]
    },
    {
     "name": "stdout",
     "output_type": "stream",
     "text": [
      "Processed: SMMALA_accept_0.10_n_1e+06 | trial 20\n"
     ]
    },
    {
     "name": "stderr",
     "output_type": "stream",
     "text": [
      "/Users/m250/Documents/UCL/FYP/src/metrics.py:38: UserWarning: p-value floored: true value smaller than 0.001. Consider specifying `method` (e.g. `method=stats.PermutationMethod()`.)\n",
      "  ad.append(anderson_ksamp([X_mcmc[i, :], X_true[i, :]]).statistic)\n"
     ]
    },
    {
     "name": "stdout",
     "output_type": "stream",
     "text": [
      "Processed: SMMALA_accept_0.10_n_1e+06 | trial 21\n"
     ]
    },
    {
     "name": "stderr",
     "output_type": "stream",
     "text": [
      "/Users/m250/Documents/UCL/FYP/src/metrics.py:38: UserWarning: p-value floored: true value smaller than 0.001. Consider specifying `method` (e.g. `method=stats.PermutationMethod()`.)\n",
      "  ad.append(anderson_ksamp([X_mcmc[i, :], X_true[i, :]]).statistic)\n"
     ]
    },
    {
     "name": "stdout",
     "output_type": "stream",
     "text": [
      "Processed: SMMALA_accept_0.10_n_1e+06 | trial 22\n"
     ]
    },
    {
     "name": "stderr",
     "output_type": "stream",
     "text": [
      "/Users/m250/Documents/UCL/FYP/src/metrics.py:38: UserWarning: p-value floored: true value smaller than 0.001. Consider specifying `method` (e.g. `method=stats.PermutationMethod()`.)\n",
      "  ad.append(anderson_ksamp([X_mcmc[i, :], X_true[i, :]]).statistic)\n"
     ]
    },
    {
     "name": "stdout",
     "output_type": "stream",
     "text": [
      "Processed: SMMALA_accept_0.10_n_1e+06 | trial 23\n"
     ]
    },
    {
     "name": "stderr",
     "output_type": "stream",
     "text": [
      "/Users/m250/Documents/UCL/FYP/src/metrics.py:38: UserWarning: p-value floored: true value smaller than 0.001. Consider specifying `method` (e.g. `method=stats.PermutationMethod()`.)\n",
      "  ad.append(anderson_ksamp([X_mcmc[i, :], X_true[i, :]]).statistic)\n"
     ]
    },
    {
     "name": "stdout",
     "output_type": "stream",
     "text": [
      "Processed: SMMALA_accept_0.10_n_1e+06 | trial 24\n"
     ]
    },
    {
     "name": "stderr",
     "output_type": "stream",
     "text": [
      "/Users/m250/Documents/UCL/FYP/src/metrics.py:38: UserWarning: p-value floored: true value smaller than 0.001. Consider specifying `method` (e.g. `method=stats.PermutationMethod()`.)\n",
      "  ad.append(anderson_ksamp([X_mcmc[i, :], X_true[i, :]]).statistic)\n"
     ]
    },
    {
     "name": "stdout",
     "output_type": "stream",
     "text": [
      "Processed: SMMALA_accept_0.10_n_1e+06 | trial 25\n"
     ]
    },
    {
     "name": "stderr",
     "output_type": "stream",
     "text": [
      "/Users/m250/Documents/UCL/FYP/src/metrics.py:38: UserWarning: p-value floored: true value smaller than 0.001. Consider specifying `method` (e.g. `method=stats.PermutationMethod()`.)\n",
      "  ad.append(anderson_ksamp([X_mcmc[i, :], X_true[i, :]]).statistic)\n"
     ]
    },
    {
     "name": "stdout",
     "output_type": "stream",
     "text": [
      "Processed: SMMALA_accept_0.10_n_1e+06 | trial 26\n"
     ]
    },
    {
     "name": "stderr",
     "output_type": "stream",
     "text": [
      "/Users/m250/Documents/UCL/FYP/src/metrics.py:38: UserWarning: p-value floored: true value smaller than 0.001. Consider specifying `method` (e.g. `method=stats.PermutationMethod()`.)\n",
      "  ad.append(anderson_ksamp([X_mcmc[i, :], X_true[i, :]]).statistic)\n"
     ]
    },
    {
     "name": "stdout",
     "output_type": "stream",
     "text": [
      "Processed: SMMALA_accept_0.10_n_1e+06 | trial 27\n"
     ]
    },
    {
     "name": "stderr",
     "output_type": "stream",
     "text": [
      "/Users/m250/Documents/UCL/FYP/src/metrics.py:38: UserWarning: p-value floored: true value smaller than 0.001. Consider specifying `method` (e.g. `method=stats.PermutationMethod()`.)\n",
      "  ad.append(anderson_ksamp([X_mcmc[i, :], X_true[i, :]]).statistic)\n"
     ]
    },
    {
     "name": "stdout",
     "output_type": "stream",
     "text": [
      "Processed: SMMALA_accept_0.10_n_1e+06 | trial 28\n"
     ]
    },
    {
     "name": "stderr",
     "output_type": "stream",
     "text": [
      "/Users/m250/Documents/UCL/FYP/src/metrics.py:38: UserWarning: p-value floored: true value smaller than 0.001. Consider specifying `method` (e.g. `method=stats.PermutationMethod()`.)\n",
      "  ad.append(anderson_ksamp([X_mcmc[i, :], X_true[i, :]]).statistic)\n"
     ]
    },
    {
     "name": "stdout",
     "output_type": "stream",
     "text": [
      "Processed: SMMALA_accept_0.10_n_1e+06 | trial 29\n"
     ]
    },
    {
     "name": "stderr",
     "output_type": "stream",
     "text": [
      "/Users/m250/Documents/UCL/FYP/src/metrics.py:38: UserWarning: p-value floored: true value smaller than 0.001. Consider specifying `method` (e.g. `method=stats.PermutationMethod()`.)\n",
      "  ad.append(anderson_ksamp([X_mcmc[i, :], X_true[i, :]]).statistic)\n"
     ]
    },
    {
     "name": "stdout",
     "output_type": "stream",
     "text": [
      "Processed: SMMALA_accept_0.10_n_1e+06 | trial 30\n"
     ]
    },
    {
     "name": "stderr",
     "output_type": "stream",
     "text": [
      "/Users/m250/Documents/UCL/FYP/src/metrics.py:38: UserWarning: p-value floored: true value smaller than 0.001. Consider specifying `method` (e.g. `method=stats.PermutationMethod()`.)\n",
      "  ad.append(anderson_ksamp([X_mcmc[i, :], X_true[i, :]]).statistic)\n"
     ]
    },
    {
     "name": "stdout",
     "output_type": "stream",
     "text": [
      "Processed: SMMALA_accept_0.25_n_1e+06 | trial 1\n"
     ]
    },
    {
     "name": "stderr",
     "output_type": "stream",
     "text": [
      "/Users/m250/Documents/UCL/FYP/src/metrics.py:38: UserWarning: p-value floored: true value smaller than 0.001. Consider specifying `method` (e.g. `method=stats.PermutationMethod()`.)\n",
      "  ad.append(anderson_ksamp([X_mcmc[i, :], X_true[i, :]]).statistic)\n"
     ]
    },
    {
     "name": "stdout",
     "output_type": "stream",
     "text": [
      "Processed: SMMALA_accept_0.25_n_1e+06 | trial 2\n"
     ]
    },
    {
     "name": "stderr",
     "output_type": "stream",
     "text": [
      "/Users/m250/Documents/UCL/FYP/src/metrics.py:38: UserWarning: p-value floored: true value smaller than 0.001. Consider specifying `method` (e.g. `method=stats.PermutationMethod()`.)\n",
      "  ad.append(anderson_ksamp([X_mcmc[i, :], X_true[i, :]]).statistic)\n"
     ]
    },
    {
     "name": "stdout",
     "output_type": "stream",
     "text": [
      "Processed: SMMALA_accept_0.25_n_1e+06 | trial 3\n"
     ]
    },
    {
     "name": "stderr",
     "output_type": "stream",
     "text": [
      "/Users/m250/Documents/UCL/FYP/src/metrics.py:38: UserWarning: p-value floored: true value smaller than 0.001. Consider specifying `method` (e.g. `method=stats.PermutationMethod()`.)\n",
      "  ad.append(anderson_ksamp([X_mcmc[i, :], X_true[i, :]]).statistic)\n"
     ]
    },
    {
     "name": "stdout",
     "output_type": "stream",
     "text": [
      "Processed: SMMALA_accept_0.25_n_1e+06 | trial 4\n"
     ]
    },
    {
     "name": "stderr",
     "output_type": "stream",
     "text": [
      "/Users/m250/Documents/UCL/FYP/src/metrics.py:38: UserWarning: p-value floored: true value smaller than 0.001. Consider specifying `method` (e.g. `method=stats.PermutationMethod()`.)\n",
      "  ad.append(anderson_ksamp([X_mcmc[i, :], X_true[i, :]]).statistic)\n"
     ]
    },
    {
     "name": "stdout",
     "output_type": "stream",
     "text": [
      "Processed: SMMALA_accept_0.25_n_1e+06 | trial 5\n"
     ]
    },
    {
     "name": "stderr",
     "output_type": "stream",
     "text": [
      "/Users/m250/Documents/UCL/FYP/src/metrics.py:38: UserWarning: p-value floored: true value smaller than 0.001. Consider specifying `method` (e.g. `method=stats.PermutationMethod()`.)\n",
      "  ad.append(anderson_ksamp([X_mcmc[i, :], X_true[i, :]]).statistic)\n"
     ]
    },
    {
     "name": "stdout",
     "output_type": "stream",
     "text": [
      "Processed: SMMALA_accept_0.25_n_1e+06 | trial 6\n"
     ]
    },
    {
     "name": "stderr",
     "output_type": "stream",
     "text": [
      "/Users/m250/Documents/UCL/FYP/src/metrics.py:38: UserWarning: p-value floored: true value smaller than 0.001. Consider specifying `method` (e.g. `method=stats.PermutationMethod()`.)\n",
      "  ad.append(anderson_ksamp([X_mcmc[i, :], X_true[i, :]]).statistic)\n"
     ]
    },
    {
     "name": "stdout",
     "output_type": "stream",
     "text": [
      "Processed: SMMALA_accept_0.25_n_1e+06 | trial 7\n"
     ]
    },
    {
     "name": "stderr",
     "output_type": "stream",
     "text": [
      "/Users/m250/Documents/UCL/FYP/src/metrics.py:38: UserWarning: p-value floored: true value smaller than 0.001. Consider specifying `method` (e.g. `method=stats.PermutationMethod()`.)\n",
      "  ad.append(anderson_ksamp([X_mcmc[i, :], X_true[i, :]]).statistic)\n"
     ]
    },
    {
     "name": "stdout",
     "output_type": "stream",
     "text": [
      "Processed: SMMALA_accept_0.25_n_1e+06 | trial 8\n"
     ]
    },
    {
     "name": "stderr",
     "output_type": "stream",
     "text": [
      "/Users/m250/Documents/UCL/FYP/src/metrics.py:38: UserWarning: p-value floored: true value smaller than 0.001. Consider specifying `method` (e.g. `method=stats.PermutationMethod()`.)\n",
      "  ad.append(anderson_ksamp([X_mcmc[i, :], X_true[i, :]]).statistic)\n"
     ]
    },
    {
     "name": "stdout",
     "output_type": "stream",
     "text": [
      "Processed: SMMALA_accept_0.25_n_1e+06 | trial 9\n"
     ]
    },
    {
     "name": "stderr",
     "output_type": "stream",
     "text": [
      "/Users/m250/Documents/UCL/FYP/src/metrics.py:38: UserWarning: p-value floored: true value smaller than 0.001. Consider specifying `method` (e.g. `method=stats.PermutationMethod()`.)\n",
      "  ad.append(anderson_ksamp([X_mcmc[i, :], X_true[i, :]]).statistic)\n"
     ]
    },
    {
     "name": "stdout",
     "output_type": "stream",
     "text": [
      "Processed: SMMALA_accept_0.25_n_1e+06 | trial 10\n"
     ]
    },
    {
     "name": "stderr",
     "output_type": "stream",
     "text": [
      "/Users/m250/Documents/UCL/FYP/src/metrics.py:38: UserWarning: p-value floored: true value smaller than 0.001. Consider specifying `method` (e.g. `method=stats.PermutationMethod()`.)\n",
      "  ad.append(anderson_ksamp([X_mcmc[i, :], X_true[i, :]]).statistic)\n"
     ]
    },
    {
     "name": "stdout",
     "output_type": "stream",
     "text": [
      "Processed: SMMALA_accept_0.25_n_1e+06 | trial 11\n"
     ]
    },
    {
     "name": "stderr",
     "output_type": "stream",
     "text": [
      "/Users/m250/Documents/UCL/FYP/src/metrics.py:38: UserWarning: p-value floored: true value smaller than 0.001. Consider specifying `method` (e.g. `method=stats.PermutationMethod()`.)\n",
      "  ad.append(anderson_ksamp([X_mcmc[i, :], X_true[i, :]]).statistic)\n"
     ]
    },
    {
     "name": "stdout",
     "output_type": "stream",
     "text": [
      "Processed: SMMALA_accept_0.25_n_1e+06 | trial 12\n"
     ]
    },
    {
     "name": "stderr",
     "output_type": "stream",
     "text": [
      "/Users/m250/Documents/UCL/FYP/src/metrics.py:38: UserWarning: p-value floored: true value smaller than 0.001. Consider specifying `method` (e.g. `method=stats.PermutationMethod()`.)\n",
      "  ad.append(anderson_ksamp([X_mcmc[i, :], X_true[i, :]]).statistic)\n"
     ]
    },
    {
     "name": "stdout",
     "output_type": "stream",
     "text": [
      "Processed: SMMALA_accept_0.25_n_1e+06 | trial 13\n"
     ]
    },
    {
     "name": "stderr",
     "output_type": "stream",
     "text": [
      "/Users/m250/Documents/UCL/FYP/src/metrics.py:38: UserWarning: p-value floored: true value smaller than 0.001. Consider specifying `method` (e.g. `method=stats.PermutationMethod()`.)\n",
      "  ad.append(anderson_ksamp([X_mcmc[i, :], X_true[i, :]]).statistic)\n"
     ]
    },
    {
     "name": "stdout",
     "output_type": "stream",
     "text": [
      "Processed: SMMALA_accept_0.25_n_1e+06 | trial 14\n"
     ]
    },
    {
     "name": "stderr",
     "output_type": "stream",
     "text": [
      "/Users/m250/Documents/UCL/FYP/src/metrics.py:38: UserWarning: p-value floored: true value smaller than 0.001. Consider specifying `method` (e.g. `method=stats.PermutationMethod()`.)\n",
      "  ad.append(anderson_ksamp([X_mcmc[i, :], X_true[i, :]]).statistic)\n"
     ]
    },
    {
     "name": "stdout",
     "output_type": "stream",
     "text": [
      "Processed: SMMALA_accept_0.25_n_1e+06 | trial 15\n"
     ]
    },
    {
     "name": "stderr",
     "output_type": "stream",
     "text": [
      "/Users/m250/Documents/UCL/FYP/src/metrics.py:38: UserWarning: p-value floored: true value smaller than 0.001. Consider specifying `method` (e.g. `method=stats.PermutationMethod()`.)\n",
      "  ad.append(anderson_ksamp([X_mcmc[i, :], X_true[i, :]]).statistic)\n"
     ]
    },
    {
     "name": "stdout",
     "output_type": "stream",
     "text": [
      "Processed: SMMALA_accept_0.25_n_1e+06 | trial 16\n"
     ]
    },
    {
     "name": "stderr",
     "output_type": "stream",
     "text": [
      "/Users/m250/Documents/UCL/FYP/src/metrics.py:38: UserWarning: p-value floored: true value smaller than 0.001. Consider specifying `method` (e.g. `method=stats.PermutationMethod()`.)\n",
      "  ad.append(anderson_ksamp([X_mcmc[i, :], X_true[i, :]]).statistic)\n"
     ]
    },
    {
     "name": "stdout",
     "output_type": "stream",
     "text": [
      "Processed: SMMALA_accept_0.25_n_1e+06 | trial 17\n"
     ]
    },
    {
     "name": "stderr",
     "output_type": "stream",
     "text": [
      "/Users/m250/Documents/UCL/FYP/src/metrics.py:38: UserWarning: p-value floored: true value smaller than 0.001. Consider specifying `method` (e.g. `method=stats.PermutationMethod()`.)\n",
      "  ad.append(anderson_ksamp([X_mcmc[i, :], X_true[i, :]]).statistic)\n"
     ]
    },
    {
     "name": "stdout",
     "output_type": "stream",
     "text": [
      "Processed: SMMALA_accept_0.25_n_1e+06 | trial 18\n"
     ]
    },
    {
     "name": "stderr",
     "output_type": "stream",
     "text": [
      "/Users/m250/Documents/UCL/FYP/src/metrics.py:38: UserWarning: p-value floored: true value smaller than 0.001. Consider specifying `method` (e.g. `method=stats.PermutationMethod()`.)\n",
      "  ad.append(anderson_ksamp([X_mcmc[i, :], X_true[i, :]]).statistic)\n"
     ]
    },
    {
     "name": "stdout",
     "output_type": "stream",
     "text": [
      "Processed: SMMALA_accept_0.25_n_1e+06 | trial 19\n"
     ]
    },
    {
     "name": "stderr",
     "output_type": "stream",
     "text": [
      "/Users/m250/Documents/UCL/FYP/src/metrics.py:38: UserWarning: p-value floored: true value smaller than 0.001. Consider specifying `method` (e.g. `method=stats.PermutationMethod()`.)\n",
      "  ad.append(anderson_ksamp([X_mcmc[i, :], X_true[i, :]]).statistic)\n"
     ]
    },
    {
     "name": "stdout",
     "output_type": "stream",
     "text": [
      "Processed: SMMALA_accept_0.25_n_1e+06 | trial 20\n"
     ]
    },
    {
     "name": "stderr",
     "output_type": "stream",
     "text": [
      "/Users/m250/Documents/UCL/FYP/src/metrics.py:38: UserWarning: p-value floored: true value smaller than 0.001. Consider specifying `method` (e.g. `method=stats.PermutationMethod()`.)\n",
      "  ad.append(anderson_ksamp([X_mcmc[i, :], X_true[i, :]]).statistic)\n"
     ]
    },
    {
     "name": "stdout",
     "output_type": "stream",
     "text": [
      "Processed: SMMALA_accept_0.25_n_1e+06 | trial 21\n"
     ]
    },
    {
     "name": "stderr",
     "output_type": "stream",
     "text": [
      "/Users/m250/Documents/UCL/FYP/src/metrics.py:38: UserWarning: p-value floored: true value smaller than 0.001. Consider specifying `method` (e.g. `method=stats.PermutationMethod()`.)\n",
      "  ad.append(anderson_ksamp([X_mcmc[i, :], X_true[i, :]]).statistic)\n"
     ]
    },
    {
     "name": "stdout",
     "output_type": "stream",
     "text": [
      "Processed: SMMALA_accept_0.25_n_1e+06 | trial 22\n"
     ]
    },
    {
     "name": "stderr",
     "output_type": "stream",
     "text": [
      "/Users/m250/Documents/UCL/FYP/src/metrics.py:38: UserWarning: p-value floored: true value smaller than 0.001. Consider specifying `method` (e.g. `method=stats.PermutationMethod()`.)\n",
      "  ad.append(anderson_ksamp([X_mcmc[i, :], X_true[i, :]]).statistic)\n"
     ]
    },
    {
     "name": "stdout",
     "output_type": "stream",
     "text": [
      "Processed: SMMALA_accept_0.25_n_1e+06 | trial 23\n"
     ]
    },
    {
     "name": "stderr",
     "output_type": "stream",
     "text": [
      "/Users/m250/Documents/UCL/FYP/src/metrics.py:38: UserWarning: p-value floored: true value smaller than 0.001. Consider specifying `method` (e.g. `method=stats.PermutationMethod()`.)\n",
      "  ad.append(anderson_ksamp([X_mcmc[i, :], X_true[i, :]]).statistic)\n"
     ]
    },
    {
     "name": "stdout",
     "output_type": "stream",
     "text": [
      "Processed: SMMALA_accept_0.25_n_1e+06 | trial 24\n"
     ]
    },
    {
     "name": "stderr",
     "output_type": "stream",
     "text": [
      "/Users/m250/Documents/UCL/FYP/src/metrics.py:38: UserWarning: p-value floored: true value smaller than 0.001. Consider specifying `method` (e.g. `method=stats.PermutationMethod()`.)\n",
      "  ad.append(anderson_ksamp([X_mcmc[i, :], X_true[i, :]]).statistic)\n"
     ]
    },
    {
     "name": "stdout",
     "output_type": "stream",
     "text": [
      "Processed: SMMALA_accept_0.25_n_1e+06 | trial 25\n"
     ]
    },
    {
     "name": "stderr",
     "output_type": "stream",
     "text": [
      "/Users/m250/Documents/UCL/FYP/src/metrics.py:38: UserWarning: p-value floored: true value smaller than 0.001. Consider specifying `method` (e.g. `method=stats.PermutationMethod()`.)\n",
      "  ad.append(anderson_ksamp([X_mcmc[i, :], X_true[i, :]]).statistic)\n"
     ]
    },
    {
     "name": "stdout",
     "output_type": "stream",
     "text": [
      "Processed: SMMALA_accept_0.25_n_1e+06 | trial 26\n"
     ]
    },
    {
     "name": "stderr",
     "output_type": "stream",
     "text": [
      "/Users/m250/Documents/UCL/FYP/src/metrics.py:38: UserWarning: p-value floored: true value smaller than 0.001. Consider specifying `method` (e.g. `method=stats.PermutationMethod()`.)\n",
      "  ad.append(anderson_ksamp([X_mcmc[i, :], X_true[i, :]]).statistic)\n"
     ]
    },
    {
     "name": "stdout",
     "output_type": "stream",
     "text": [
      "Processed: SMMALA_accept_0.25_n_1e+06 | trial 27\n"
     ]
    },
    {
     "name": "stderr",
     "output_type": "stream",
     "text": [
      "/Users/m250/Documents/UCL/FYP/src/metrics.py:38: UserWarning: p-value floored: true value smaller than 0.001. Consider specifying `method` (e.g. `method=stats.PermutationMethod()`.)\n",
      "  ad.append(anderson_ksamp([X_mcmc[i, :], X_true[i, :]]).statistic)\n"
     ]
    },
    {
     "name": "stdout",
     "output_type": "stream",
     "text": [
      "Processed: SMMALA_accept_0.25_n_1e+06 | trial 28\n"
     ]
    },
    {
     "name": "stderr",
     "output_type": "stream",
     "text": [
      "/Users/m250/Documents/UCL/FYP/src/metrics.py:38: UserWarning: p-value floored: true value smaller than 0.001. Consider specifying `method` (e.g. `method=stats.PermutationMethod()`.)\n",
      "  ad.append(anderson_ksamp([X_mcmc[i, :], X_true[i, :]]).statistic)\n"
     ]
    },
    {
     "name": "stdout",
     "output_type": "stream",
     "text": [
      "Processed: SMMALA_accept_0.25_n_1e+06 | trial 29\n"
     ]
    },
    {
     "name": "stderr",
     "output_type": "stream",
     "text": [
      "/Users/m250/Documents/UCL/FYP/src/metrics.py:38: UserWarning: p-value floored: true value smaller than 0.001. Consider specifying `method` (e.g. `method=stats.PermutationMethod()`.)\n",
      "  ad.append(anderson_ksamp([X_mcmc[i, :], X_true[i, :]]).statistic)\n"
     ]
    },
    {
     "name": "stdout",
     "output_type": "stream",
     "text": [
      "Processed: SMMALA_accept_0.25_n_1e+06 | trial 30\n"
     ]
    },
    {
     "name": "stderr",
     "output_type": "stream",
     "text": [
      "/Users/m250/Documents/UCL/FYP/src/metrics.py:38: UserWarning: p-value floored: true value smaller than 0.001. Consider specifying `method` (e.g. `method=stats.PermutationMethod()`.)\n",
      "  ad.append(anderson_ksamp([X_mcmc[i, :], X_true[i, :]]).statistic)\n"
     ]
    },
    {
     "name": "stdout",
     "output_type": "stream",
     "text": [
      "Processed: SMMALA_accept_0.40_n_1e+06 | trial 1\n"
     ]
    },
    {
     "name": "stderr",
     "output_type": "stream",
     "text": [
      "/Users/m250/Documents/UCL/FYP/src/metrics.py:38: UserWarning: p-value floored: true value smaller than 0.001. Consider specifying `method` (e.g. `method=stats.PermutationMethod()`.)\n",
      "  ad.append(anderson_ksamp([X_mcmc[i, :], X_true[i, :]]).statistic)\n"
     ]
    },
    {
     "name": "stdout",
     "output_type": "stream",
     "text": [
      "Processed: SMMALA_accept_0.40_n_1e+06 | trial 2\n"
     ]
    },
    {
     "name": "stderr",
     "output_type": "stream",
     "text": [
      "/Users/m250/Documents/UCL/FYP/src/metrics.py:38: UserWarning: p-value floored: true value smaller than 0.001. Consider specifying `method` (e.g. `method=stats.PermutationMethod()`.)\n",
      "  ad.append(anderson_ksamp([X_mcmc[i, :], X_true[i, :]]).statistic)\n"
     ]
    },
    {
     "name": "stdout",
     "output_type": "stream",
     "text": [
      "Processed: SMMALA_accept_0.40_n_1e+06 | trial 3\n"
     ]
    },
    {
     "name": "stderr",
     "output_type": "stream",
     "text": [
      "/Users/m250/Documents/UCL/FYP/src/metrics.py:38: UserWarning: p-value floored: true value smaller than 0.001. Consider specifying `method` (e.g. `method=stats.PermutationMethod()`.)\n",
      "  ad.append(anderson_ksamp([X_mcmc[i, :], X_true[i, :]]).statistic)\n"
     ]
    },
    {
     "name": "stdout",
     "output_type": "stream",
     "text": [
      "Processed: SMMALA_accept_0.40_n_1e+06 | trial 4\n"
     ]
    },
    {
     "name": "stderr",
     "output_type": "stream",
     "text": [
      "/Users/m250/Documents/UCL/FYP/src/metrics.py:38: UserWarning: p-value floored: true value smaller than 0.001. Consider specifying `method` (e.g. `method=stats.PermutationMethod()`.)\n",
      "  ad.append(anderson_ksamp([X_mcmc[i, :], X_true[i, :]]).statistic)\n"
     ]
    },
    {
     "name": "stdout",
     "output_type": "stream",
     "text": [
      "Processed: SMMALA_accept_0.40_n_1e+06 | trial 5\n"
     ]
    },
    {
     "name": "stderr",
     "output_type": "stream",
     "text": [
      "/Users/m250/Documents/UCL/FYP/src/metrics.py:38: UserWarning: p-value floored: true value smaller than 0.001. Consider specifying `method` (e.g. `method=stats.PermutationMethod()`.)\n",
      "  ad.append(anderson_ksamp([X_mcmc[i, :], X_true[i, :]]).statistic)\n"
     ]
    },
    {
     "name": "stdout",
     "output_type": "stream",
     "text": [
      "Processed: SMMALA_accept_0.40_n_1e+06 | trial 6\n"
     ]
    },
    {
     "name": "stderr",
     "output_type": "stream",
     "text": [
      "/Users/m250/Documents/UCL/FYP/src/metrics.py:38: UserWarning: p-value floored: true value smaller than 0.001. Consider specifying `method` (e.g. `method=stats.PermutationMethod()`.)\n",
      "  ad.append(anderson_ksamp([X_mcmc[i, :], X_true[i, :]]).statistic)\n"
     ]
    },
    {
     "name": "stdout",
     "output_type": "stream",
     "text": [
      "Processed: SMMALA_accept_0.40_n_1e+06 | trial 7\n"
     ]
    },
    {
     "name": "stderr",
     "output_type": "stream",
     "text": [
      "/Users/m250/Documents/UCL/FYP/src/metrics.py:38: UserWarning: p-value floored: true value smaller than 0.001. Consider specifying `method` (e.g. `method=stats.PermutationMethod()`.)\n",
      "  ad.append(anderson_ksamp([X_mcmc[i, :], X_true[i, :]]).statistic)\n"
     ]
    },
    {
     "name": "stdout",
     "output_type": "stream",
     "text": [
      "Processed: SMMALA_accept_0.40_n_1e+06 | trial 8\n"
     ]
    },
    {
     "name": "stderr",
     "output_type": "stream",
     "text": [
      "/Users/m250/Documents/UCL/FYP/src/metrics.py:38: UserWarning: p-value floored: true value smaller than 0.001. Consider specifying `method` (e.g. `method=stats.PermutationMethod()`.)\n",
      "  ad.append(anderson_ksamp([X_mcmc[i, :], X_true[i, :]]).statistic)\n"
     ]
    },
    {
     "name": "stdout",
     "output_type": "stream",
     "text": [
      "Processed: SMMALA_accept_0.40_n_1e+06 | trial 9\n"
     ]
    },
    {
     "name": "stderr",
     "output_type": "stream",
     "text": [
      "/Users/m250/Documents/UCL/FYP/src/metrics.py:38: UserWarning: p-value floored: true value smaller than 0.001. Consider specifying `method` (e.g. `method=stats.PermutationMethod()`.)\n",
      "  ad.append(anderson_ksamp([X_mcmc[i, :], X_true[i, :]]).statistic)\n"
     ]
    },
    {
     "name": "stdout",
     "output_type": "stream",
     "text": [
      "Processed: SMMALA_accept_0.40_n_1e+06 | trial 10\n"
     ]
    },
    {
     "name": "stderr",
     "output_type": "stream",
     "text": [
      "/Users/m250/Documents/UCL/FYP/src/metrics.py:38: UserWarning: p-value floored: true value smaller than 0.001. Consider specifying `method` (e.g. `method=stats.PermutationMethod()`.)\n",
      "  ad.append(anderson_ksamp([X_mcmc[i, :], X_true[i, :]]).statistic)\n"
     ]
    },
    {
     "name": "stdout",
     "output_type": "stream",
     "text": [
      "Processed: SMMALA_accept_0.40_n_1e+06 | trial 11\n"
     ]
    },
    {
     "name": "stderr",
     "output_type": "stream",
     "text": [
      "/Users/m250/Documents/UCL/FYP/src/metrics.py:38: UserWarning: p-value floored: true value smaller than 0.001. Consider specifying `method` (e.g. `method=stats.PermutationMethod()`.)\n",
      "  ad.append(anderson_ksamp([X_mcmc[i, :], X_true[i, :]]).statistic)\n"
     ]
    },
    {
     "name": "stdout",
     "output_type": "stream",
     "text": [
      "Processed: SMMALA_accept_0.40_n_1e+06 | trial 12\n"
     ]
    },
    {
     "name": "stderr",
     "output_type": "stream",
     "text": [
      "/Users/m250/Documents/UCL/FYP/src/metrics.py:38: UserWarning: p-value floored: true value smaller than 0.001. Consider specifying `method` (e.g. `method=stats.PermutationMethod()`.)\n",
      "  ad.append(anderson_ksamp([X_mcmc[i, :], X_true[i, :]]).statistic)\n"
     ]
    },
    {
     "name": "stdout",
     "output_type": "stream",
     "text": [
      "Processed: SMMALA_accept_0.40_n_1e+06 | trial 13\n"
     ]
    },
    {
     "name": "stderr",
     "output_type": "stream",
     "text": [
      "/Users/m250/Documents/UCL/FYP/src/metrics.py:38: UserWarning: p-value floored: true value smaller than 0.001. Consider specifying `method` (e.g. `method=stats.PermutationMethod()`.)\n",
      "  ad.append(anderson_ksamp([X_mcmc[i, :], X_true[i, :]]).statistic)\n"
     ]
    },
    {
     "name": "stdout",
     "output_type": "stream",
     "text": [
      "Processed: SMMALA_accept_0.40_n_1e+06 | trial 14\n"
     ]
    },
    {
     "name": "stderr",
     "output_type": "stream",
     "text": [
      "/Users/m250/Documents/UCL/FYP/src/metrics.py:38: UserWarning: p-value floored: true value smaller than 0.001. Consider specifying `method` (e.g. `method=stats.PermutationMethod()`.)\n",
      "  ad.append(anderson_ksamp([X_mcmc[i, :], X_true[i, :]]).statistic)\n"
     ]
    },
    {
     "name": "stdout",
     "output_type": "stream",
     "text": [
      "Processed: SMMALA_accept_0.40_n_1e+06 | trial 15\n"
     ]
    },
    {
     "name": "stderr",
     "output_type": "stream",
     "text": [
      "/Users/m250/Documents/UCL/FYP/src/metrics.py:38: UserWarning: p-value floored: true value smaller than 0.001. Consider specifying `method` (e.g. `method=stats.PermutationMethod()`.)\n",
      "  ad.append(anderson_ksamp([X_mcmc[i, :], X_true[i, :]]).statistic)\n"
     ]
    },
    {
     "name": "stdout",
     "output_type": "stream",
     "text": [
      "Processed: SMMALA_accept_0.40_n_1e+06 | trial 16\n"
     ]
    },
    {
     "name": "stderr",
     "output_type": "stream",
     "text": [
      "/Users/m250/Documents/UCL/FYP/src/metrics.py:38: UserWarning: p-value floored: true value smaller than 0.001. Consider specifying `method` (e.g. `method=stats.PermutationMethod()`.)\n",
      "  ad.append(anderson_ksamp([X_mcmc[i, :], X_true[i, :]]).statistic)\n"
     ]
    },
    {
     "name": "stdout",
     "output_type": "stream",
     "text": [
      "Processed: SMMALA_accept_0.55_n_1e+06 | trial 1\n"
     ]
    },
    {
     "name": "stderr",
     "output_type": "stream",
     "text": [
      "/Users/m250/Documents/UCL/FYP/src/metrics.py:38: UserWarning: p-value floored: true value smaller than 0.001. Consider specifying `method` (e.g. `method=stats.PermutationMethod()`.)\n",
      "  ad.append(anderson_ksamp([X_mcmc[i, :], X_true[i, :]]).statistic)\n"
     ]
    },
    {
     "name": "stdout",
     "output_type": "stream",
     "text": [
      "Processed: SMMALA_accept_0.55_n_1e+06 | trial 2\n"
     ]
    },
    {
     "name": "stderr",
     "output_type": "stream",
     "text": [
      "/Users/m250/Documents/UCL/FYP/src/metrics.py:38: UserWarning: p-value floored: true value smaller than 0.001. Consider specifying `method` (e.g. `method=stats.PermutationMethod()`.)\n",
      "  ad.append(anderson_ksamp([X_mcmc[i, :], X_true[i, :]]).statistic)\n"
     ]
    },
    {
     "name": "stdout",
     "output_type": "stream",
     "text": [
      "Processed: SMMALA_accept_0.55_n_1e+06 | trial 3\n"
     ]
    },
    {
     "name": "stderr",
     "output_type": "stream",
     "text": [
      "/Users/m250/Documents/UCL/FYP/src/metrics.py:38: UserWarning: p-value floored: true value smaller than 0.001. Consider specifying `method` (e.g. `method=stats.PermutationMethod()`.)\n",
      "  ad.append(anderson_ksamp([X_mcmc[i, :], X_true[i, :]]).statistic)\n"
     ]
    },
    {
     "name": "stdout",
     "output_type": "stream",
     "text": [
      "Processed: SMMALA_accept_0.55_n_1e+06 | trial 4\n"
     ]
    },
    {
     "name": "stderr",
     "output_type": "stream",
     "text": [
      "/Users/m250/Documents/UCL/FYP/src/metrics.py:38: UserWarning: p-value floored: true value smaller than 0.001. Consider specifying `method` (e.g. `method=stats.PermutationMethod()`.)\n",
      "  ad.append(anderson_ksamp([X_mcmc[i, :], X_true[i, :]]).statistic)\n"
     ]
    },
    {
     "name": "stdout",
     "output_type": "stream",
     "text": [
      "Processed: SMMALA_accept_0.55_n_1e+06 | trial 5\n"
     ]
    },
    {
     "name": "stderr",
     "output_type": "stream",
     "text": [
      "/Users/m250/Documents/UCL/FYP/src/metrics.py:38: UserWarning: p-value floored: true value smaller than 0.001. Consider specifying `method` (e.g. `method=stats.PermutationMethod()`.)\n",
      "  ad.append(anderson_ksamp([X_mcmc[i, :], X_true[i, :]]).statistic)\n"
     ]
    },
    {
     "name": "stdout",
     "output_type": "stream",
     "text": [
      "Processed: SMMALA_accept_0.55_n_1e+06 | trial 6\n"
     ]
    },
    {
     "name": "stderr",
     "output_type": "stream",
     "text": [
      "/Users/m250/Documents/UCL/FYP/src/metrics.py:38: UserWarning: p-value floored: true value smaller than 0.001. Consider specifying `method` (e.g. `method=stats.PermutationMethod()`.)\n",
      "  ad.append(anderson_ksamp([X_mcmc[i, :], X_true[i, :]]).statistic)\n"
     ]
    },
    {
     "name": "stdout",
     "output_type": "stream",
     "text": [
      "Processed: SMMALA_accept_0.55_n_1e+06 | trial 7\n"
     ]
    },
    {
     "name": "stderr",
     "output_type": "stream",
     "text": [
      "/Users/m250/Documents/UCL/FYP/src/metrics.py:38: UserWarning: p-value floored: true value smaller than 0.001. Consider specifying `method` (e.g. `method=stats.PermutationMethod()`.)\n",
      "  ad.append(anderson_ksamp([X_mcmc[i, :], X_true[i, :]]).statistic)\n"
     ]
    },
    {
     "name": "stdout",
     "output_type": "stream",
     "text": [
      "Processed: SMMALA_accept_0.55_n_1e+06 | trial 8\n"
     ]
    },
    {
     "name": "stderr",
     "output_type": "stream",
     "text": [
      "/Users/m250/Documents/UCL/FYP/src/metrics.py:38: UserWarning: p-value floored: true value smaller than 0.001. Consider specifying `method` (e.g. `method=stats.PermutationMethod()`.)\n",
      "  ad.append(anderson_ksamp([X_mcmc[i, :], X_true[i, :]]).statistic)\n"
     ]
    },
    {
     "name": "stdout",
     "output_type": "stream",
     "text": [
      "Processed: SMMALA_accept_0.55_n_1e+06 | trial 9\n"
     ]
    },
    {
     "name": "stderr",
     "output_type": "stream",
     "text": [
      "/Users/m250/Documents/UCL/FYP/src/metrics.py:38: UserWarning: p-value floored: true value smaller than 0.001. Consider specifying `method` (e.g. `method=stats.PermutationMethod()`.)\n",
      "  ad.append(anderson_ksamp([X_mcmc[i, :], X_true[i, :]]).statistic)\n"
     ]
    },
    {
     "name": "stdout",
     "output_type": "stream",
     "text": [
      "Processed: SMMALA_accept_0.55_n_1e+06 | trial 10\n"
     ]
    },
    {
     "name": "stderr",
     "output_type": "stream",
     "text": [
      "/Users/m250/Documents/UCL/FYP/src/metrics.py:38: UserWarning: p-value floored: true value smaller than 0.001. Consider specifying `method` (e.g. `method=stats.PermutationMethod()`.)\n",
      "  ad.append(anderson_ksamp([X_mcmc[i, :], X_true[i, :]]).statistic)\n"
     ]
    },
    {
     "name": "stdout",
     "output_type": "stream",
     "text": [
      "Processed: SMMALA_accept_0.55_n_1e+06 | trial 11\n"
     ]
    },
    {
     "name": "stderr",
     "output_type": "stream",
     "text": [
      "/Users/m250/Documents/UCL/FYP/src/metrics.py:38: UserWarning: p-value floored: true value smaller than 0.001. Consider specifying `method` (e.g. `method=stats.PermutationMethod()`.)\n",
      "  ad.append(anderson_ksamp([X_mcmc[i, :], X_true[i, :]]).statistic)\n"
     ]
    },
    {
     "name": "stdout",
     "output_type": "stream",
     "text": [
      "Processed: SMMALA_accept_0.55_n_1e+06 | trial 12\n"
     ]
    },
    {
     "name": "stderr",
     "output_type": "stream",
     "text": [
      "/Users/m250/Documents/UCL/FYP/src/metrics.py:38: UserWarning: p-value floored: true value smaller than 0.001. Consider specifying `method` (e.g. `method=stats.PermutationMethod()`.)\n",
      "  ad.append(anderson_ksamp([X_mcmc[i, :], X_true[i, :]]).statistic)\n"
     ]
    },
    {
     "name": "stdout",
     "output_type": "stream",
     "text": [
      "Processed: SMMALA_accept_0.55_n_1e+06 | trial 13\n"
     ]
    },
    {
     "name": "stderr",
     "output_type": "stream",
     "text": [
      "/Users/m250/Documents/UCL/FYP/src/metrics.py:38: UserWarning: p-value floored: true value smaller than 0.001. Consider specifying `method` (e.g. `method=stats.PermutationMethod()`.)\n",
      "  ad.append(anderson_ksamp([X_mcmc[i, :], X_true[i, :]]).statistic)\n"
     ]
    },
    {
     "name": "stdout",
     "output_type": "stream",
     "text": [
      "Processed: SMMALA_accept_0.55_n_1e+06 | trial 14\n"
     ]
    },
    {
     "name": "stderr",
     "output_type": "stream",
     "text": [
      "/Users/m250/Documents/UCL/FYP/src/metrics.py:38: UserWarning: p-value floored: true value smaller than 0.001. Consider specifying `method` (e.g. `method=stats.PermutationMethod()`.)\n",
      "  ad.append(anderson_ksamp([X_mcmc[i, :], X_true[i, :]]).statistic)\n"
     ]
    },
    {
     "name": "stdout",
     "output_type": "stream",
     "text": [
      "Processed: SMMALA_accept_0.55_n_1e+06 | trial 15\n"
     ]
    },
    {
     "name": "stderr",
     "output_type": "stream",
     "text": [
      "/Users/m250/Documents/UCL/FYP/src/metrics.py:38: UserWarning: p-value floored: true value smaller than 0.001. Consider specifying `method` (e.g. `method=stats.PermutationMethod()`.)\n",
      "  ad.append(anderson_ksamp([X_mcmc[i, :], X_true[i, :]]).statistic)\n"
     ]
    },
    {
     "name": "stdout",
     "output_type": "stream",
     "text": [
      "Processed: SMMALA_accept_0.55_n_1e+06 | trial 16\n"
     ]
    },
    {
     "name": "stderr",
     "output_type": "stream",
     "text": [
      "/Users/m250/Documents/UCL/FYP/src/metrics.py:38: UserWarning: p-value floored: true value smaller than 0.001. Consider specifying `method` (e.g. `method=stats.PermutationMethod()`.)\n",
      "  ad.append(anderson_ksamp([X_mcmc[i, :], X_true[i, :]]).statistic)\n"
     ]
    },
    {
     "name": "stdout",
     "output_type": "stream",
     "text": [
      "Processed: SMMALA_accept_0.55_n_1e+06 | trial 17\n"
     ]
    },
    {
     "name": "stderr",
     "output_type": "stream",
     "text": [
      "/Users/m250/Documents/UCL/FYP/src/metrics.py:38: UserWarning: p-value floored: true value smaller than 0.001. Consider specifying `method` (e.g. `method=stats.PermutationMethod()`.)\n",
      "  ad.append(anderson_ksamp([X_mcmc[i, :], X_true[i, :]]).statistic)\n"
     ]
    },
    {
     "name": "stdout",
     "output_type": "stream",
     "text": [
      "Processed: SMMALA_accept_0.55_n_1e+06 | trial 18\n"
     ]
    },
    {
     "name": "stderr",
     "output_type": "stream",
     "text": [
      "/Users/m250/Documents/UCL/FYP/src/metrics.py:38: UserWarning: p-value floored: true value smaller than 0.001. Consider specifying `method` (e.g. `method=stats.PermutationMethod()`.)\n",
      "  ad.append(anderson_ksamp([X_mcmc[i, :], X_true[i, :]]).statistic)\n"
     ]
    },
    {
     "name": "stdout",
     "output_type": "stream",
     "text": [
      "Processed: SMMALA_accept_0.55_n_1e+06 | trial 19\n"
     ]
    },
    {
     "name": "stderr",
     "output_type": "stream",
     "text": [
      "/Users/m250/Documents/UCL/FYP/src/metrics.py:38: UserWarning: p-value floored: true value smaller than 0.001. Consider specifying `method` (e.g. `method=stats.PermutationMethod()`.)\n",
      "  ad.append(anderson_ksamp([X_mcmc[i, :], X_true[i, :]]).statistic)\n"
     ]
    },
    {
     "name": "stdout",
     "output_type": "stream",
     "text": [
      "Processed: SMMALA_accept_0.55_n_1e+06 | trial 20\n"
     ]
    },
    {
     "name": "stderr",
     "output_type": "stream",
     "text": [
      "/Users/m250/Documents/UCL/FYP/src/metrics.py:38: UserWarning: p-value floored: true value smaller than 0.001. Consider specifying `method` (e.g. `method=stats.PermutationMethod()`.)\n",
      "  ad.append(anderson_ksamp([X_mcmc[i, :], X_true[i, :]]).statistic)\n"
     ]
    },
    {
     "name": "stdout",
     "output_type": "stream",
     "text": [
      "Processed: SMMALA_accept_0.55_n_1e+06 | trial 21\n"
     ]
    },
    {
     "name": "stderr",
     "output_type": "stream",
     "text": [
      "/Users/m250/Documents/UCL/FYP/src/metrics.py:38: UserWarning: p-value floored: true value smaller than 0.001. Consider specifying `method` (e.g. `method=stats.PermutationMethod()`.)\n",
      "  ad.append(anderson_ksamp([X_mcmc[i, :], X_true[i, :]]).statistic)\n"
     ]
    },
    {
     "name": "stdout",
     "output_type": "stream",
     "text": [
      "Processed: SMMALA_accept_0.55_n_1e+06 | trial 22\n"
     ]
    },
    {
     "name": "stderr",
     "output_type": "stream",
     "text": [
      "/Users/m250/Documents/UCL/FYP/src/metrics.py:38: UserWarning: p-value floored: true value smaller than 0.001. Consider specifying `method` (e.g. `method=stats.PermutationMethod()`.)\n",
      "  ad.append(anderson_ksamp([X_mcmc[i, :], X_true[i, :]]).statistic)\n"
     ]
    },
    {
     "name": "stdout",
     "output_type": "stream",
     "text": [
      "Processed: SMMALA_accept_0.55_n_1e+06 | trial 23\n"
     ]
    },
    {
     "name": "stderr",
     "output_type": "stream",
     "text": [
      "/Users/m250/Documents/UCL/FYP/src/metrics.py:38: UserWarning: p-value floored: true value smaller than 0.001. Consider specifying `method` (e.g. `method=stats.PermutationMethod()`.)\n",
      "  ad.append(anderson_ksamp([X_mcmc[i, :], X_true[i, :]]).statistic)\n"
     ]
    },
    {
     "name": "stdout",
     "output_type": "stream",
     "text": [
      "Processed: SMMALA_accept_0.55_n_1e+06 | trial 24\n"
     ]
    },
    {
     "name": "stderr",
     "output_type": "stream",
     "text": [
      "/Users/m250/Documents/UCL/FYP/src/metrics.py:38: UserWarning: p-value floored: true value smaller than 0.001. Consider specifying `method` (e.g. `method=stats.PermutationMethod()`.)\n",
      "  ad.append(anderson_ksamp([X_mcmc[i, :], X_true[i, :]]).statistic)\n"
     ]
    },
    {
     "name": "stdout",
     "output_type": "stream",
     "text": [
      "Processed: SMMALA_accept_0.55_n_1e+06 | trial 25\n"
     ]
    },
    {
     "name": "stderr",
     "output_type": "stream",
     "text": [
      "/Users/m250/Documents/UCL/FYP/src/metrics.py:38: UserWarning: p-value floored: true value smaller than 0.001. Consider specifying `method` (e.g. `method=stats.PermutationMethod()`.)\n",
      "  ad.append(anderson_ksamp([X_mcmc[i, :], X_true[i, :]]).statistic)\n"
     ]
    },
    {
     "name": "stdout",
     "output_type": "stream",
     "text": [
      "Processed: SMMALA_accept_0.55_n_1e+06 | trial 26\n"
     ]
    },
    {
     "name": "stderr",
     "output_type": "stream",
     "text": [
      "/Users/m250/Documents/UCL/FYP/src/metrics.py:38: UserWarning: p-value floored: true value smaller than 0.001. Consider specifying `method` (e.g. `method=stats.PermutationMethod()`.)\n",
      "  ad.append(anderson_ksamp([X_mcmc[i, :], X_true[i, :]]).statistic)\n"
     ]
    },
    {
     "name": "stdout",
     "output_type": "stream",
     "text": [
      "Processed: SMMALA_accept_0.55_n_1e+06 | trial 27\n"
     ]
    },
    {
     "name": "stderr",
     "output_type": "stream",
     "text": [
      "/Users/m250/Documents/UCL/FYP/src/metrics.py:38: UserWarning: p-value floored: true value smaller than 0.001. Consider specifying `method` (e.g. `method=stats.PermutationMethod()`.)\n",
      "  ad.append(anderson_ksamp([X_mcmc[i, :], X_true[i, :]]).statistic)\n"
     ]
    },
    {
     "name": "stdout",
     "output_type": "stream",
     "text": [
      "Processed: SMMALA_accept_0.55_n_1e+06 | trial 28\n"
     ]
    },
    {
     "name": "stderr",
     "output_type": "stream",
     "text": [
      "/Users/m250/Documents/UCL/FYP/src/metrics.py:38: UserWarning: p-value floored: true value smaller than 0.001. Consider specifying `method` (e.g. `method=stats.PermutationMethod()`.)\n",
      "  ad.append(anderson_ksamp([X_mcmc[i, :], X_true[i, :]]).statistic)\n"
     ]
    },
    {
     "name": "stdout",
     "output_type": "stream",
     "text": [
      "Processed: SMMALA_accept_0.55_n_1e+06 | trial 29\n"
     ]
    },
    {
     "name": "stderr",
     "output_type": "stream",
     "text": [
      "/Users/m250/Documents/UCL/FYP/src/metrics.py:38: UserWarning: p-value floored: true value smaller than 0.001. Consider specifying `method` (e.g. `method=stats.PermutationMethod()`.)\n",
      "  ad.append(anderson_ksamp([X_mcmc[i, :], X_true[i, :]]).statistic)\n"
     ]
    },
    {
     "name": "stdout",
     "output_type": "stream",
     "text": [
      "Processed: SMMALA_accept_0.55_n_1e+06 | trial 30\n"
     ]
    },
    {
     "name": "stderr",
     "output_type": "stream",
     "text": [
      "/Users/m250/Documents/UCL/FYP/src/metrics.py:38: UserWarning: p-value floored: true value smaller than 0.001. Consider specifying `method` (e.g. `method=stats.PermutationMethod()`.)\n",
      "  ad.append(anderson_ksamp([X_mcmc[i, :], X_true[i, :]]).statistic)\n"
     ]
    },
    {
     "name": "stdout",
     "output_type": "stream",
     "text": [
      "Processed: SMMALA_accept_0.70_n_1e+06 | trial 1\n"
     ]
    },
    {
     "name": "stderr",
     "output_type": "stream",
     "text": [
      "/Users/m250/Documents/UCL/FYP/src/metrics.py:38: UserWarning: p-value floored: true value smaller than 0.001. Consider specifying `method` (e.g. `method=stats.PermutationMethod()`.)\n",
      "  ad.append(anderson_ksamp([X_mcmc[i, :], X_true[i, :]]).statistic)\n"
     ]
    },
    {
     "name": "stdout",
     "output_type": "stream",
     "text": [
      "Processed: SMMALA_accept_0.70_n_1e+06 | trial 2\n"
     ]
    },
    {
     "name": "stderr",
     "output_type": "stream",
     "text": [
      "/Users/m250/Documents/UCL/FYP/src/metrics.py:38: UserWarning: p-value floored: true value smaller than 0.001. Consider specifying `method` (e.g. `method=stats.PermutationMethod()`.)\n",
      "  ad.append(anderson_ksamp([X_mcmc[i, :], X_true[i, :]]).statistic)\n"
     ]
    },
    {
     "name": "stdout",
     "output_type": "stream",
     "text": [
      "Processed: SMMALA_accept_0.70_n_1e+06 | trial 3\n"
     ]
    },
    {
     "name": "stderr",
     "output_type": "stream",
     "text": [
      "/Users/m250/Documents/UCL/FYP/src/metrics.py:38: UserWarning: p-value floored: true value smaller than 0.001. Consider specifying `method` (e.g. `method=stats.PermutationMethod()`.)\n",
      "  ad.append(anderson_ksamp([X_mcmc[i, :], X_true[i, :]]).statistic)\n"
     ]
    },
    {
     "name": "stdout",
     "output_type": "stream",
     "text": [
      "Processed: SMMALA_accept_0.70_n_1e+06 | trial 4\n"
     ]
    },
    {
     "name": "stderr",
     "output_type": "stream",
     "text": [
      "/Users/m250/Documents/UCL/FYP/src/metrics.py:38: UserWarning: p-value floored: true value smaller than 0.001. Consider specifying `method` (e.g. `method=stats.PermutationMethod()`.)\n",
      "  ad.append(anderson_ksamp([X_mcmc[i, :], X_true[i, :]]).statistic)\n"
     ]
    },
    {
     "name": "stdout",
     "output_type": "stream",
     "text": [
      "Processed: SMMALA_accept_0.70_n_1e+06 | trial 5\n"
     ]
    },
    {
     "name": "stderr",
     "output_type": "stream",
     "text": [
      "/Users/m250/Documents/UCL/FYP/src/metrics.py:38: UserWarning: p-value floored: true value smaller than 0.001. Consider specifying `method` (e.g. `method=stats.PermutationMethod()`.)\n",
      "  ad.append(anderson_ksamp([X_mcmc[i, :], X_true[i, :]]).statistic)\n"
     ]
    },
    {
     "name": "stdout",
     "output_type": "stream",
     "text": [
      "Processed: SMMALA_accept_0.70_n_1e+06 | trial 6\n"
     ]
    },
    {
     "name": "stderr",
     "output_type": "stream",
     "text": [
      "/Users/m250/Documents/UCL/FYP/src/metrics.py:38: UserWarning: p-value floored: true value smaller than 0.001. Consider specifying `method` (e.g. `method=stats.PermutationMethod()`.)\n",
      "  ad.append(anderson_ksamp([X_mcmc[i, :], X_true[i, :]]).statistic)\n"
     ]
    },
    {
     "name": "stdout",
     "output_type": "stream",
     "text": [
      "Processed: SMMALA_accept_0.70_n_1e+06 | trial 7\n"
     ]
    },
    {
     "name": "stderr",
     "output_type": "stream",
     "text": [
      "/Users/m250/Documents/UCL/FYP/src/metrics.py:38: UserWarning: p-value floored: true value smaller than 0.001. Consider specifying `method` (e.g. `method=stats.PermutationMethod()`.)\n",
      "  ad.append(anderson_ksamp([X_mcmc[i, :], X_true[i, :]]).statistic)\n"
     ]
    },
    {
     "name": "stdout",
     "output_type": "stream",
     "text": [
      "Processed: SMMALA_accept_0.70_n_1e+06 | trial 8\n"
     ]
    },
    {
     "name": "stderr",
     "output_type": "stream",
     "text": [
      "/Users/m250/Documents/UCL/FYP/src/metrics.py:38: UserWarning: p-value floored: true value smaller than 0.001. Consider specifying `method` (e.g. `method=stats.PermutationMethod()`.)\n",
      "  ad.append(anderson_ksamp([X_mcmc[i, :], X_true[i, :]]).statistic)\n"
     ]
    },
    {
     "name": "stdout",
     "output_type": "stream",
     "text": [
      "Processed: SMMALA_accept_0.70_n_1e+06 | trial 9\n"
     ]
    },
    {
     "name": "stderr",
     "output_type": "stream",
     "text": [
      "/Users/m250/Documents/UCL/FYP/src/metrics.py:38: UserWarning: p-value floored: true value smaller than 0.001. Consider specifying `method` (e.g. `method=stats.PermutationMethod()`.)\n",
      "  ad.append(anderson_ksamp([X_mcmc[i, :], X_true[i, :]]).statistic)\n"
     ]
    },
    {
     "name": "stdout",
     "output_type": "stream",
     "text": [
      "Processed: SMMALA_accept_0.70_n_1e+06 | trial 10\n"
     ]
    },
    {
     "name": "stderr",
     "output_type": "stream",
     "text": [
      "/Users/m250/Documents/UCL/FYP/src/metrics.py:38: UserWarning: p-value floored: true value smaller than 0.001. Consider specifying `method` (e.g. `method=stats.PermutationMethod()`.)\n",
      "  ad.append(anderson_ksamp([X_mcmc[i, :], X_true[i, :]]).statistic)\n"
     ]
    },
    {
     "name": "stdout",
     "output_type": "stream",
     "text": [
      "Processed: SMMALA_accept_0.70_n_1e+06 | trial 11\n"
     ]
    },
    {
     "name": "stderr",
     "output_type": "stream",
     "text": [
      "/Users/m250/Documents/UCL/FYP/src/metrics.py:38: UserWarning: p-value floored: true value smaller than 0.001. Consider specifying `method` (e.g. `method=stats.PermutationMethod()`.)\n",
      "  ad.append(anderson_ksamp([X_mcmc[i, :], X_true[i, :]]).statistic)\n"
     ]
    },
    {
     "name": "stdout",
     "output_type": "stream",
     "text": [
      "Processed: SMMALA_accept_0.70_n_1e+06 | trial 12\n"
     ]
    },
    {
     "name": "stderr",
     "output_type": "stream",
     "text": [
      "/Users/m250/Documents/UCL/FYP/src/metrics.py:38: UserWarning: p-value floored: true value smaller than 0.001. Consider specifying `method` (e.g. `method=stats.PermutationMethod()`.)\n",
      "  ad.append(anderson_ksamp([X_mcmc[i, :], X_true[i, :]]).statistic)\n"
     ]
    },
    {
     "name": "stdout",
     "output_type": "stream",
     "text": [
      "Processed: SMMALA_accept_0.70_n_1e+06 | trial 13\n"
     ]
    },
    {
     "name": "stderr",
     "output_type": "stream",
     "text": [
      "/Users/m250/Documents/UCL/FYP/src/metrics.py:38: UserWarning: p-value floored: true value smaller than 0.001. Consider specifying `method` (e.g. `method=stats.PermutationMethod()`.)\n",
      "  ad.append(anderson_ksamp([X_mcmc[i, :], X_true[i, :]]).statistic)\n"
     ]
    },
    {
     "name": "stdout",
     "output_type": "stream",
     "text": [
      "Processed: SMMALA_accept_0.70_n_1e+06 | trial 14\n"
     ]
    },
    {
     "name": "stderr",
     "output_type": "stream",
     "text": [
      "/Users/m250/Documents/UCL/FYP/src/metrics.py:38: UserWarning: p-value floored: true value smaller than 0.001. Consider specifying `method` (e.g. `method=stats.PermutationMethod()`.)\n",
      "  ad.append(anderson_ksamp([X_mcmc[i, :], X_true[i, :]]).statistic)\n"
     ]
    },
    {
     "name": "stdout",
     "output_type": "stream",
     "text": [
      "Processed: SMMALA_accept_0.70_n_1e+06 | trial 15\n"
     ]
    },
    {
     "name": "stderr",
     "output_type": "stream",
     "text": [
      "/Users/m250/Documents/UCL/FYP/src/metrics.py:38: UserWarning: p-value floored: true value smaller than 0.001. Consider specifying `method` (e.g. `method=stats.PermutationMethod()`.)\n",
      "  ad.append(anderson_ksamp([X_mcmc[i, :], X_true[i, :]]).statistic)\n"
     ]
    },
    {
     "name": "stdout",
     "output_type": "stream",
     "text": [
      "Processed: SMMALA_accept_0.70_n_1e+06 | trial 16\n"
     ]
    },
    {
     "name": "stderr",
     "output_type": "stream",
     "text": [
      "/Users/m250/Documents/UCL/FYP/src/metrics.py:38: UserWarning: p-value floored: true value smaller than 0.001. Consider specifying `method` (e.g. `method=stats.PermutationMethod()`.)\n",
      "  ad.append(anderson_ksamp([X_mcmc[i, :], X_true[i, :]]).statistic)\n"
     ]
    },
    {
     "name": "stdout",
     "output_type": "stream",
     "text": [
      "Processed: SMMALA_accept_0.70_n_1e+06 | trial 17\n"
     ]
    },
    {
     "name": "stderr",
     "output_type": "stream",
     "text": [
      "/Users/m250/Documents/UCL/FYP/src/metrics.py:38: UserWarning: p-value floored: true value smaller than 0.001. Consider specifying `method` (e.g. `method=stats.PermutationMethod()`.)\n",
      "  ad.append(anderson_ksamp([X_mcmc[i, :], X_true[i, :]]).statistic)\n"
     ]
    },
    {
     "name": "stdout",
     "output_type": "stream",
     "text": [
      "Processed: SMMALA_accept_0.70_n_1e+06 | trial 18\n"
     ]
    },
    {
     "name": "stderr",
     "output_type": "stream",
     "text": [
      "/Users/m250/Documents/UCL/FYP/src/metrics.py:38: UserWarning: p-value floored: true value smaller than 0.001. Consider specifying `method` (e.g. `method=stats.PermutationMethod()`.)\n",
      "  ad.append(anderson_ksamp([X_mcmc[i, :], X_true[i, :]]).statistic)\n"
     ]
    },
    {
     "name": "stdout",
     "output_type": "stream",
     "text": [
      "Processed: SMMALA_accept_0.70_n_1e+06 | trial 19\n"
     ]
    },
    {
     "name": "stderr",
     "output_type": "stream",
     "text": [
      "/Users/m250/Documents/UCL/FYP/src/metrics.py:38: UserWarning: p-value floored: true value smaller than 0.001. Consider specifying `method` (e.g. `method=stats.PermutationMethod()`.)\n",
      "  ad.append(anderson_ksamp([X_mcmc[i, :], X_true[i, :]]).statistic)\n"
     ]
    },
    {
     "name": "stdout",
     "output_type": "stream",
     "text": [
      "Processed: SMMALA_accept_0.70_n_1e+06 | trial 20\n"
     ]
    },
    {
     "name": "stderr",
     "output_type": "stream",
     "text": [
      "/Users/m250/Documents/UCL/FYP/src/metrics.py:38: UserWarning: p-value floored: true value smaller than 0.001. Consider specifying `method` (e.g. `method=stats.PermutationMethod()`.)\n",
      "  ad.append(anderson_ksamp([X_mcmc[i, :], X_true[i, :]]).statistic)\n"
     ]
    },
    {
     "name": "stdout",
     "output_type": "stream",
     "text": [
      "Processed: SMMALA_accept_0.70_n_1e+06 | trial 21\n"
     ]
    },
    {
     "name": "stderr",
     "output_type": "stream",
     "text": [
      "/Users/m250/Documents/UCL/FYP/src/metrics.py:38: UserWarning: p-value floored: true value smaller than 0.001. Consider specifying `method` (e.g. `method=stats.PermutationMethod()`.)\n",
      "  ad.append(anderson_ksamp([X_mcmc[i, :], X_true[i, :]]).statistic)\n"
     ]
    },
    {
     "name": "stdout",
     "output_type": "stream",
     "text": [
      "Processed: SMMALA_accept_0.70_n_1e+06 | trial 22\n"
     ]
    },
    {
     "name": "stderr",
     "output_type": "stream",
     "text": [
      "/Users/m250/Documents/UCL/FYP/src/metrics.py:38: UserWarning: p-value floored: true value smaller than 0.001. Consider specifying `method` (e.g. `method=stats.PermutationMethod()`.)\n",
      "  ad.append(anderson_ksamp([X_mcmc[i, :], X_true[i, :]]).statistic)\n"
     ]
    },
    {
     "name": "stdout",
     "output_type": "stream",
     "text": [
      "Processed: SMMALA_accept_0.70_n_1e+06 | trial 23\n"
     ]
    },
    {
     "name": "stderr",
     "output_type": "stream",
     "text": [
      "/Users/m250/Documents/UCL/FYP/src/metrics.py:38: UserWarning: p-value floored: true value smaller than 0.001. Consider specifying `method` (e.g. `method=stats.PermutationMethod()`.)\n",
      "  ad.append(anderson_ksamp([X_mcmc[i, :], X_true[i, :]]).statistic)\n"
     ]
    },
    {
     "name": "stdout",
     "output_type": "stream",
     "text": [
      "Processed: SMMALA_accept_0.70_n_1e+06 | trial 24\n"
     ]
    },
    {
     "name": "stderr",
     "output_type": "stream",
     "text": [
      "/Users/m250/Documents/UCL/FYP/src/metrics.py:38: UserWarning: p-value floored: true value smaller than 0.001. Consider specifying `method` (e.g. `method=stats.PermutationMethod()`.)\n",
      "  ad.append(anderson_ksamp([X_mcmc[i, :], X_true[i, :]]).statistic)\n"
     ]
    },
    {
     "name": "stdout",
     "output_type": "stream",
     "text": [
      "Processed: SMMALA_accept_0.70_n_1e+06 | trial 25\n"
     ]
    },
    {
     "name": "stderr",
     "output_type": "stream",
     "text": [
      "/Users/m250/Documents/UCL/FYP/src/metrics.py:38: UserWarning: p-value floored: true value smaller than 0.001. Consider specifying `method` (e.g. `method=stats.PermutationMethod()`.)\n",
      "  ad.append(anderson_ksamp([X_mcmc[i, :], X_true[i, :]]).statistic)\n"
     ]
    },
    {
     "name": "stdout",
     "output_type": "stream",
     "text": [
      "Processed: SMMALA_accept_0.70_n_1e+06 | trial 26\n"
     ]
    },
    {
     "name": "stderr",
     "output_type": "stream",
     "text": [
      "/Users/m250/Documents/UCL/FYP/src/metrics.py:38: UserWarning: p-value floored: true value smaller than 0.001. Consider specifying `method` (e.g. `method=stats.PermutationMethod()`.)\n",
      "  ad.append(anderson_ksamp([X_mcmc[i, :], X_true[i, :]]).statistic)\n"
     ]
    },
    {
     "name": "stdout",
     "output_type": "stream",
     "text": [
      "Processed: SMMALA_accept_0.70_n_1e+06 | trial 27\n"
     ]
    },
    {
     "name": "stderr",
     "output_type": "stream",
     "text": [
      "/Users/m250/Documents/UCL/FYP/src/metrics.py:38: UserWarning: p-value floored: true value smaller than 0.001. Consider specifying `method` (e.g. `method=stats.PermutationMethod()`.)\n",
      "  ad.append(anderson_ksamp([X_mcmc[i, :], X_true[i, :]]).statistic)\n"
     ]
    },
    {
     "name": "stdout",
     "output_type": "stream",
     "text": [
      "Processed: SMMALA_accept_0.70_n_1e+06 | trial 28\n"
     ]
    },
    {
     "name": "stderr",
     "output_type": "stream",
     "text": [
      "/Users/m250/Documents/UCL/FYP/src/metrics.py:38: UserWarning: p-value floored: true value smaller than 0.001. Consider specifying `method` (e.g. `method=stats.PermutationMethod()`.)\n",
      "  ad.append(anderson_ksamp([X_mcmc[i, :], X_true[i, :]]).statistic)\n"
     ]
    },
    {
     "name": "stdout",
     "output_type": "stream",
     "text": [
      "Processed: SMMALA_accept_0.70_n_1e+06 | trial 29\n"
     ]
    },
    {
     "name": "stderr",
     "output_type": "stream",
     "text": [
      "/Users/m250/Documents/UCL/FYP/src/metrics.py:38: UserWarning: p-value floored: true value smaller than 0.001. Consider specifying `method` (e.g. `method=stats.PermutationMethod()`.)\n",
      "  ad.append(anderson_ksamp([X_mcmc[i, :], X_true[i, :]]).statistic)\n"
     ]
    },
    {
     "name": "stdout",
     "output_type": "stream",
     "text": [
      "Processed: SMMALA_accept_0.70_n_1e+06 | trial 30\n"
     ]
    },
    {
     "name": "stderr",
     "output_type": "stream",
     "text": [
      "/Users/m250/Documents/UCL/FYP/src/metrics.py:38: UserWarning: p-value floored: true value smaller than 0.001. Consider specifying `method` (e.g. `method=stats.PermutationMethod()`.)\n",
      "  ad.append(anderson_ksamp([X_mcmc[i, :], X_true[i, :]]).statistic)\n"
     ]
    },
    {
     "name": "stdout",
     "output_type": "stream",
     "text": [
      "Processed: SMMALA_accept_0.85_n_1e+06 | trial 1\n"
     ]
    },
    {
     "name": "stderr",
     "output_type": "stream",
     "text": [
      "/Users/m250/Documents/UCL/FYP/src/metrics.py:38: UserWarning: p-value floored: true value smaller than 0.001. Consider specifying `method` (e.g. `method=stats.PermutationMethod()`.)\n",
      "  ad.append(anderson_ksamp([X_mcmc[i, :], X_true[i, :]]).statistic)\n"
     ]
    },
    {
     "name": "stdout",
     "output_type": "stream",
     "text": [
      "Processed: SMMALA_accept_0.85_n_1e+06 | trial 2\n"
     ]
    },
    {
     "name": "stderr",
     "output_type": "stream",
     "text": [
      "/Users/m250/Documents/UCL/FYP/src/metrics.py:38: UserWarning: p-value floored: true value smaller than 0.001. Consider specifying `method` (e.g. `method=stats.PermutationMethod()`.)\n",
      "  ad.append(anderson_ksamp([X_mcmc[i, :], X_true[i, :]]).statistic)\n"
     ]
    },
    {
     "name": "stdout",
     "output_type": "stream",
     "text": [
      "Processed: SMMALA_accept_0.85_n_1e+06 | trial 3\n"
     ]
    },
    {
     "name": "stderr",
     "output_type": "stream",
     "text": [
      "/Users/m250/Documents/UCL/FYP/src/metrics.py:38: UserWarning: p-value floored: true value smaller than 0.001. Consider specifying `method` (e.g. `method=stats.PermutationMethod()`.)\n",
      "  ad.append(anderson_ksamp([X_mcmc[i, :], X_true[i, :]]).statistic)\n"
     ]
    },
    {
     "name": "stdout",
     "output_type": "stream",
     "text": [
      "Processed: SMMALA_accept_0.85_n_1e+06 | trial 4\n"
     ]
    },
    {
     "name": "stderr",
     "output_type": "stream",
     "text": [
      "/Users/m250/Documents/UCL/FYP/src/metrics.py:38: UserWarning: p-value floored: true value smaller than 0.001. Consider specifying `method` (e.g. `method=stats.PermutationMethod()`.)\n",
      "  ad.append(anderson_ksamp([X_mcmc[i, :], X_true[i, :]]).statistic)\n"
     ]
    },
    {
     "name": "stdout",
     "output_type": "stream",
     "text": [
      "Processed: SMMALA_accept_0.85_n_1e+06 | trial 5\n"
     ]
    },
    {
     "name": "stderr",
     "output_type": "stream",
     "text": [
      "/Users/m250/Documents/UCL/FYP/src/metrics.py:38: UserWarning: p-value floored: true value smaller than 0.001. Consider specifying `method` (e.g. `method=stats.PermutationMethod()`.)\n",
      "  ad.append(anderson_ksamp([X_mcmc[i, :], X_true[i, :]]).statistic)\n"
     ]
    },
    {
     "name": "stdout",
     "output_type": "stream",
     "text": [
      "Processed: SMMALA_accept_0.85_n_1e+06 | trial 6\n"
     ]
    },
    {
     "name": "stderr",
     "output_type": "stream",
     "text": [
      "/Users/m250/Documents/UCL/FYP/src/metrics.py:38: UserWarning: p-value floored: true value smaller than 0.001. Consider specifying `method` (e.g. `method=stats.PermutationMethod()`.)\n",
      "  ad.append(anderson_ksamp([X_mcmc[i, :], X_true[i, :]]).statistic)\n"
     ]
    },
    {
     "name": "stdout",
     "output_type": "stream",
     "text": [
      "Processed: SMMALA_accept_0.85_n_1e+06 | trial 7\n"
     ]
    },
    {
     "name": "stderr",
     "output_type": "stream",
     "text": [
      "/Users/m250/Documents/UCL/FYP/src/metrics.py:38: UserWarning: p-value floored: true value smaller than 0.001. Consider specifying `method` (e.g. `method=stats.PermutationMethod()`.)\n",
      "  ad.append(anderson_ksamp([X_mcmc[i, :], X_true[i, :]]).statistic)\n"
     ]
    },
    {
     "name": "stdout",
     "output_type": "stream",
     "text": [
      "Processed: SMMALA_accept_0.85_n_1e+06 | trial 8\n"
     ]
    },
    {
     "name": "stderr",
     "output_type": "stream",
     "text": [
      "/Users/m250/Documents/UCL/FYP/src/metrics.py:38: UserWarning: p-value floored: true value smaller than 0.001. Consider specifying `method` (e.g. `method=stats.PermutationMethod()`.)\n",
      "  ad.append(anderson_ksamp([X_mcmc[i, :], X_true[i, :]]).statistic)\n"
     ]
    },
    {
     "name": "stdout",
     "output_type": "stream",
     "text": [
      "Processed: SMMALA_accept_0.85_n_1e+06 | trial 9\n"
     ]
    },
    {
     "name": "stderr",
     "output_type": "stream",
     "text": [
      "/Users/m250/Documents/UCL/FYP/src/metrics.py:38: UserWarning: p-value floored: true value smaller than 0.001. Consider specifying `method` (e.g. `method=stats.PermutationMethod()`.)\n",
      "  ad.append(anderson_ksamp([X_mcmc[i, :], X_true[i, :]]).statistic)\n"
     ]
    },
    {
     "name": "stdout",
     "output_type": "stream",
     "text": [
      "Processed: SMMALA_accept_0.85_n_1e+06 | trial 10\n"
     ]
    },
    {
     "name": "stderr",
     "output_type": "stream",
     "text": [
      "/Users/m250/Documents/UCL/FYP/src/metrics.py:38: UserWarning: p-value floored: true value smaller than 0.001. Consider specifying `method` (e.g. `method=stats.PermutationMethod()`.)\n",
      "  ad.append(anderson_ksamp([X_mcmc[i, :], X_true[i, :]]).statistic)\n"
     ]
    },
    {
     "name": "stdout",
     "output_type": "stream",
     "text": [
      "Processed: SMMALA_accept_0.85_n_1e+06 | trial 11\n"
     ]
    },
    {
     "name": "stderr",
     "output_type": "stream",
     "text": [
      "/Users/m250/Documents/UCL/FYP/src/metrics.py:38: UserWarning: p-value floored: true value smaller than 0.001. Consider specifying `method` (e.g. `method=stats.PermutationMethod()`.)\n",
      "  ad.append(anderson_ksamp([X_mcmc[i, :], X_true[i, :]]).statistic)\n"
     ]
    },
    {
     "name": "stdout",
     "output_type": "stream",
     "text": [
      "Processed: SMMALA_accept_0.85_n_1e+06 | trial 12\n"
     ]
    },
    {
     "name": "stderr",
     "output_type": "stream",
     "text": [
      "/Users/m250/Documents/UCL/FYP/src/metrics.py:38: UserWarning: p-value floored: true value smaller than 0.001. Consider specifying `method` (e.g. `method=stats.PermutationMethod()`.)\n",
      "  ad.append(anderson_ksamp([X_mcmc[i, :], X_true[i, :]]).statistic)\n"
     ]
    },
    {
     "name": "stdout",
     "output_type": "stream",
     "text": [
      "Processed: SMMALA_accept_0.85_n_1e+06 | trial 13\n"
     ]
    },
    {
     "name": "stderr",
     "output_type": "stream",
     "text": [
      "/Users/m250/Documents/UCL/FYP/src/metrics.py:38: UserWarning: p-value floored: true value smaller than 0.001. Consider specifying `method` (e.g. `method=stats.PermutationMethod()`.)\n",
      "  ad.append(anderson_ksamp([X_mcmc[i, :], X_true[i, :]]).statistic)\n"
     ]
    },
    {
     "name": "stdout",
     "output_type": "stream",
     "text": [
      "Processed: SMMALA_accept_0.85_n_1e+06 | trial 14\n"
     ]
    },
    {
     "name": "stderr",
     "output_type": "stream",
     "text": [
      "/Users/m250/Documents/UCL/FYP/src/metrics.py:38: UserWarning: p-value floored: true value smaller than 0.001. Consider specifying `method` (e.g. `method=stats.PermutationMethod()`.)\n",
      "  ad.append(anderson_ksamp([X_mcmc[i, :], X_true[i, :]]).statistic)\n"
     ]
    },
    {
     "name": "stdout",
     "output_type": "stream",
     "text": [
      "Processed: SMMALA_accept_0.85_n_1e+06 | trial 15\n"
     ]
    },
    {
     "name": "stderr",
     "output_type": "stream",
     "text": [
      "/Users/m250/Documents/UCL/FYP/src/metrics.py:38: UserWarning: p-value floored: true value smaller than 0.001. Consider specifying `method` (e.g. `method=stats.PermutationMethod()`.)\n",
      "  ad.append(anderson_ksamp([X_mcmc[i, :], X_true[i, :]]).statistic)\n"
     ]
    },
    {
     "name": "stdout",
     "output_type": "stream",
     "text": [
      "Processed: SMMALA_accept_0.85_n_1e+06 | trial 16\n"
     ]
    },
    {
     "name": "stderr",
     "output_type": "stream",
     "text": [
      "/Users/m250/Documents/UCL/FYP/src/metrics.py:38: UserWarning: p-value floored: true value smaller than 0.001. Consider specifying `method` (e.g. `method=stats.PermutationMethod()`.)\n",
      "  ad.append(anderson_ksamp([X_mcmc[i, :], X_true[i, :]]).statistic)\n"
     ]
    },
    {
     "name": "stdout",
     "output_type": "stream",
     "text": [
      "Processed: SMMALA_accept_0.85_n_1e+06 | trial 17\n"
     ]
    },
    {
     "name": "stderr",
     "output_type": "stream",
     "text": [
      "/Users/m250/Documents/UCL/FYP/src/metrics.py:38: UserWarning: p-value floored: true value smaller than 0.001. Consider specifying `method` (e.g. `method=stats.PermutationMethod()`.)\n",
      "  ad.append(anderson_ksamp([X_mcmc[i, :], X_true[i, :]]).statistic)\n"
     ]
    },
    {
     "name": "stdout",
     "output_type": "stream",
     "text": [
      "Processed: SMMALA_accept_0.85_n_1e+06 | trial 18\n"
     ]
    },
    {
     "name": "stderr",
     "output_type": "stream",
     "text": [
      "/Users/m250/Documents/UCL/FYP/src/metrics.py:38: UserWarning: p-value floored: true value smaller than 0.001. Consider specifying `method` (e.g. `method=stats.PermutationMethod()`.)\n",
      "  ad.append(anderson_ksamp([X_mcmc[i, :], X_true[i, :]]).statistic)\n"
     ]
    },
    {
     "name": "stdout",
     "output_type": "stream",
     "text": [
      "Processed: SMMALA_accept_0.85_n_1e+06 | trial 19\n"
     ]
    },
    {
     "name": "stderr",
     "output_type": "stream",
     "text": [
      "/Users/m250/Documents/UCL/FYP/src/metrics.py:38: UserWarning: p-value floored: true value smaller than 0.001. Consider specifying `method` (e.g. `method=stats.PermutationMethod()`.)\n",
      "  ad.append(anderson_ksamp([X_mcmc[i, :], X_true[i, :]]).statistic)\n"
     ]
    },
    {
     "name": "stdout",
     "output_type": "stream",
     "text": [
      "Processed: SMMALA_accept_0.85_n_1e+06 | trial 20\n"
     ]
    },
    {
     "name": "stderr",
     "output_type": "stream",
     "text": [
      "/Users/m250/Documents/UCL/FYP/src/metrics.py:38: UserWarning: p-value floored: true value smaller than 0.001. Consider specifying `method` (e.g. `method=stats.PermutationMethod()`.)\n",
      "  ad.append(anderson_ksamp([X_mcmc[i, :], X_true[i, :]]).statistic)\n"
     ]
    },
    {
     "name": "stdout",
     "output_type": "stream",
     "text": [
      "Processed: SMMALA_accept_0.85_n_1e+06 | trial 21\n"
     ]
    },
    {
     "name": "stderr",
     "output_type": "stream",
     "text": [
      "/Users/m250/Documents/UCL/FYP/src/metrics.py:38: UserWarning: p-value floored: true value smaller than 0.001. Consider specifying `method` (e.g. `method=stats.PermutationMethod()`.)\n",
      "  ad.append(anderson_ksamp([X_mcmc[i, :], X_true[i, :]]).statistic)\n"
     ]
    },
    {
     "name": "stdout",
     "output_type": "stream",
     "text": [
      "Processed: SMMALA_accept_0.85_n_1e+06 | trial 22\n"
     ]
    },
    {
     "name": "stderr",
     "output_type": "stream",
     "text": [
      "/Users/m250/Documents/UCL/FYP/src/metrics.py:38: UserWarning: p-value floored: true value smaller than 0.001. Consider specifying `method` (e.g. `method=stats.PermutationMethod()`.)\n",
      "  ad.append(anderson_ksamp([X_mcmc[i, :], X_true[i, :]]).statistic)\n"
     ]
    },
    {
     "name": "stdout",
     "output_type": "stream",
     "text": [
      "Processed: SMMALA_accept_0.85_n_1e+06 | trial 23\n"
     ]
    },
    {
     "name": "stderr",
     "output_type": "stream",
     "text": [
      "/Users/m250/Documents/UCL/FYP/src/metrics.py:38: UserWarning: p-value floored: true value smaller than 0.001. Consider specifying `method` (e.g. `method=stats.PermutationMethod()`.)\n",
      "  ad.append(anderson_ksamp([X_mcmc[i, :], X_true[i, :]]).statistic)\n"
     ]
    },
    {
     "name": "stdout",
     "output_type": "stream",
     "text": [
      "Processed: SMMALA_accept_0.85_n_1e+06 | trial 24\n"
     ]
    },
    {
     "name": "stderr",
     "output_type": "stream",
     "text": [
      "/Users/m250/Documents/UCL/FYP/src/metrics.py:38: UserWarning: p-value floored: true value smaller than 0.001. Consider specifying `method` (e.g. `method=stats.PermutationMethod()`.)\n",
      "  ad.append(anderson_ksamp([X_mcmc[i, :], X_true[i, :]]).statistic)\n"
     ]
    },
    {
     "name": "stdout",
     "output_type": "stream",
     "text": [
      "Processed: SMMALA_accept_0.85_n_1e+06 | trial 25\n"
     ]
    },
    {
     "name": "stderr",
     "output_type": "stream",
     "text": [
      "/Users/m250/Documents/UCL/FYP/src/metrics.py:38: UserWarning: p-value floored: true value smaller than 0.001. Consider specifying `method` (e.g. `method=stats.PermutationMethod()`.)\n",
      "  ad.append(anderson_ksamp([X_mcmc[i, :], X_true[i, :]]).statistic)\n"
     ]
    },
    {
     "name": "stdout",
     "output_type": "stream",
     "text": [
      "Processed: SMMALA_accept_0.85_n_1e+06 | trial 26\n"
     ]
    },
    {
     "name": "stderr",
     "output_type": "stream",
     "text": [
      "/Users/m250/Documents/UCL/FYP/src/metrics.py:38: UserWarning: p-value floored: true value smaller than 0.001. Consider specifying `method` (e.g. `method=stats.PermutationMethod()`.)\n",
      "  ad.append(anderson_ksamp([X_mcmc[i, :], X_true[i, :]]).statistic)\n"
     ]
    },
    {
     "name": "stdout",
     "output_type": "stream",
     "text": [
      "Processed: SMMALA_accept_0.85_n_1e+06 | trial 27\n"
     ]
    },
    {
     "name": "stderr",
     "output_type": "stream",
     "text": [
      "/Users/m250/Documents/UCL/FYP/src/metrics.py:38: UserWarning: p-value floored: true value smaller than 0.001. Consider specifying `method` (e.g. `method=stats.PermutationMethod()`.)\n",
      "  ad.append(anderson_ksamp([X_mcmc[i, :], X_true[i, :]]).statistic)\n"
     ]
    },
    {
     "name": "stdout",
     "output_type": "stream",
     "text": [
      "Processed: SMMALA_accept_0.85_n_1e+06 | trial 28\n"
     ]
    },
    {
     "name": "stderr",
     "output_type": "stream",
     "text": [
      "/Users/m250/Documents/UCL/FYP/src/metrics.py:38: UserWarning: p-value floored: true value smaller than 0.001. Consider specifying `method` (e.g. `method=stats.PermutationMethod()`.)\n",
      "  ad.append(anderson_ksamp([X_mcmc[i, :], X_true[i, :]]).statistic)\n"
     ]
    },
    {
     "name": "stdout",
     "output_type": "stream",
     "text": [
      "Processed: SMMALA_accept_0.85_n_1e+06 | trial 29\n"
     ]
    },
    {
     "name": "stderr",
     "output_type": "stream",
     "text": [
      "/Users/m250/Documents/UCL/FYP/src/metrics.py:38: UserWarning: p-value floored: true value smaller than 0.001. Consider specifying `method` (e.g. `method=stats.PermutationMethod()`.)\n",
      "  ad.append(anderson_ksamp([X_mcmc[i, :], X_true[i, :]]).statistic)\n"
     ]
    },
    {
     "name": "stdout",
     "output_type": "stream",
     "text": [
      "Processed: SMMALA_accept_0.85_n_1e+06 | trial 30\n"
     ]
    }
   ],
   "source": [
    "data = []\n",
    "\n",
    "# Loop through subfolders\n",
    "for folder in sorted(root.iterdir()):  # root.iterdir() gives all items in the folder\n",
    "    if not folder.is_dir():\n",
    "        continue\n",
    "\n",
    "    match = folder_pattern.match(folder.name)\n",
    "    if not match:\n",
    "        continue\n",
    "\n",
    "    sampler = match.group(1)\n",
    "    accept_prob = float(match.group(2))\n",
    "\n",
    "    trial_files = sorted(\n",
    "        folder.glob(\"trial_*.npy\")\n",
    "    )  # Finds all trial_*.npy in the folder\n",
    "\n",
    "    metrics = []\n",
    "\n",
    "    for i, trial_file in enumerate(trial_files, start=1):\n",
    "        trial = np.load(trial_file, allow_pickle=True).item()\n",
    "\n",
    "        X = trial[\"trace_main\"]\n",
    "\n",
    "        ks = ks_distance(X_mcmc=X, target=target, X_true=X_true)\n",
    "\n",
    "        ad = ad_distance(X_mcmc=X, target=target, X_true=X_true)\n",
    "\n",
    "        ess = ESS(X_mcmc=X, target=target)\n",
    "\n",
    "        data.append(\n",
    "            {\n",
    "                \"sampler\": sampler,\n",
    "                \"target_accept_prob\": accept_prob,\n",
    "                \"trial\": i,\n",
    "                \"true_accept_rate\": trial[\"accept_rate\"],\n",
    "                \"ks\": ks,\n",
    "                \"ks_max\": max(ks),\n",
    "                \"ad\": ad,\n",
    "                \"ad_max\": max(ks),\n",
    "                \"ess\": ess,\n",
    "                \"ess_min\": min(ess),\n",
    "                \"ess_median\": np.median(ess),\n",
    "                \"ess_max\": max(ess),\n",
    "            }\n",
    "        )\n",
    "\n",
    "        print(f\"Processed: {folder.name} | trial {i}\")\n",
    "\n",
    "df = pd.DataFrame(data)\n",
    "df.to_csv(root / \"summary.csv\", index=False)"
   ]
  }
 ],
 "metadata": {
  "kernelspec": {
   "display_name": "fyp",
   "language": "python",
   "name": "python3"
  },
  "language_info": {
   "codemirror_mode": {
    "name": "ipython",
    "version": 3
   },
   "file_extension": ".py",
   "mimetype": "text/x-python",
   "name": "python",
   "nbconvert_exporter": "python",
   "pygments_lexer": "ipython3",
   "version": "3.10.15"
  }
 },
 "nbformat": 4,
 "nbformat_minor": 2
}
