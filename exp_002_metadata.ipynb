{
 "cells": [
  {
   "cell_type": "code",
   "execution_count": 1,
   "metadata": {},
   "outputs": [],
   "source": [
    "from pathlib import Path\n",
    "import re\n",
    "\n",
    "import numpy as np\n",
    "import pandas as pd\n",
    "\n",
    "from src.distribution import Rosenbrock\n",
    "from src.metrics import ad_distance, ks_distance, ESS"
   ]
  },
  {
   "cell_type": "code",
   "execution_count": 2,
   "metadata": {},
   "outputs": [],
   "source": [
    "root = Path(\"./data/exp_002/rosenbrock_n1_3_n2_1_mu_1_a_5e-02_b_5\")\n",
    "\n",
    "# Regex pattern to extract sampler and acceptance probability from folder names\n",
    "folder_pattern = re.compile(r\"(.*)_accept_(\\d+\\.\\d+)_n_.*\")"
   ]
  },
  {
   "cell_type": "code",
   "execution_count": 3,
   "metadata": {},
   "outputs": [
    {
     "name": "stdout",
     "output_type": "stream",
     "text": [
      "SMMALA 0.1 {'total_trials': 47}\n",
      "SMMALA 0.25 {'total_trials': 40}\n",
      "SMMALA 0.4 {'total_trials': 32}\n",
      "SMMALA 0.55 {'total_trials': 36}\n",
      "SMMALA 0.7 {'total_trials': 32}\n",
      "SMMALA 0.85 {'total_trials': 32}\n"
     ]
    }
   ],
   "source": [
    "data = []\n",
    "\n",
    "# Loop through subfolders\n",
    "for folder in sorted(root.iterdir()):  # root.iterdir() gives all items in the folder\n",
    "    if not folder.is_dir():\n",
    "        continue\n",
    "\n",
    "    match = folder_pattern.match(folder.name)\n",
    "    if not match:\n",
    "        continue\n",
    "\n",
    "    sampler = match.group(1)\n",
    "\n",
    "    if sampler != \"SMMALA\":\n",
    "        continue\n",
    "\n",
    "    accept_prob = float(match.group(2))\n",
    "\n",
    "    metadata = folder.glob(\"metadata.npy\")\n",
    "\n",
    "    for metadata in metadata:\n",
    "        n_trials = np.load(metadata, allow_pickle=True)\n",
    "\n",
    "        print(sampler, accept_prob, n_trials)\n",
    "\n",
    "df = pd.DataFrame(data)\n",
    "df.to_csv(root / \"summary.csv\", index=False)"
   ]
  }
 ],
 "metadata": {
  "kernelspec": {
   "display_name": "fyp",
   "language": "python",
   "name": "python3"
  },
  "language_info": {
   "codemirror_mode": {
    "name": "ipython",
    "version": 3
   },
   "file_extension": ".py",
   "mimetype": "text/x-python",
   "name": "python",
   "nbconvert_exporter": "python",
   "pygments_lexer": "ipython3",
   "version": "3.10.15"
  }
 },
 "nbformat": 4,
 "nbformat_minor": 2
}
