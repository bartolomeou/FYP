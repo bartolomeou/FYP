{
 "cells": [
  {
   "cell_type": "code",
   "execution_count": 5,
   "metadata": {},
   "outputs": [],
   "source": [
    "import numpy as np\n",
    "\n",
    "from src.distribution import GeneralNormal, SmoothGeneralNormal, Rosenbrock"
   ]
  },
  {
   "cell_type": "code",
   "execution_count": 6,
   "metadata": {},
   "outputs": [],
   "source": [
    "SAMPLE_SIZE = 10000000\n",
    "SEED = 2025"
   ]
  },
  {
   "cell_type": "code",
   "execution_count": 7,
   "metadata": {},
   "outputs": [],
   "source": [
    "gnd_1 = GeneralNormal(beta=1)\n",
    "\n",
    "X = gnd_1.direct_sample(size=SAMPLE_SIZE, seed=SEED)\n",
    "\n",
    "np.save(\"data/gnd_1/X_true.npy\", X)"
   ]
  },
  {
   "cell_type": "code",
   "execution_count": 8,
   "metadata": {},
   "outputs": [],
   "source": [
    "gnd_2 = GeneralNormal(beta=2)\n",
    "\n",
    "X = gnd_2.direct_sample(size=SAMPLE_SIZE, seed=SEED)\n",
    "\n",
    "np.save(\"data/gnd_2/X_true.npy\", X)"
   ]
  },
  {
   "cell_type": "code",
   "execution_count": 9,
   "metadata": {},
   "outputs": [],
   "source": [
    "gnd_3 = GeneralNormal(beta=3)\n",
    "\n",
    "X = gnd_3.direct_sample(size=SAMPLE_SIZE, seed=SEED)\n",
    "\n",
    "np.save(\"data/gnd_3/X_true.npy\", X)"
   ]
  },
  {
   "cell_type": "code",
   "execution_count": 10,
   "metadata": {},
   "outputs": [],
   "source": [
    "rosenbrock_3d = Rosenbrock(n_var=3, n1=2, n2=2)\n",
    "\n",
    "X = rosenbrock_3d.direct_sample(size=SAMPLE_SIZE, seed=SEED)\n",
    "\n",
    "np.save(\"data/rosenbrock_3d/X_true.npy\", X)"
   ]
  },
  {
   "cell_type": "code",
   "execution_count": 11,
   "metadata": {},
   "outputs": [],
   "source": [
    "rosenbrock_5d = Rosenbrock(n_var=5, n1=3, n2=2)\n",
    "\n",
    "X = rosenbrock_5d.direct_sample(size=SAMPLE_SIZE, seed=SEED)\n",
    "\n",
    "np.save(\"data/rosenbrock_5d/X_true.npy\", X)"
   ]
  }
 ],
 "metadata": {
  "kernelspec": {
   "display_name": "fyp",
   "language": "python",
   "name": "python3"
  },
  "language_info": {
   "codemirror_mode": {
    "name": "ipython",
    "version": 3
   },
   "file_extension": ".py",
   "mimetype": "text/x-python",
   "name": "python",
   "nbconvert_exporter": "python",
   "pygments_lexer": "ipython3",
   "version": "3.10.15"
  }
 },
 "nbformat": 4,
 "nbformat_minor": 2
}
