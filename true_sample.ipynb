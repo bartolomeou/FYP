{
 "cells": [
  {
   "cell_type": "code",
   "execution_count": 1,
   "metadata": {},
   "outputs": [],
   "source": [
    "import numpy as np\n",
    "\n",
    "from pathlib import Path\n",
    "\n",
    "from src.distribution import GeneralNormal, SmoothGeneralNormal, Rosenbrock"
   ]
  },
  {
   "cell_type": "code",
   "execution_count": 2,
   "metadata": {},
   "outputs": [],
   "source": [
    "# folder_path = Path(\"data\") / \"true_sample\"\n",
    "# folder_path.mkdir(\n",
    "#     parents=True, exist_ok=True\n",
    "# )  # Creates 'data/true_sample' if it doesn't exist"
   ]
  },
  {
   "cell_type": "code",
   "execution_count": null,
   "metadata": {},
   "outputs": [],
   "source": [
    "# SAMPLE_SIZE = 1e8\n",
    "# SEED = 2025"
   ]
  },
  {
   "cell_type": "code",
   "execution_count": null,
   "metadata": {},
   "outputs": [],
   "source": [
    "# <distribution>_<param1><value1>_<param2><value2>_n<sample_size>.<extension>\n",
    "\n",
    "# gn_m0_a0_b1_n\n",
    "# gn_m0_a0_b2_n\n",
    "# gn_m0_a0_b3_n\n",
    "\n",
    "# rb_n1_3_n2_1_mu1_alpha5e-2_beta5_n1e8"
   ]
  },
  {
   "cell_type": "code",
   "execution_count": 7,
   "metadata": {},
   "outputs": [
    {
     "ename": "KeyboardInterrupt",
     "evalue": "",
     "output_type": "error",
     "traceback": [
      "\u001b[0;31m---------------------------------------------------------------------------\u001b[0m",
      "\u001b[0;31mKeyboardInterrupt\u001b[0m                         Traceback (most recent call last)",
      "Cell \u001b[0;32mIn[7], line 3\u001b[0m\n\u001b[1;32m      1\u001b[0m target \u001b[38;5;241m=\u001b[39m Rosenbrock(n1\u001b[38;5;241m=\u001b[39m\u001b[38;5;241m3\u001b[39m, n2\u001b[38;5;241m=\u001b[39m\u001b[38;5;241m1\u001b[39m)\n\u001b[0;32m----> 3\u001b[0m X \u001b[38;5;241m=\u001b[39m \u001b[43mtarget\u001b[49m\u001b[38;5;241;43m.\u001b[39;49m\u001b[43mdirect_sample\u001b[49m\u001b[43m(\u001b[49m\u001b[43msize\u001b[49m\u001b[38;5;241;43m=\u001b[39;49m\u001b[38;5;28;43mint\u001b[39;49m\u001b[43m(\u001b[49m\u001b[38;5;241;43m1e8\u001b[39;49m\u001b[43m)\u001b[49m\u001b[43m,\u001b[49m\u001b[43m \u001b[49m\u001b[43mseed\u001b[49m\u001b[38;5;241;43m=\u001b[39;49m\u001b[38;5;241;43m2025\u001b[39;49m\u001b[43m)\u001b[49m\n\u001b[1;32m      5\u001b[0m np\u001b[38;5;241m.\u001b[39msave(\u001b[38;5;124m\"\u001b[39m\u001b[38;5;124mdata/true_sample/rb_n1_3_n2_1_mu1_alpha5e-2_beta5_n1e8.npy\u001b[39m\u001b[38;5;124m\"\u001b[39m, X)\n",
      "File \u001b[0;32m~/Documents/UCL/FYP/src/distribution.py:255\u001b[0m, in \u001b[0;36mRosenbrock.direct_sample\u001b[0;34m(self, size, seed)\u001b[0m\n\u001b[1;32m    252\u001b[0m             \u001b[38;5;28;01melse\u001b[39;00m:\n\u001b[1;32m    253\u001b[0m                 x_parent \u001b[38;5;241m=\u001b[39m X[idx \u001b[38;5;241m-\u001b[39m \u001b[38;5;241m1\u001b[39m, t]\n\u001b[0;32m--> 255\u001b[0m             X[idx, t] \u001b[38;5;241m=\u001b[39m rng\u001b[38;5;241m.\u001b[39mnormal(x_parent\u001b[38;5;241m*\u001b[39m\u001b[38;5;241m*\u001b[39m\u001b[38;5;241m2\u001b[39m, \u001b[38;5;241m1\u001b[39m \u001b[38;5;241m/\u001b[39m \u001b[43mnp\u001b[49m\u001b[38;5;241;43m.\u001b[39;49m\u001b[43msqrt\u001b[49m\u001b[43m(\u001b[49m\u001b[38;5;241;43m2\u001b[39;49m\u001b[43m \u001b[49m\u001b[38;5;241;43m*\u001b[39;49m\u001b[43m \u001b[49m\u001b[38;5;28;43mself\u001b[39;49m\u001b[38;5;241;43m.\u001b[39;49m\u001b[43mb\u001b[49m\u001b[43m)\u001b[49m)\n\u001b[1;32m    257\u001b[0m \u001b[38;5;28;01mreturn\u001b[39;00m X\n",
      "\u001b[0;31mKeyboardInterrupt\u001b[0m: "
     ]
    }
   ],
   "source": [
    "target = Rosenbrock(n1=3, n2=1)\n",
    "\n",
    "X = target.direct_sample(size=int(1e8), seed=2025)\n",
    "\n",
    "np.save(\"data/true_sample/rb_n1_3_n2_1_mu1_alpha5e-2_beta5_n1e8.npy\", X)"
   ]
  }
 ],
 "metadata": {
  "kernelspec": {
   "display_name": "fyp",
   "language": "python",
   "name": "python3"
  },
  "language_info": {
   "codemirror_mode": {
    "name": "ipython",
    "version": 3
   },
   "file_extension": ".py",
   "mimetype": "text/x-python",
   "name": "python",
   "nbconvert_exporter": "python",
   "pygments_lexer": "ipython3",
   "version": "3.10.15"
  }
 },
 "nbformat": 4,
 "nbformat_minor": 2
}
