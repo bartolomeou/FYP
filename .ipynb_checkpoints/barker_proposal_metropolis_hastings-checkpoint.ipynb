{
 "cells": [
  {
   "cell_type": "code",
   "execution_count": 1,
   "id": "77638488-e7e1-467a-aade-96742198b433",
   "metadata": {},
   "outputs": [],
   "source": [
    "import numpy as np\n",
    "from scipy.stats import norm, laplace, cauchy, multivariate_normal\n",
    "\n",
    "import matplotlib.pyplot as plt\n",
    "import seaborn as sns\n",
    "\n",
    "np.random.seed(8)"
   ]
  },
  {
   "cell_type": "markdown",
   "id": "2d0f80ca-0a73-47c6-9f45-d309d617803d",
   "metadata": {},
   "source": [
    "### Utility Functions\n"
   ]
  },
  {
   "cell_type": "code",
   "execution_count": 2,
   "id": "a2b28038-d51b-40a0-81b6-8905fb6dc5c5",
   "metadata": {},
   "outputs": [],
   "source": [
    "def traceplot(samples, w=6, h=4, overlay=True, n_col=2):\n",
    "    # samples: [#components, #iterations]\n",
    "    \n",
    "    n_component = samples.shape[0]\n",
    "    n_iter = samples.shape[1]\n",
    "\n",
    "    if overlay:\n",
    "        fig, ax = plt.subplots(figsize=(6,4))\n",
    "        \n",
    "        for i in range(n_component):\n",
    "            sns.lineplot(x=range(1, n_iter+1), y=samples[i, :], label=rf'$X_{i+1}$', linewidth=0.5, legend=False)\n",
    "\n",
    "        # Set labels\n",
    "        ax.set_xlabel('t')\n",
    "        ax.set_ylabel(r'$X_i(t)$')\n",
    "\n",
    "        # Create figure-level legend outside the plot\n",
    "        fig.legend(loc='upper left', bbox_to_anchor=(0.9, 0.9), frameon=False)\n",
    "\n",
    "        # Modify the line width in the legend\n",
    "        legend = fig.legends[0]\n",
    "        for line in legend.get_lines():\n",
    "            line.set_linewidth(1)\n",
    "        \n",
    "        plt.show()\n",
    "    else:\n",
    "        n_row = np.ceil(n_component / n_col).astype(int)\n",
    "\n",
    "        fig, axes = plt.subplots(nrows=n_row, ncols=n_col, figsize=(w*n_col, h*n_row))\n",
    "\n",
    "        for i in range(n_component):\n",
    "            ax = axes.flat[i]\n",
    "            \n",
    "            sns.lineplot(x=range(1, n_iter+1), y=samples[i, :], ax=ax, linewidth=0.5)\n",
    "            \n",
    "            # Set labels\n",
    "            ax.set_xlabel('t')\n",
    "            ax.set_ylabel(r'$X_i(t)$')\n",
    "\n",
    "        # Delete any unused axes (if there are fewer features than subplot slots)\n",
    "        for i in range(n_component, len(axes.flat)):\n",
    "            fig.delaxes(axes.flat[i])\n",
    "\n",
    "        plt.tight_layout(rect=[0, 0, 1, 0.95])\n",
    "        plt.show()                     "
   ]
  },
  {
   "cell_type": "markdown",
   "id": "3c70f91f-90d0-4f6b-8a8b-f1b014751c86",
   "metadata": {},
   "source": [
    "### Log Distributions\n"
   ]
  },
  {
   "cell_type": "code",
   "execution_count": 3,
   "id": "c2f7e796-22e1-43f3-91cf-e0ef142fdc90",
   "metadata": {},
   "outputs": [],
   "source": [
    "def logpi_normal(x, location=0, scale=1):\n",
    "    return np.sum(norm.logpdf(x, loc=location, scale=scale))\n",
    "\n",
    "def logpi_laplace(x, location=0, scale=1):\n",
    "    return np.sum(laplace.logpdf(x, loc=location, scale=scale))\n",
    "\n",
    "def logpi_cauchy(x, location=0, scale=1):\n",
    "    return np.sum(cauchy.logpdf(x, loc=location, scale=scale))\n",
    "\n",
    "def logpi_mvnormal(x, location=[0], covariance=[1]):\n",
    "    return np.sum(multivariate_normal, mean=location, cov=covariance)"
   ]
  },
  {
   "cell_type": "code",
   "execution_count": 4,
   "id": "3ddfb3a9",
   "metadata": {},
   "outputs": [],
   "source": [
    "def partial_logpi_normal(x, location=0, scale=1):\n",
    "    x = np.array(x)\n",
    "    return - (1/2) * np.log(2 * np.pi * scale**2)  - (1/2) * ((x - location) / scale)**2"
   ]
  },
  {
   "cell_type": "markdown",
   "id": "e15f73d9-7565-4dd1-af73-1aa10cf008d8",
   "metadata": {},
   "source": [
    "### MCMC Algorithms\n"
   ]
  },
  {
   "cell_type": "code",
   "execution_count": 5,
   "id": "d9e29461-bf55-42a6-b5dd-ee800fdf95b8",
   "metadata": {},
   "outputs": [],
   "source": [
    "def RWM(logpi, n_iter, step_size, x_current, *args):\n",
    "    # x_current: [#components]\n",
    "    \n",
    "    # Number of dimensions\n",
    "    d = len(x_current)\n",
    "\n",
    "    # Log of the target distribution at the current state\n",
    "    logpi_current = logpi(x_current, *args)\n",
    "\n",
    "    # Counter for accepted proposals\n",
    "    accepted = 0\n",
    "\n",
    "    # Matrix to store the sampled values from the chain (#components, #iterations)\n",
    "    x_samples = np.empty((d, n_iter))\n",
    "\n",
    "    for i in range(n_iter):\n",
    "        # Propose a candidate move\n",
    "        x_proposal = x_current + step_size * np.random.normal(size=d)\n",
    "        logpi_proposal = logpi(x_proposal, *args)\n",
    "\n",
    "        # Calculate the difference in the log-probabilities of the proposed and\n",
    "        # current states (i.e. \\log \\frac{\\pi(y)}{\\pi(x)})\n",
    "        log_acceptance = logpi_proposal - logpi_current\n",
    "\n",
    "        u = np.random.uniform(size=1)\n",
    "\n",
    "        # Acceptance criterion\n",
    "        if np.log(u) < log_acceptance:\n",
    "            # If accepted, update the current state and log-probability\n",
    "            x_current = x_proposal\n",
    "            logpi_current = logpi_proposal\n",
    "            accepted += 1\n",
    "\n",
    "        # Store the current state\n",
    "        x_samples[:, i] = x_current\n",
    "\n",
    "    acceptance_rate = accepted / n_iter\n",
    "\n",
    "    return x_samples, acceptance_rate"
   ]
  },
  {
   "cell_type": "code",
   "execution_count": 6,
   "id": "98cd788c-b520-46f8-9d7c-7424810945ed",
   "metadata": {},
   "outputs": [],
   "source": [
    "# Let q be Normal\n",
    "\n",
    "def BarkerMH(logpi, partial_logpi, n_iter, x, *args):\n",
    "    # Number of dimensions\n",
    "    d = len(x)\n",
    "\n",
    "    # Log of the target distribution at the current state\n",
    "    logpi_x = logpi(x, *args)\n",
    "\n",
    "    # Counter for accepted proposals\n",
    "    accepted = 0\n",
    "\n",
    "    # Matrix to store the sampled values from the chain (#components, #iterations)\n",
    "    x_samples = np.empty((d, n_iter))\n",
    "\n",
    "    for i in range(n_iter):\n",
    "        z = np.random.normal(size=d)\n",
    "\n",
    "        beta_x = partial_logpi(x, *args)\n",
    "\n",
    "        threshold = 1 / (1 + np.exp(-beta_x * z))\n",
    "        b = np.where(np.random.uniform(size=1) < threshold, 1, -1) # size(?)\n",
    "\n",
    "        y = x + b * z\n",
    "        logpi_y = logpi(y, *args)\n",
    "\n",
    "        beta_y = partial_logpi(y, *args)\n",
    "\n",
    "        log_acceptance = logpi_y - logpi_x + (-np.maximum(beta_x, 0) + np.log1p(np.exp(x-y) * beta_x)) - (np.maximum(beta_y, 0) + np.log1p(np.exp(y-x) * beta_y))\n",
    "\n",
    "        u = np.random.uniform(size=1)\n",
    "\n",
    "        # Acceptance criterion\n",
    "        if np.log(u) < log_acceptance:\n",
    "            # If accepted, update the current state and log-probability\n",
    "            x = y\n",
    "            logpi_x = logpi_y\n",
    "            accepted +=1\n",
    "\n",
    "        # Store the current state\n",
    "        x_samples[:, i] = x\n",
    "    \n",
    "    acceptance_rate = accepted / n_iter\n",
    "\n",
    "    return x_samples, acceptance_rate "
   ]
  },
  {
   "cell_type": "markdown",
   "id": "02d1e2db-9087-4c68-8926-67cead2d3a9a",
   "metadata": {},
   "source": [
    "### Experiments\n"
   ]
  },
  {
   "cell_type": "code",
   "execution_count": 7,
   "id": "5fa91704-42d0-480e-957a-3cb7f7f81003",
   "metadata": {},
   "outputs": [
    {
     "data": {
      "image/png": "[encoded data removed]",
      "text/plain": [
       "<Figure size 600x400 with 1 Axes>"
      ]
     },
     "metadata": {},
     "output_type": "display_data"
    },
    {
     "data": {
      "text/plain": [
       "0.476"
      ]
     },
     "execution_count": 7,
     "metadata": {},
     "output_type": "execute_result"
    }
   ],
   "source": [
    "samples, accept_rate = RWM(logpi=logpi_laplace, n_iter=500, step_size=2.5, x_current=np.array([10]))\n",
    "\n",
    "traceplot(samples)\n",
    "\n",
    "accept_rate"
   ]
  },
  {
   "cell_type": "code",
   "execution_count": 8,
   "id": "d6aed729",
   "metadata": {},
   "outputs": [
    {
     "name": "stderr",
     "output_type": "stream",
     "text": [
      "/var/folders/vy/c6j5yw3x6td0lcrhv8v891900000gn/T/ipykernel_88266/312387335.py:29: RuntimeWarning: invalid value encountered in log1p\n",
      "  log_acceptance = logpi_y - logpi_x + (-np.maximum(beta_x, 0) + np.log1p(np.exp(x-y) * beta_x)) - (np.maximum(beta_y, 0) + np.log1p(np.exp(y-x) * beta_y))\n"
     ]
    },
    {
     "data": {
      "image/png": "[encoded data removed]",
      "text/plain": [
       "<Figure size 600x400 with 1 Axes>"
      ]
     },
     "metadata": {},
     "output_type": "display_data"
    },
    {
     "name": "stdout",
     "output_type": "stream",
     "text": [
      "0.0\n"
     ]
    }
   ],
   "source": [
    "samples, accept_rate = BarkerMH(logpi=logpi_normal, partial_logpi=partial_logpi_normal, n_iter=2000, x=np.array([-10]))\n",
    "\n",
    "traceplot(samples)\n",
    "\n",
    "print(accept_rate)"
   ]
  },
  {
   "cell_type": "code",
   "execution_count": null,
   "id": "ce6d1dbe",
   "metadata": {},
   "outputs": [],
   "source": []
  }
 ],
 "metadata": {
  "kernelspec": {
   "display_name": "Python 3 (ipykernel)",
   "language": "python",
   "name": "python3"
  },
  "language_info": {
   "codemirror_mode": {
    "name": "ipython",
    "version": 3
   },
   "file_extension": ".py",
   "mimetype": "text/x-python",
   "name": "python",
   "nbconvert_exporter": "python",
   "pygments_lexer": "ipython3",
   "version": "3.10.15"
  }
 },
 "nbformat": 4,
 "nbformat_minor": 5
}
