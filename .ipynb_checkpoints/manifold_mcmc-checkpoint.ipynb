{
 "cells": [
  {
   "cell_type": "code",
   "execution_count": null,
   "metadata": {},
   "outputs": [],
   "source": [
    "import numpy as np\n",
    "import pandas as pd\n",
    "from scipy.stats import norm, laplace, cauchy, multivariate_normal\n",
    "import arviz as az\n",
    "\n",
    "import matplotlib.pyplot as plt\n",
    "import seaborn as sns\n",
    "\n",
    "np.random.seed(0)\n",
    "\n",
    "from statsmodels.graphics.tsaplots import acf\n",
    "import arviz as az\n",
    "\n",
    "from utils import traceplot, acfplot"
   ]
  },
  {
   "cell_type": "markdown",
   "metadata": {},
   "source": [
    "# Generalised Normal Distribution\n",
    "\n",
    "**Parameters:**\n",
    "-   $\\mu$: Location parameter.\n",
    "-   $\\alpha > 0$: Scale parameter.\n",
    "-   $\\beta > 0$: Shape parameter.\n",
    "\n",
    "**PDF:**\n",
    "$$f(x) \\propto \\exp \\left\\{- \\left( \\frac{|x - \\mu|}{\\alpha} \\right)^\\beta \\right\\}$$\n",
    "\n",
    "**Log PDF:**\n",
    "$$\\log f(x) \\propto - \\left(\\frac{|x - \\mu|}{\\alpha}\\right)^\\beta$$\n",
    "\n",
    "**First derivative of log PDF:**\n",
    "$$\\frac{\\text{d}}{\\text{d} x} \\log f(x) = -\\frac{\\beta}{\\alpha} \\left(\\frac{|x - \\mu|}{\\alpha}\\right)^{\\beta - 1} \\text{sgn}(x - \\mu)$$\n",
    "\n",
    "**Second derivative of log PDF:**\n",
    "$$\\frac{\\text{d}^2}{\\text{d} x^2} \\log f(x) = -\\frac{\\beta (\\beta - 1)}{\\alpha^2} \\left(\\frac{|x - \\mu|}{\\alpha}\\right)^{\\beta - 2}$$\n"
   ]
  },
  {
   "cell_type": "code",
   "execution_count": null,
   "metadata": {},
   "outputs": [],
   "source": [
    "def logpi(x, mu=0, alpha=1, beta=2):\n",
    "    return - (np.abs(x - mu) / alpha)**beta\n",
    "\n",
    "def grad_logpi(x, mu=0, alpha=1, beta=2):\n",
    "    return - (beta / alpha) * (np.abs(x - mu) / alpha)**(beta - 1) * np.sign(x - mu)"
   ]
  },
  {
   "cell_type": "code",
   "execution_count": null,
   "metadata": {},
   "outputs": [],
   "source": [
    "def preconditioned_mala_proposal(x, grad_logpi_x, L, step_size):\n",
    "    z = step_size * np.random.normal(size=len(x))\n",
    "\n",
    "    return x + (step_size**2 / 2) * (L @ L.T @ grad_logpi_x)+ L @ z\n",
    "\n",
    "\n",
    "def preconditioned_mala_logq_ratio(x, y, grad_logpi_x, grad_logpi_y, L, step_size):\n",
    "    log_xy = multivariate_normal.logpdf(y, mean=(x + (step_size**2 / 2) * (L @ L.T @ grad_logpi_x)), cov=(step_size**2 * (L @ L.T)))\n",
    "    log_yx = multivariate_normal.logpdf(x, mean=(y + (step_size**2 / 2) * (L @ L.T @ grad_logpi_y)), cov=(step_size**2 * (L @ L.T)))\n",
    "    \n",
    "    return log_yx - log_xy\n",
    "\n",
    "\n",
    "def preconditioned_mala(logpi, grad_logpi, n_iter, x_init, location, covariance, step_size=1):\n",
    "    x = np.asarray(x_init)\n",
    "    location = np.asarray(location)\n",
    "    covariance = np.asarray(covariance)\n",
    "\n",
    "    # Matrix to store sampled values from chain (#components, #iterations)\n",
    "    x_samples = np.empty((len(x_init), n_iter))\n",
    "\n",
    "    # Counter for accepted proposals\n",
    "    accepted = 0\n",
    "\n",
    "    # Log of target distribution at current state\n",
    "    logpi_x = logpi(x, location, covariance)\n",
    "\n",
    "    # Preconditioning matrix: Cholesky factor\n",
    "    L = np.linalg.cholesky(covariance)\n",
    "\n",
    "    for i in range(n_iter):\n",
    "        grad_logpi_x = grad_logpi(x, location, covariance)\n",
    "        \n",
    "        # Generate a proposal state\n",
    "        y = preconditioned_mala_proposal(x, grad_logpi_x, L, step_size)\n",
    "        logpi_y = logpi(y, location, covariance)\n",
    "        grad_logpi_y = grad_logpi(y, location, covariance)\n",
    "\n",
    "        # Calculate log preconditioned MALA acceptance rate\n",
    "        log_acceptance = logpi_y - logpi_x + preconditioned_mala_logq_ratio(x, y, grad_logpi_x, grad_logpi_y, L, step_size)\n",
    "\n",
    "        # Acceptance criterion\n",
    "        if np.log(np.random.uniform(size=1)) < log_acceptance:\n",
    "            # If accepted, update current state and log-probability\n",
    "            x = y\n",
    "            logpi_x = logpi_y\n",
    "            accepted += 1\n",
    "\n",
    "        # Store current state\n",
    "        x_samples[:, i] = x\n",
    "        \n",
    "    acceptance_rate = accepted / n_iter\n",
    "\n",
    "    return x_samples, acceptance_rate"
   ]
  }
 ],
 "metadata": {
  "kernelspec": {
   "display_name": "Python 3 (ipykernel)",
   "language": "python",
   "name": "python3"
  },
  "language_info": {
   "codemirror_mode": {
    "name": "ipython",
    "version": 3
   },
   "file_extension": ".py",
   "mimetype": "text/x-python",
   "name": "python",
   "nbconvert_exporter": "python",
   "pygments_lexer": "ipython3",
   "version": "3.10.15"
  }
 },
 "nbformat": 4,
 "nbformat_minor": 4
}
