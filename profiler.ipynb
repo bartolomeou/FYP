{
 "cells": [
  {
   "cell_type": "code",
   "execution_count": 2,
   "metadata": {},
   "outputs": [],
   "source": [
    "from src.distribution import Rosenbrock, SmoothGeneralNormal\n",
    "from src.mcmc import Barker, SMBarker, MALA, SMMALA, MMALA"
   ]
  },
  {
   "cell_type": "code",
   "execution_count": 12,
   "metadata": {},
   "outputs": [],
   "source": [
    "gnd = SmoothGeneralNormal(beta=2)\n",
    "rb = Rosenbrock(n1=3, n2=1)\n",
    "\n",
    "barker = Barker()\n",
    "smbarker = SMBarker()\n",
    "mala = MALA()\n",
    "smmala = SMMALA()\n",
    "mmala = MMALA()"
   ]
  },
  {
   "cell_type": "code",
   "execution_count": 7,
   "metadata": {},
   "outputs": [],
   "source": [
    "%load_ext line_profiler"
   ]
  },
  {
   "cell_type": "markdown",
   "metadata": {},
   "source": [
    "MALA is taking more time because of logpdf().\n"
   ]
  },
  {
   "cell_type": "code",
   "execution_count": 19,
   "metadata": {},
   "outputs": [
    {
     "name": "stdout",
     "output_type": "stream",
     "text": [
      "Timer unit: 1e-09 s\n",
      "\n",
      "Total time: 0.677291 s\n",
      "File: /Users/m250/Documents/UCL/FYP/src/mcmc.py\n",
      "Function: log_q_ratio at line 292\n",
      "\n",
      "Line #      Hits         Time  Per Hit   % Time  Line Contents\n",
      "==============================================================\n",
      "   292                                               def log_q_ratio(self):\n",
      "   293     10000   36170000.0   3617.0      5.3          self.d1_logpi_y = self.target.d1_logpi(self.y)\n",
      "   294                                           \n",
      "   295     10000    1980000.0    198.0      0.3          if self.n_var == 1:\n",
      "   296     20000  306136000.0  15306.8     45.2              log_xy = norm.logpdf(\n",
      "   297     10000     874000.0     87.4      0.1                  self.y,\n",
      "   298     10000   11014000.0   1101.4      1.6                  loc=(self.x + (1 / 2) * (self.h**2) * self.d1_logpi_x),\n",
      "   299     10000     923000.0     92.3      0.1                  scale=self.h,\n",
      "   300                                                       )\n",
      "   301     20000  299761000.0  14988.0     44.3              log_yx = norm.logpdf(\n",
      "   302     10000    1130000.0    113.0      0.2                  self.x,\n",
      "   303     10000   13145000.0   1314.5      1.9                  loc=(self.y + (1 / 2) * (self.h**2) * self.d1_logpi_y),\n",
      "   304     10000     948000.0     94.8      0.1                  scale=self.h,\n",
      "   305                                                       )\n",
      "   306                                                   else:\n",
      "   307                                                       log_xy = multivariate_normal.logpdf(\n",
      "   308                                                           self.y,\n",
      "   309                                                           mean=(self.x + (1 / 2) * (self.h**2) * self.d1_logpi_x),\n",
      "   310                                                           cov=(self.h**2),\n",
      "   311                                                       )\n",
      "   312                                                       log_yx = multivariate_normal.logpdf(\n",
      "   313                                                           self.x,\n",
      "   314                                                           mean=(self.y + (1 / 2) * (self.h**2) * self.d1_logpi_y),\n",
      "   315                                                           cov=(self.h**2),\n",
      "   316                                                       )\n",
      "   317                                           \n",
      "   318     10000    5210000.0    521.0      0.8          return log_yx - log_xy"
     ]
    }
   ],
   "source": [
    "%lprun -f MALA.log_q_ratio mala.sample(target)"
   ]
  },
  {
   "cell_type": "code",
   "execution_count": 21,
   "metadata": {},
   "outputs": [
    {
     "name": "stdout",
     "output_type": "stream",
     "text": [
      "Timer unit: 1e-09 s\n",
      "\n",
      "Total time: 0.50484 s\n",
      "File: /Users/m250/Documents/UCL/FYP/src/mcmc.py\n",
      "Function: log_q_ratio at line 240\n",
      "\n",
      "Line #      Hits         Time  Per Hit   % Time  Line Contents\n",
      "==============================================================\n",
      "   240                                               def log_q_ratio(self):\n",
      "   241     10000   35725000.0   3572.5      7.1          self.d1_logpi_y = self.target.d1_logpi(self.y)\n",
      "   242                                           \n",
      "   243     10000    2090000.0    209.0      0.4          if self.n_var == 1:\n",
      "   244     10000   58839000.0   5883.9     11.7              self.L_y = np.sqrt(-1 / self.target.d2_logpi(self.y))\n",
      "   245                                           \n",
      "   246     10000    2450000.0    245.0      0.5              self.det_L_y = self.L_y[0]\n",
      "   247                                           \n",
      "   248     10000   13383000.0   1338.3      2.7              z_xy = (1 / self.L_x) * (self.x - self.y)\n",
      "   249     10000   12613000.0   1261.3      2.5              z_yx = (1 / self.L_y) * (self.y - self.x)\n",
      "   250                                                   else:\n",
      "   251                                                       A_y = project_to_pd(\n",
      "   252                                                           np.linalg.inv(-self.target.d2_logpi(self.y)), method=self.psd_method\n",
      "   253                                                       )\n",
      "   254                                                       self.L_y = np.linalg.cholesky(A_y)\n",
      "   255                                           \n",
      "   256                                                       self.det_L_y = np.linalg.det(self.L_y)\n",
      "   257                                           \n",
      "   258                                                       z_xy = np.linalg.inv(self.L_x) @ (self.x - self.y)\n",
      "   259                                                       z_yx = np.linalg.inv(self.L_y) @ (self.y - self.x)\n",
      "   260                                           \n",
      "   261                                                   # Changed @ to *, might explain the weird bimodal behaviour\n",
      "   262     20000  154724000.0   7736.2     30.6          logq_xy = -logsumexp(\n",
      "   263     10000   29445000.0   2944.5      5.8              [np.zeros_like(z_xy), z_xy * (self.d1_logpi_x @ self.L_x)], axis=0\n",
      "   264                                                   )  # -np.log1p(np.exp(z_xy * (self.d1_logpi_x @ self.L_x)))\n",
      "   265     20000  135897000.0   6794.9     26.9          logq_yx = logsumexp(\n",
      "   266     10000   28296000.0   2829.6      5.6              [np.zeros_like(z_yx), z_yx * (self.d1_logpi_y @ self.L_y)], axis=0\n",
      "   267                                                   )  # -np.log1p(np.exp(z_yx * (self.d1_logpi_y @ self.L_y)))\n",
      "   268                                           \n",
      "   269     10000   31378000.0   3137.8      6.2          return self.det_L_x - self.det_L_y + np.sum(logq_yx - logq_xy)"
     ]
    }
   ],
   "source": [
    "%lprun -f SMBarker.log_q_ratio smbarker.sample(target)"
   ]
  }
 ],
 "metadata": {
  "kernelspec": {
   "display_name": "fyp",
   "language": "python",
   "name": "python3"
  },
  "language_info": {
   "codemirror_mode": {
    "name": "ipython",
    "version": 3
   },
   "file_extension": ".py",
   "mimetype": "text/x-python",
   "name": "python",
   "nbconvert_exporter": "python",
   "pygments_lexer": "ipython3",
   "version": "3.10.15"
  }
 },
 "nbformat": 4,
 "nbformat_minor": 2
}
